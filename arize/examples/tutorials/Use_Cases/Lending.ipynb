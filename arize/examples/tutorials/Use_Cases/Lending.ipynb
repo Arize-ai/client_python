{
  "cells": [
    {
      "cell_type": "markdown",
      "metadata": {
        "id": "ANZZFeZjIQy_"
      },
      "source": [
        "<img src=\"https://storage.googleapis.com/arize-assets/arize-logo-white.jpg\" width=\"200\"/>\n",
        "\n",
        "# Getting Started with the Arize Platform - Predicting Defaults in Lending\n",
        "\n",
        "**In this walkthrough, we are going to investigate various performance related aspects of a lending use-case. More specificlly we will be using the Arize platform to monitor default prediction performance.**\n",
        "\n",
        "You manage the Machine Learning models for a lending company. You have spent a great deal of your time collecting data and traning models for best performance. With your models now in production you need tools to detect drift, identify any issues or get insights into how to improve your models. In this walkthrough we will look at a few scenarios common to a lending use-case and more specifically looking at default predictions versus actuals for short term loans.\n",
        "\n",
        "You will learn to:\n",
        "\n",
        "1. Get training and production data into the Arize platform\n",
        "2. Setup performance dashboards\n",
        "3. Setup threshold alerts\n",
        "4. Understand where the model is underperforming\n",
        "5. Discover the root cause of issues"
      ]
    },
    {
      "cell_type": "markdown",
      "metadata": {
        "id": "45qJcDSiKrAf"
      },
      "source": [
        "# Step 1. Getting Data\n",
        "First step is to load a preexisting dataset that represents a lending use-case including training and production data. Using a preexisting dataset illustrates how simple it is to plug into the Arize platform."
      ]
    },
    {
      "cell_type": "code",
      "execution_count": 25,
      "metadata": {
        "colab": {
          "base_uri": "https://localhost:8080/"
        },
        "id": "Yuj4lOn3VLVs",
        "outputId": "841773ff-c81e-4976-a7f2-b7928e951624"
      },
      "outputs": [
        {
          "name": "stdout",
          "output_type": "stream",
          "text": [
            "✅ Data successfully loaded!\n"
          ]
        }
      ],
      "source": [
        "import pandas as pd, tempfile\n",
        "\n",
        "url = \"https://storage.googleapis.com/arize-assets/fixtures/use_cases/lending\"\n",
        "df = {env: pd.read_csv(f\"{url}/{env}.zip\") for env in [\"feat\", \"train\", \"prod\"]}\n",
        "feature_column_names = df[\"feat\"][\"Feature\"].tolist()\n",
        "\n",
        "# Update prediction timestamps\n",
        "from datetime import datetime\n",
        "ts_shift = datetime.now().timestamp() - df[\"prod\"][\"prediction_ts\"].max()\n",
        "df[\"prod\"].eval(\"prediction_ts = prediction_ts + @ts_shift\", inplace=True)\n",
        "\n",
        "print(\"✅ Data successfully loaded!\")"
      ]
    },
    {
      "cell_type": "markdown",
      "metadata": {
        "id": "VMjE6vwOOKS-"
      },
      "source": [
        "# Step 2. Sending Data into Arize 💫\n",
        "\n",
        "Now that we have our data configured, we are ready to integrate into Arize. We do this by logging (sending) important data we want to analyze to the platform. There, the data will be easily visualized and investigated to source our problem.\n",
        "\n",
        "For our model, we are going to log:\n",
        "\n",
        "*   feature data\n",
        "*   predictions\n",
        "*   actuals\n",
        "\n",
        "## Import and Setup Arize Client\n",
        "\n",
        "The first step is to setup our Arize client. After that we will log the data.\n",
        "\n",
        "First, copy the Arize `API_KEY` and `SPACE_KEY` from your admin page linked below! Copy those over to the set-up section. We will also be setting up some metadata to use across all logging.\n",
        "\n",
        ""
      ]
    },
    {
      "cell_type": "code",
      "execution_count": 26,
      "metadata": {
        "colab": {
          "base_uri": "https://localhost:8080/"
        },
        "id": "ptEmVNV3Poyy",
        "outputId": "b7e20435-bb48-4581-eb16-2ebf438497cb"
      },
      "outputs": [
        {
          "name": "stdout",
          "output_type": "stream",
          "text": [
            "✅ Arize setup complete!\n"
          ]
        }
      ],
      "source": [
        "!pip install -q arize\n",
        "\n",
        "from arize.pandas.logger import Client, Schema\n",
        "from arize.utils.types import ModelTypes, Environments\n",
        "\n",
        "SPACE_KEY = \"SPACE_KEY\"\n",
        "API_KEY = \"API_KEY\"\n",
        "\n",
        "arize_client = Client(space_key=SPACE_KEY, api_key=API_KEY)\n",
        "\n",
        "# model_id the model name that will show up in Arize\n",
        "model_id = \"lending-use-case\" + f\"{datetime.now()}\"\n",
        "model_version = \"v1.0\" # Version of model - can be any string\n",
        "\n",
        "if SPACE_KEY == \"SPACE_KEY\" or API_KEY == \"API_KEY\":\n",
        "    raise ValueError(\"❌ NEED TO CHANGE SPACE AND/OR API_KEY\")\n",
        "else:\n",
        "    print(\"✅ Arize setup complete!\")"
      ]
    },
    {
      "cell_type": "markdown",
      "metadata": {
        "id": "1GeHqNxm4tuk"
      },
      "source": [
        "## Log Training & Production Data\n",
        "Now that our Arize client is setup, let's go ahead and log all of our data to the platform. \n",
        "\n",
        "Arize lets you log predictions first and actuals later, and will match them up by the same `prediction_id` when both are ready. But for the purpose of this demo, we'll log predictions and actual together.\n",
        "\n",
        "For details on how **`arize.pandas.logger`** can log predictions and actuals separately, visit out documentations page below.\n",
        "\n",
        "[![Buttons_OpenOrange.png](https://storage.googleapis.com/arize-assets/fixtures/Buttons_OpenOrange.png)](https://docs.arize.com/arize/sdks-and-integrations/python-sdk/arize.pandas)\n",
        "\n",
        "Key parameters:\n",
        "\n",
        "*  **prediction_label_column_name**: tells Arize which column contains the predictions (\"Charged Off\"/\"Fully Paid\")\n",
        "*  **prediction_score_column_name**: tells Arize which column contains the predicted probability (probability 0 to 1)\n",
        "*  **actual_label_column_name**: tells Arize which column contains the actual results from field data (\"Charged Off\"/\"Fully Paid\")\n",
        "*  **actual_score_column_name**: same as label but expresed as 0 or 1\n",
        "\n",
        "We will use [ModelTypes.SCORE_CATEGORICAL](https://docs.arize.com/arize/product-guides-1/models/model-types) to perform this analysis."
      ]
    },
    {
      "cell_type": "code",
      "execution_count": 27,
      "metadata": {
        "colab": {
          "base_uri": "https://localhost:8080/"
        },
        "id": "udfVckHQ2egV",
        "outputId": "6ec15339-b08c-4948-eda1-3f1df6e80304"
      },
      "outputs": [
        {
          "name": "stdout",
          "output_type": "stream",
          "text": [
            "✅ You have successfully logged 45,375 training data points to Arize\n",
            "✅ You have successfully logged 303,400 production data points to Arize\n"
          ]
        }
      ],
      "source": [
        "# Define a Schema() object for Arize to pick up data from the correct columns for logging\n",
        "schema = Schema(\n",
        "    prediction_id_column_name=\"prediction_id\",\n",
        "    prediction_label_column_name=\"prediction_label\",\n",
        "    prediction_score_column_name=\"prediction_score\",\n",
        "    actual_label_column_name=\"actual_label\",\n",
        "    actual_score_column_name=\"actual_score\",\n",
        "    feature_column_names=feature_column_names,\n",
        ")\n",
        "\n",
        "# Log Pandas DataFrame\n",
        "response = arize_client.log(\n",
        "    dataframe=df[\"train\"],\n",
        "    schema=schema,\n",
        "    model_id=model_id,\n",
        "    model_version=model_version,\n",
        "    model_type=ModelTypes.SCORE_CATEGORICAL,\n",
        "    environment=Environments.TRAINING,\n",
        "    path=tempfile.NamedTemporaryFile().name,\n",
        ")\n",
        "\n",
        "# If successful, the server will return a status_code of 200\n",
        "if response.status_code != 200:\n",
        "    print(f\"logging failed with response code {response.status_code}, {response.text}\")\n",
        "else:\n",
        "    print(f\"✅ You have successfully logged {len(df['train']):,} training data points to Arize\")\n",
        "\n",
        "# Define a Schema() object for Arize to pick up data from the correct columns for logging\n",
        "schema = Schema(\n",
        "    prediction_id_column_name=\"prediction_id\",\n",
        "    timestamp_column_name=\"prediction_ts\",\n",
        "    prediction_label_column_name=\"prediction_label\",\n",
        "    prediction_score_column_name=\"prediction_score\",\n",
        "    actual_label_column_name=\"actual_label\",\n",
        "    actual_score_column_name=\"actual_score\",\n",
        "    feature_column_names=feature_column_names,\n",
        ")\n",
        "\n",
        "# Log Pandas DataFrame\n",
        "response = arize_client.log(\n",
        "    dataframe=df[\"prod\"],\n",
        "    schema=schema,\n",
        "    model_id=model_id,\n",
        "    model_version=model_version,\n",
        "    model_type=ModelTypes.SCORE_CATEGORICAL,\n",
        "    environment=Environments.PRODUCTION,\n",
        "    path=tempfile.NamedTemporaryFile().name,\n",
        ")\n",
        "\n",
        "# If successful, the server will return a status_code of 200\n",
        "if response.status_code != 200:\n",
        "    print(f\"logging failed with response code {response.status_code}, {response.text}\")\n",
        "else:\n",
        "    print(f\"✅ You have successfully logged {len(df['prod']):,} production data points to Arize\")"
      ]
    },
    {
      "cell_type": "markdown",
      "metadata": {
        "id": "dqWVSsS_loeL"
      },
      "source": [
        "# Coffee Time! ☕️\n",
        "Note that the Arize performs takes about 10 minutes to index the data. While the model should appear immediately, the data will not show up untill the indexing is done. Feel free to go grab a cup of coffee as Arize works its magic! 🔮\n",
        "\n",
        "**⚠️ DON'T SKIP:**\n",
        "In order to move on to the next step, make sure your actuals and training/validation sets are loaded into the platform. To check:\n",
        "1. Naviate to models from the left bar, locate and click on model **lending-use-case**\n",
        "2. On the **Overview Tab** and make sure you see the actuals as shown below.\n",
        "3. Actual data will show up under **Model Health**. Once the number changes from **0 Actuals** to **Actuals** (with summary statistics such as cardinality listed in the tables), your production actuals will have been fully recorded on Arize!\n",
        "4. Verify the list of features under **Model Health**. \n",
        "\n",
        "<img src=\"https://storage.googleapis.com/arize-assets/fixtures/use_cases/lending/img/initial_overview.png\" width=\"800\"/>\n",
        "\n",
        "Arize can automatically configure monitors that are best suited to your data. From the banner at the top of the screen, simply click **Set up Model** then select **Training Version v1.0** and click **NEXT**. Select **Charged Off** as **Positive Class**. Click **NEXT** three more times with the default settings proposed.\n",
        "\n",
        "![image.png](https://storage.googleapis.com/arize-assets/fixtures/use_cases/img/initial_setup_banner.png)\n",
        "\n",
        "You will now see that the baseline has been set and **Drift**, **Data Quality**, and **Performance** monitors have been created!!!\n",
        "\n",
        "<img src=\"https://storage.googleapis.com/arize-assets/fixtures/use_cases/lending/img/initial_setup_monitors.png\" width=\"300\"/>"
      ]
    },
    {
      "cell_type": "markdown",
      "metadata": {},
      "source": [
        "# Step 3. Analyzing feature drift\n",
        "During intial model setup, Arize automatically created a set drift monitors and dashboards for each feature available in the dataset. Drift is represented as the Population Stability Index (PSI) over an given period. We will use these graphs to monitor overall trends. From the model overview page, select the **Purpose** feature and you should notice the change in Purpose distribution. Use the PSI graph to select a period of interest. We see that Small Business loans have been gaining greater popularity than they had in the training dataset. Also notice that this has negative impact on the model accuracy.\n",
        "\n",
        "![image.png](https://storage.googleapis.com/arize-assets/fixtures/use_cases/lending/img/Purpose_Drift.png)"
      ]
    },
    {
      "cell_type": "markdown",
      "metadata": {
        "id": "OHWdqQE4io-E"
      },
      "source": [
        "# Step 4. Analyzing and detecting missing data\n",
        "In the production data, missing values are being introduced in the **dti** (Debt-to-income ratio). You might have already noticed some drift on the **dti** feature. To further investigate, from the **dti** feature page, navigate to the **Data Quality** tab. Make sure to view the last 30 days by selecting the correct range in the top right corner of the screen. Arize keeps tracks of feature cardinality as well as fields with no data and can pin-point the exact time that this issue started.\n",
        "\n",
        "![image.png](https://storage.googleapis.com/arize-assets/fixtures/use_cases/lending/img/Percent_Empty.png)\n",
        "\n",
        "To automatically be notified of missing values getting introduced in production, create a custom monitor for feature **dti**. From the model **Monitors** tab click **New Monitor** and chose **Data Quality Monitor**. Enter these parameters:\n",
        "\n",
        "* Dimension -> Feature --> dti\n",
        "* Aggregation -> Percent Empty\n",
        "* Set a low threshold\n",
        "\n",
        "![image.png](https://storage.googleapis.com/arize-assets/fixtures/use_cases/lending/img/Percent_Empty_Monitor.png)"
      ]
    },
    {
      "cell_type": "markdown",
      "metadata": {
        "id": "UYb5i_zQErxT"
      },
      "source": [
        "# Step 6. Analyzing model performance\n",
        "The screen capture below shows how to set up a **Model Performance Dashboard** to monitor the expected vs actual rate of default.\n",
        "\n",
        "![image.png](https://storage.googleapis.com/arize-assets/fixtures/use_cases/lending/img/perfdash.gif)\n",
        "\n",
        "The screen capture below shows how to set up a **Feature Performance Dashboard** to drill down into root causes of model underperformance.\n",
        "\n",
        "![image.png](https://storage.googleapis.com/arize-assets/fixtures/use_cases/lending/img/heatdash.gif)"
      ]
    },
    {
      "cell_type": "markdown",
      "metadata": {
        "id": "eT2jfrjCCB7p"
      },
      "source": [
        "\n",
        "**Congratulations!** 🎉   You have created your first monitor that will keep you alerted of any suspicious changes in your production environment."
      ]
    },
    {
      "cell_type": "markdown",
      "metadata": {
        "id": "BPpV4OgVXhCZ"
      },
      "source": [
        "---\n",
        "# Conclusion\n",
        "\n",
        "In this walkthrough we've shown how Arize can be used to log prediction data for a model, pinpoint model performance degredation, and set up monitors to catch future issues. We have been able to identify 3 areas of concern:\n",
        "\n",
        "1. Production distribution has drifted from training data.\n",
        "2. Missing values are appearing in production. Further investigation is needed.\n",
        "3. The model is underperforming in certain segments. Retraining may be needed.\n",
        "\n",
        "Summary of the analysis and tools:\n",
        "\n",
        "Concern                   | Detection                       | Root Cause Analysis Tools\n",
        "--------------------------|---------------------------------|----\n",
        "Data Drift  | Use a **Drift Monitor**             | - Built-in distribution graphs on each feature<br>- Review distribution at different time intervals\n",
        "Bad  data            | Use a **Data Quality Monitor**      | - Built-in cardinality graphs<br>- Built-in Empty over Time graph<br>- Create Data Quality Monitors\n",
        "Inaccuracy                | Use a **Model Performance Monitor**<br>Use a **Feature Performance Heatmap** | - Actual vs Expected timeseries widget<br>- Filter on features and values to narrow down issues\n",
        "\n",
        "<br>\n",
        "\n",
        "Though we covered a lot of ground, this is just scratching the surface of what the Arize platform can do. We urge you to explore more of Arize, either on your own or through one of our many other tutorials."
      ]
    },
    {
      "cell_type": "markdown",
      "metadata": {
        "collapsed": false,
        "id": "RgPKS9qG2ehZ"
      },
      "source": [
        "### Overview\n",
        "Arize is an end-to-end ML observability and model monitoring platform. The platform is designed to help ML engineers and data science practitioners surface and fix issues with ML models in production faster with:\n",
        "- Automated ML monitoring and model monitoring\n",
        "- Workflows to troubleshoot model performance\n",
        "- Real-time visualizations for model performance monitoring, data quality monitoring, and drift monitoring\n",
        "- Model prediction cohort analysis\n",
        "- Pre-deployment model validation\n",
        "- Integrated model explainability\n",
        "\n",
        "### Website\n",
        "Visit Us At: https://arize.com/model-monitoring/\n",
        "\n",
        "### Additional Resources\n",
        "- [What is ML observability?](https://arize.com/what-is-ml-observability/)\n",
        "- [Playbook to model monitoring in production](https://arize.com/the-playbook-to-monitor-your-models-performance-in-production/)\n",
        "- [Using statistical distance metrics for ML monitoring and observability](https://arize.com/using-statistical-distance-metrics-for-machine-learning-observability/)\n",
        "- [ML infrastructure tools for data preparation](https://arize.com/ml-infrastructure-tools-for-data-preparation/)\n",
        "- [ML infrastructure tools for model building](https://arize.com/ml-infrastructure-tools-for-model-building/)\n",
        "- [ML infrastructure tools for production](https://arize.com/ml-infrastructure-tools-for-production-part-1/)\n",
        "- [ML infrastructure tools for model deployment and model serving](https://arize.com/ml-infrastructure-tools-for-production-part-2-model-deployment-and-serving/)\n",
        "- [ML infrastructure tools for ML monitoring and observability](https://arize.com/ml-infrastructure-tools-ml-observability/)\n",
        "\n",
        "Visit the [Arize Blog](https://arize.com/blog) and [Resource Center](https://arize.com/resource-hub/) for more resources on ML observability and model monitoring.\n"
      ]
    }
  ],
  "metadata": {
    "colab": {
      "collapsed_sections": [],
      "name": "Lending Use Case.ipynb",
      "provenance": []
    },
    "interpreter": {
      "hash": "59f3145cc67fcda0343c2852f1f97113a2e6e98841e887156424448e7071ad54"
    },
    "kernelspec": {
      "display_name": "Python 3.9.6 64-bit ('base': conda)",
      "name": "python3"
    },
    "language_info": {
      "codemirror_mode": {
        "name": "ipython",
        "version": 3
      },
      "file_extension": ".py",
      "mimetype": "text/x-python",
      "name": "python",
      "nbconvert_exporter": "python",
      "pygments_lexer": "ipython3",
      "version": "3.9.6"
    }
  },
  "nbformat": 4,
  "nbformat_minor": 2
}
