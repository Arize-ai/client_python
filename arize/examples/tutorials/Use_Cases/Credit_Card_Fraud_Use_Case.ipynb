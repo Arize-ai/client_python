{
  "nbformat": 4,
  "nbformat_minor": 0,
  "metadata": {
    "colab": {
      "name": "Credit Card Fraud Use Case.ipynb",
      "provenance": [],
      "collapsed_sections": []
    },
    "kernelspec": {
      "name": "python3",
      "display_name": "Python 3"
    },
    "language_info": {
      "name": "python"
    }
  },
  "cells": [
    {
      "cell_type": "markdown",
      "source": [
        "<img src=\"https://storage.googleapis.com/arize-assets/arize-logo-white.jpg\" width=\"200\"/>\n",
        "\n",
        "# Getting Started with the Arize Platform - Credit Card Fraud in the Banking Industry\n",
        "\n",
        "**You are responsible for a credit card fraud model at a large bank or payment processing company. You have been alerted by a spike in credit card chargebacks leading you to suspect that fraudsters are getting away with commiting fraud undetected!** Realizing that this flaw in your model's performance has a heavy cost on your company and customers, you understand the need for a powerful toolset to troubleshoot (and prevent) costly model degradations. You turn to Arize to find out what changed in your credit card fraud detection model and how you can improve it.\n",
        "\n",
        "In this walkthrough, we are going to investigate your production credit card fraud model. We will validate degradation in model performance, troubleshoot the root cause, and furthermore set up proactive monitors to mitigate the impact of future degradations.  \n",
        "\n",
        "We will set up monitors to proactively identify when our fraud model is not perfoming as expected, troubleshoot why we're seeing this deviation in production, and come up with actionable steps to improve the model.\n",
        "\n",
        "Our steps to resolving this issue will be:\n",
        "1. Get our model onto the Arize platform to investigate\n",
        "2. Setup a performance dashboard to look at prediction performance\n",
        "3. Understand where the model is underperforming\n",
        "4. Discover the root cause of why a slice (grouping) of predictions is underperforming\n",
        "5. Set up pro-active monitoring to mitigate the impact of such degradations in the future\n",
        "\n",
        "The production data contains 1 month of data where 2 main issues exist. You will work on identifying these issues over the course of this exercise.\n",
        "\n",
        "1. An upstream data source has introduced bad (null) values for ENTRY_MODE \n",
        "2. The model is missing fraud for certain merchant types,entry modes and merchant ids especially in certain regions."
      ],
      "metadata": {
        "id": "p0TvdSg5HC3Q"
      }
    },
    {
      "cell_type": "markdown",
      "source": [
        "# Step 0. Setup and Getting the Data\n",
        "\n",
        "The first step is to load our preexisting dataset which includes training and production environments for our creditcard fraud model. Using a preexisting dataset illustrates how simple it is to get started with the Arize platform."
      ],
      "metadata": {
        "id": "3OHUs0p6HCsX"
      }
    },
    {
      "cell_type": "markdown",
      "source": [
        "## Install Dependencies and Import Libraries 📚"
      ],
      "metadata": {
        "id": "SDVA4kK5HHqa"
      }
    },
    {
      "cell_type": "code",
      "source": [
        "!pip install arize -q\n",
        "\n",
        "\n",
        "import datetime\n",
        "import tempfile\n",
        "import pandas as pd\n",
        "import requests\n",
        "from datetime import timedelta\n",
        "import uuid\n",
        "import numpy as np\n",
        "\n",
        "from arize.pandas.logger import Client, Schema\n",
        "from arize.utils.types import Environments, ModelTypes\n"
      ],
      "metadata": {
        "id": "wCKzp837HOHN",
        "colab": {
          "base_uri": "https://localhost:8080/"
        },
        "outputId": "d31d7439-306c-4b7f-db91-a4f105766dd6"
      },
      "execution_count": 1,
      "outputs": [
        {
          "output_type": "stream",
          "name": "stdout",
          "text": [
            "\u001b[K     |████████████████████████████████| 25.6 MB 53.4 MB/s \n",
            "\u001b[?25h"
          ]
        }
      ]
    },
    {
      "cell_type": "markdown",
      "source": [
        "## **🌐 Download the Data**\n",
        "In this walkthrough, we’ll be sending real historical data (with privacy conscious changes to feature names and values). Note, that while feature names and values are made explicit in this dataset, you can achieve the same level of ML Observability using obfuscated features. \n",
        "\n"
      ],
      "metadata": {
        "id": "7C8bwEnXHHnx"
      }
    },
    {
      "cell_type": "code",
      "source": [
        "production = pd.read_csv(\"https://storage.googleapis.com/arize-assets/fixtures/CC_FRAUD/fraud_production_shap.csv\", index_col=0)\n",
        "train = pd.read_csv(\"https://storage.googleapis.com/arize-assets/fixtures/CC_FRAUD/fraud_train_shap.csv\", index_col=0)\n",
        "\n",
        "print(\"✅ Dependencies installed and data successfully downloaded!\")"
      ],
      "metadata": {
        "colab": {
          "base_uri": "https://localhost:8080/"
        },
        "id": "hJfb08E-HArO",
        "outputId": "5c1cc5b8-1809-48aa-cb3b-9cc654c63d06"
      },
      "execution_count": 2,
      "outputs": [
        {
          "output_type": "stream",
          "name": "stdout",
          "text": [
            "✅ Dependencies installed and data successfully downloaded!\n"
          ]
        }
      ]
    },
    {
      "cell_type": "markdown",
      "source": [
        "## Inspect the Data \n",
        "\n",
        "Take a quick look at the dataset. The data represents a model designed and trained to evaluate the probability of a credit card transaction being fraud based on various features such as merchant_type, mean_amount, transaction amount, entry_mode, etc. The dataset contains one month of data and the performance will be evaluated by comparing:\n",
        "\n",
        "*   **PREDICTION**: The probability of a fraud transaction predicted by the model \n",
        "*   **ACTUAL**: Fraud or not fraud based on ground truth collected by credit card users"
      ],
      "metadata": {
        "id": "DG0pz7_AdZWb"
      }
    },
    {
      "cell_type": "code",
      "source": [
        "production.head()"
      ],
      "metadata": {
        "colab": {
          "base_uri": "https://localhost:8080/",
          "height": 461
        },
        "id": "7nAO3wHFHsuF",
        "outputId": "df091f1b-08a8-4c51-84d2-daf53a194268"
      },
      "execution_count": 3,
      "outputs": [
        {
          "output_type": "execute_result",
          "data": {
            "text/html": [
              "\n",
              "  <div id=\"df-add6472e-d4bd-4197-b166-d7ac0e81d462\">\n",
              "    <div class=\"colab-df-container\">\n",
              "      <div>\n",
              "<style scoped>\n",
              "    .dataframe tbody tr th:only-of-type {\n",
              "        vertical-align: middle;\n",
              "    }\n",
              "\n",
              "    .dataframe tbody tr th {\n",
              "        vertical-align: top;\n",
              "    }\n",
              "\n",
              "    .dataframe thead th {\n",
              "        text-align: right;\n",
              "    }\n",
              "</style>\n",
              "<table border=\"1\" class=\"dataframe\">\n",
              "  <thead>\n",
              "    <tr style=\"text-align: right;\">\n",
              "      <th></th>\n",
              "      <th>MERCHANT_TYPE</th>\n",
              "      <th>MERCHANT_ID</th>\n",
              "      <th>ENTRY_MODE</th>\n",
              "      <th>STATE</th>\n",
              "      <th>MEAN_AMOUNT</th>\n",
              "      <th>STD_AMOUNT</th>\n",
              "      <th>TX_AMOUNT</th>\n",
              "      <th>VISA_RISK_SCORE</th>\n",
              "      <th>MASTERCARD_RISK_SCORE</th>\n",
              "      <th>AMEX_RISK_SCORE</th>\n",
              "      <th>prediction_id</th>\n",
              "      <th>PREDICTION</th>\n",
              "      <th>PREDICTION_SCORE</th>\n",
              "      <th>ACTUAL_SCORE</th>\n",
              "      <th>day</th>\n",
              "      <th>prediction_ts</th>\n",
              "      <th>ACTUAL</th>\n",
              "      <th>MERCHANT_TYPE_shap</th>\n",
              "      <th>MERCHANT_ID_shap</th>\n",
              "      <th>ENTRY_MODE_shap</th>\n",
              "      <th>STATE_shap</th>\n",
              "      <th>MEAN_AMOUNT_shap</th>\n",
              "      <th>STD_AMOUNT_shap</th>\n",
              "      <th>TX_AMOUNT_shap</th>\n",
              "      <th>VISA_RISK_SCORE_shap</th>\n",
              "      <th>MASTERCARD_RISK_SCORE_shap</th>\n",
              "      <th>AMEX_RISK_SCORE_shap</th>\n",
              "    </tr>\n",
              "  </thead>\n",
              "  <tbody>\n",
              "    <tr>\n",
              "      <th>0</th>\n",
              "      <td>Automotive Tire Stores</td>\n",
              "      <td>0d523</td>\n",
              "      <td>chip_contactless</td>\n",
              "      <td>NY</td>\n",
              "      <td>112.7424</td>\n",
              "      <td>24.4066</td>\n",
              "      <td>181.0421</td>\n",
              "      <td>19.0</td>\n",
              "      <td>32.0</td>\n",
              "      <td>33.0</td>\n",
              "      <td>4ead6b2a-e69b-4238-b305-85b78f341ecd</td>\n",
              "      <td>NON_FRAUD</td>\n",
              "      <td>0.468590</td>\n",
              "      <td>0.0</td>\n",
              "      <td>1.0</td>\n",
              "      <td>1641412634</td>\n",
              "      <td>NON_FRAUD</td>\n",
              "      <td>0.166667</td>\n",
              "      <td>-2.416667</td>\n",
              "      <td>1.000000</td>\n",
              "      <td>0.000000</td>\n",
              "      <td>-5.583333</td>\n",
              "      <td>5.000000</td>\n",
              "      <td>-4.083333</td>\n",
              "      <td>22.250000</td>\n",
              "      <td>30.583333</td>\n",
              "      <td>57.083332</td>\n",
              "    </tr>\n",
              "    <tr>\n",
              "      <th>1</th>\n",
              "      <td>Financial Institutions – Merchandise and Services</td>\n",
              "      <td>9ef24</td>\n",
              "      <td>chip_contactless</td>\n",
              "      <td>CA</td>\n",
              "      <td>107.0147</td>\n",
              "      <td>25.9146</td>\n",
              "      <td>164.6947</td>\n",
              "      <td>37.0</td>\n",
              "      <td>19.0</td>\n",
              "      <td>16.0</td>\n",
              "      <td>a1bc94de-8860-4e3d-80c7-926a475e1d84</td>\n",
              "      <td>NON_FRAUD</td>\n",
              "      <td>0.394723</td>\n",
              "      <td>0.0</td>\n",
              "      <td>1.0</td>\n",
              "      <td>1641412634</td>\n",
              "      <td>NON_FRAUD</td>\n",
              "      <td>-0.250000</td>\n",
              "      <td>0.166667</td>\n",
              "      <td>0.750000</td>\n",
              "      <td>-0.666667</td>\n",
              "      <td>3.500000</td>\n",
              "      <td>0.500000</td>\n",
              "      <td>-9.500000</td>\n",
              "      <td>20.500000</td>\n",
              "      <td>30.583333</td>\n",
              "      <td>58.416665</td>\n",
              "    </tr>\n",
              "    <tr>\n",
              "      <th>2</th>\n",
              "      <td>Business and Secretarial Schools</td>\n",
              "      <td>7d30f</td>\n",
              "      <td>credential_on_file</td>\n",
              "      <td>CA</td>\n",
              "      <td>84.5052</td>\n",
              "      <td>17.4863</td>\n",
              "      <td>39.4607</td>\n",
              "      <td>38.0</td>\n",
              "      <td>17.0</td>\n",
              "      <td>34.0</td>\n",
              "      <td>1ee39fff-75b8-4ea7-896c-4ef02f7234e8</td>\n",
              "      <td>NON_FRAUD</td>\n",
              "      <td>0.182435</td>\n",
              "      <td>0.0</td>\n",
              "      <td>1.0</td>\n",
              "      <td>1641412634</td>\n",
              "      <td>NON_FRAUD</td>\n",
              "      <td>0.000000</td>\n",
              "      <td>0.000000</td>\n",
              "      <td>0.500000</td>\n",
              "      <td>-0.583333</td>\n",
              "      <td>3.833333</td>\n",
              "      <td>0.500000</td>\n",
              "      <td>-3.750000</td>\n",
              "      <td>18.333333</td>\n",
              "      <td>27.249999</td>\n",
              "      <td>57.916665</td>\n",
              "    </tr>\n",
              "    <tr>\n",
              "      <th>3</th>\n",
              "      <td>Money Orders – Wire Transfer</td>\n",
              "      <td>88309</td>\n",
              "      <td>manual</td>\n",
              "      <td>FL</td>\n",
              "      <td>73.4188</td>\n",
              "      <td>63.0689</td>\n",
              "      <td>143.7292</td>\n",
              "      <td>40.0</td>\n",
              "      <td>25.0</td>\n",
              "      <td>30.0</td>\n",
              "      <td>a8dbf775-fd32-4f26-b1f1-a6d186e8671a</td>\n",
              "      <td>NON_FRAUD</td>\n",
              "      <td>0.362903</td>\n",
              "      <td>0.0</td>\n",
              "      <td>1.0</td>\n",
              "      <td>1641412634</td>\n",
              "      <td>NON_FRAUD</td>\n",
              "      <td>-0.583333</td>\n",
              "      <td>0.000000</td>\n",
              "      <td>-1.083333</td>\n",
              "      <td>0.166667</td>\n",
              "      <td>-9.166667</td>\n",
              "      <td>12.666666</td>\n",
              "      <td>-4.416667</td>\n",
              "      <td>21.000000</td>\n",
              "      <td>27.749999</td>\n",
              "      <td>57.666665</td>\n",
              "    </tr>\n",
              "    <tr>\n",
              "      <th>4</th>\n",
              "      <td>Drug Stores and Pharmacies</td>\n",
              "      <td>05048</td>\n",
              "      <td>chip_contactless</td>\n",
              "      <td>NY</td>\n",
              "      <td>140.6726</td>\n",
              "      <td>17.5549</td>\n",
              "      <td>79.0607</td>\n",
              "      <td>52.0</td>\n",
              "      <td>67.0</td>\n",
              "      <td>48.0</td>\n",
              "      <td>8c0d199f-681e-418c-abb1-8dd2bdc14445</td>\n",
              "      <td>FRAUD</td>\n",
              "      <td>0.814838</td>\n",
              "      <td>0.0</td>\n",
              "      <td>1.0</td>\n",
              "      <td>1641412634</td>\n",
              "      <td>NON_FRAUD</td>\n",
              "      <td>-0.166667</td>\n",
              "      <td>-2.750000</td>\n",
              "      <td>9.333333</td>\n",
              "      <td>0.083333</td>\n",
              "      <td>-176.583329</td>\n",
              "      <td>-23.083333</td>\n",
              "      <td>-4.000000</td>\n",
              "      <td>24.250000</td>\n",
              "      <td>19.499999</td>\n",
              "      <td>57.416665</td>\n",
              "    </tr>\n",
              "  </tbody>\n",
              "</table>\n",
              "</div>\n",
              "      <button class=\"colab-df-convert\" onclick=\"convertToInteractive('df-add6472e-d4bd-4197-b166-d7ac0e81d462')\"\n",
              "              title=\"Convert this dataframe to an interactive table.\"\n",
              "              style=\"display:none;\">\n",
              "        \n",
              "  <svg xmlns=\"http://www.w3.org/2000/svg\" height=\"24px\"viewBox=\"0 0 24 24\"\n",
              "       width=\"24px\">\n",
              "    <path d=\"M0 0h24v24H0V0z\" fill=\"none\"/>\n",
              "    <path d=\"M18.56 5.44l.94 2.06.94-2.06 2.06-.94-2.06-.94-.94-2.06-.94 2.06-2.06.94zm-11 1L8.5 8.5l.94-2.06 2.06-.94-2.06-.94L8.5 2.5l-.94 2.06-2.06.94zm10 10l.94 2.06.94-2.06 2.06-.94-2.06-.94-.94-2.06-.94 2.06-2.06.94z\"/><path d=\"M17.41 7.96l-1.37-1.37c-.4-.4-.92-.59-1.43-.59-.52 0-1.04.2-1.43.59L10.3 9.45l-7.72 7.72c-.78.78-.78 2.05 0 2.83L4 21.41c.39.39.9.59 1.41.59.51 0 1.02-.2 1.41-.59l7.78-7.78 2.81-2.81c.8-.78.8-2.07 0-2.86zM5.41 20L4 18.59l7.72-7.72 1.47 1.35L5.41 20z\"/>\n",
              "  </svg>\n",
              "      </button>\n",
              "      \n",
              "  <style>\n",
              "    .colab-df-container {\n",
              "      display:flex;\n",
              "      flex-wrap:wrap;\n",
              "      gap: 12px;\n",
              "    }\n",
              "\n",
              "    .colab-df-convert {\n",
              "      background-color: #E8F0FE;\n",
              "      border: none;\n",
              "      border-radius: 50%;\n",
              "      cursor: pointer;\n",
              "      display: none;\n",
              "      fill: #1967D2;\n",
              "      height: 32px;\n",
              "      padding: 0 0 0 0;\n",
              "      width: 32px;\n",
              "    }\n",
              "\n",
              "    .colab-df-convert:hover {\n",
              "      background-color: #E2EBFA;\n",
              "      box-shadow: 0px 1px 2px rgba(60, 64, 67, 0.3), 0px 1px 3px 1px rgba(60, 64, 67, 0.15);\n",
              "      fill: #174EA6;\n",
              "    }\n",
              "\n",
              "    [theme=dark] .colab-df-convert {\n",
              "      background-color: #3B4455;\n",
              "      fill: #D2E3FC;\n",
              "    }\n",
              "\n",
              "    [theme=dark] .colab-df-convert:hover {\n",
              "      background-color: #434B5C;\n",
              "      box-shadow: 0px 1px 3px 1px rgba(0, 0, 0, 0.15);\n",
              "      filter: drop-shadow(0px 1px 2px rgba(0, 0, 0, 0.3));\n",
              "      fill: #FFFFFF;\n",
              "    }\n",
              "  </style>\n",
              "\n",
              "      <script>\n",
              "        const buttonEl =\n",
              "          document.querySelector('#df-add6472e-d4bd-4197-b166-d7ac0e81d462 button.colab-df-convert');\n",
              "        buttonEl.style.display =\n",
              "          google.colab.kernel.accessAllowed ? 'block' : 'none';\n",
              "\n",
              "        async function convertToInteractive(key) {\n",
              "          const element = document.querySelector('#df-add6472e-d4bd-4197-b166-d7ac0e81d462');\n",
              "          const dataTable =\n",
              "            await google.colab.kernel.invokeFunction('convertToInteractive',\n",
              "                                                     [key], {});\n",
              "          if (!dataTable) return;\n",
              "\n",
              "          const docLinkHtml = 'Like what you see? Visit the ' +\n",
              "            '<a target=\"_blank\" href=https://colab.research.google.com/notebooks/data_table.ipynb>data table notebook</a>'\n",
              "            + ' to learn more about interactive tables.';\n",
              "          element.innerHTML = '';\n",
              "          dataTable['output_type'] = 'display_data';\n",
              "          await google.colab.output.renderOutput(dataTable, element);\n",
              "          const docLink = document.createElement('div');\n",
              "          docLink.innerHTML = docLinkHtml;\n",
              "          element.appendChild(docLink);\n",
              "        }\n",
              "      </script>\n",
              "    </div>\n",
              "  </div>\n",
              "  "
            ],
            "text/plain": [
              "                                       MERCHANT_TYPE  ... AMEX_RISK_SCORE_shap\n",
              "0                             Automotive Tire Stores  ...            57.083332\n",
              "1  Financial Institutions – Merchandise and Services  ...            58.416665\n",
              "2                   Business and Secretarial Schools  ...            57.916665\n",
              "3                       Money Orders – Wire Transfer  ...            57.666665\n",
              "4                         Drug Stores and Pharmacies  ...            57.416665\n",
              "\n",
              "[5 rows x 27 columns]"
            ]
          },
          "metadata": {},
          "execution_count": 3
        }
      ]
    },
    {
      "cell_type": "code",
      "source": [
        "feature_column_names = [\n",
        "    \"MERCHANT_TYPE\",\n",
        "    \"MERCHANT_ID\",\n",
        "    \"ENTRY_MODE\",\n",
        "    \"STATE\",\n",
        "    \"MEAN_AMOUNT\",\n",
        "    \"STD_AMOUNT\",\n",
        "    \"TX_AMOUNT\",\n",
        "    \"VISA_RISK_SCORE\",\n",
        "    \"MASTERCARD_RISK_SCORE\",\n",
        "    \"AMEX_RISK_SCORE\",\n",
        "]\n",
        "shap_column_names = [f\"{x}_shap\" for x in feature_column_names]"
      ],
      "metadata": {
        "id": "hiKjDrTG_2sN"
      },
      "execution_count": null,
      "outputs": []
    },
    {
      "cell_type": "markdown",
      "source": [
        "# Step 1. Sending Data into Arize 💫\n",
        "\n",
        "Now that we have our dataset imported, we are ready to integrate into Arize. We do this by logging (sending) important data we want to analyze to the platform. There, the data will be easily visualized and troubleshooting workflows will help us find the source of our problem.\n",
        "\n",
        "For our model, we are going to log:\n",
        "*   feature data\n",
        "*   predictions\n",
        "*   actuals\n",
        "\n",
        "## Import and Setup Arize Client\n",
        "\n",
        "The first step is to setup our Arize client. After that we will log the data.\n",
        "\n",
        "First, copy the Arize `API_KEY` and `ORG_KEY` from your admin page linked below! Copy those over to the set-up section. We will also be setting up some metadata to use across all logging.\n",
        "\n",
        "[![Button_Open.png](https://storage.googleapis.com/arize-assets/fixtures/Button_Open.png)](https://app.arize.com/admin)\n"
      ],
      "metadata": {
        "id": "qgJKldiSH6OL"
      }
    },
    {
      "cell_type": "code",
      "source": [
        "ORGANIZATION_KEY = \"ORGANIZATION_KEY\"\n",
        "API_KEY = \"API_KEY\"\n",
        "\n",
        "arize_client = Client(organization_key=ORGANIZATION_KEY, api_key=API_KEY)\n",
        "\n",
        "model_id = \"arize-demo-creditcard-fraud\"  # This is the model name that will show up in Arize\n",
        "model_version = \"v1.0\"  # Version of model - can be any string\n",
        "\n",
        "if ORGANIZATION_KEY == \"ORGANIZATION_KEY\" or API_KEY == \"API_KEY\":\n",
        "    raise ValueError(\"❌ NEED TO CHANGE ORGANIZATION AND/OR API_KEY\")\n",
        "else:\n",
        "    print(\"✅ Arize setup complete!\")"
      ],
      "metadata": {
        "id": "8XJANcnXH6kT"
      },
      "execution_count": null,
      "outputs": []
    },
    {
      "cell_type": "markdown",
      "source": [
        "## Log Training & Production Data to Arize \n",
        "\n",
        "Now that our Arize client is setup, let's go ahead and log all of our data to the platform. For more details on how **`arize.pandas.logger`** works, visit out documentations page below.\n",
        "\n",
        "[![Buttons_OpenOrange.png](https://storage.googleapis.com/arize-assets/fixtures/Buttons_OpenOrange.png)](https://docs.arize.com/arize/sdks-and-integrations/python-sdk/arize.pandas)\n",
        "\n",
        "Key parameters:\n",
        "\n",
        "*   **prediction_label_column_name**: tells Arize which column contains the predictions\n",
        "*   **actual_label_column_name**: tells Arize which column contains the actual results from field data\n",
        "*   **preidction_score_column_name**: tells Arize which column contains the prediction score from field data\n",
        "*   **actual_label_column_name**: tells Arize which column contains the actual results from field data\n",
        "*   **actual_score_column_name**: tells Arize which column contains the actual score from field data\n",
        "\n",
        "Given that our model is predicting between categories, we will use [ModelTypes.SCORE_CATEGORICAL](https://docs.arize.com/arize/product-guides-1/models/model-types) to perform this analysis.\n",
        "\n"
      ],
      "metadata": {
        "id": "HVIZgl2oIHGt"
      }
    },
    {
      "cell_type": "markdown",
      "source": [
        "## Log Training Data"
      ],
      "metadata": {
        "id": "pbFoahq4IMfd"
      }
    },
    {
      "cell_type": "code",
      "source": [
        "# Define a Schema() object for Arize to pick up data from the correct columns for logging\n",
        "training_schema = Schema(\n",
        "    prediction_id_column_name=\"prediction_id\",\n",
        "    prediction_label_column_name=\"PREDICTION\",\n",
        "    prediction_score_column_name=\"PREDICTION_SCORE\",\n",
        "    actual_label_column_name=\"ACTUAL\",\n",
        "    actual_score_column_name=\"ACTUAL_SCORE\",\n",
        "    feature_column_names=feature_column_names\n",
        "    )\n",
        "\n",
        "# Logging Training DataFrame\n",
        "training_response = arize_client.log(\n",
        "    dataframe=train,\n",
        "    model_id=model_id,\n",
        "    model_version=model_version,\n",
        "    model_type=ModelTypes.SCORE_CATEGORICAL,\n",
        "    environment=Environments.TRAINING,\n",
        "    schema=training_schema,\n",
        "    )\n",
        "\n",
        "# If successful, the server will return a status_code of 200\n",
        "if training_response.status_code != 200:\n",
        "    print(f\"logging failed with response code {training_response.status_code}, {training_response.text}\")\n",
        "else:\n",
        "    print(f\"✅ You have successfully logged training set to Arize\")\n"
      ],
      "metadata": {
        "id": "MLJMK3UeIJMk"
      },
      "execution_count": null,
      "outputs": []
    },
    {
      "cell_type": "markdown",
      "source": [
        "## Log Production Data\n"
      ],
      "metadata": {
        "id": "DRQdEXZDIvMo"
      }
    },
    {
      "cell_type": "code",
      "source": [
        "# changing dates for ease of visualization / to mimic recent produciton dataset \n",
        "END_DATE = datetime.date.today().strftime('%Y-%m-%d')\n",
        "START_DATE = (datetime.date.today() - timedelta(31)).strftime('%Y-%m-%d')\n",
        "\n",
        "\n",
        "\n",
        "def setPredictionIDandTime (df, start, end):\n",
        "    out_df = pd.DataFrame()\n",
        "    dts = pd.date_range(start, end).to_pydatetime().tolist()\n",
        "    for dt in dts:\n",
        "        day_df = df.loc[df[\"day\"] == dt.day].copy()\n",
        "        day_df[\"prediction_ts\"] = int(dt.strftime(\"%s\"))\n",
        "        out_df = pd.concat([out_df, day_df], ignore_index=True)\n",
        "    out_df[\"prediction_id\"] = [str(uuid.uuid4()) for _ in range(out_df.shape[0])]\n",
        "    return out_df.drop(columns=\"day\")\n",
        "\n",
        "production = setPredictionIDandTime(production, START_DATE, END_DATE)\n",
        "\n",
        "production_schema = Schema(\n",
        "    prediction_id_column_name=\"prediction_id\",\n",
        "    timestamp_column_name=\"prediction_ts\",\n",
        "    prediction_label_column_name=\"PREDICTION\",\n",
        "    prediction_score_column_name=\"PREDICTION_SCORE\",\n",
        "    actual_label_column_name=\"ACTUAL\",\n",
        "    actual_score_column_name=\"ACTUAL_SCORE\",\n",
        "    feature_column_names=feature_column_names,\n",
        "    shap_values_column_names=dict(\n",
        "        zip(feature_column_names, shap_column_names)\n",
        "    )\n",
        ")\n",
        "\n",
        "production_response = arize_client.log(\n",
        "    dataframe=production,\n",
        "    model_id=model_id,\n",
        "    model_version=model_version,\n",
        "    model_type=ModelTypes.SCORE_CATEGORICAL,\n",
        "    environment=Environments.PRODUCTION,\n",
        "    schema=production_schema,\n",
        ")\n",
        "\n",
        "if production_response.status_code != 200:\n",
        "    print(f\"logging failed with response code {production_response.status_code}, {production_response.text}\")\n",
        "else:\n",
        "    print(f\"✅ You have successfully logged production set to Arize\")"
      ],
      "metadata": {
        "id": "FoWpauUWIsmm"
      },
      "execution_count": null,
      "outputs": []
    },
    {
      "cell_type": "markdown",
      "source": [
        "# Step 2. Confirm Data in Arize ✅\n",
        "\n",
        "Note that the Arize performs takes about 10 minutes to index the data. While the model should appear immediately, the data will not show up until the indexing is complete. Feel free to go grab a cup of coffee as Arize works its magic! ☕🔮\n",
        "\n",
        "**⚠️ DON'T SKIP:**\n",
        "In order to move on to the next step, make sure your actuals and training/production sets are loaded into the platform. To check:\n",
        "1. Navigate to models from the left bar, locate and click on model **arize-demo-creditcard-fraud**\n",
        "2. On the **Overview Tab**, make sure you can see Predictions and Actuals under the **Model Health** section. Once production actuals have been fully recorded on Arize, the row title will change from **0 Actuals** to **Actuals** with summary statistics such as cardinality listed in the tables.\n",
        "3. Verify the list of **Features** below **Actuals**.\n",
        "\n",
        "(screen recording)"
      ],
      "metadata": {
        "id": "5GRDmDYmJWFt"
      }
    },
    {
      "cell_type": "markdown",
      "source": [
        "# Step 3. Set up Model Baseline & Managed Monitors\n",
        "\n",
        "Now that our data has been logged into the [Arize platform](https://app.arize.com/) we can begin our investigation into our poorly performing fraud detection model. \n",
        "\n",
        "Arize will guide you through setting up a **Baseline** (reference environment for comparison) and automatically create **Monitors** for your model in just a few clicks —just follow the blue banner at the top of the page titled \"Finish setting up your model\". \n",
        "\n",
        "![image.png](https://storage.googleapis.com/arize-assets/fixtures/Click-Through%20Rate%20Use-Case/images/initial_setup_banner.png)\n",
        "\n",
        "Arize can automatically configure monitors that are best suited to your data. From the banner at the top of the screen, select the following configurations after clicking the 'Set up Model' button: \n",
        "\n",
        "1. Datasets: `Training Version 1.0`\n",
        "2. Default Metric: `False Negative Rate`, Trigger Alert When: `False Negative Rate is above .2`, Positive Class: `FRAUD`\n",
        "3. Turn On Monitoring: Drift ✅, Data Quality ✅, Performance ✅ \n",
        "\n",
        "You will now see that the baseline has been set and **Drift**, **Data Quality**, and **Performance** monitors have been created!!! \n",
        "\n",
        "\n",
        "![image](https://storage.googleapis.com/arize-assets/fixtures/CC_FRAUD/fraud_setupbaseline.gif)\n",
        "\n",
        " \n",
        "To prevent expensive chargebacks from getting by our models undetected Arize automatically set up monitors to ensure our model is flagged if it Performance, Data Quality, or Drift spikes above a certain threshold/before it becomes a major issue. You can see filter monitors by category, edit evaluation windows, thresholds, etc. and create custom monitors by visiting the **Monitors** tab.\n"
      ],
      "metadata": {
        "id": "wkgBBB0IMHmv"
      }
    },
    {
      "cell_type": "markdown",
      "source": [
        "# Step 4. Setting up proactive custom monitors"
      ],
      "metadata": {
        "id": "JmlvQgN2N13z"
      }
    },
    {
      "cell_type": "markdown",
      "source": [
        "**Arize sets up monitors across all features, predictions, and actual values.** In fraud detection it's important to monitor your model's: \n",
        "\n",
        "\n",
        "1.   False Negative Rate — Chargeback % (fraud transactions that were identified by the model as non fraud leading to a chargeback/immediate financial loss for the company).\n",
        "2.   False Positive Rate — Upset Customer % (non fraud transactions that were classified as fraud leading to an awkward moment at the register and an upset customer). \n",
        "3.  Accuracy — of all my predictions, what percent did the model predict correctly? We need to be careful with this metric as it can be potentially misleading, especially if there is a small amount of fraud transactions. If a model has 1% fraud, misclassifying all transactions can still result in 99% accuracy.\n"
      ],
      "metadata": {
        "id": "6K6n4rLpN11b"
      }
    },
    {
      "cell_type": "markdown",
      "source": [
        "![image](https://storage.googleapis.com/arize-assets/fixtures/CC_FRAUD/monitor_FNR.gif)"
      ],
      "metadata": {
        "id": "2L4Vizc5SaS8"
      }
    },
    {
      "cell_type": "markdown",
      "source": [
        "# Step 5. Exploring Drift\n"
      ],
      "metadata": {
        "id": "b0o72uxwN1y6"
      }
    },
    {
      "cell_type": "markdown",
      "source": [
        "Selecting the **Drift** tab we notice a noticeable model prediction drift in production compared to our training dataset (baseline) for a period of 4 days. By taking a look at the **Distribution Comparison** beneath the **Prediction Drift over Time** widget we notice that in our training dataset (Baseline Distribution) we expect to see around 1% FRAUD whereas in our production dataset (Current Distribution) we see highs of almost 25% FRAUD!\n",
        " \n",
        " \n",
        "![image](https://storage.googleapis.com/arize-assets/fixtures/CC_FRAUD/prediction_drift_fraud.gif)"
      ],
      "metadata": {
        "id": "jV_swqQDN1wC"
      }
    },
    {
      "cell_type": "markdown",
      "source": [
        "# Step 6. Performance Analysis "
      ],
      "metadata": {
        "id": "mA-2w3x9UG7b"
      }
    },
    {
      "cell_type": "markdown",
      "source": [
        "Once a performance monitor is triggered, navigate to the **Performance** tab to start troubleshooting your model issues and gain an understanding of what caused the degradation. The false negative rate (our default performance metric) is plotted over the last 30 days and it is overlaid on top of bars which measure the volume of predictions. Our model is doing pretty well but there have been a few spikes in false negative rate down to ~0.2 so let's look into what could be driving performance down.\n",
        "\n",
        "If you scroll down, the **Output Segmentation** section includes a confusion matrix which is useful for our model as it is assigning a class to the prediction.\n",
        "\n",
        "![image](https://storage.googleapis.com/arize-assets/fixtures/CC_FRAUD/perftab_fraud_overview.png)\n",
        "\n",
        "Let's scroll down even further to the **Performance Breakdown by Feature**, this section is very useful to uncover low performing cohorts within a feature. Since this model is producing SHAP values for every prediction, Arize is able to use those SHAP values to weight performance within each feature to create a **Performance Impact Score**. By sorting by this score instead of just feature importance or min/max performance, Arize is able to surface to the top, the top features that are attributing to decreased performance.\n",
        "\n",
        "At the top of the **Performance Breakdown by Feature** list is `STATE` so let's expand this feature. Now we see a list of the inputs to this feature which are a couple of categorical values. By hovering over bar, Arize displays the volume that this input was utilized in predictions and the performance metric for that cohort. \n",
        "\n",
        "\n",
        "![image](https://storage.googleapis.com/arize-assets/fixtures/CC_FRAUD/fraud_state_perf.png)\n",
        "\n",
        "**We can start by comparing the production to training dataset.** This can help answer questions such as \"Were we seeing this problem in training?\" or \"Does my new / previous model version perform better?\". It can also be helpful to compare to other windows of production.\n",
        "\n",
        "![image](https://storage.googleapis.com/arize-assets/fixtures/CC_FRAUD/perf_tab_fraud.gif)\n",
        "\n",
        "\n",
        "\n",
        "Here, we can identify low performing segments. By looking at performance breakdown by feature, you can dig even deeper to see which segment within each feature of the model is underperforming. In this case, we are filtering on `STATE`=`CA`, we observe `ENTRY_MODE`, which has the highest performance impact, comes to the top.\n",
        "\n",
        "Some of the immediate insights surfaced from the **Feature Performance Tab** are detailed below. \n",
        "1. Worst performing `ENTRY_MODE` includes `credentials_on_file`, followed by `manual`, and `_NULL`\n",
        "2. Worst performing `MERCHANT_TYPE` includes `Religious Organizations`,`Online Food Delivery`, and `Tax Payments`\n",
        "3. Worst performing `MERCHANT_ID` includes `FL`, `CA`, and `NY`\n",
        "\n",
        "![image](https://storage.googleapis.com/arize-assets/fixtures/CC_FRAUD/perf_tab_entry_mode_filteron_ca.png)\n",
        "\n",
        "\n",
        "![image](https://storage.googleapis.com/arize-assets/fixtures/CC_FRAUD/perf_tab_merchant_type_filteron_Ca.png)\n",
        "\n",
        "![image](https://storage.googleapis.com/arize-assets/fixtures/CC_FRAUD/perf_tab_merchant_id_filteron_ca.png)\n",
        "\n",
        "Moreover, we can compare the overall production dataset to other windows of production. Here, we can investigate what the production dataset looks like in a low performing segment. \n",
        "\n",
        "![image](https://storage.googleapis.com/arize-assets/fixtures/CC_FRAUD/fraud_perftabx2.gif)\n"
      ],
      "metadata": {
        "id": "4IhJexvtUEQW"
      }
    },
    {
      "cell_type": "markdown",
      "source": [
        "# Step 7. Feature Performance Insights and Data Quality Checks"
      ],
      "metadata": {
        "id": "UX7enXEbYR79"
      }
    },
    {
      "cell_type": "markdown",
      "source": [
        "Using the insights gathered from the **Feature Performance Tab**, we can take action to 1) prevent this type of fraud abuse from going undetected in the future and 2) use our findings to improve our model. As noted previously, the slice (feature/value combination) `ENTRY_MODE: credentials_on_file` was one of the worst performing segments for our model. Navigate back to the **Drift** tab and click into the `ENTRY_MODE` feature under the **Feature Drift** section. \n",
        "\n",
        "\n",
        "![image](https://storage.googleapis.com/arize-assets/fixtures/CC_FRAUD/entry_mode.gif)\n",
        "\n",
        "Upon first glance, we see that `ENTRY_MODE` is starting to drift around day 5. Furthermore, we noice that our training dataset (Baseline distribution) did not have any `_NULL` values. Clicking on the **Data Quality** tab, we can confirm the cardinality of the feature increased on the 5th day and fell back down 6 days later. \n",
        "\n",
        "\n",
        "![image](https://storage.googleapis.com/arize-assets/fixtures/CC_FRAUD/entry_mode_drift.png)\n",
        "\n",
        "\n",
        "![image](https://storage.googleapis.com/arize-assets/fixtures/CC_FRAUD/data_quality_check.gif)\n",
        "\n",
        "\n"
      ],
      "metadata": {
        "id": "5ObKzcnvYR5c"
      }
    },
    {
      "cell_type": "markdown",
      "source": [
        "# Step 8. Model Performance Overview\n",
        "\n",
        "As we continue to check in and improve our model's performance, we want to be able to quickly and efficiently view all our important model metrics in a single pane. In the same way we set up a **Model Performance Dashboard** to view our model's most important metrics in a single configurable layout. \n",
        "\n",
        "Navigate to the **Templates** section on the left sidebar and scroll down to click on the **Scored Model**. From there select your model, features you care to investigate, and positive class `FRAUD`. \n",
        "\n",
        "![image](https://storage.googleapis.com/arize-assets/fixtures/CC_FRAUD/model_overview_fraud.gif)\n",
        "\n",
        "In addition to the default widgets Arize sets up for your dashboard, you can configure custom metrics your team cares about. In only a few clicks I added a few widgets to give me a single glance view of my model's **Accuracy**, **False Positive Rate**, and **False Negative Rate** as standalone statistics widgets. To visualize these metrics over time I also created a timeseries widget and overlayed three plots showcase the fluctuation of my metrics over time. \n",
        "\n",
        "![image](https://storage.googleapis.com/arize-assets/fixtures/CC_FRAUD/fraud_model_overview.png)"
      ],
      "metadata": {
        "id": "_aVeTKB5YR2n"
      }
    },
    {
      "cell_type": "markdown",
      "source": [
        "# Step 9. Business Metrics \n",
        "\n",
        "Sometimes, we need metrics other than traditional statistical measures to define model performance. Business Impact is a way to measure your score model's Payoff at different thresholds (i.e, decision boundary for a score model). The Arize platform allows you to enter custom formulas, mapping model performance to your definition of model performance. Navigate to the **Business Impact** tab to set up a custom formula used to calculate the business impact of our model's performance to the overall profit/loss of your company. For example, the diagram below estimates the profit/loss of a decision made by our model. \n",
        "![image](https://storage.googleapis.com/arize-assets/tutorials/use-cases/bizimpact1.png)\n",
        "\n",
        "Capturing this in our **Business Impact** tab visualizes the profit/loss based on our model's prediction threshold for fraud classification. \n",
        "\n",
        "![image](https://storage.googleapis.com/arize-assets/fixtures/CC_FRAUD/business_metrics.png)"
      ],
      "metadata": {
        "id": "IRCgFg4uYRzj"
      }
    },
    {
      "cell_type": "markdown",
      "source": [
        "Visualize the potential profit/loss based on these weighted decision values in Arize's Business Impact tab. Understand your business's overall profit/loss based on your model's prediction threshold for fraud classification."
      ],
      "metadata": {
        "id": "dzMgOCYLYf6D"
      }
    },
    {
      "cell_type": "markdown",
      "source": [
        "# 📚 Conclusion \n",
        "In this walkthrough we've shown how Arize can be used to log prediction data for a model, pinpoint model performance degradations, set up monitors to proactively catch future issues, create dashboards for at a glance model understanding, and calculate business impact metrics through custom formulas. \n",
        "\n",
        "We completed the following tasks: \n",
        "1. Uploaded data from a credit card transaction fraud model \n",
        "2. Set up a model baseline (Training V1.0) and managed Performance, Data Quality, and Drift monitors\n",
        "3. Created a Feature Performance Heatmap to surface low performing cohorts impacting our model which helped narrow down our undetected fraudulent transactions to certain `ENTRY_MODE`s and `MERCHANT_TYPE`s coming from a few specific `STATE`s.\n",
        "4. Identified correlations between our model's degrading performance with individual feature drift and distribution variance\n",
        "5. Created a model Performance Dashboard to visualize important metrics at a glance with custom timeseries metrics for ongoing analysis \n",
        "6. Captured our potential profit/loss based on our model's classification threshold using the Business Impact tab\n",
        "\n",
        "We identified the following areas of concern: \n",
        "1. `_NULL` values for the feature `ENTRY_MODE`. This leads us to believe that we need to upsample this type of feature/value combination or fix an upstream datasource to omit this undetermined value. \n",
        "2. Suspicious activity coming from `MERCHANT_TYPE`: `Online Food Delivery`, `Religious Organizations`, `Pawn Shops and Salvage Yards`, `Automotive Tire Sotres`, and  `Tax Payments`, `ENTRY_MODE` : `credential_on_file` and `manual`. Specifically we noticed drift of these categories fluctuating on certain dates and coming from a small subset of `STATES`, namely `CA`, and `NY`. We must look into the POS systems across these states to understand what type of organized fraud is happening from these regions while retraining our model to detect anomalous food delivery and erroneous tax payment transactions. \n",
        "3. We also noticed that our model performs poorly on certain `MERCHANT_ID`s when filtered on `STATES`, namely `CA`, and `NY`. Perhaps a new model strategy is needed to form stronger inferences. \n",
        "\n",
        "Though we covered a lot of ground, this is just scratching the surface of what the Arize platform can do. We urge you to explore more of Arize, either on your own or through one of our many other tutorials."
      ],
      "metadata": {
        "id": "0jZ9lFAebcpX"
      }
    },
    {
      "cell_type": "markdown",
      "source": [
        "# About Arize\n",
        "Arize is an end-to-end ML observability and model monitoring platform. The platform is designed to help ML engineers and data science practitioners surface and fix issues with ML models in production faster with:\n",
        "- Automated ML monitoring and model monitoring\n",
        "- Workflows to troubleshoot model performance\n",
        "- Real-time visualizations for model performance monitoring, data quality monitoring, and drift monitoring\n",
        "- Model prediction cohort analysis\n",
        "- Pre-deployment model validation\n",
        "- Integrated model explainability\n",
        "\n",
        "### Website\n",
        "Visit Us At: https://arize.com/model-monitoring/\n",
        "\n",
        "### Additional Resources\n",
        "- [What is ML observability?](https://arize.com/what-is-ml-observability/)\n",
        "- [Playbook to model monitoring in production](https://arize.com/the-playbook-to-monitor-your-models-performance-in-production/)\n",
        "- [Using statistical distance metrics for ML monitoring and observability](https://arize.com/using-statistical-distance-metrics-for-machine-learning-observability/)\n",
        "- [ML infrastructure tools for data preparation](https://arize.com/ml-infrastructure-tools-for-data-preparation/)\n",
        "- [ML infrastructure tools for model building](https://arize.com/ml-infrastructure-tools-for-model-building/)\n",
        "- [ML infrastructure tools for production](https://arize.com/ml-infrastructure-tools-for-production-part-1/)\n",
        "- [ML infrastructure tools for model deployment and model serving](https://arize.com/ml-infrastructure-tools-for-production-part-2-model-deployment-and-serving/)\n",
        "- [ML infrastructure tools for ML monitoring and observability](https://arize.com/ml-infrastructure-tools-ml-observability/)\n",
        "\n",
        "Visit the [Arize Blog](https://arize.com/blog) and [Resource Center](https://arize.com/resource-hub/) for more resources on ML observability and model monitoring.\n"
      ],
      "metadata": {
        "id": "Es52tD8lbceL"
      }
    }
  ]
}