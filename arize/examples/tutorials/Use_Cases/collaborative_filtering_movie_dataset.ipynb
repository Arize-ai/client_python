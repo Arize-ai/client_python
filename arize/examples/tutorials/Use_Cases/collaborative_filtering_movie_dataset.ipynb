{
  "nbformat": 4,
  "nbformat_minor": 0,
  "metadata": {
    "colab": {
      "name": "collaborative_filtering_movie_dataset.ipynb",
      "provenance": [],
      "collapsed_sections": []
    },
    "kernelspec": {
      "name": "python3",
      "display_name": "Python 3"
    },
    "language_info": {
      "name": "python"
    }
  },
  "cells": [
    {
      "cell_type": "code",
      "execution_count": null,
      "metadata": {
        "colab": {
          "base_uri": "https://localhost:8080/"
        },
        "id": "iCHnyOvGwrHh",
        "outputId": "4616ed6c-ae13-4f7a-ad5c-1bde6c7fc857"
      },
      "outputs": [
        {
          "output_type": "stream",
          "name": "stdout",
          "text": [
            "Looking in indexes: https://pypi.org/simple, https://us-python.pkg.dev/colab-wheels/public/simple/\n",
            "Requirement already satisfied: surprise in /usr/local/lib/python3.7/dist-packages (0.1)\n",
            "Requirement already satisfied: scikit-surprise in /usr/local/lib/python3.7/dist-packages (from surprise) (1.1.1)\n",
            "Requirement already satisfied: six>=1.10.0 in /usr/local/lib/python3.7/dist-packages (from scikit-surprise->surprise) (1.15.0)\n",
            "Requirement already satisfied: joblib>=0.11 in /usr/local/lib/python3.7/dist-packages (from scikit-surprise->surprise) (1.1.0)\n",
            "Requirement already satisfied: numpy>=1.11.2 in /usr/local/lib/python3.7/dist-packages (from scikit-surprise->surprise) (1.21.6)\n",
            "Requirement already satisfied: scipy>=1.0.0 in /usr/local/lib/python3.7/dist-packages (from scikit-surprise->surprise) (1.4.1)\n"
          ]
        }
      ],
      "source": [
        "!pip install surprise"
      ]
    },
    {
      "cell_type": "markdown",
      "source": [
        "# A Movie Recommendation Example\n",
        "\n",
        "In this example we will try to better understand what movies users will enjoy based on collaborative filtering and increase the satisfaction of our user base by giving a subset of them a free movie coupon code to watch a movie that our model thinks they will enjoy\n",
        "\n",
        "### Collaborative Filtering Example using SVD\n",
        "\n",
        "To address some of the limitations of content-based filtering, collaborative filtering uses similarities between users and items simultaneously to provide recommendations. This allows for serendipitous recommendations; that is, collaborative filtering models can recommend an item to user A based on the interests of a similar user B. Furthermore, the embeddings can be learned automatically, without relying on hand-engineering of features.\n"
      ],
      "metadata": {
        "id": "mm6hf0Vjw9ha"
      }
    },
    {
      "cell_type": "code",
      "source": [
        "import pandas as pd\n",
        "import numpy as np\n",
        "from random import sample\n",
        "\n",
        "from surprise import Reader\n",
        "from surprise import SVD\n",
        "from surprise import Dataset"
      ],
      "metadata": {
        "id": "j6vek8tsw4W3"
      },
      "execution_count": null,
      "outputs": []
    },
    {
      "cell_type": "code",
      "source": [
        "# Load datasets\n",
        "movie_list_df = pd.read_csv(\"https://storage.googleapis.com/arize-assets/tutorials/fixture_data/movielist-dataset.csv\", sep='\\t')\n",
        "movie_ratings_df = pd.read_csv(\"https://storage.googleapis.com/arize-assets/tutorials/fixture_data/movielens-dataset.csv\", sep='\\t')\n",
        "movie_ratings_df.sample(10)"
      ],
      "metadata": {
        "id": "AwKofj3FxAkK",
        "colab": {
          "base_uri": "https://localhost:8080/",
          "height": 363
        },
        "outputId": "7554189a-1051-4480-9c34-116d2829048d"
      },
      "execution_count": null,
      "outputs": [
        {
          "output_type": "execute_result",
          "data": {
            "text/plain": [
              "        userId  movieId  rating                    movie_names  \\\n",
              "684524    4090     1957       4        Chariots of Fire (1981)   \n",
              "405981    2436     2463       4         Ruthless People (1986)   \n",
              "759471    4510     1086       3       Dial M for Murder (1954)   \n",
              "842869    5065      497       4  Much Ado About Nothing (1993)   \n",
              "170545    1086     2193       4                  Willow (1988)   \n",
              "835631    5023     3606       3             On the Town (1949)   \n",
              "951888    5749      149       4                 Amateur (1994)   \n",
              "349755    2054      761       2            Phantom, The (1996)   \n",
              "568794    3490      319       4           Shallow Grave (1994)   \n",
              "964221    5812     2916       4            Total Recall (1990)   \n",
              "\n",
              "                                  genres  release_year  \n",
              "684524                             Drama          1981  \n",
              "405981                            Comedy          1986  \n",
              "759471                  Mystery|Thriller          1954  \n",
              "842869                    Comedy|Romance          1993  \n",
              "170545          Action|Adventure|Fantasy          1988  \n",
              "835631                           Musical          1949  \n",
              "951888              Crime|Drama|Thriller          1994  \n",
              "349755                         Adventure          1996  \n",
              "568794                          Thriller          1994  \n",
              "964221  Action|Adventure|Sci-Fi|Thriller          1990  "
            ],
            "text/html": [
              "\n",
              "  <div id=\"df-7b977353-c51f-4022-bace-346355fab4f5\">\n",
              "    <div class=\"colab-df-container\">\n",
              "      <div>\n",
              "<style scoped>\n",
              "    .dataframe tbody tr th:only-of-type {\n",
              "        vertical-align: middle;\n",
              "    }\n",
              "\n",
              "    .dataframe tbody tr th {\n",
              "        vertical-align: top;\n",
              "    }\n",
              "\n",
              "    .dataframe thead th {\n",
              "        text-align: right;\n",
              "    }\n",
              "</style>\n",
              "<table border=\"1\" class=\"dataframe\">\n",
              "  <thead>\n",
              "    <tr style=\"text-align: right;\">\n",
              "      <th></th>\n",
              "      <th>userId</th>\n",
              "      <th>movieId</th>\n",
              "      <th>rating</th>\n",
              "      <th>movie_names</th>\n",
              "      <th>genres</th>\n",
              "      <th>release_year</th>\n",
              "    </tr>\n",
              "  </thead>\n",
              "  <tbody>\n",
              "    <tr>\n",
              "      <th>684524</th>\n",
              "      <td>4090</td>\n",
              "      <td>1957</td>\n",
              "      <td>4</td>\n",
              "      <td>Chariots of Fire (1981)</td>\n",
              "      <td>Drama</td>\n",
              "      <td>1981</td>\n",
              "    </tr>\n",
              "    <tr>\n",
              "      <th>405981</th>\n",
              "      <td>2436</td>\n",
              "      <td>2463</td>\n",
              "      <td>4</td>\n",
              "      <td>Ruthless People (1986)</td>\n",
              "      <td>Comedy</td>\n",
              "      <td>1986</td>\n",
              "    </tr>\n",
              "    <tr>\n",
              "      <th>759471</th>\n",
              "      <td>4510</td>\n",
              "      <td>1086</td>\n",
              "      <td>3</td>\n",
              "      <td>Dial M for Murder (1954)</td>\n",
              "      <td>Mystery|Thriller</td>\n",
              "      <td>1954</td>\n",
              "    </tr>\n",
              "    <tr>\n",
              "      <th>842869</th>\n",
              "      <td>5065</td>\n",
              "      <td>497</td>\n",
              "      <td>4</td>\n",
              "      <td>Much Ado About Nothing (1993)</td>\n",
              "      <td>Comedy|Romance</td>\n",
              "      <td>1993</td>\n",
              "    </tr>\n",
              "    <tr>\n",
              "      <th>170545</th>\n",
              "      <td>1086</td>\n",
              "      <td>2193</td>\n",
              "      <td>4</td>\n",
              "      <td>Willow (1988)</td>\n",
              "      <td>Action|Adventure|Fantasy</td>\n",
              "      <td>1988</td>\n",
              "    </tr>\n",
              "    <tr>\n",
              "      <th>835631</th>\n",
              "      <td>5023</td>\n",
              "      <td>3606</td>\n",
              "      <td>3</td>\n",
              "      <td>On the Town (1949)</td>\n",
              "      <td>Musical</td>\n",
              "      <td>1949</td>\n",
              "    </tr>\n",
              "    <tr>\n",
              "      <th>951888</th>\n",
              "      <td>5749</td>\n",
              "      <td>149</td>\n",
              "      <td>4</td>\n",
              "      <td>Amateur (1994)</td>\n",
              "      <td>Crime|Drama|Thriller</td>\n",
              "      <td>1994</td>\n",
              "    </tr>\n",
              "    <tr>\n",
              "      <th>349755</th>\n",
              "      <td>2054</td>\n",
              "      <td>761</td>\n",
              "      <td>2</td>\n",
              "      <td>Phantom, The (1996)</td>\n",
              "      <td>Adventure</td>\n",
              "      <td>1996</td>\n",
              "    </tr>\n",
              "    <tr>\n",
              "      <th>568794</th>\n",
              "      <td>3490</td>\n",
              "      <td>319</td>\n",
              "      <td>4</td>\n",
              "      <td>Shallow Grave (1994)</td>\n",
              "      <td>Thriller</td>\n",
              "      <td>1994</td>\n",
              "    </tr>\n",
              "    <tr>\n",
              "      <th>964221</th>\n",
              "      <td>5812</td>\n",
              "      <td>2916</td>\n",
              "      <td>4</td>\n",
              "      <td>Total Recall (1990)</td>\n",
              "      <td>Action|Adventure|Sci-Fi|Thriller</td>\n",
              "      <td>1990</td>\n",
              "    </tr>\n",
              "  </tbody>\n",
              "</table>\n",
              "</div>\n",
              "      <button class=\"colab-df-convert\" onclick=\"convertToInteractive('df-7b977353-c51f-4022-bace-346355fab4f5')\"\n",
              "              title=\"Convert this dataframe to an interactive table.\"\n",
              "              style=\"display:none;\">\n",
              "        \n",
              "  <svg xmlns=\"http://www.w3.org/2000/svg\" height=\"24px\"viewBox=\"0 0 24 24\"\n",
              "       width=\"24px\">\n",
              "    <path d=\"M0 0h24v24H0V0z\" fill=\"none\"/>\n",
              "    <path d=\"M18.56 5.44l.94 2.06.94-2.06 2.06-.94-2.06-.94-.94-2.06-.94 2.06-2.06.94zm-11 1L8.5 8.5l.94-2.06 2.06-.94-2.06-.94L8.5 2.5l-.94 2.06-2.06.94zm10 10l.94 2.06.94-2.06 2.06-.94-2.06-.94-.94-2.06-.94 2.06-2.06.94z\"/><path d=\"M17.41 7.96l-1.37-1.37c-.4-.4-.92-.59-1.43-.59-.52 0-1.04.2-1.43.59L10.3 9.45l-7.72 7.72c-.78.78-.78 2.05 0 2.83L4 21.41c.39.39.9.59 1.41.59.51 0 1.02-.2 1.41-.59l7.78-7.78 2.81-2.81c.8-.78.8-2.07 0-2.86zM5.41 20L4 18.59l7.72-7.72 1.47 1.35L5.41 20z\"/>\n",
              "  </svg>\n",
              "      </button>\n",
              "      \n",
              "  <style>\n",
              "    .colab-df-container {\n",
              "      display:flex;\n",
              "      flex-wrap:wrap;\n",
              "      gap: 12px;\n",
              "    }\n",
              "\n",
              "    .colab-df-convert {\n",
              "      background-color: #E8F0FE;\n",
              "      border: none;\n",
              "      border-radius: 50%;\n",
              "      cursor: pointer;\n",
              "      display: none;\n",
              "      fill: #1967D2;\n",
              "      height: 32px;\n",
              "      padding: 0 0 0 0;\n",
              "      width: 32px;\n",
              "    }\n",
              "\n",
              "    .colab-df-convert:hover {\n",
              "      background-color: #E2EBFA;\n",
              "      box-shadow: 0px 1px 2px rgba(60, 64, 67, 0.3), 0px 1px 3px 1px rgba(60, 64, 67, 0.15);\n",
              "      fill: #174EA6;\n",
              "    }\n",
              "\n",
              "    [theme=dark] .colab-df-convert {\n",
              "      background-color: #3B4455;\n",
              "      fill: #D2E3FC;\n",
              "    }\n",
              "\n",
              "    [theme=dark] .colab-df-convert:hover {\n",
              "      background-color: #434B5C;\n",
              "      box-shadow: 0px 1px 3px 1px rgba(0, 0, 0, 0.15);\n",
              "      filter: drop-shadow(0px 1px 2px rgba(0, 0, 0, 0.3));\n",
              "      fill: #FFFFFF;\n",
              "    }\n",
              "  </style>\n",
              "\n",
              "      <script>\n",
              "        const buttonEl =\n",
              "          document.querySelector('#df-7b977353-c51f-4022-bace-346355fab4f5 button.colab-df-convert');\n",
              "        buttonEl.style.display =\n",
              "          google.colab.kernel.accessAllowed ? 'block' : 'none';\n",
              "\n",
              "        async function convertToInteractive(key) {\n",
              "          const element = document.querySelector('#df-7b977353-c51f-4022-bace-346355fab4f5');\n",
              "          const dataTable =\n",
              "            await google.colab.kernel.invokeFunction('convertToInteractive',\n",
              "                                                     [key], {});\n",
              "          if (!dataTable) return;\n",
              "\n",
              "          const docLinkHtml = 'Like what you see? Visit the ' +\n",
              "            '<a target=\"_blank\" href=https://colab.research.google.com/notebooks/data_table.ipynb>data table notebook</a>'\n",
              "            + ' to learn more about interactive tables.';\n",
              "          element.innerHTML = '';\n",
              "          dataTable['output_type'] = 'display_data';\n",
              "          await google.colab.output.renderOutput(dataTable, element);\n",
              "          const docLink = document.createElement('div');\n",
              "          docLink.innerHTML = docLinkHtml;\n",
              "          element.appendChild(docLink);\n",
              "        }\n",
              "      </script>\n",
              "    </div>\n",
              "  </div>\n",
              "  "
            ]
          },
          "metadata": {},
          "execution_count": 59
        }
      ]
    },
    {
      "cell_type": "code",
      "source": [
        "# A reader is still needed but only the rating_scale param is required.\n",
        "reader = Reader(rating_scale=(1, 5))\n",
        "\n",
        "# The columns must correspond to user id, item id and ratings (in that order).\n",
        "dataset = Dataset.load_from_df(movie_ratings_df[['userId', 'movieId', 'rating']], reader)"
      ],
      "metadata": {
        "id": "sa1Iuc-FxERM"
      },
      "execution_count": null,
      "outputs": []
    },
    {
      "cell_type": "code",
      "source": [
        "# Singular Value Decomposition (SVD)\n",
        "svd = SVD(n_factors=50)\n",
        "\n",
        "trainingSet = dataset.build_full_trainset()\n",
        "svd.fit(trainingSet)"
      ],
      "metadata": {
        "id": "RR-GAW1ExH7C",
        "colab": {
          "base_uri": "https://localhost:8080/"
        },
        "outputId": "138f6b82-8a01-496d-dfa8-190b1282a7ac"
      },
      "execution_count": null,
      "outputs": [
        {
          "output_type": "execute_result",
          "data": {
            "text/plain": [
              "<surprise.prediction_algorithms.matrix_factorization.SVD at 0x7f5cb65e3d50>"
            ]
          },
          "metadata": {},
          "execution_count": 61
        }
      ]
    },
    {
      "cell_type": "code",
      "source": [
        "# Create mapping that will be useful later\n",
        "movie_mapping = dict()\n",
        "\n",
        "for movieId, movie_names in zip(movie_ratings_df['movieId'], movie_ratings_df['movie_names']):\n",
        "    movie_mapping[movieId] = movie_names"
      ],
      "metadata": {
        "id": "OPZ8s07cxJ7q"
      },
      "execution_count": null,
      "outputs": []
    },
    {
      "cell_type": "code",
      "source": [
        "# Define some useful functions\n",
        "def build_anti_testset(user_id):\n",
        "    fill = trainingSet.global_mean\n",
        "    anti_test_set = list()\n",
        "    u = trainingSet.to_inner_uid(user_id)\n",
        "\n",
        "    user_items = set([item_inner_id for (item_inner_id, rating) in trainingSet.ur[u]])\n",
        "    anti_test_set += [(trainingSet.to_raw_uid(u), trainingSet.to_raw_iid(i), fill) for\n",
        "                            i in trainingSet.all_items() if i not in user_items]\n",
        "    return anti_test_set\n",
        "\n",
        "\n",
        "\n",
        "def rec_top_n_movies(user_id, num_recommendations=10, latest=False):\n",
        "\n",
        "    recommendation = list()\n",
        "    testSet = build_anti_testset(user_id)\n",
        "    predict = svd.test(testSet)\n",
        "\n",
        "    for userID, movieID, actualRating, estimatedRating, _ in predict:\n",
        "        intMovieID = int(movieID)\n",
        "        recommendation.append((intMovieID, estimatedRating))\n",
        "\n",
        "    recommendation.sort(key=lambda x: x[1], reverse=True)\n",
        "\n",
        "    movie_names = []\n",
        "    movie_ratings = []\n",
        "\n",
        "    for name, ratings in recommendation[:20]:\n",
        "        movie_names.append(movie_mapping[name])\n",
        "        movie_ratings.append(ratings)\n",
        "\n",
        "    movie_dataframe =  pd.DataFrame({'movie_names': movie_names,\n",
        "                                     'rating': movie_ratings}).merge(movie_list_df[['movie_names', 'release_year']],\n",
        "                                            on='movie_names', how='left')\n",
        "\n",
        "    if latest == True:\n",
        "        return movie_dataframe.sort_values('release_year', ascending=False)[['movie_names', 'rating']].head(num_recommendations)\n",
        "\n",
        "    else:\n",
        "        return movie_dataframe.drop('release_year', axis=1).head(num_recommendations)"
      ],
      "metadata": {
        "id": "sDYTWAiwxMOK"
      },
      "execution_count": null,
      "outputs": []
    },
    {
      "cell_type": "code",
      "source": [
        "# Recommend top 10 latest movies for a user example based on collaborative filtering\n",
        "user_id = 2341\n",
        "\n",
        "recommendations= rec_top_n_movies(user_id=user_id, num_recommendations=10, latest=True)\n",
        "print(\"Top Movies for User: {}\".format(user_id))\n",
        "print(recommendations)"
      ],
      "metadata": {
        "id": "DDD_Y9ndxPpQ",
        "colab": {
          "base_uri": "https://localhost:8080/"
        },
        "outputId": "99b9fd71-7812-4b81-da79-6bc3e1608b78"
      },
      "execution_count": null,
      "outputs": [
        {
          "output_type": "stream",
          "name": "stdout",
          "text": [
            "Top Movies for User: 2341\n",
            "                                  movie_names    rating\n",
            "13                           Gladiator (2000)  4.097442\n",
            "9                          Matrix, The (1999)  4.142182\n",
            "14                          Braveheart (1995)  4.096634\n",
            "2            Shawshank Redemption, The (1994)  4.306787\n",
            "7                        Fugitive, The (1993)  4.170188\n",
            "16                    Schindler's List (1993)  4.085686\n",
            "4           Terminator 2: Judgment Day (1991)  4.238146\n",
            "19           Hunt for Red October, The (1990)  4.053246\n",
            "15  Indiana Jones and the Last Crusade (1989)  4.085819\n",
            "5                             Die Hard (1988)  4.237933\n"
          ]
        }
      ]
    },
    {
      "cell_type": "code",
      "source": [
        "# send a free movie coupon code to a subset of users in customer base with their top-rated latest movie\n",
        "coupon_list = []\n",
        "\n",
        "# get list of distinct users and choose sample size\n",
        "sample_size = 1000\n",
        "allUsers = list(movie_ratings_df['userId'].unique())\n",
        "luckyUsers = sample(allUsers, sample_size)\n",
        "\n",
        "for i in luckyUsers:\n",
        "    recommendations= rec_top_n_movies(user_id=i, num_recommendations=1, latest=True)\n",
        "    luckyUser = {'userId': str(i), 'movie_names': recommendations[\"movie_names\"].values[0], 'rating': recommendations[\"rating\"].values[0]}\n",
        "    coupon_list.append(luckyUser)\n",
        "\n",
        "coupon_df = pd.DataFrame.from_records(coupon_list)\n",
        "print(coupon_df.head(100))"
      ],
      "metadata": {
        "id": "gyixp0WGxRmZ",
        "colab": {
          "base_uri": "https://localhost:8080/"
        },
        "outputId": "5ca92619-104a-4205-9de7-094845fac91a"
      },
      "execution_count": null,
      "outputs": [
        {
          "output_type": "stream",
          "name": "stdout",
          "text": [
            "   userId              movie_names    rating\n",
            "0    4289  Sixth Sense, The (1999)  4.989783\n",
            "1    4308       Matrix, The (1999)  4.132553\n",
            "2     718            Tarzan (1999)  4.510834\n",
            "3    5184   Iron Giant, The (1999)  5.000000\n",
            "4    3882        Roger & Me (1989)  4.744297\n",
            "..    ...                      ...       ...\n",
            "95   5876   Green Mile, The (1999)  4.324783\n",
            "96   4888     High Fidelity (2000)  4.899386\n",
            "97   5733             42 Up (1998)  5.000000\n",
            "98   5854         Gladiator (2000)  4.586431\n",
            "99   3629       Matrix, The (1999)  4.636219\n",
            "\n",
            "[100 rows x 3 columns]\n"
          ]
        }
      ]
    },
    {
      "cell_type": "code",
      "source": [
        "!pip install -q arize\n",
        "from arize.pandas.logger import Client, Schema\n",
        "from arize.utils.types import ModelTypes, Environments\n",
        "\n",
        "SPACE_KEY = \"SPACE_KEY\"\n",
        "API_KEY = \"API_KEY\"\n",
        "\n",
        "arize_client = Client(space_key=SPACE_KEY, api_key=API_KEY)\n",
        "\n",
        "model_id = \"collaborative_filtering_movie_example\"\n",
        "model_version = \"1.0\"\n",
        "model_type = ModelTypes.NUMERIC\n",
        "\n",
        "if SPACE_KEY == \"SPACE_KEY\" or API_KEY == \"API_KEY\":\n",
        "    raise ValueError(\"❌ NEED TO CHANGE SPACE AND/OR API_KEY\")\n",
        "else:\n",
        "    print(\"Step 2 ✅: Import and Setup Arize Client Done! Now we can start using Arize!\")"
      ],
      "metadata": {
        "id": "xvgSuQuixUSB",
        "colab": {
          "base_uri": "https://localhost:8080/"
        },
        "outputId": "2450a256-ea3c-4e10-a32c-cf3c44faedbc"
      },
      "execution_count": null,
      "outputs": [
        {
          "output_type": "stream",
          "name": "stdout",
          "text": [
            "Step 2 ✅: Import and Setup Arize Client Done! Now we can start using Arize!\n"
          ]
        }
      ]
    },
    {
      "cell_type": "code",
      "source": [
        "import uuid\n",
        "from datetime import datetime, timedelta\n",
        "\n",
        "# Prediction ID is required for all datasets\n",
        "def generate_prediction_ids(X):\n",
        "    return pd.Series((str(uuid.uuid4()) for _ in range(len(X))), index=X.index)\n",
        "\n",
        "\n",
        "# OPTIONAL: We can directly specify when inferences were made\n",
        "def simulate_production_timestamps(X, days=30):\n",
        "    t = datetime.now()\n",
        "    current_ts, earlier_ts = t.timestamp(), (t - timedelta(days=days)).timestamp()\n",
        "    return pd.Series(np.linspace(earlier_ts, current_ts, num=len(X)), index=X.index)\n",
        "\n",
        "# OPTIONAL: We can directly specify when inferences were made\n",
        "def simulate_production_timestamps(X, days=30):\n",
        "    t = datetime.now()\n",
        "    current_ts, earlier_ts = t.timestamp(), (t - timedelta(days=days)).timestamp()\n",
        "    return pd.Series(np.linspace(earlier_ts, current_ts, num=len(X)), index=X.index)"
      ],
      "metadata": {
        "id": "qKn8vCATxWmN"
      },
      "execution_count": null,
      "outputs": []
    },
    {
      "cell_type": "code",
      "source": [
        "# let's simulate some labeled data and assume all of the free coupons were used and users rated the movie they watched\n",
        "def bound(value):\n",
        "    return max(1, min(5, value))\n",
        "\n",
        "actuals = []\n",
        "\n",
        "for index, row in coupon_df.iterrows():\n",
        "    rating = row['rating']\n",
        "    s = np.random.normal(0, 1)\n",
        "    actual_rating = bound(round(rating + s))\n",
        "    actuals.append(actual_rating)\n",
        "\n",
        "actuals = pd.Series(actuals)"
      ],
      "metadata": {
        "id": "eWxFu0_AxZdy"
      },
      "execution_count": null,
      "outputs": []
    },
    {
      "cell_type": "code",
      "source": [
        "# Assemble data for logging\n",
        "production_dataset = coupon_df.join(\n",
        "    pd.DataFrame(\n",
        "        {\n",
        "            \"prediction_id\": generate_prediction_ids(coupon_df['userId']),\n",
        "            \"prediction_ts\": simulate_production_timestamps(coupon_df['userId']),\n",
        "            \"actual_rating\": actuals\n",
        "        }\n",
        "    )\n",
        ")\n",
        "print(production_dataset.head(100))"
      ],
      "metadata": {
        "id": "aEj1Y7fJxbJV",
        "colab": {
          "base_uri": "https://localhost:8080/"
        },
        "outputId": "f499bbff-ad2a-47d4-cae4-92f46220b35b"
      },
      "execution_count": null,
      "outputs": [
        {
          "output_type": "stream",
          "name": "stdout",
          "text": [
            "   userId              movie_names    rating  \\\n",
            "0    4289  Sixth Sense, The (1999)  4.989783   \n",
            "1    4308       Matrix, The (1999)  4.132553   \n",
            "2     718            Tarzan (1999)  4.510834   \n",
            "3    5184   Iron Giant, The (1999)  5.000000   \n",
            "4    3882        Roger & Me (1989)  4.744297   \n",
            "..    ...                      ...       ...   \n",
            "95   5876   Green Mile, The (1999)  4.324783   \n",
            "96   4888     High Fidelity (2000)  4.899386   \n",
            "97   5733             42 Up (1998)  5.000000   \n",
            "98   5854         Gladiator (2000)  4.586431   \n",
            "99   3629       Matrix, The (1999)  4.636219   \n",
            "\n",
            "                           prediction_id  prediction_ts  actual_rating  \n",
            "0   8c704db6-b4ec-4b11-8d23-ae018e9188f2   1.653711e+09              5  \n",
            "1   c4cf7cf5-78e3-4875-bd34-63da992b1ecd   1.653713e+09              4  \n",
            "2   42ad585e-f86d-4cd5-b892-9668bd1199eb   1.653716e+09              3  \n",
            "3   6e40cbc3-402f-4048-93bc-5b332c82c172   1.653719e+09              4  \n",
            "4   6b970b43-fd53-4ad7-9f32-c3d59ae3bb71   1.653721e+09              4  \n",
            "..                                   ...            ...            ...  \n",
            "95  1af34d63-6505-412f-b418-72027acbf60d   1.653957e+09              4  \n",
            "96  f5505dd2-2375-4cfd-b8ba-8349940c7fce   1.653960e+09              4  \n",
            "97  f95d006c-8a0f-484c-86e0-8d5b2cebed53   1.653962e+09              4  \n",
            "98  cbfaa057-6363-4f0b-b2f3-212c303a7c93   1.653965e+09              4  \n",
            "99  2369fd59-8b3a-4f4a-97d2-65fd16568c29   1.653968e+09              5  \n",
            "\n",
            "[100 rows x 6 columns]\n"
          ]
        }
      ]
    },
    {
      "cell_type": "code",
      "source": [
        "# log production data Arize\n",
        "production_schema = Schema(\n",
        "    prediction_id_column_name=\"prediction_id\",  # REQUIRED\n",
        "    timestamp_column_name=\"prediction_ts\",\n",
        "    prediction_score_column_name=\"rating\",\n",
        "    prediction_label_column_name=\"rating\",\n",
        "    actual_score_column_name=\"actual_rating\",\n",
        "    actual_label_column_name= \"actual_rating\",\n",
        "    feature_column_names=[\"userId\", \"movie_names\"],\n",
        ")\n",
        "\n",
        "\n",
        "\n",
        "# arize_client.log returns a Response object from Python's requests module\n",
        "response = arize_client.log(\n",
        "    dataframe=production_dataset,\n",
        "    schema=production_schema,\n",
        "    model_id=model_id,\n",
        "    model_version=model_version,\n",
        "    model_type=model_type,\n",
        "    environment=Environments.PRODUCTION,\n",
        ")\n",
        "\n",
        "# If successful, the server will return a status_code of 200\n",
        "if response.status_code != 200:\n",
        "    print(\n",
        "        f\"❌ logging failed with response code {response.status_code}, {response.text}\"\n",
        "    )\n",
        "else:\n",
        "    print(\n",
        "        f\"Step 3 ✅: You have successfully logged {len(production_dataset)} data points to Arize!\"\n",
        "    )"
      ],
      "metadata": {
        "id": "ZHKfCEmaxfGv",
        "colab": {
          "base_uri": "https://localhost:8080/"
        },
        "outputId": "4c3603f5-b21a-4649-e40e-141f669a96fd"
      },
      "execution_count": null,
      "outputs": [
        {
          "output_type": "stream",
          "name": "stdout",
          "text": [
            "Success! Check out your data at https://app.arize.com/organizations/QWNjb3VudE9yZ2FuaXphdGlvbjoxNTY=/spaces/U3BhY2U6MTU2/models/modelName/collaborative_filtering_movie_example?selectedTab=dataIngestion\n",
            "Step 3 ✅: You have successfully logged 1000 data points to Arize!\n"
          ]
        }
      ]
    },
    {
      "cell_type": "code",
      "source": [
        ""
      ],
      "metadata": {
        "id": "GrK0OH2qVkPY"
      },
      "execution_count": null,
      "outputs": []
    }
  ]
}