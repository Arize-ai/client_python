{
  "nbformat": 4,
  "nbformat_minor": 0,
  "metadata": {
    "colab": {
      "name": "Arize_Tutorial_PySpark_V1.ipynb",
      "provenance": [],
      "collapsed_sections": []
    },
    "kernelspec": {
      "name": "python3",
      "display_name": "Python 3"
    },
    "language_info": {
      "name": "python"
    }
  },
  "cells": [
    {
      "cell_type": "markdown",
      "metadata": {
        "id": "yQj9YRzkS9St"
      },
      "source": [
        "# Tutorial: Sending PySpark DataFrame to Arize\n",
        "\n",
        "In the current version of Arize Python SDK, only Pandas DataFrames are supported. To log Spark DataFrames, which have `rdds` as their underlying structure, we will use `mapPartitions` to log them to arize.\n",
        "\n",
        "Install Dependencies in Colab"
      ]
    },
    {
      "cell_type": "code",
      "metadata": {
        "colab": {
          "base_uri": "https://localhost:8080/"
        },
        "id": "QGfDxZNUW_Fe",
        "outputId": "f791ba75-91be-42ad-bee0-7d92708cdfb3"
      },
      "source": [
        "!pip install pyspark\n",
        "!pip install arize"
      ],
      "execution_count": null,
      "outputs": [
        {
          "output_type": "stream",
          "text": [
            "Requirement already satisfied: pyspark in /usr/local/lib/python3.7/dist-packages (3.1.2)\n",
            "Requirement already satisfied: py4j==0.10.9 in /usr/local/lib/python3.7/dist-packages (from pyspark) (0.10.9)\n",
            "Requirement already satisfied: arize in /usr/local/lib/python3.7/dist-packages (2.1.11)\n",
            "Requirement already satisfied: pandas<2,>=0.25.3 in /usr/local/lib/python3.7/dist-packages (from arize) (1.1.5)\n",
            "Requirement already satisfied: googleapis-common-protos==1.51.0 in /usr/local/lib/python3.7/dist-packages (from arize) (1.51.0)\n",
            "Requirement already satisfied: pytest==6.2.2 in /usr/local/lib/python3.7/dist-packages (from arize) (6.2.2)\n",
            "Requirement already satisfied: protobuf==3.12.0 in /usr/local/lib/python3.7/dist-packages (from arize) (3.12.0)\n",
            "Requirement already satisfied: requests-futures==1.0.0 in /usr/local/lib/python3.7/dist-packages (from arize) (1.0.0)\n",
            "Requirement already satisfied: six>=1.9 in /usr/local/lib/python3.7/dist-packages (from protobuf==3.12.0->arize) (1.15.0)\n",
            "Requirement already satisfied: setuptools in /usr/local/lib/python3.7/dist-packages (from protobuf==3.12.0->arize) (57.2.0)\n",
            "Requirement already satisfied: pluggy<1.0.0a1,>=0.12 in /usr/local/lib/python3.7/dist-packages (from pytest==6.2.2->arize) (0.13.1)\n",
            "Requirement already satisfied: iniconfig in /usr/local/lib/python3.7/dist-packages (from pytest==6.2.2->arize) (1.1.1)\n",
            "Requirement already satisfied: importlib-metadata>=0.12 in /usr/local/lib/python3.7/dist-packages (from pytest==6.2.2->arize) (4.6.1)\n",
            "Requirement already satisfied: attrs>=19.2.0 in /usr/local/lib/python3.7/dist-packages (from pytest==6.2.2->arize) (21.2.0)\n",
            "Requirement already satisfied: toml in /usr/local/lib/python3.7/dist-packages (from pytest==6.2.2->arize) (0.10.2)\n",
            "Requirement already satisfied: packaging in /usr/local/lib/python3.7/dist-packages (from pytest==6.2.2->arize) (21.0)\n",
            "Requirement already satisfied: py>=1.8.2 in /usr/local/lib/python3.7/dist-packages (from pytest==6.2.2->arize) (1.10.0)\n",
            "Requirement already satisfied: requests>=1.2.0 in /usr/local/lib/python3.7/dist-packages (from requests-futures==1.0.0->arize) (2.23.0)\n",
            "Requirement already satisfied: typing-extensions>=3.6.4 in /usr/local/lib/python3.7/dist-packages (from importlib-metadata>=0.12->pytest==6.2.2->arize) (3.7.4.3)\n",
            "Requirement already satisfied: zipp>=0.5 in /usr/local/lib/python3.7/dist-packages (from importlib-metadata>=0.12->pytest==6.2.2->arize) (3.5.0)\n",
            "Requirement already satisfied: numpy>=1.15.4 in /usr/local/lib/python3.7/dist-packages (from pandas<2,>=0.25.3->arize) (1.19.5)\n",
            "Requirement already satisfied: pytz>=2017.2 in /usr/local/lib/python3.7/dist-packages (from pandas<2,>=0.25.3->arize) (2018.9)\n",
            "Requirement already satisfied: python-dateutil>=2.7.3 in /usr/local/lib/python3.7/dist-packages (from pandas<2,>=0.25.3->arize) (2.8.1)\n",
            "Requirement already satisfied: chardet<4,>=3.0.2 in /usr/local/lib/python3.7/dist-packages (from requests>=1.2.0->requests-futures==1.0.0->arize) (3.0.4)\n",
            "Requirement already satisfied: urllib3!=1.25.0,!=1.25.1,<1.26,>=1.21.1 in /usr/local/lib/python3.7/dist-packages (from requests>=1.2.0->requests-futures==1.0.0->arize) (1.24.3)\n",
            "Requirement already satisfied: idna<3,>=2.5 in /usr/local/lib/python3.7/dist-packages (from requests>=1.2.0->requests-futures==1.0.0->arize) (2.10)\n",
            "Requirement already satisfied: certifi>=2017.4.17 in /usr/local/lib/python3.7/dist-packages (from requests>=1.2.0->requests-futures==1.0.0->arize) (2021.5.30)\n",
            "Requirement already satisfied: pyparsing>=2.0.2 in /usr/local/lib/python3.7/dist-packages (from packaging->pytest==6.2.2->arize) (2.4.7)\n"
          ],
          "name": "stdout"
        }
      ]
    },
    {
      "cell_type": "markdown",
      "metadata": {
        "id": "ldVoUMYSVKbF"
      },
      "source": [
        "# Parallelizing PySpark DataFrame\n",
        "We first create a dummy PySpark DataFrame to send.\n"
      ]
    },
    {
      "cell_type": "code",
      "metadata": {
        "colab": {
          "base_uri": "https://localhost:8080/",
          "height": 681
        },
        "id": "wYYYHJYhj9BP",
        "outputId": "a3db7971-96a0-4d14-8c26-9b56e161124c"
      },
      "source": [
        "import pyspark\n",
        "from pyspark.sql import Row, SparkSession\n",
        "import pandas as pd\n",
        "\n",
        "spark = SparkSession.builder.getOrCreate()\n",
        "\n",
        "# Read some dummy data for logging to Arize later\n",
        "data = pd.read_csv('https://storage.googleapis.com/arize-assets/fixtures/compare-model-a.csv')\n",
        "df_pandas = data[['loan_amount', 'interest_rate', 'grade']]\n",
        "df_pandas['prediction_labels'] = data['prediction']\n",
        "\n",
        "df_pandas = pd.concat([df_pandas] * 5)\n",
        "\n",
        "print(\"This is a pandas DataFrame:\")\n",
        "display(df_pandas)\n",
        "\n",
        "# Create PySpark dataframe unparallelized\n",
        "df_spark = spark.createDataFrame(df_pandas)\n",
        "\n",
        "print(\"\\nThis is the corresponding spark DataFrame\")\n",
        "df_spark.printSchema()"
      ],
      "execution_count": null,
      "outputs": [
        {
          "output_type": "stream",
          "text": [
            "This is a pandas DataFrame:\n"
          ],
          "name": "stdout"
        },
        {
          "output_type": "stream",
          "text": [
            "/usr/local/lib/python3.7/dist-packages/ipykernel_launcher.py:10: SettingWithCopyWarning: \n",
            "A value is trying to be set on a copy of a slice from a DataFrame.\n",
            "Try using .loc[row_indexer,col_indexer] = value instead\n",
            "\n",
            "See the caveats in the documentation: https://pandas.pydata.org/pandas-docs/stable/user_guide/indexing.html#returning-a-view-versus-a-copy\n",
            "  # Remove the CWD from sys.path while we load stuff.\n"
          ],
          "name": "stderr"
        },
        {
          "output_type": "display_data",
          "data": {
            "text/html": [
              "<div>\n",
              "<style scoped>\n",
              "    .dataframe tbody tr th:only-of-type {\n",
              "        vertical-align: middle;\n",
              "    }\n",
              "\n",
              "    .dataframe tbody tr th {\n",
              "        vertical-align: top;\n",
              "    }\n",
              "\n",
              "    .dataframe thead th {\n",
              "        text-align: right;\n",
              "    }\n",
              "</style>\n",
              "<table border=\"1\" class=\"dataframe\">\n",
              "  <thead>\n",
              "    <tr style=\"text-align: right;\">\n",
              "      <th></th>\n",
              "      <th>loan_amount</th>\n",
              "      <th>interest_rate</th>\n",
              "      <th>grade</th>\n",
              "      <th>prediction_labels</th>\n",
              "    </tr>\n",
              "  </thead>\n",
              "  <tbody>\n",
              "    <tr>\n",
              "      <th>0</th>\n",
              "      <td>10000.0</td>\n",
              "      <td>10.99</td>\n",
              "      <td>B</td>\n",
              "      <td>fraud</td>\n",
              "    </tr>\n",
              "    <tr>\n",
              "      <th>1</th>\n",
              "      <td>8200.0</td>\n",
              "      <td>15.61</td>\n",
              "      <td>D</td>\n",
              "      <td>not_fraud</td>\n",
              "    </tr>\n",
              "    <tr>\n",
              "      <th>2</th>\n",
              "      <td>14000.0</td>\n",
              "      <td>9.17</td>\n",
              "      <td>B</td>\n",
              "      <td>fraud</td>\n",
              "    </tr>\n",
              "    <tr>\n",
              "      <th>3</th>\n",
              "      <td>5400.0</td>\n",
              "      <td>24.50</td>\n",
              "      <td>F</td>\n",
              "      <td>fraud</td>\n",
              "    </tr>\n",
              "    <tr>\n",
              "      <th>4</th>\n",
              "      <td>1500.0</td>\n",
              "      <td>13.18</td>\n",
              "      <td>C</td>\n",
              "      <td>fraud</td>\n",
              "    </tr>\n",
              "    <tr>\n",
              "      <th>...</th>\n",
              "      <td>...</td>\n",
              "      <td>...</td>\n",
              "      <td>...</td>\n",
              "      <td>...</td>\n",
              "    </tr>\n",
              "    <tr>\n",
              "      <th>1131</th>\n",
              "      <td>25475.0</td>\n",
              "      <td>12.99</td>\n",
              "      <td>C</td>\n",
              "      <td>not_fraud</td>\n",
              "    </tr>\n",
              "    <tr>\n",
              "      <th>1132</th>\n",
              "      <td>5200.0</td>\n",
              "      <td>7.90</td>\n",
              "      <td>A</td>\n",
              "      <td>not_fraud</td>\n",
              "    </tr>\n",
              "    <tr>\n",
              "      <th>1133</th>\n",
              "      <td>18000.0</td>\n",
              "      <td>7.90</td>\n",
              "      <td>A</td>\n",
              "      <td>fraud</td>\n",
              "    </tr>\n",
              "    <tr>\n",
              "      <th>1134</th>\n",
              "      <td>28000.0</td>\n",
              "      <td>16.99</td>\n",
              "      <td>D</td>\n",
              "      <td>fraud</td>\n",
              "    </tr>\n",
              "    <tr>\n",
              "      <th>1135</th>\n",
              "      <td>6450.0</td>\n",
              "      <td>21.99</td>\n",
              "      <td>F</td>\n",
              "      <td>fraud</td>\n",
              "    </tr>\n",
              "  </tbody>\n",
              "</table>\n",
              "<p>5680 rows × 4 columns</p>\n",
              "</div>"
            ],
            "text/plain": [
              "      loan_amount  interest_rate grade prediction_labels\n",
              "0         10000.0          10.99     B             fraud\n",
              "1          8200.0          15.61     D         not_fraud\n",
              "2         14000.0           9.17     B             fraud\n",
              "3          5400.0          24.50     F             fraud\n",
              "4          1500.0          13.18     C             fraud\n",
              "...           ...            ...   ...               ...\n",
              "1131      25475.0          12.99     C         not_fraud\n",
              "1132       5200.0           7.90     A         not_fraud\n",
              "1133      18000.0           7.90     A             fraud\n",
              "1134      28000.0          16.99     D             fraud\n",
              "1135       6450.0          21.99     F             fraud\n",
              "\n",
              "[5680 rows x 4 columns]"
            ]
          },
          "metadata": {
            "tags": []
          }
        },
        {
          "output_type": "stream",
          "text": [
            "\n",
            "This is the corresponding spark DataFrame\n",
            "root\n",
            " |-- loan_amount: double (nullable = true)\n",
            " |-- interest_rate: double (nullable = true)\n",
            " |-- grade: string (nullable = true)\n",
            " |-- prediction_labels: string (nullable = true)\n",
            "\n"
          ],
          "name": "stdout"
        }
      ]
    },
    {
      "cell_type": "markdown",
      "metadata": {
        "id": "X7vQo-N3cggh"
      },
      "source": [
        "# Using `mapPartitions` to log each partition to Arize\n",
        "`map_func` will be applied to each partition on of spark_df, allowing local copies of `pd.DataFrame` to be made and logged to Arize.\n",
        "\n",
        "`success` will be returned if all entries in a particular partition has been logged properly. Otherwise, it will return the error code and error message for that partition instead.\n",
        "\n",
        "`map_send_arize` should send `spark_df` to Arize with at least one of: `shap, prediction_labels, actual_labels`\n",
        "\n",
        "## How To Log to Arize:\n",
        "`your_spark_df.rdd.mapPartitions(map_func).collect()`\n",
        "\n",
        "You will also need to update the `API_KEY` and `ORGANIZATION_KEY`\n",
        "### Setting up Arize Client:\n",
        "First, copy the Arize `API_KEY` and `ORG_KEY` from your admin page linked below!\n",
        "\n",
        "\n",
        "[![Button_Open.png](https://storage.googleapis.com/arize-assets/fixtures/Button_Open.png)](https://app.arize.com/admin)"
      ]
    },
    {
      "cell_type": "code",
      "metadata": {
        "id": "fA9UAhVkAhO0"
      },
      "source": [
        "import itertools\n",
        "from arize.api import Client\n",
        "from arize.types import ModelTypes\n",
        "import concurrent.futures as cf\n",
        "import uuid\n",
        "\n",
        "def map_send_arize(\n",
        "    pyspark_df_partition: itertools.chain\n",
        "):  \n",
        "    \"\"\"\n",
        "    Mapping function to be used to log to Arize\n",
        "    \"\"\"\n",
        "    # Step 1: iterating through each Row to create pd.DataFrame\n",
        "    pandas_df = None\n",
        "    for row in pyspark_df_partition:\n",
        "        row_dict = row.asDict()\n",
        "        if pandas_df is None:\n",
        "            pandas_df = pd.DataFrame(columns=row_dict.keys())\n",
        "        pandas_df.loc[len(pandas_df)] = row_dict\n",
        "\n",
        "    # Step 2: We keep prediction labels and features in the same PySpark DataFrame\n",
        "    features = pandas_df.drop(columns=['prediction_labels'])\n",
        "    prediction_labels = pandas_df['prediction_labels']\n",
        "\n",
        "    # Step 3: Log to arize\n",
        "    ORGANIZATION_KEY = 'ORGANIZATION_KEY'\n",
        "    API_KEY = 'API_KEY'\n",
        "    arize = Client(organization_key=ORGANIZATION_KEY, api_key=API_KEY)\n",
        "    \n",
        "    responses = arize.bulk_log(\n",
        "        model_id='model-test-id-1',\n",
        "        model_version='1.0',\n",
        "        prediction_ids=pd.Series([str(uuid.uuid4()) for _ in range(len(pandas_df))]),\n",
        "        # features and prediction passed in here\n",
        "        features=features,\n",
        "        prediction_labels=prediction_labels\n",
        "    )\n",
        "    \n",
        "    # Step 4: Check for errors when logging\n",
        "    res = []\n",
        "    for response in cf.as_completed(responses):\n",
        "        response_result = response.result()\n",
        "        res.append(f'Status {response_result.status_code}: {response_result.text}')\n",
        "    return iter(res)"
      ],
      "execution_count": null,
      "outputs": []
    },
    {
      "cell_type": "markdown",
      "metadata": {
        "id": "x9LQq2PujitJ"
      },
      "source": [
        "# Logging Example\n",
        "For each `bulk_log` response we get from Arize, `collect()` will combine the iterables as the map function completes."
      ]
    },
    {
      "cell_type": "code",
      "metadata": {
        "colab": {
          "base_uri": "https://localhost:8080/"
        },
        "id": "R1M6GRzXS2zF",
        "outputId": "76a68673-148b-4c39-da76-0b270b55e30f"
      },
      "source": [
        "%%time\n",
        "log_output = df_spark.rdd.mapPartitions(map_send_arize).collect()\n",
        "print(f'number of records sent: {len(df_pandas)}')\n",
        "print(f'number of arize responses: {len(log_output)}')\n",
        "print(f\"all log requests are successful: {[response == 'Status 200: {}' for response in log_output]}\")"
      ],
      "execution_count": null,
      "outputs": [
        {
          "output_type": "stream",
          "text": [
            "number of records sent: 5680\n",
            "number of arize responses: 8\n",
            "all log requests are successful: [True, True, True, True, True, True, True, True]\n",
            "CPU times: user 108 ms, sys: 12.2 ms, total: 120 ms\n",
            "Wall time: 19.2 s\n"
          ],
          "name": "stdout"
        }
      ]
    },
    {
      "cell_type": "markdown",
      "metadata": {
        "id": "TjezXxbOWcjY"
      },
      "source": [
        "# **Overview**\n",
        "\n",
        "[![Button_Open.png](https://storage.googleapis.com/arize-assets/fixtures/Button_Open.png)](https://arize.com/)\n",
        "\n",
        "Arize is an end-to-end ML observability and model monitoring platform. The platform is designed to help ML engineers and data science practitioners surface and fix issues with ML models in production faster with:\n",
        "- Automated ML monitoring and model monitoring\n",
        "- Workflows to troubleshoot model performance\n",
        "- Real-time visualizations for model performance monitoring, data quality monitoring, and drift monitoring\n",
        "- Model prediction cohort analysis\n",
        "- Pre-deployment model validation\n",
        "- Integrated model explainability\n",
        "\n",
        "### Website\n",
        "Visit Us At: https://arize.com/model-monitoring/\n",
        "\n",
        "### Additional Resources\n",
        "- [What is ML observability?](https://arize.com/what-is-ml-observability/)\n",
        "- [Playbook to model monitoring in production](https://arize.com/the-playbook-to-monitor-your-models-performance-in-production/)\n",
        "- [Using statistical distance metrics for ML monitoring and observability](https://arize.com/using-statistical-distance-metrics-for-machine-learning-observability/)\n",
        "- [ML infrastructure tools for data preparation](https://arize.com/ml-infrastructure-tools-for-data-preparation/)\n",
        "- [ML infrastructure tools for model building](https://arize.com/ml-infrastructure-tools-for-model-building/)\n",
        "- [ML infrastructure tools for production](https://arize.com/ml-infrastructure-tools-for-production-part-1/)\n",
        "- [ML infrastructure tools for model deployment and model serving](https://arize.com/ml-infrastructure-tools-for-production-part-2-model-deployment-and-serving/)\n",
        "- [ML infrastructure tools for ML monitoring and observability](https://arize.com/ml-infrastructure-tools-ml-observability/)\n",
        "\n",
        "Visit the [Arize Blog](https://arize.com/blog) and [Resource Center](https://arize.com/resource-hub/) for more resources on ML observability and model monitoring."
      ]
    },
    {
      "cell_type": "code",
      "metadata": {
        "id": "xbT3Vgm4Wc1z"
      },
      "source": [
        ""
      ],
      "execution_count": null,
      "outputs": []
    }
  ]
}