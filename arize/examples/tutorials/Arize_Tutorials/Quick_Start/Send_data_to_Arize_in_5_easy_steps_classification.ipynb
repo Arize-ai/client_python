{
 "cells": [
  {
   "cell_type": "markdown",
   "metadata": {
    "id": "CP7PTl4Lu5--"
   },
   "source": [
    "# Send data to Arize in 5 easy steps < 5 min!\n",
    "\n",
    "This is super quick tutorial to show you how easy it is to send data into the Arize platform."
   ]
  },
  {
   "cell_type": "markdown",
   "metadata": {
    "id": "MfXZNURfhx3y"
   },
   "source": [
    "#Step 1 - Install and Import the Arize Python SDK"
   ]
  },
  {
   "cell_type": "code",
   "execution_count": null,
   "metadata": {
    "id": "J2lyYgZPIikA"
   },
   "outputs": [],
   "source": [
    "!pip install arize\n",
    "\n",
    "import pandas as pd\n",
    "from arize.pandas.logger import Client, Schema\n",
    "from arize.utils.types import ModelTypes, Environments"
   ]
  },
  {
   "cell_type": "markdown",
   "metadata": {
    "id": "y006H9gHeWP2"
   },
   "source": [
    "#Step 2 - Grab Your Data\n",
    "We've already got the data for you and broken it out into 3 pandas dataframes."
   ]
  },
  {
   "cell_type": "code",
   "execution_count": null,
   "metadata": {
    "id": "q1a_tl9KLPkP"
   },
   "outputs": [],
   "source": [
    "train_df = pd.read_csv('https://storage.googleapis.com/arize-assets/documentation-sample-data/fraud/fraud_train.csv?raw=true', index_col=False)\n",
    "prod_df = pd.read_csv(\"https://storage.googleapis.com/arize-assets/documentation-sample-data/fraud/fraud_production.csv?raw=true\", index_col=False)\n"
   ]
  },
  {
   "cell_type": "markdown",
   "metadata": {
    "id": "pwvCUBqkeW4V"
   },
   "source": [
    "#Step 3 - Grab Your Space Key and API Key\n",
    "You can find your keys in the Arize Platform on the left-hand side menu under -> \"Space Settings\""
   ]
  },
  {
   "cell_type": "markdown",
   "metadata": {},
   "source": [
    "<img src=\"https://storage.googleapis.com/arize-assets/fixtures/copy-keys.png\" width=\"700\">"
   ]
  },
  {
   "cell_type": "code",
   "execution_count": null,
   "metadata": {
    "id": "SvkUY2dodBL5"
   },
   "outputs": [],
   "source": [
    "SPACE_KEY = \"SPACE_KEY\"\n",
    "API_KEY = \"API_KEY\"\n",
    "arize_client = Client(space_key=SPACE_KEY, api_key=API_KEY)\n",
    "if SPACE_KEY == \"SPACE_KEY\" or API_KEY == \"API_KEY\":\n",
    "    raise ValueError(\"❌ NEED TO CHANGE SPACE AND/OR API_KEY\")\n",
    "else:\n",
    "    print(\"✅ Import and Setup Arize Client Done! Now we can start using Arize!\")"
   ]
  },
  {
   "cell_type": "markdown",
   "metadata": {
    "id": "lF9wi5dAhuBB"
   },
   "source": [
    "#Step 4 - Name Your Model and Set Model Version"
   ]
  },
  {
   "cell_type": "code",
   "execution_count": null,
   "metadata": {
    "id": "IIh4UBGYhtCa"
   },
   "outputs": [],
   "source": [
    "model_id = \"upload-classification-data-with-arize\"\n",
    "model_version = \"1.0\"\n",
    "model_type = ModelTypes.SCORE_CATEGORICAL"
   ]
  },
  {
   "cell_type": "markdown",
   "metadata": {
    "id": "MhYZ7xOVfasj"
   },
   "source": [
    "#Step 5 - Send Data to the Arize Platform\n",
    "We've handled the schema and logging for you! Just send in data for train, validation and production"
   ]
  },
  {
   "cell_type": "code",
   "execution_count": null,
   "metadata": {
    "colab": {
     "base_uri": "https://localhost:8080/"
    },
    "id": "TyUavdbiNfzy",
    "outputId": "5e7101ea-ee94-4e3b-fc03-2c8f953ec35f"
   },
   "outputs": [],
   "source": [
    "# sending training data\n",
    "\n",
    "features = [\n",
    "    'MERCHANT_TYPE',\n",
    "    'ENTRY_MODE',\n",
    "    'STATE',\n",
    "    'MEAN_AMOUNT',\n",
    "    'STD_AMOUNT',\n",
    "    'TX_AMOUNT',\n",
    "    'VISA_RISK_SCORE',\n",
    "    'MASTERCARD_RISK_SCORE',\n",
    "    'AMEX_RISK_SCORE',\n",
    "]\n",
    "\n",
    "# Define a Schema() object for Arize to pick up data from the correct columns for logging\n",
    "training_schema = Schema(\n",
    "    prediction_id_column_name=\"prediction_id\",\n",
    "    timestamp_column_name=\"prediction_ts\",\n",
    "    prediction_label_column_name=\"PREDICTION\",\n",
    "    prediction_score_column_name=\"PREDICTION_SCORE\",\n",
    "    actual_label_column_name=\"ACTUAL\",\n",
    "    actual_score_column_name=\"ACTUAL_SCORE\",\n",
    "    feature_column_names=features\n",
    ")\n",
    "\n",
    "# Logging Training DataFrame\n",
    "training_response = arize_client.log(\n",
    "    dataframe=train_df,\n",
    "    model_id=model_id,\n",
    "    model_version=model_version,\n",
    "    model_type=model_type,\n",
    "    environment=Environments.TRAINING,\n",
    "    schema=training_schema,\n",
    ")\n",
    "\n",
    "# If successful, the server will return a status_code of 200\n",
    "if training_response.status_code != 200:\n",
    "    print(f\"❌ logging failed with response code {training_response.status_code}, {training_response.text}\")\n",
    "else:\n",
    "    print(f\"✅ You have successfully logged training set to Arize\")\n"
   ]
  },
  {
   "cell_type": "code",
   "execution_count": null,
   "metadata": {
    "colab": {
     "base_uri": "https://localhost:8080/"
    },
    "id": "CXjzjXP2hsah",
    "outputId": "c9f83389-04e9-4ace-c6db-e664e4a6a4e7"
   },
   "outputs": [],
   "source": [
    "# send production data\n",
    "\n",
    "production_schema = Schema(\n",
    "    prediction_id_column_name=\"prediction_id\",\n",
    "    timestamp_column_name=\"prediction_ts\",\n",
    "    prediction_label_column_name=\"PREDICTION\",\n",
    "    prediction_score_column_name=\"PREDICTION_SCORE\",\n",
    "    actual_label_column_name=\"ACTUAL\",\n",
    "    actual_score_column_name=\"ACTUAL_SCORE\",\n",
    "    feature_column_names=features\n",
    ")\n",
    "\n",
    "production_response = arize_client.log(\n",
    "    dataframe=prod_df,\n",
    "    model_id=model_id,\n",
    "    model_version=model_version,\n",
    "    model_type=model_type,\n",
    "    environment=Environments.PRODUCTION,\n",
    "    schema=production_schema,\n",
    ")\n",
    "\n",
    "if production_response.status_code != 200:\n",
    "    print(f\"❌ logging failed with response code {production_response.status_code}, {production_response.text}\")\n",
    "else:\n",
    "    print(f\"✅ You have successfully logged production set to Arize\")"
   ]
  },
  {
   "cell_type": "markdown",
   "metadata": {},
   "source": [
    "## Check Data Ingestion Information\n",
    "\n",
    "Data will be available in the UI in about 10 minutes after it was received. If data from a new model is sent, the model will be reflected almost immediately in the Arize platform. However, you will not see data yet. To verify data has been sent correctly and is being processed, we recommend that you check our Data Ingestion tab. \n",
    "\n",
    "You will be able to see the predictions, actuals, and feature importances that have been sent in the last week, last day or last 30 minutes. \n",
    "\n",
    "An example view of the Data Ingestion tab from a model, when data is sent continuously over 30 minutes, is shown in the image below. \n",
    "\n",
    "<img src=\"https://storage.googleapis.com/arize-assets/fixtures/data-ingestion-tab.png\" width=\"700\">"
   ]
  },
  {
   "cell_type": "markdown",
   "metadata": {
    "id": "BpuMqzzqeQBz"
   },
   "source": [
    "#Congratulations, you've now sent your first machine learning data to the Arize platform!!\n",
    "\n",
    "Additional:\n",
    "- If you want to remove this example model from your platform, just click \"Models' -> \"upload-classification-data-with-arize\" -> \"config\" -> \"delete\""
   ]
  }
 ],
 "metadata": {
  "colab": {
   "name": "Send data to Arize in 5 easy steps < 5 min!",
   "provenance": []
  },
  "kernelspec": {
   "display_name": "Python 3",
   "name": "python3"
  },
  "language_info": {
   "codemirror_mode": {
    "name": "ipython",
    "version": 3
   },
   "file_extension": ".py",
   "mimetype": "text/x-python",
   "name": "python",
   "nbconvert_exporter": "python",
   "pygments_lexer": "ipython3",
   "version": "3.9.4"
  }
 },
 "nbformat": 4,
 "nbformat_minor": 0
}
