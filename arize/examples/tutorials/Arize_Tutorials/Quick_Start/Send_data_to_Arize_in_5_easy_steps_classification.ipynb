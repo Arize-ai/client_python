{
  "nbformat": 4,
  "nbformat_minor": 0,
  "metadata": {
    "colab": {
      "name": "Send data to Arize in 5 easy steps < 5 min!",
      "provenance": []
    },
    "kernelspec": {
      "name": "python3",
      "display_name": "Python 3"
    },
    "language_info": {
      "name": "python"
    }
  },
  "cells": [
    {
      "cell_type": "markdown",
      "source": [
        "# Send data to Arize in 5 easy steps < 5 min!\n",
        "\n",
        "This is super quick tutorial to show you how easy it is to send data into the Arize platform."
      ],
      "metadata": {
        "id": "CP7PTl4Lu5--"
      }
    },
    {
      "cell_type": "markdown",
      "source": [
        "#Step 1 - Install and Import the Arize Python SDK"
      ],
      "metadata": {
        "id": "MfXZNURfhx3y"
      }
    },
    {
      "cell_type": "code",
      "source": [
        "!pip install arize\n",
        "\n",
        "import pandas as pd\n",
        "from arize.pandas.logger import Client, Schema\n",
        "from arize.utils.types import ModelTypes, Environments"
      ],
      "metadata": {
        "id": "J2lyYgZPIikA"
      },
      "execution_count": null,
      "outputs": []
    },
    {
      "cell_type": "markdown",
      "source": [
        "#Step 2 - Grab Your Data\n",
        "We've already got the data for you and broken it out into 3 pandas dataframes. "
      ],
      "metadata": {
        "id": "y006H9gHeWP2"
      }
    },
    {
      "cell_type": "code",
      "source": [
        "train_df = pd.read_csv('https://storage.googleapis.com/arize-assets/documentation-sample-data/fraud/fraud_train.csv?raw=true', index_col=False)\n",
        "prod_df = pd.read_csv(\"https://storage.googleapis.com/arize-assets/documentation-sample-data/fraud/fraud_production.csv?raw=true\", index_col=False)\n"
      ],
      "metadata": {
        "id": "q1a_tl9KLPkP"
      },
      "execution_count": null,
      "outputs": []
    },
    {
      "cell_type": "markdown",
      "source": [
        "#Step 3 - Grab Your Organization Key and API Key \n",
        "You can find your keys in the Arize Platform on the left-hand side menu under -> \"Space Settings\""
      ],
      "metadata": {
        "id": "pwvCUBqkeW4V"
      }
    },
    {
      "cell_type": "code",
      "source": [
        "ORGANIZATION_KEY = \"ORGANIZATION_KEY\"\n",
        "API_KEY = \"API_KEY\"\n",
        "arize_client = Client(organization_key=ORGANIZATION_KEY, api_key=API_KEY)"
      ],
      "metadata": {
        "id": "SvkUY2dodBL5"
      },
      "execution_count": null,
      "outputs": []
    },
    {
      "cell_type": "markdown",
      "source": [
        "#Step 4 - Name Your Model and Set Model Version"
      ],
      "metadata": {
        "id": "lF9wi5dAhuBB"
      }
    },
    {
      "cell_type": "code",
      "source": [
        "model_id = \"upload-classification-data-with-arize\"\n",
        "model_version = \"1.0\""
      ],
      "metadata": {
        "id": "IIh4UBGYhtCa"
      },
      "execution_count": null,
      "outputs": []
    },
    {
      "cell_type": "markdown",
      "source": [
        "#Step 5 - Send Data to the Arize Platform\n",
        "We've handled the schema and logging for you! Just send in data for train, validation and production"
      ],
      "metadata": {
        "id": "MhYZ7xOVfasj"
      }
    },
    {
      "cell_type": "code",
      "source": [
        "# sending training data\n",
        "\n",
        "features = [\n",
        "    'MERCHANT_TYPE',\n",
        "    'ENTRY_MODE',\n",
        "    'STATE',\n",
        "    'MEAN_AMOUNT',\n",
        "    'STD_AMOUNT',\n",
        "    'TX_AMOUNT',\n",
        "    'VISA_RISK_SCORE',\n",
        "    'MASTERCARD_RISK_SCORE',\n",
        "    'AMEX_RISK_SCORE',\n",
        "]\n",
        "\n",
        "# Define a Schema() object for Arize to pick up data from the correct columns for logging\n",
        "training_schema = Schema(\n",
        "    prediction_id_column_name=\"prediction_id\",\n",
        "    timestamp_column_name=\"prediction_ts\",\n",
        "    prediction_label_column_name=\"PREDICTION\",\n",
        "    prediction_score_column_name=\"PREDICTION_SCORE\",\n",
        "    actual_label_column_name=\"ACTUAL\",\n",
        "    actual_score_column_name=\"ACTUAL_SCORE\",\n",
        "    feature_column_names=features\n",
        ")\n",
        "\n",
        "# Logging Training DataFrame\n",
        "training_response = arize_client.log(\n",
        "    dataframe=train_df,\n",
        "    model_id=model_id,\n",
        "    model_version=model_version,\n",
        "    model_type=ModelTypes.SCORE_CATEGORICAL,\n",
        "    environment=Environments.TRAINING,\n",
        "    schema=training_schema,\n",
        ")\n",
        "\n",
        "# If successful, the server will return a status_code of 200\n",
        "if training_response.status_code != 200:\n",
        "    print(f\"logging failed with response code {training_response.status_code}, {training_response.text}\")\n",
        "else:\n",
        "    print(f\"✅ You have successfully logged training set to Arize\")\n"
      ],
      "metadata": {
        "id": "TyUavdbiNfzy",
        "colab": {
          "base_uri": "https://localhost:8080/"
        },
        "outputId": "5e7101ea-ee94-4e3b-fc03-2c8f953ec35f"
      },
      "execution_count": null,
      "outputs": [
        {
          "output_type": "stream",
          "name": "stdout",
          "text": [
            "future completed with response code 200\n"
          ]
        }
      ]
    },
    {
      "cell_type": "code",
      "source": [
        "# send production data\n",
        "\n",
        "production_schema = Schema(\n",
        "    prediction_id_column_name=\"prediction_id\",\n",
        "    timestamp_column_name=\"prediction_ts\",\n",
        "    prediction_label_column_name=\"PREDICTION\",\n",
        "    prediction_score_column_name=\"PREDICTION_SCORE\",\n",
        "    actual_label_column_name=\"ACTUAL\",\n",
        "    actual_score_column_name=\"ACTUAL_SCORE\",\n",
        "    feature_column_names=features\n",
        ")\n",
        "\n",
        "production_response = arize_client.log(\n",
        "    dataframe=prod_df,\n",
        "    model_id=model_id,\n",
        "    model_version=model_version,\n",
        "    model_type=ModelTypes.SCORE_CATEGORICAL,\n",
        "    environment=Environments.PRODUCTION,\n",
        "    schema=production_schema,\n",
        ")\n",
        "\n",
        "if production_response.status_code != 200:\n",
        "    print(f\"logging failed with response code {production_response.status_code}, {production_response.text}\")\n",
        "else:\n",
        "    print(f\"✅ You have successfully logged production set to Arize\")"
      ],
      "metadata": {
        "id": "CXjzjXP2hsah",
        "colab": {
          "base_uri": "https://localhost:8080/"
        },
        "outputId": "c9f83389-04e9-4ace-c6db-e664e4a6a4e7"
      },
      "execution_count": null,
      "outputs": [
        {
          "output_type": "stream",
          "name": "stdout",
          "text": [
            "future completed with response code 200\n"
          ]
        }
      ]
    },
    {
      "cell_type": "markdown",
      "source": [
        "#Congratulations, you've now send your first machine learning data to the Arize platform!!\n",
        "\n",
        "Additional:\n",
        "- If you want to remove this example model from your platform, just click \"Models' -> \"upload-classification-data-with-arize\" -> \"config\" -> \"delete\"\n"
      ],
      "metadata": {
        "id": "BpuMqzzqeQBz"
      }
    }
  ]
}