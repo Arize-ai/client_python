{
 "cells": [
  {
   "cell_type": "markdown",
   "metadata": {
    "id": "CP7PTl4Lu5--"
   },
   "source": [
    "# Send data to Arize in 5 easy steps < 5 min!\n",
    "\n",
    "This is super quick tutorial to show you how easy it is to send data into the Arize platform."
   ]
  },
  {
   "cell_type": "markdown",
   "metadata": {
    "id": "MfXZNURfhx3y"
   },
   "source": [
    "#Step 1 - Install and Import the Arize Python SDK"
   ]
  },
  {
   "cell_type": "code",
   "execution_count": 1,
   "metadata": {
    "id": "J2lyYgZPIikA"
   },
   "outputs": [],
   "source": [
    "!pip install arize\n",
    "\n",
    "import pandas as pd\n",
    "from arize.pandas.logger import Client, Schema\n",
    "from arize.utils.types import ModelTypes, Environments"
   ]
  },
  {
   "cell_type": "markdown",
   "metadata": {
    "id": "y006H9gHeWP2"
   },
   "source": [
    "#Step 2 - Grab Your Data\n",
    "We've already got the data for you and broken it out into 3 pandas dataframes."
   ]
  },
  {
   "cell_type": "code",
   "execution_count": 2,
   "metadata": {
    "id": "q1a_tl9KLPkP"
   },
   "outputs": [],
   "source": [
    "train_df = pd.read_csv('https://storage.googleapis.com/arize-assets/documentation-sample-data/train.csv?raw=true', index_col=False)\n",
    "val_df = pd.read_csv(\"https://storage.googleapis.com/arize-assets/documentation-sample-data/validation.csv?raw=true\",index_col=False)\n",
    "prod_df = pd.read_csv(\"https://storage.googleapis.com/arize-assets/documentation-sample-data/production.csv?raw=true\", index_col=False)\n"
   ]
  },
  {
   "cell_type": "markdown",
   "metadata": {
    "id": "pwvCUBqkeW4V"
   },
   "source": [
    "#Step 3 - Grab Your Space Key and API Key\n",
    "You can find your keys in the Arize Platform on the left-hand side menu under -> \"Space Settings\""
   ]
  },
  {
   "cell_type": "code",
   "execution_count": 3,
   "metadata": {
    "id": "SvkUY2dodBL5"
   },
   "outputs": [],
   "source": [
    "SPACE_KEY = \"SPACE_KEY\"\n",
    "API_KEY = \"API_KEY\"\n",
    "arize_client = Client(space_key=SPACE_KEY, api_key=API_KEY)"
   ]
  },
  {
   "cell_type": "markdown",
   "metadata": {
    "id": "lF9wi5dAhuBB"
   },
   "source": [
    "#Step 4 - Name Your Model and Set Model Version"
   ]
  },
  {
   "cell_type": "code",
   "execution_count": 4,
   "metadata": {
    "id": "IIh4UBGYhtCa"
   },
   "outputs": [],
   "source": [
    "model_id = \"upload-regression-data-with-arize\"\n",
    "model_version = \"1.0\""
   ]
  },
  {
   "cell_type": "markdown",
   "metadata": {
    "id": "MhYZ7xOVfasj"
   },
   "source": [
    "#Step 5 - Send Data to the Arize Platform\n",
    "We've handled the schema and logging for you! Just send in data for train, validation and production"
   ]
  },
  {
   "cell_type": "code",
   "execution_count": 5,
   "metadata": {
    "colab": {
     "base_uri": "https://localhost:8080/"
    },
    "id": "TyUavdbiNfzy",
    "outputId": "5e7101ea-ee94-4e3b-fc03-2c8f953ec35f"
   },
   "outputs": [
    {
     "name": "stdout",
     "output_type": "stream",
     "text": [
      "future completed with response code 200\n"
     ]
    }
   ],
   "source": [
    "# sending training data\n",
    "\n",
    "train_schema = Schema(\n",
    "    prediction_id_column_name=\"prediction_id\",\n",
    "    prediction_label_column_name=\"prediction_label\",\n",
    "    actual_label_column_name=\"actual_label\",\n",
    "    feature_column_names=train_df.columns.drop(\n",
    "        [\"prediction_id\", \"prediction_label\", \"actual_label\"]\n",
    "    ),\n",
    ")\n",
    "\n",
    "train_res = arize_client.log(\n",
    "    dataframe=train_df,\n",
    "    model_id=model_id,\n",
    "    model_version=model_version,\n",
    "    model_type=ModelTypes.NUMERIC,\n",
    "    environment=Environments.TRAINING,\n",
    "    schema=train_schema,\n",
    ")\n",
    "if train_res.status_code != 200:\n",
    "    print(f\"future failed with response code {train_res.status_code}, {train_res.text}\")\n",
    "else:\n",
    "    print(f\"future completed with response code {train_res.status_code}\")\n"
   ]
  },
  {
   "cell_type": "code",
   "execution_count": 6,
   "metadata": {
    "colab": {
     "base_uri": "https://localhost:8080/"
    },
    "id": "cIEu-nQFaypN",
    "outputId": "85e915be-8787-4426-f09c-e7da56bfeb25"
   },
   "outputs": [
    {
     "name": "stdout",
     "output_type": "stream",
     "text": [
      "future completed with response code 200\n"
     ]
    }
   ],
   "source": [
    "# send validation data\n",
    "\n",
    "val_schema = Schema(\n",
    "    prediction_id_column_name=\"prediction_id\",\n",
    "    prediction_label_column_name=\"prediction_label\",\n",
    "    actual_label_column_name=\"actual_label\",\n",
    "    feature_column_names=train_df.columns.drop(\n",
    "        [\"prediction_id\", \"prediction_label\", \"actual_label\"]\n",
    "    ),\n",
    ")\n",
    "\n",
    "val_res = arize_client.log(\n",
    "    dataframe=val_df,\n",
    "    model_id=model_id,\n",
    "    model_version=model_version,\n",
    "    batch_id=\"validation_test\",  # provide a batch_id to distinguish from other validation data set\n",
    "    model_type=ModelTypes.NUMERIC,\n",
    "    environment=Environments.VALIDATION,\n",
    "    schema=val_schema,\n",
    ")\n",
    "if val_res.status_code != 200:\n",
    "    print(f\"future failed with response code {val_res.status_code}, {val_res.text}\")\n",
    "else:\n",
    "    print(f\"future completed with response code {val_res.status_code}\")"
   ]
  },
  {
   "cell_type": "code",
   "execution_count": null,
   "metadata": {},
   "outputs": [],
   "source": []
  },
  {
   "cell_type": "code",
   "execution_count": 7,
   "metadata": {
    "colab": {
     "base_uri": "https://localhost:8080/"
    },
    "id": "CXjzjXP2hsah",
    "outputId": "c9f83389-04e9-4ace-c6db-e664e4a6a4e7"
   },
   "outputs": [
    {
     "name": "stdout",
     "output_type": "stream",
     "text": [
      "future completed with response code 200\n"
     ]
    }
   ],
   "source": [
    "# send production data\n",
    "\n",
    "prod_schema = Schema(\n",
    "    prediction_id_column_name=\"prediction_id\",\n",
    "    timestamp_column_name=\"prediction_ts\",\n",
    "    prediction_label_column_name=\"prediction_label\",\n",
    "    actual_label_column_name=\"actual_label\",\n",
    "        feature_column_names=train_df.columns.drop(\n",
    "        [\"prediction_id\", \"prediction_label\", \"actual_label\"]\n",
    "    ),\n",
    ")\n",
    "\n",
    "prod_res = arize_client.log(\n",
    "    dataframe=prod_df,\n",
    "    model_id=model_id,\n",
    "    model_version=model_version,\n",
    "    model_type=ModelTypes.NUMERIC,\n",
    "    environment=Environments.PRODUCTION,\n",
    "    schema=prod_schema,\n",
    ")\n",
    "if prod_res.status_code != 200:\n",
    "    print(f\"future failed with response code {prod_res.status_code}, {prod_res.text}\")\n",
    "else:\n",
    "    print(f\"future completed with response code {prod_res.status_code}\")"
   ]
  },
  {
   "cell_type": "markdown",
   "metadata": {
    "id": "BpuMqzzqeQBz"
   },
   "source": [
    "#Congratulations, you've now sent your first machine learning data to the Arize platform!!\n",
    "\n",
    "Additional:\n",
    "- If you want to remove this example model from your platform, just click \"Models' -> \"upload-regression-data-with-arize\" -> \"config\" -> \"delete\"\n"
   ]
  },
  {
   "cell_type": "code",
   "execution_count": null,
   "metadata": {
    "id": "IXrAHaa_ilGU"
   },
   "outputs": [],
   "source": []
  }
 ],
 "metadata": {
  "colab": {
   "name": "Send data to Arize in 5 easy steps < 5 min!",
   "provenance": []
  },
  "kernelspec": {
   "display_name": "Python 3",
   "name": "python3"
  },
  "language_info": {
   "codemirror_mode": {
    "name": "ipython",
    "version": 3
   },
   "file_extension": ".py",
   "mimetype": "text/x-python",
   "name": "python",
   "nbconvert_exporter": "python",
   "pygments_lexer": "ipython3",
   "version": "3.9.4"
  }
 },
 "nbformat": 4,
 "nbformat_minor": 0
}
