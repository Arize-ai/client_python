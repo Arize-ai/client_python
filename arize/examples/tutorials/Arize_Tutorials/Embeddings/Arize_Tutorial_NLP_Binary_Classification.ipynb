{
  "cells": [
    {
      "cell_type": "markdown",
      "metadata": {
        "id": "1INW1XAR3s_i"
      },
      "source": [
        "# Getting Started with the Arize Platform - Investigating Embedding Drift\n",
        "\n",
        "**In this walkthrough, we are going to ingest embedding data and look at embedding drift.** \n",
        "\n",
        "You are in charge of maintaining a sentiment classification model. This simple model will take online reviews as input and predict whether it was positive or negative.\n",
        "\n",
        "In this scenario, you trained the model to work on movie reviews using the IMDB dataset. Once the model was released into production, hotel reviews from Trip Advisor were ingested in addition to the expected movie reviews. This may cause performance degradation on your model. \n",
        "\n",
        "Arize is able to surface the presence of this unexpected data, regardless of it affecting performance, by analyzing the embedding vectors associated with the reviews.\n",
        "\n",
        "After the model has been trained and deployed, the inference data is stored here (in HDF5 format):\n",
        "*   [Training Set](https://storage.googleapis.com/arize-assets/documentation-sample-data/embeddings/NLP/embeddings_IMDB_Movie_Reviews_train)\n",
        "*   [Production Set](https://storage.googleapis.com/arize-assets/documentation-sample-data/embeddings/NLP/embeddings_IMDB_Movie_Reviews+TripAdvisor_Hotel_Reviews_prod)\n",
        "\n",
        "These files contain actual label, review text, features, embedding vectors and more inference data (see dataframes below).\n",
        "\n",
        "If you are familiar with sending data to Arize, it only takes a few more lines to send embedding data. If this is your first Arize Tutorial, we recommend that you do this other one instead: [Send Data to Arize in 5 Easy Steps](https://colab.research.google.com/github/Arize-ai/client_python/blob/main/arize/examples/tutorials/Arize_Tutorials/Quick_Start/Send_data_to_Arize_in_5_easy_steps_classification.ipynb)"
      ]
    },
    {
      "cell_type": "markdown",
      "metadata": {
        "id": "MfXZNURfhx3y"
      },
      "source": [
        "#Step 0. Setup and Getting the Data\n",
        "\n",
        "Our embedding offering is still under development so you will have to specify the SDK version of our release candidate.\n",
        "\n",
        "###Install Dependencies and Import Libraries 📚"
      ]
    },
    {
      "cell_type": "code",
      "execution_count": null,
      "metadata": {
        "id": "J2lyYgZPIikA"
      },
      "outputs": [],
      "source": [
        "!pip install arize==4.1.0rc0\n",
        "\n",
        "import pandas as pd\n",
        "from arize.pandas.logger import Client, Schema\n",
        "from arize.utils.types import ModelTypes, Environments, EmbeddingColumnNames"
      ]
    },
    {
      "cell_type": "markdown",
      "metadata": {
        "id": "O2MaOydk4Oad"
      },
      "source": [
        "## **🌐 Download the Data**\n",
        "We have already got the data for you and broke it out into 2 pandas dataframes, training and production."
      ]
    },
    {
      "cell_type": "code",
      "execution_count": null,
      "metadata": {
        "id": "q1a_tl9KLPkP"
      },
      "outputs": [],
      "source": [
        "gcs_dir = \"https://storage.googleapis.com/arize-assets/documentation-sample-data/embeddings/NLP/\"\n",
        "train_name = f\"embeddings_IMDB_Movie_Reviews_train\"\n",
        "prod_name = f\"embeddings_IMDB_Movie_Reviews+TripAdvisor_Hotel_Reviews_prod\"\n",
        "\n",
        "train_link = f\"{gcs_dir:s}{train_name:s}\"\n",
        "prod_link = f\"{gcs_dir:s}{prod_name:s}\"\n",
        "\n",
        "!wget $train_link\n",
        "!wget $prod_link\n",
        "\n",
        "train_df = pd.read_hdf(train_name, index_col=False)\n",
        "prod_df = pd.read_hdf(prod_name, index_col=False)"
      ]
    },
    {
      "cell_type": "markdown",
      "metadata": {
        "id": "kaIhsulc9tR1"
      },
      "source": [
        "## Inspect the Data "
      ]
    },
    {
      "cell_type": "code",
      "execution_count": null,
      "metadata": {
        "id": "tBwQUvUP2o8r"
      },
      "outputs": [],
      "source": [
        "train_df.head()"
      ]
    },
    {
      "cell_type": "code",
      "execution_count": null,
      "metadata": {
        "id": "1hJvlunau8G1"
      },
      "outputs": [],
      "source": [
        "prod_df.head()"
      ]
    },
    {
      "cell_type": "markdown",
      "metadata": {
        "id": "lFEr70CF0vg1"
      },
      "source": [
        "The _context_ feature has been added artificially to be able to locate the reviews that are coming from different sources, i.e., movie reviews and hotel reviews. "
      ]
    },
    {
      "cell_type": "code",
      "execution_count": null,
      "metadata": {
        "id": "r9fJHlNj06_Z"
      },
      "outputs": [],
      "source": [
        "prod_df[prod_df['context']=='hotels'].head()"
      ]
    },
    {
      "cell_type": "markdown",
      "metadata": {
        "id": "pwvCUBqkeW4V"
      },
      "source": [
        "# Step 1. Sending Data into Arize 💫\n",
        "## Import and Setup Arize Client\n",
        "\n",
        "The first step is to setup our Arize client. After that we will log the data.\n",
        "\n",
        "Copy the Arize `API_KEY` and `SPACE_KEY` from your admin page shown below! Copy those over to the set-up section. We will also be setting up some metadata to use across all logging.\n"
      ]
    },
    {
      "cell_type": "markdown",
      "metadata": {
        "id": "j3jd6J3qQb_K"
      },
      "source": [
        "<img src=\"https://storage.googleapis.com/arize-assets/fixtures/copy-keys.png\" width=\"700\">"
      ]
    },
    {
      "cell_type": "code",
      "execution_count": null,
      "metadata": {
        "id": "SvkUY2dodBL5"
      },
      "outputs": [],
      "source": [
        "SPACE_KEY = \"SPACE_KEY\"\n",
        "API_KEY = \"API_KEY\"\n",
        "arize_client = Client(space_key=SPACE_KEY, api_key=API_KEY)\n",
        "model_id = \"NLP-reviews-demo\"\n",
        "model_version = \"1.0\"\n",
        "model_type = ModelTypes.CATEGORICAL\n",
        "if SPACE_KEY == \"SPACE_KEY\" or API_KEY == \"API_KEY\":\n",
        "    raise ValueError(\"❌ NEED TO CHANGE SPACE AND/OR API_KEY\")\n",
        "else:\n",
        "    print(\"✅ Import and Setup Arize Client Done! Now we can start using Arize!\")"
      ]
    },
    {
      "cell_type": "markdown",
      "metadata": {
        "id": "MhYZ7xOVfasj"
      },
      "source": [
        "\n",
        "Now that our Arize client is setup, let's go ahead and log all of our data to the platform. For more details on how **`arize.pandas.logger`** works, visit out documentations page below.\n",
        "\n",
        "[![Buttons_OpenOrange.png](https://storage.googleapis.com/arize-assets/fixtures/Buttons_OpenOrange.png)](https://docs.arize.com/arize/sdks-and-integrations/python-sdk/arize.pandas)"
      ]
    },
    {
      "cell_type": "markdown",
      "metadata": {
        "id": "rCMZsMpi3aiA"
      },
      "source": [
        "## Define the Schema \n",
        "\n",
        "A Schema instance specifies the column names for corresponding data in the dataframe. While we could define different Schemas for training and production datasets, in this case the dataframes have the same column names so the Schema will be the same.\n",
        "\n",
        "To ingest features, it suffices to give a list of column names that contain the features in our dataframe. However, embeddings are a little more complex.\n",
        "\n",
        "Arize allows you to ingest not only the embedding vector, but the raw data associtated with that embedding or a URL link to that raw data. Hence, up to 3 columns can be associated to the same _embedding object_*. To be able to do this, Arize's SDK provides the `EmbeddingColumnNames` class, used below.\n",
        "\n",
        "*NOTE: We refer as embedding object to the 3 possible pieces of information that can be sent: \n",
        "* Embedding `vector` (required)\n",
        "* Embedding `data` (optional): raw text, image, ...; associated with the embedding vector\n",
        "* Embedding `link_to_data`: link to the data associated with the embedding vector"
      ]
    },
    {
      "cell_type": "code",
      "execution_count": null,
      "metadata": {
        "id": "JOGpBqA034Zt"
      },
      "outputs": [],
      "source": [
        "features = [\n",
        "    'age',\n",
        "    'gender',\n",
        "    'context',\n",
        "]\n",
        "\n",
        "embedding_features = [\n",
        "    EmbeddingColumnNames(\n",
        "        vector_column_name=\"review_vector\",  # Will be name of embedding feature in the app\n",
        "        data_column_name=\"review_text\",\n",
        "    ),\n",
        "]\n",
        "\n",
        "# Define a Schema() object for Arize to pick up data from the correct columns for logging\n",
        "schema = Schema(\n",
        "    prediction_id_column_name=\"prediction_id\",\n",
        "    timestamp_column_name=\"prediction_ts\",\n",
        "    prediction_label_column_name=\"prediction_label\",\n",
        "    actual_label_column_name=\"actual_label\",\n",
        "    feature_column_names=features,\n",
        "    embedding_feature_column_names=embedding_features\n",
        ")\n",
        "\n"
      ]
    },
    {
      "cell_type": "markdown",
      "metadata": {
        "id": "6dEt_DLx2bYl"
      },
      "source": [
        "## Log Training Data"
      ]
    },
    {
      "cell_type": "code",
      "execution_count": null,
      "metadata": {
        "id": "TyUavdbiNfzy"
      },
      "outputs": [],
      "source": [
        "# Logging Training DataFrame\n",
        "training_response = arize_client.log(\n",
        "    dataframe=train_df,\n",
        "    model_id=model_id,\n",
        "    model_version=model_version,\n",
        "    model_type=model_type,\n",
        "    environment=Environments.TRAINING,\n",
        "    schema=schema,\n",
        "    sync=True\n",
        ")\n",
        "\n",
        "\n",
        "# If successful, the server will return a status_code of 200\n",
        "if training_response.status_code != 200:\n",
        "    print(f\"❌ logging failed with response code {training_response.status_code}, {training_response.text}\")\n",
        "else:\n",
        "    print(f\"✅ You have successfully logged training set to Arize\")\n"
      ]
    },
    {
      "cell_type": "markdown",
      "metadata": {
        "id": "dLeCjcQRDWF6"
      },
      "source": [
        "## Log Production Data"
      ]
    },
    {
      "cell_type": "code",
      "execution_count": null,
      "metadata": {
        "id": "CXjzjXP2hsah"
      },
      "outputs": [],
      "source": [
        "# send production data\n",
        "production_response = arize_client.log(\n",
        "    dataframe=prod_df,\n",
        "    model_id=model_id,\n",
        "    model_version=model_version,\n",
        "    model_type=model_type,\n",
        "    environment=Environments.PRODUCTION,\n",
        "    schema=schema,\n",
        "    sync=True\n",
        ")\n",
        "\n",
        "if production_response.status_code != 200:\n",
        "    print(f\"❌ logging failed with response code {production_response.status_code}, {production_response.text}\")\n",
        "else:\n",
        "    print(f\"✅ You have successfully logged production set to Arize\")"
      ]
    },
    {
      "cell_type": "markdown",
      "metadata": {
        "id": "MX-GEkla5Rnh"
      },
      "source": [
        "# Step 2. Confirm Data in Arize ✅\n",
        "Note that the Arize platform takes about 15 minutes to index embedding data. While the model should appear immediately, the data will not show up until the indexing is complete. Feel free to head over to the **Data Ingestion** tab for your model to watch Arize works its magic!🔮\n",
        "\n",
        "You will be able to see the predictions, actuals, and feature importances that have been sent in the last 30 minutes, last day or last week.\n",
        "\n",
        "An example view of the Data Ingestion tab from a model, when data is sent continuously over 30 minutes, is shown in the image below. \n",
        "\n",
        "<img src=\"https://storage.googleapis.com/arize-assets/fixtures/data-ingestion-tab.png\" width=\"700\">"
      ]
    },
    {
      "cell_type": "markdown",
      "metadata": {
        "id": "S1JYzltL8Z3g"
      },
      "source": [
        "# Check the Embedding Data in Arize\n",
        "\n",
        "First, set the baseline to the training set that we logged before.\n",
        "\n",
        "<img src=\"https://storage.cloud.google.com/arize-assets/fixtures/embedding_setup_baseline.gif\" width=\"700\">\n",
        "\n",
        "\n",
        "If your model contains embedding data, you will see it in your Model's Overview page. \n",
        "\n",
        "<img src=\"https://storage.cloud.google.com/arize-assets/fixtures/Embeddings/model-health-with-embeddings.png\" width=\"700\">\n",
        "\n",
        "\n",
        "\n",
        "\n",
        " Click on the Embedding Name or the Euclidean Distance value to see how your embedding data is drifting over time.\n",
        "\n",
        "<img src=\"https://storage.cloud.google.com/arize-assets/fixtures/Embeddings/embedding-drift.png\" width=\"700\">\n",
        "\n",
        "In this picture we represent the global euclidean distance between your production set (at different points in time) and the baseline (which we set to be our training set). We can see there is a period of 3 months where suddenly the distance is remarkably higher. This shows us that during that time very different text data was sent to our model, as expected. This is the period of time when movie reviews were sent together with hotel reviews. "
      ]
    },
    {
      "cell_type": "markdown",
      "metadata": {
        "id": "aby-AFAe6jsV"
      },
      "source": [
        "# Wrap Up 🎁\n",
        "Congratulations, you've now sent your first machine learning embedding data to the Arize platform!!\n",
        "\n",
        "Additional:\n",
        "- If you want to remove this example model from your platform, just click **Models** -> **NLP-reviews-demo** -> **config** -> **delete**"
      ]
    },
    {
      "cell_type": "markdown",
      "metadata": {
        "id": "TP304Ecf6ePX"
      },
      "source": [
        "### Overview\n",
        "Arize is an end-to-end ML observability and model monitoring platform. The platform is designed to help ML engineers and data science practitioners surface and fix issues with ML models in production faster with:\n",
        "- Automated ML monitoring and model monitoring\n",
        "- Workflows to troubleshoot model performance\n",
        "- Real-time visualizations for model performance monitoring, data quality monitoring, and drift monitoring\n",
        "- Model prediction cohort analysis\n",
        "- Pre-deployment model validation\n",
        "- Integrated model explainability\n",
        "\n",
        "### Website\n",
        "Visit Us At: https://arize.com/model-monitoring/\n",
        "\n",
        "### Additional Resources\n",
        "- [What is ML observability?](https://arize.com/what-is-ml-observability/)\n",
        "- [Playbook to model monitoring in production](https://arize.com/the-playbook-to-monitor-your-models-performance-in-production/)\n",
        "- [Using statistical distance metrics for ML monitoring and observability](https://arize.com/using-statistical-distance-metrics-for-machine-learning-observability/)\n",
        "- [ML infrastructure tools for data preparation](https://arize.com/ml-infrastructure-tools-for-data-preparation/)\n",
        "- [ML infrastructure tools for model building](https://arize.com/ml-infrastructure-tools-for-model-building/)\n",
        "- [ML infrastructure tools for production](https://arize.com/ml-infrastructure-tools-for-production-part-1/)\n",
        "- [ML infrastructure tools for model deployment and model serving](https://arize.com/ml-infrastructure-tools-for-production-part-2-model-deployment-and-serving/)\n",
        "- [ML infrastructure tools for ML monitoring and observability](https://arize.com/ml-infrastructure-tools-ml-observability/)\n",
        "\n",
        "Visit the [Arize Blog](https://arize.com/blog) and [Resource Center](https://arize.com/resource-hub/) for more resources on ML observability and model monitoring.\n"
      ]
    }
  ],
  "metadata": {
    "colab": {
      "collapsed_sections": [],
      "name": "Copy of Send Embeddings to Arize!",
      "provenance": []
    },
    "kernelspec": {
      "display_name": "Python 3 (ipykernel)",
      "language": "python",
      "name": "python3"
    },
    "language_info": {
      "codemirror_mode": {
        "name": "ipython",
        "version": 3
      },
      "file_extension": ".py",
      "mimetype": "text/x-python",
      "name": "python",
      "nbconvert_exporter": "python",
      "pygments_lexer": "ipython3",
      "version": "3.7.11"
    }
  },
  "nbformat": 4,
  "nbformat_minor": 0
}