{
  "cells": [
    {
      "cell_type": "markdown",
      "metadata": {
        "id": "SJEgUhyh-k4-"
      },
      "source": [
        "# Arize Tutorial: Breast Cancer Prediction\n",
        "\n",
        "Let's get started on using Arize!✨\n",
        "\n",
        "Arize helps you visualize your model performance, understand drift & data quality issues, and share insights learned from your models. \n",
        "\n",
        "In this tutorial, we will be building a model to predict if someone has breast cancer or not. The model predicts a score (how likely is this person to have breast cancer) and based on a threshold, determines the class (True/False). We only record the label for this model, so the model type will be `ModelType.BINARY`. We will load the models’s training, validation, and test inferences into Arize. 🚀.\n",
        "\n",
        "### Running This Notebook\n",
        "1. Click \"Open in playground\" to create a copy of this notebook for yourself.\n",
        "2. Save a copy in Google Drive for yourself.\n",
        "3. Step through each section below, pressing play on the code blocks to run the cells.\n",
        "4. In Step 2, use your own Space and API key from your Arize account. \n",
        "\n",
        "\n",
        "[![Open In Colab](https://colab.research.google.com/assets/colab-badge.svg)](https://colab.research.google.com/github/Arize-ai/client_python/blob/main/arize/examples/tutorials/Arize_Tutorial_Boston_House_Prices.ipynb)\n"
      ]
    },
    {
      "cell_type": "markdown",
      "metadata": {
        "id": "aUUdm-QfF8xG"
      },
      "source": [
        "## Step 1: Load Data and Build Model"
      ]
    },
    {
      "cell_type": "code",
      "execution_count": null,
      "metadata": {
        "colab": {
          "base_uri": "https://localhost:8080/"
        },
        "id": "OWSc0hFn-Y4W",
        "outputId": "d67d60e7-f32c-4bfe-d4d0-ca45ce9c25ad"
      },
      "outputs": [
        {
          "name": "stdout",
          "output_type": "stream",
          "text": [
            "Step 1 ✅: Load Data & Build Model Done!\n"
          ]
        }
      ],
      "source": [
        "import numpy as np\n",
        "import pandas as pd\n",
        "import uuid\n",
        "import concurrent.futures as cf\n",
        "from sklearn import datasets\n",
        "from sklearn.linear_model import LogisticRegression\n",
        "from sklearn.model_selection import train_test_split\n",
        "\n",
        "###############################################################################\n",
        "# 1 Load data and split data\n",
        "data = datasets.load_breast_cancer()\n",
        "X, y = datasets.load_breast_cancer(return_X_y=True)\n",
        "X, y = X.astype(np.float32), y\n",
        "\n",
        "X_train, X_test, y_train, y_test = train_test_split(X, y, random_state=42)\n",
        "X_train, X_val, y_train, y_val = train_test_split(X_train, y_train, random_state=42)\n",
        "\n",
        "###############################################################################\n",
        "# 2 Fit a simple logistic regression model\n",
        "clf = LogisticRegression(max_iter=3000, verbose=False).fit(X_train, y_train)\n",
        "\n",
        "# 3 Use the model to generate predictions\n",
        "y_train_pred = clf.predict(X_train)\n",
        "y_val_pred = clf.predict(X_val)\n",
        "y_test_pred = clf.predict(X_test)\n",
        "\n",
        "print('Step 1 ✅: Load Data & Build Model Done!')"
      ]
    },
    {
      "cell_type": "markdown",
      "metadata": {
        "id": "PcVdPGFkGF2t"
      },
      "source": [
        "## Step 2: Import and Setup Arize Client\n",
        "You can find your `API KEY` and `SPACE KEY` by navigating to the settings page in your workspace (only space admins can see the keys). Copy those over to the set-up section. We will also be setting up some metadata to use across all logging.\n",
        "<img src=\"https://storage.googleapis.com/arize-assets/fixtures/copy-keys.png\" width=\"700\">"
      ]
    },
    {
      "cell_type": "code",
      "execution_count": null,
      "metadata": {
        "colab": {
          "base_uri": "https://localhost:8080/"
        },
        "id": "btoJ-OY5DW5K",
        "outputId": "da4b90bc-c6ff-444b-f421-091fc1264fd3"
      },
      "outputs": [
        {
          "name": "stdout",
          "output_type": "stream",
          "text": [
            "Requirement already satisfied: arize in /usr/local/lib/python3.7/dist-packages (2.1.1)\n",
            "Requirement already satisfied: pandas<2,>=0.25.3 in /usr/local/lib/python3.7/dist-packages (from arize) (1.1.5)\n",
            "Requirement already satisfied: googleapis-common-protos==1.51.0 in /usr/local/lib/python3.7/dist-packages (from arize) (1.51.0)\n",
            "Requirement already satisfied: protobuf==3.12.0 in /usr/local/lib/python3.7/dist-packages (from arize) (3.12.0)\n",
            "Requirement already satisfied: requests-futures==1.0.0 in /usr/local/lib/python3.7/dist-packages (from arize) (1.0.0)\n",
            "Requirement already satisfied: pytz>=2017.2 in /usr/local/lib/python3.7/dist-packages (from pandas<2,>=0.25.3->arize) (2018.9)\n",
            "Requirement already satisfied: python-dateutil>=2.7.3 in /usr/local/lib/python3.7/dist-packages (from pandas<2,>=0.25.3->arize) (2.8.1)\n",
            "Requirement already satisfied: numpy>=1.15.4 in /usr/local/lib/python3.7/dist-packages (from pandas<2,>=0.25.3->arize) (1.19.5)\n",
            "Requirement already satisfied: six>=1.9 in /usr/local/lib/python3.7/dist-packages (from protobuf==3.12.0->arize) (1.15.0)\n",
            "Requirement already satisfied: setuptools in /usr/local/lib/python3.7/dist-packages (from protobuf==3.12.0->arize) (54.1.2)\n",
            "Requirement already satisfied: requests>=1.2.0 in /usr/local/lib/python3.7/dist-packages (from requests-futures==1.0.0->arize) (2.23.0)\n",
            "Requirement already satisfied: idna<3,>=2.5 in /usr/local/lib/python3.7/dist-packages (from requests>=1.2.0->requests-futures==1.0.0->arize) (2.10)\n",
            "Requirement already satisfied: urllib3!=1.25.0,!=1.25.1,<1.26,>=1.21.1 in /usr/local/lib/python3.7/dist-packages (from requests>=1.2.0->requests-futures==1.0.0->arize) (1.24.3)\n",
            "Requirement already satisfied: certifi>=2017.4.17 in /usr/local/lib/python3.7/dist-packages (from requests>=1.2.0->requests-futures==1.0.0->arize) (2020.12.5)\n",
            "Requirement already satisfied: chardet<4,>=3.0.2 in /usr/local/lib/python3.7/dist-packages (from requests>=1.2.0->requests-futures==1.0.0->arize) (3.0.4)\n",
            "Step 2 ✅: Import and Setup Arize Client Done! Now we can start using Arize!\n"
          ]
        }
      ],
      "source": [
        "!pip install arize -q\n",
        "from arize.api import Client\n",
        "from arize.utils.types import ModelTypes\n",
        "\n",
        "SPACE_KEY = 'YOUR_SPACE_KEY'\n",
        "API_KEY = 'YOUR_API_KEY'\n",
        "arize = Client(space_key=SPACE_KEY, api_key=API_KEY)\n",
        "\n",
        "model_id = 'breast_cancer_prediction'\n",
        "model_version = '1.0'\n",
        "model_type = ModelTypes.BINARY\n",
        "\n",
        "print('Step 2 ✅: Import and Setup Arize Client Done! Now we can start using Arize!')"
      ]
    },
    {
      "cell_type": "markdown",
      "metadata": {
        "id": "xAFhPCPOGX4T"
      },
      "source": [
        "## Step 3: Log Training Inferences to Arize\n",
        "First step: Log the training data for your model to Arize! \n"
      ]
    },
    {
      "cell_type": "code",
      "execution_count": null,
      "metadata": {
        "colab": {
          "base_uri": "https://localhost:8080/"
        },
        "id": "kaiZRNt2EfXs",
        "outputId": "28a73d21-adc7-41a6-f45c-64b60ce595a4"
      },
      "outputs": [
        {
          "name": "stdout",
          "output_type": "stream",
          "text": [
            "Step 3 ✅: If no errors showed up, you have sent Training Inferences!\n"
          ]
        }
      ],
      "source": [
        "# Logging training\n",
        "train_prediction_labels = pd.Series(y_train_pred)\n",
        "train_actual_labels = pd.Series(y_train)\n",
        "train_feature_df = pd.DataFrame(X_train, columns=data['feature_names'])\n",
        "\n",
        "train_responses = arize.log_training_records(\n",
        "    model_id=model_id,\n",
        "    model_version=model_version,\n",
        "    model_type=model_type, # this will change depending on your model type\n",
        "    prediction_labels=train_prediction_labels,\n",
        "    actual_labels=train_actual_labels,\n",
        "    features=train_feature_df,\n",
        "    )\n",
        "    \n",
        "## Helper to listen to response code to ensure successful delivery\n",
        "def arize_responses_helper(responses): \n",
        "  for response in cf.as_completed(responses):\n",
        "    res = response.result()\n",
        "    if res.status_code != 200:\n",
        "      print(f'future failed with response code {res.status_code}, {res.text}')\n",
        "\n",
        "arize_responses_helper(train_responses)\n",
        "\n",
        "print('Step 3 ✅: If no errors showed up, you have sent Training Inferences!')"
      ]
    },
    {
      "cell_type": "markdown",
      "metadata": {
        "id": "Luve7h80Gb0L"
      },
      "source": [
        "## Step 4: Log Validation Inferences to Arize\n",
        "Next Step: Log the validation data. You need to include `batch_id` to separate out different validation sets."
      ]
    },
    {
      "cell_type": "code",
      "execution_count": null,
      "metadata": {
        "colab": {
          "base_uri": "https://localhost:8080/"
        },
        "id": "cx3g8DoQD2me",
        "outputId": "75c8d6f8-239c-4e70-e4f8-2210a5692a3b"
      },
      "outputs": [
        {
          "name": "stdout",
          "output_type": "stream",
          "text": [
            "Step 4 ✅: If no errors showed up, you have sent Validation Inferences!\n"
          ]
        }
      ],
      "source": [
        "# Logging validation\n",
        "val_prediction_labels = pd.Series(y_val_pred)\n",
        "val_actual_labels = pd.Series(y_val)\n",
        "val_features_df = pd.DataFrame(X_val, columns=data['feature_names'])\n",
        "\n",
        "val_responses = arize.log_validation_records(\n",
        "    model_id=model_id,\n",
        "    model_version=model_version,\n",
        "    model_type=model_type,\n",
        "    batch_id='batch0',\n",
        "    prediction_labels=val_prediction_labels,\n",
        "    actual_labels=val_actual_labels,\n",
        "    features=val_features_df,\n",
        "    )\n",
        "\n",
        "arize_responses_helper(val_responses)\n",
        "print('Step 4 ✅: If no errors showed up, you have sent Validation Inferences!')"
      ]
    },
    {
      "cell_type": "markdown",
      "metadata": {
        "id": "nNOIm6vxxsYa"
      },
      "source": [
        "## Step 5: Log Production Inferences to Arize  \n",
        "Note: We will be sending our test data to emulate sending production data. \n",
        "\n",
        "1. **Time-Override:** You can directly specify the unix time which the prediction was made by using the optional argument `time_overwrite`. This will set the prediction timestamp. It can be a `pd.Series` or `List` of dtype `int` and the same length as the predictions sent. The timestamp at index 1 will be the prediction timestamp at index 1. You can set the prediction timestamp within the last year.\n",
        "\n",
        "In our example, we used `time_overwrite` to simulate predictions over 30 days so you can see it displayed on arize platform right away.\n",
        "\n",
        "2. For production, we use `log_bulk_predictions` \n",
        "and `log_bulk_actuals`. You can log the ground truth label after logging predictions at any time by matching the `predictions_ids` represented by `ids_df` here in this example.\n",
        "\n"
      ]
    },
    {
      "cell_type": "code",
      "execution_count": null,
      "metadata": {
        "colab": {
          "base_uri": "https://localhost:8080/"
        },
        "id": "cMw00wVXGolo",
        "outputId": "17b011f1-ff92-407c-f304-042bbdfa2070"
      },
      "outputs": [
        {
          "name": "stdout",
          "output_type": "stream",
          "text": [
            "Step 5 ✅: If no errors showed up, you have successfully sent in 143 Test Inferences!\n"
          ]
        }
      ],
      "source": [
        "import datetime\n",
        "import numpy as np\n",
        "\n",
        "test_prediction_labels = pd.Series(y_test_pred) # can also be pd.DataFrame()\n",
        "test_actual_labels = pd.Series(y_test)\n",
        "test_feature_df = pd.DataFrame(X_test, columns=data['feature_names'])\n",
        "\n",
        "# ids_df will be used to match actuals after predictions have already been generated\n",
        "ids_df = pd.DataFrame([str(uuid.uuid4()) for _ in range(len(y_test_pred))])\n",
        "\n",
        "# OPTIONAL: Simulate predictions evenly distributed over 30 days by manually specifying prediction time\n",
        "current_time = datetime.datetime.now().timestamp()\n",
        "earlier_time = (datetime.datetime.now() - datetime.timedelta(days=30)).timestamp()\n",
        "optional_time_overwrite = np.linspace(earlier_time, current_time, num=len(y_test_pred))\n",
        "optional_time_overwrite = pd.Series(optional_time_overwrite.astype(int))\n",
        "\n",
        "# First we log the predictions. We are using log_bulk_predictions since we are sending more than 1 prediction. \n",
        "prediction_responses = arize.log_bulk_predictions(\n",
        "    model_id=model_id,\n",
        "    model_version=model_version,\n",
        "    model_type=model_type,\n",
        "    prediction_ids=ids_df,\n",
        "    prediction_labels=test_prediction_labels,\n",
        "    features=test_feature_df,\n",
        "    time_overwrite=optional_time_overwrite # this argument is optional\n",
        "    )\n",
        "\n",
        "arize_responses_helper(prediction_responses)\n",
        "\n",
        "print('Step 5 ✅: If no errors showed up, you have successfully sent in {} Production Inferences!'.format(len(optional_time_overwrite)))"
      ]
    },
    {
      "cell_type": "markdown",
      "metadata": {
        "id": "FTPwF8uvyK54"
      },
      "source": [
        "## Step 6: Logging Production Actuals to Arize\n",
        "\n",
        "We match the predictions above using `log_bulk_actuals` with the same `prediction_ids`. \n",
        "\n",
        "**Note:** You can use `log_bulk_predictions` for logging bulk predictions, and follow up with individual calls to the Arize API with `log_actual` instead of `log_bulk_actual` as labels become avaliable."
      ]
    },
    {
      "cell_type": "code",
      "execution_count": null,
      "metadata": {
        "colab": {
          "base_uri": "https://localhost:8080/"
        },
        "id": "zN0ejblDxxH3",
        "outputId": "d8f8ccca-0b14-4f28-e581-f175828897a7"
      },
      "outputs": [
        {
          "name": "stdout",
          "output_type": "stream",
          "text": [
            "Step 6 ✅: If no errors showed up, you have successfully sent in and Actuals!\n"
          ]
        }
      ],
      "source": [
        "# Next, we log the actuals. We are using log_bulk_actuals since we are sending more than 1 actual. \n",
        "test_actual_labels = pd.Series(y_test)\n",
        "\n",
        "actual_responses = arize.log_bulk_actuals(\n",
        "    model_id=model_id,\n",
        "    prediction_ids=ids_df, # Pass in the same IDs to match the predictions & actuals. \n",
        "    actual_labels=test_actual_labels\n",
        "    )\n",
        "\n",
        "arize_responses_helper(actual_responses)\n",
        "print('Step 6 ✅: If no errors showed up, you have successfully sent in and Actuals!')"
      ]
    },
    {
      "cell_type": "markdown",
      "metadata": {
        "id": "lyXDMw5_yGRc"
      },
      "source": [
        "# Step 7: Generating and Formatting SHAP Values\n",
        "**SHAP (SHapley Additive exPlanations)** is a game theoretic approach to explain the output of any machine learning model.\n",
        "\n",
        "For more in-depth usage of the `shap` library, visit [SHAP Core Explainers](https://shap-lrjball.readthedocs.io/en/docs_update/generated/shap.Explainer.html) and pick an explainer specific to your machine learning model. `shap.Explainer` is the default explainer that will matches model type, but you can specify your own type. For example, you can choose to use for example `shap.TreeExplainer`, but it won't work on models such as `sklearn.LinearModel.LogisticRegression`.\n",
        "\n",
        "We create this helper function `get_shap_values` to format the data and/or create visualizations for our shap values. We will store our results in a `pd.DataFrame` with matching columns for logging later."
      ]
    },
    {
      "cell_type": "code",
      "execution_count": null,
      "metadata": {
        "colab": {
          "base_uri": "https://localhost:8080/",
          "height": 862
        },
        "id": "mmjBGKFDx1jc",
        "outputId": "56b9c3ab-37a4-4cbe-e0e8-1a079fdbdabb"
      },
      "outputs": [
        {
          "name": "stdout",
          "output_type": "stream",
          "text": [
            "Requirement already satisfied: shap in /usr/local/lib/python3.7/dist-packages (0.39.0)\n",
            "Requirement already satisfied: tqdm>4.25.0 in /usr/local/lib/python3.7/dist-packages (from shap) (4.41.1)\n",
            "Requirement already satisfied: scipy in /usr/local/lib/python3.7/dist-packages (from shap) (1.4.1)\n",
            "Requirement already satisfied: slicer==0.0.7 in /usr/local/lib/python3.7/dist-packages (from shap) (0.0.7)\n",
            "Requirement already satisfied: scikit-learn in /usr/local/lib/python3.7/dist-packages (from shap) (0.22.2.post1)\n",
            "Requirement already satisfied: cloudpickle in /usr/local/lib/python3.7/dist-packages (from shap) (1.3.0)\n",
            "Requirement already satisfied: pandas in /usr/local/lib/python3.7/dist-packages (from shap) (1.1.5)\n",
            "Requirement already satisfied: numpy in /usr/local/lib/python3.7/dist-packages (from shap) (1.19.5)\n",
            "Requirement already satisfied: numba in /usr/local/lib/python3.7/dist-packages (from shap) (0.51.2)\n",
            "Requirement already satisfied: joblib>=0.11 in /usr/local/lib/python3.7/dist-packages (from scikit-learn->shap) (1.0.1)\n",
            "Requirement already satisfied: pytz>=2017.2 in /usr/local/lib/python3.7/dist-packages (from pandas->shap) (2018.9)\n",
            "Requirement already satisfied: python-dateutil>=2.7.3 in /usr/local/lib/python3.7/dist-packages (from pandas->shap) (2.8.1)\n",
            "Requirement already satisfied: llvmlite<0.35,>=0.34.0.dev0 in /usr/local/lib/python3.7/dist-packages (from numba->shap) (0.34.0)\n",
            "Requirement already satisfied: setuptools in /usr/local/lib/python3.7/dist-packages (from numba->shap) (54.1.2)\n",
            "Requirement already satisfied: six>=1.5 in /usr/local/lib/python3.7/dist-packages (from python-dateutil>=2.7.3->pandas->shap) (1.15.0)\n"
          ]
        },
        {
          "data": {
            "image/png": "[encoded data removed]",
            "text/plain": [
              "<Figure size 576x684 with 2 Axes>"
            ]
          },
          "metadata": {
            "needs_background": "light",
            "tags": []
          },
          "output_type": "display_data"
        },
        {
          "name": "stdout",
          "output_type": "stream",
          "text": [
            "Step 7 ✅: If no errors showed up, you should see a SHAP Graph above here!\n"
          ]
        }
      ],
      "source": [
        "!pip install shap\n",
        "import shap\n",
        "\n",
        "def get_shap_values(model, X_data, ExplainerType=shap.Explainer, show_graph=False):\n",
        "    # NOTE: If there are errors, you  need to manually choose which explainer class\n",
        "    explainer = ExplainerType(model, X_data)\n",
        "    shap_values = explainer.shap_values(X_data)\n",
        "\n",
        "    # When not in production, it can be helpful to check graphs for feature explainability\n",
        "    if show_graph:\n",
        "        shap.summary_plot(shap_values, X_data, feature_names=data['feature_names'])\n",
        "    \n",
        "    # NOTE: Arize API expects a DataFrame of the same shape and column name as the model features.\n",
        "    return pd.DataFrame(shap_values, columns=data['feature_names'])\n",
        "\n",
        "shap_values = get_shap_values(clf, X, show_graph=True)\n",
        "print('Step 7 ✅: If no errors showed up, you should see a SHAP Graph above here!')"
      ]
    },
    {
      "cell_type": "markdown",
      "metadata": {
        "id": "6XFuOF2RyANy"
      },
      "source": [
        "# Step 8: Logging SHAP Values to Arize\n",
        "Similar to `log_bulk_actuals`, log the SHAP values using the `shap_df` our helper function generated in the previous sections."
      ]
    },
    {
      "cell_type": "code",
      "execution_count": null,
      "metadata": {
        "colab": {
          "base_uri": "https://localhost:8080/"
        },
        "id": "O4rvBN88x3MP",
        "outputId": "c10a0786-e1e5-4a59-a54b-4f8503145051"
      },
      "outputs": [
        {
          "name": "stdout",
          "output_type": "stream",
          "text": [
            "Step 8 ✅: If no errors showed up, you have sent SHAP values to Arize!\n"
          ]
        }
      ],
      "source": [
        "shap_df = get_shap_values(clf, X_test) # custom function defined earlier\n",
        "\n",
        "shap_responses = arize.log_bulk_shap_values(\n",
        "    model_id=model_id,\n",
        "    prediction_ids=ids_df,\n",
        "    shap_values=shap_df\n",
        "    )\n",
        "\n",
        "arize_responses_helper(shap_responses)\n",
        "print('Step 8 ✅: If no errors showed up, you have sent SHAP values to Arize!')"
      ]
    },
    {
      "cell_type": "markdown",
      "metadata": {
        "collapsed": false
      },
      "source": [
        "## Workspace\n",
        "\n",
        "Visit the [Arize Blog](https://arize.com/blog) and [Resource Center](https://arize.com/resource-hub/) for more resources on ML observability and model monitoring.\n",
        "\n",
        "https://www.arize.com"
      ]
    }
  ],
  "metadata": {
    "colab": {
      "collapsed_sections": [],
      "name": "Arize_Tutorial_Binary_Breast_Cancer.ipynb",
      "provenance": []
    },
    "kernelspec": {
      "display_name": "Python 3",
      "name": "python3"
    },
    "language_info": {
      "name": "python"
    }
  },
  "nbformat": 4,
  "nbformat_minor": 0
}
