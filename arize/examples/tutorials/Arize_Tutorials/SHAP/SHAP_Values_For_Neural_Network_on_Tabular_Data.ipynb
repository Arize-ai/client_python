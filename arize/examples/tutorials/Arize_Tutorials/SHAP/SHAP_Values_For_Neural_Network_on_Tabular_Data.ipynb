{
 "cells": [
  {
   "cell_type": "markdown",
   "metadata": {
    "id": "vLehRGh8mg9h"
   },
   "source": [
    "# Arize Tutorial: SHAP Value For Neural Networks\n",
    "\n",
    "Let's get started on using Arize! ✨\n",
    "\n",
    "Arize helps you visualize your model performance, understand drift & data quality issues, and share insights learned from your models.\n",
    "\n",
    "**SHAP (SHapley Additive exPlanations)** is a game theoretic approach to explain the output of any machine learning model.\n",
    "\n",
    "For neural network models, we can use `GradientExplainer` from the `SHAP` package to generate SHAP values ([API reference](https://shap-lrjball.readthedocs.io/en/latest/generated/shap.GradientExplainer.html)).\n",
    "\n",
    "This demo consists of three parts.\n",
    "\n",
    "1.   Train a neural network on tabular data using `tf.keras`\n",
    "2.   Generate SHAP values using `shap.GradientExplainer`\n",
    "3.   Logging the predictions and SHAP values to the Arize platform\n"
   ]
  },
  {
   "cell_type": "markdown",
   "metadata": {
    "id": "KBccjU85ZrQ3"
   },
   "source": [
    "# 1. Download Data and Train Model\n",
    "For this demo, we use the pulsar classification dataset from UCI ([link](https://archive.ics.uci.edu/ml/datasets/HTRU2))."
   ]
  },
  {
   "cell_type": "code",
   "execution_count": 52,
   "metadata": {
    "colab": {
     "base_uri": "https://localhost:8080/",
     "height": 424
    },
    "id": "6y57_3cGY01S",
    "outputId": "4eae19fb-3a95-4773-ae99-9abebed02bef"
   },
   "outputs": [
    {
     "data": {
      "text/html": [
       "<div>\n",
       "<style scoped>\n",
       "    .dataframe tbody tr th:only-of-type {\n",
       "        vertical-align: middle;\n",
       "    }\n",
       "\n",
       "    .dataframe tbody tr th {\n",
       "        vertical-align: top;\n",
       "    }\n",
       "\n",
       "    .dataframe thead th {\n",
       "        text-align: right;\n",
       "    }\n",
       "</style>\n",
       "<table border=\"1\" class=\"dataframe\">\n",
       "  <thead>\n",
       "    <tr style=\"text-align: right;\">\n",
       "      <th></th>\n",
       "      <th>mean_ip</th>\n",
       "      <th>std_ip</th>\n",
       "      <th>kurtosis_ip</th>\n",
       "      <th>skewness_ip</th>\n",
       "      <th>mean_dm</th>\n",
       "      <th>std_dm</th>\n",
       "      <th>kurtosis_dm</th>\n",
       "      <th>skewness_dm</th>\n",
       "      <th>class</th>\n",
       "    </tr>\n",
       "  </thead>\n",
       "  <tbody>\n",
       "    <tr>\n",
       "      <th>0</th>\n",
       "      <td>140.562500</td>\n",
       "      <td>55.683782</td>\n",
       "      <td>-0.234571</td>\n",
       "      <td>-0.699648</td>\n",
       "      <td>3.199833</td>\n",
       "      <td>19.110426</td>\n",
       "      <td>7.975532</td>\n",
       "      <td>74.242225</td>\n",
       "      <td>0</td>\n",
       "    </tr>\n",
       "    <tr>\n",
       "      <th>1</th>\n",
       "      <td>102.507812</td>\n",
       "      <td>58.882430</td>\n",
       "      <td>0.465318</td>\n",
       "      <td>-0.515088</td>\n",
       "      <td>1.677258</td>\n",
       "      <td>14.860146</td>\n",
       "      <td>10.576487</td>\n",
       "      <td>127.393580</td>\n",
       "      <td>0</td>\n",
       "    </tr>\n",
       "    <tr>\n",
       "      <th>2</th>\n",
       "      <td>103.015625</td>\n",
       "      <td>39.341649</td>\n",
       "      <td>0.323328</td>\n",
       "      <td>1.051164</td>\n",
       "      <td>3.121237</td>\n",
       "      <td>21.744669</td>\n",
       "      <td>7.735822</td>\n",
       "      <td>63.171909</td>\n",
       "      <td>0</td>\n",
       "    </tr>\n",
       "    <tr>\n",
       "      <th>3</th>\n",
       "      <td>136.750000</td>\n",
       "      <td>57.178449</td>\n",
       "      <td>-0.068415</td>\n",
       "      <td>-0.636238</td>\n",
       "      <td>3.642977</td>\n",
       "      <td>20.959280</td>\n",
       "      <td>6.896499</td>\n",
       "      <td>53.593661</td>\n",
       "      <td>0</td>\n",
       "    </tr>\n",
       "    <tr>\n",
       "      <th>4</th>\n",
       "      <td>88.726562</td>\n",
       "      <td>40.672225</td>\n",
       "      <td>0.600866</td>\n",
       "      <td>1.123492</td>\n",
       "      <td>1.178930</td>\n",
       "      <td>11.468720</td>\n",
       "      <td>14.269573</td>\n",
       "      <td>252.567306</td>\n",
       "      <td>0</td>\n",
       "    </tr>\n",
       "    <tr>\n",
       "      <th>...</th>\n",
       "      <td>...</td>\n",
       "      <td>...</td>\n",
       "      <td>...</td>\n",
       "      <td>...</td>\n",
       "      <td>...</td>\n",
       "      <td>...</td>\n",
       "      <td>...</td>\n",
       "      <td>...</td>\n",
       "      <td>...</td>\n",
       "    </tr>\n",
       "    <tr>\n",
       "      <th>17893</th>\n",
       "      <td>136.429688</td>\n",
       "      <td>59.847421</td>\n",
       "      <td>-0.187846</td>\n",
       "      <td>-0.738123</td>\n",
       "      <td>1.296823</td>\n",
       "      <td>12.166062</td>\n",
       "      <td>15.450260</td>\n",
       "      <td>285.931022</td>\n",
       "      <td>0</td>\n",
       "    </tr>\n",
       "    <tr>\n",
       "      <th>17894</th>\n",
       "      <td>122.554688</td>\n",
       "      <td>49.485605</td>\n",
       "      <td>0.127978</td>\n",
       "      <td>0.323061</td>\n",
       "      <td>16.409699</td>\n",
       "      <td>44.626893</td>\n",
       "      <td>2.945244</td>\n",
       "      <td>8.297092</td>\n",
       "      <td>0</td>\n",
       "    </tr>\n",
       "    <tr>\n",
       "      <th>17895</th>\n",
       "      <td>119.335938</td>\n",
       "      <td>59.935939</td>\n",
       "      <td>0.159363</td>\n",
       "      <td>-0.743025</td>\n",
       "      <td>21.430602</td>\n",
       "      <td>58.872000</td>\n",
       "      <td>2.499517</td>\n",
       "      <td>4.595173</td>\n",
       "      <td>0</td>\n",
       "    </tr>\n",
       "    <tr>\n",
       "      <th>17896</th>\n",
       "      <td>114.507812</td>\n",
       "      <td>53.902400</td>\n",
       "      <td>0.201161</td>\n",
       "      <td>-0.024789</td>\n",
       "      <td>1.946488</td>\n",
       "      <td>13.381731</td>\n",
       "      <td>10.007967</td>\n",
       "      <td>134.238910</td>\n",
       "      <td>0</td>\n",
       "    </tr>\n",
       "    <tr>\n",
       "      <th>17897</th>\n",
       "      <td>57.062500</td>\n",
       "      <td>85.797340</td>\n",
       "      <td>1.406391</td>\n",
       "      <td>0.089520</td>\n",
       "      <td>188.306020</td>\n",
       "      <td>64.712562</td>\n",
       "      <td>-1.597527</td>\n",
       "      <td>1.429475</td>\n",
       "      <td>0</td>\n",
       "    </tr>\n",
       "  </tbody>\n",
       "</table>\n",
       "<p>17898 rows × 9 columns</p>\n",
       "</div>"
      ],
      "text/plain": [
       "          mean_ip     std_ip  kurtosis_ip  ...  kurtosis_dm  skewness_dm  class\n",
       "0      140.562500  55.683782    -0.234571  ...     7.975532    74.242225      0\n",
       "1      102.507812  58.882430     0.465318  ...    10.576487   127.393580      0\n",
       "2      103.015625  39.341649     0.323328  ...     7.735822    63.171909      0\n",
       "3      136.750000  57.178449    -0.068415  ...     6.896499    53.593661      0\n",
       "4       88.726562  40.672225     0.600866  ...    14.269573   252.567306      0\n",
       "...           ...        ...          ...  ...          ...          ...    ...\n",
       "17893  136.429688  59.847421    -0.187846  ...    15.450260   285.931022      0\n",
       "17894  122.554688  49.485605     0.127978  ...     2.945244     8.297092      0\n",
       "17895  119.335938  59.935939     0.159363  ...     2.499517     4.595173      0\n",
       "17896  114.507812  53.902400     0.201161  ...    10.007967   134.238910      0\n",
       "17897   57.062500  85.797340     1.406391  ...    -1.597527     1.429475      0\n",
       "\n",
       "[17898 rows x 9 columns]"
      ]
     },
     "execution_count": 52,
     "metadata": {},
     "output_type": "execute_result"
    }
   ],
   "source": [
    "import pandas as pd\n",
    "\n",
    "df = pd.read_csv(\"https://storage.googleapis.com/arize-assets/fixtures/UCI/HTRU_2.zip\")\n",
    "features = df.columns.drop(\"class\")\n",
    "df"
   ]
  },
  {
   "cell_type": "markdown",
   "metadata": {
    "id": "KEh3rmNt9x81"
   },
   "source": [
    "Split data into train and test sets; standardize feature variables."
   ]
  },
  {
   "cell_type": "code",
   "execution_count": 53,
   "metadata": {
    "id": "U4KfqpVANqHT"
   },
   "outputs": [],
   "source": [
    "from sklearn.model_selection import train_test_split\n",
    "\n",
    "X_train, X_test, y_train, y_test = train_test_split(\n",
    "    df[features], df[\"class\"], test_size=1000\n",
    ")\n",
    "\n",
    "from sklearn.preprocessing import StandardScaler\n",
    "\n",
    "sc = StandardScaler()\n",
    "X_train2 = sc.fit_transform(X_train)\n",
    "X_test2 = sc.transform(X_test)"
   ]
  },
  {
   "cell_type": "markdown",
   "metadata": {
    "id": "0tDoL2yx9fe1"
   },
   "source": [
    "Train a neural network using `tf.keras`."
   ]
  },
  {
   "cell_type": "code",
   "execution_count": 54,
   "metadata": {
    "colab": {
     "base_uri": "https://localhost:8080/"
    },
    "id": "3WK74MCMxVPj",
    "outputId": "1a9e850e-f1d9-4d7e-9059-d365135006c8"
   },
   "outputs": [
    {
     "name": "stdout",
     "output_type": "stream",
     "text": [
      "529/529 [==============================] - 2s 2ms/step - loss: 0.2735 - auc_13: 0.9073\n",
      "32/32 [==============================] - 0s 1ms/step - loss: 0.0981 - auc_13: 0.9669\n"
     ]
    },
    {
     "data": {
      "text/plain": [
       "[0.09806293249130249, 0.9669120907783508]"
      ]
     },
     "execution_count": 54,
     "metadata": {},
     "output_type": "execute_result"
    }
   ],
   "source": [
    "import tensorflow as tf\n",
    "\n",
    "model = tf.keras.models.Sequential(\n",
    "    [\n",
    "        tf.keras.layers.Input(shape=(len(features),)),\n",
    "        tf.keras.layers.Dense(16, activation=\"relu\"),\n",
    "        tf.keras.layers.Dense(1, activation=\"sigmoid\"),\n",
    "    ]\n",
    ")\n",
    "\n",
    "model.compile(\n",
    "    optimizer=\"Adam\", loss=\"binary_crossentropy\", metrics=[tf.keras.metrics.AUC()]\n",
    ")\n",
    "model.fit(X_train2, y_train)\n",
    "model.evaluate(X_test2, y_test)"
   ]
  },
  {
   "cell_type": "markdown",
   "metadata": {
    "id": "6Kzr0-aP_Dvo"
   },
   "source": [
    "# 2. Generate SHAP Values\n",
    "Install the SHAP package."
   ]
  },
  {
   "cell_type": "code",
   "execution_count": 55,
   "metadata": {
    "id": "qPr6dZ29_DN7"
   },
   "outputs": [],
   "source": [
    "!pip install -q shap\n",
    "import shap"
   ]
  },
  {
   "cell_type": "markdown",
   "metadata": {
    "id": "ev_fqcGd-SRC"
   },
   "source": [
    "Use `GradientExplainer` to generate SHAP values from neural network models. ([API reference](https://shap-lrjball.readthedocs.io/en/latest/generated/shap.GradientExplainer.html))"
   ]
  },
  {
   "cell_type": "code",
   "execution_count": null,
   "metadata": {
    "colab": {
     "base_uri": "https://localhost:8080/",
     "height": 461
    },
    "id": "oPoSZswr7g4v",
    "outputId": "1c137854-b280-4ebd-cb80-df4db24813d5"
   },
   "outputs": [],
   "source": [
    "e = shap.GradientExplainer(model, X_train2)\n",
    "shap_values = pd.DataFrame(e.shap_values(X_test2)[0], columns=features)\n",
    "shap_values"
   ]
  },
  {
   "cell_type": "markdown",
   "metadata": {
    "id": "3-Vlbc1mBJLF"
   },
   "source": [
    "# 3. Log Predictions to Arize\n",
    "We'll use the following helper functions to generate prediction IDs and timestamps to simulate a production environment."
   ]
  },
  {
   "cell_type": "code",
   "execution_count": 26,
   "metadata": {
    "id": "pZz-9gUyiQbh"
   },
   "outputs": [],
   "source": [
    "import uuid\n",
    "import numpy as np\n",
    "from datetime import datetime, timedelta\n",
    "\n",
    "# Prediction ID is required for logging any dataset\n",
    "def generate_prediction_ids(X):\n",
    "    return pd.Series((str(uuid.uuid4()) for _ in range(len(X_test))))\n",
    "\n",
    "\n",
    "# OPTIONAL: We can directly specify when inferences were made\n",
    "def simulate_production_timestamps(X, days=30):\n",
    "    t = datetime.now()\n",
    "    current_t, earlier_t = t.timestamp(), (t - timedelta(days=days)).timestamp()\n",
    "    return pd.Series(np.linspace(earlier_t, current_t, num=len(X)))"
   ]
  },
  {
   "cell_type": "markdown",
   "metadata": {
    "id": "9jvVBhg4Xndy"
   },
   "source": [
    "Assemble pandas dataframe."
   ]
  },
  {
   "cell_type": "code",
   "execution_count": 19,
   "metadata": {
    "id": "lH5adFRze035"
   },
   "outputs": [],
   "source": [
    "y_test_score = model.predict(X_test2).flatten()\n",
    "prediction_label = list(\n",
    "    map(lambda x: \"pulsar\" if x > 0.5 else \"non-pulsar\", y_test_score)\n",
    ")\n",
    "actual_label = list(map(lambda x: \"pulsar\" if x > 0.5 else \"non-pulsar\", y_test))\n",
    "\n",
    "shap_values_column_names_mapping = {f\"{feat}\": f\"{feat}_shap\" for feat in features}\n",
    "\n",
    "production_dataset = pd.concat(\n",
    "    [\n",
    "        X_test.reset_index(drop=True),\n",
    "        pd.DataFrame(\n",
    "            {\n",
    "                \"prediction_id\": generate_prediction_ids(X_test),\n",
    "                \"prediction_ts\": simulate_production_timestamps(X_test),\n",
    "                \"prediction_label\": prediction_label,\n",
    "                \"prediction_score\": y_test_score,\n",
    "                \"actual_label\": actual_label,\n",
    "            }\n",
    "        ),\n",
    "        shap_values.rename(columns=shap_values_column_names_mapping),\n",
    "    ],\n",
    "    axis=1,\n",
    ")"
   ]
  },
  {
   "cell_type": "markdown",
   "metadata": {
    "id": "CSzAYZtTXrf_"
   },
   "source": [
    "Initialize Arize client."
   ]
  },
  {
   "cell_type": "code",
   "execution_count": null,
   "metadata": {
    "colab": {
     "base_uri": "https://localhost:8080/"
    },
    "id": "JTa-uyEVkimi",
    "outputId": "79d1e072-7fd7-4640-9683-52b28670e485"
   },
   "outputs": [],
   "source": [
    "!pip install -q arize\n",
    "from arize.pandas.logger import Client, Schema\n",
    "from arize.utils.types import ModelTypes, Environments\n",
    "\n",
    "SPACE_KEY = \"SPACE_KEY\"\n",
    "API_KEY = \"API_KEY\"\n",
    "\n",
    "arize_client = Client(space_key=SPACE_KEY, api_key=API_KEY)\n",
    "\n",
    "if SPACE_KEY == \"SPACE_KEY\" or API_KEY == \"API_KEY\":\n",
    "    raise ValueError(\"❌ NEED TO CHANGE SPACE AND/OR API_KEY\")\n",
    "else:\n",
    "    print(\"✅ Import and Setup Arize Client Done! Now we can start using Arize!\")"
   ]
  },
  {
   "cell_type": "markdown",
   "metadata": {
    "id": "MaiOoWkcXuOh"
   },
   "source": [
    "Log data to arize."
   ]
  },
  {
   "cell_type": "code",
   "execution_count": null,
   "metadata": {
    "colab": {
     "base_uri": "https://localhost:8080/"
    },
    "id": "NTECwi5hjHIT",
    "outputId": "0f4ad84b-bf8f-4f28-8f16-36ae245905fd"
   },
   "outputs": [],
   "source": [
    "# Define a Schema() object for Arize to pick up data from the correct columns for logging\n",
    "production_schema = Schema(\n",
    "    prediction_id_column_name=\"prediction_id\",  # REQUIRED\n",
    "    timestamp_column_name=\"prediction_ts\",\n",
    "    prediction_label_column_name=\"prediction_label\",\n",
    "    prediction_score_column_name=\"prediction_score\",\n",
    "    actual_label_column_name=\"actual_label\",\n",
    "    feature_column_names=features,\n",
    "    shap_values_column_names=shap_values_column_names_mapping,\n",
    ")\n",
    "\n",
    "# arize_client.log returns a Response object from Python's requests module\n",
    "response = arize_client.log(\n",
    "    dataframe=production_dataset,\n",
    "    schema=production_schema,\n",
    "    model_id=\"pulsar\",\n",
    "    model_type=ModelTypes.SCORE_CATEGORICAL,\n",
    "    environment=Environments.PRODUCTION,\n",
    ")\n",
    "\n",
    "# If successful, the server will return a status_code of 200\n",
    "if response.status_code != 200:\n",
    "    print(\n",
    "        f\"❌ logging failed with response code {response.status_code}, {response.text}\"\n",
    "    )\n",
    "else:\n",
    "    print(\n",
    "        f\"✅ You have successfully logged {len(production_dataset)} data points to Arize!\"\n",
    "    )"
   ]
  },
  {
   "cell_type": "markdown",
   "metadata": {
    "id": "dVwASBqDlOGq"
   },
   "source": [
    "#  Conclusion\n",
    "You now know how to seamlessly log SHAP values for neural networks onto the Arize platform. Go to [Arize](https://app.arize.com/) in order to analyze and monitor the logged SHAP values."
   ]
  },
  {
   "cell_type": "markdown",
   "metadata": {
    "id": "Y6wn-bOXlcVU"
   },
   "source": [
    "### Overview\n",
    "Arize is an end-to-end ML observability and model monitoring platform. The platform is designed to help ML engineers and data science practitioners surface and fix issues with ML models in production faster with:\n",
    "- Automated ML monitoring and model monitoring\n",
    "- Workflows to troubleshoot model performance\n",
    "- Real-time visualizations for model performance monitoring, data quality monitoring, and drift monitoring\n",
    "- Model prediction cohort analysis\n",
    "- Pre-deployment model validation\n",
    "- Integrated model explainability\n",
    "\n",
    "### Website\n",
    "Visit Us At: https://arize.com/model-monitoring/\n",
    "\n",
    "### Additional Resources\n",
    "- [What is ML observability?](https://arize.com/what-is-ml-observability/)\n",
    "- [Playbook to model monitoring in production](https://arize.com/the-playbook-to-monitor-your-models-performance-in-production/)\n",
    "- [Using statistical distance metrics for ML monitoring and observability](https://arize.com/using-statistical-distance-metrics-for-machine-learning-observability/)\n",
    "- [ML infrastructure tools for data preparation](https://arize.com/ml-infrastructure-tools-for-data-preparation/)\n",
    "- [ML infrastructure tools for model building](https://arize.com/ml-infrastructure-tools-for-model-building/)\n",
    "- [ML infrastructure tools for production](https://arize.com/ml-infrastructure-tools-for-production-part-1/)\n",
    "- [ML infrastructure tools for model deployment and model serving](https://arize.com/ml-infrastructure-tools-for-production-part-2-model-deployment-and-serving/)\n",
    "- [ML infrastructure tools for ML monitoring and observability](https://arize.com/ml-infrastructure-tools-ml-observability/)\n",
    "\n",
    "Visit the [Arize Blog](https://arize.com/blog) and [Resource Center](https://arize.com/resource-hub/) for more resources on ML observability and model monitoring."
   ]
  }
 ],
 "metadata": {
  "colab": {
   "collapsed_sections": [],
   "name": "SHAP Values For Neural Network on Tabular Data",
   "provenance": []
  },
  "kernelspec": {
   "display_name": "Python 3",
   "name": "python3"
  },
  "language_info": {
   "name": "python"
  }
 },
 "nbformat": 4,
 "nbformat_minor": 0
}
