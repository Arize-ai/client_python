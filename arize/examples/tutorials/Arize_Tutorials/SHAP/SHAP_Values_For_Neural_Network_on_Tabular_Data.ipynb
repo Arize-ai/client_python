{
  "cells": [
    {
      "cell_type": "markdown",
      "metadata": {
        "id": "vLehRGh8mg9h"
      },
      "source": [
        "# Arize Tutorial: SHAP Value For Neural Networks\n",
        "\n",
        "Let's get started on using Arize! ✨\n",
        "\n",
        "Arize helps you visualize your model performance, understand drift & data quality issues, and share insights learned from your models.\n",
        "\n",
        "**SHAP (SHapley Additive exPlanations)** is a game theoretic approach to explain the output of any machine learning model.\n",
        "\n",
        "For neural network models, we can use `GradientExplainer` from the `SHAP` package to generate SHAP values ([API reference](https://shap-lrjball.readthedocs.io/en/latest/generated/shap.GradientExplainer.html)).\n",
        "\n",
        "This demo consists of three parts.\n",
        "\n",
        "1.   Train a neural network on tabular data using `tf.keras`\n",
        "2.   Generate SHAP values using `shap.GradientExplainer`\n",
        "3.   Logging the predictions and SHAP values to the Arize platform\n"
      ]
    },
    {
      "cell_type": "markdown",
      "metadata": {
        "id": "KBccjU85ZrQ3"
      },
      "source": [
        "# 1. Download Data and Train Model\n",
        "For this demo, we use the pulsar classification dataset from UCI ([link](https://archive.ics.uci.edu/ml/datasets/HTRU2))."
      ]
    },
    {
      "cell_type": "code",
      "execution_count": null,
      "metadata": {
        "colab": {
          "base_uri": "https://localhost:8080/",
          "height": 424
        },
        "id": "6y57_3cGY01S",
        "outputId": "4eae19fb-3a95-4773-ae99-9abebed02bef"
      },
      "outputs": [],
      "source": [
        "import pandas as pd\n",
        "\n",
        "df = pd.read_csv(\"https://storage.googleapis.com/arize-assets/fixtures/UCI/HTRU_2.zip\")\n",
        "features = df.columns.drop(\"class\")\n",
        "df"
      ]
    },
    {
      "cell_type": "markdown",
      "metadata": {
        "id": "KEh3rmNt9x81"
      },
      "source": [
        "## 1.1. Split data into train and test sets"
      ]
    },
    {
      "cell_type": "code",
      "execution_count": null,
      "metadata": {
        "id": "U4KfqpVANqHT"
      },
      "outputs": [],
      "source": [
        "from sklearn.model_selection import train_test_split\n",
        "\n",
        "X_train, X_test, y_train, y_test = train_test_split(\n",
        "    df[features], df[\"class\"], test_size=1000\n",
        ")\n",
        "\n",
        "from sklearn.preprocessing import StandardScaler\n",
        "\n",
        "# Standardize feature variables.\n",
        "sc = StandardScaler()\n",
        "X_train2 = sc.fit_transform(X_train)\n",
        "X_test2 = sc.transform(X_test)"
      ]
    },
    {
      "cell_type": "markdown",
      "metadata": {
        "id": "0tDoL2yx9fe1"
      },
      "source": [
        "## 1.2. Train a neural network using `tf.keras`."
      ]
    },
    {
      "cell_type": "code",
      "execution_count": null,
      "metadata": {
        "colab": {
          "base_uri": "https://localhost:8080/"
        },
        "id": "3WK74MCMxVPj",
        "outputId": "1a9e850e-f1d9-4d7e-9059-d365135006c8"
      },
      "outputs": [],
      "source": [
        "import tensorflow as tf\n",
        "\n",
        "model = tf.keras.models.Sequential(\n",
        "    [\n",
        "        tf.keras.layers.Input(shape=(len(features),)),\n",
        "        tf.keras.layers.Dense(16, activation=\"relu\"),\n",
        "        tf.keras.layers.Dense(1, activation=\"sigmoid\"),\n",
        "    ]\n",
        ")\n",
        "\n",
        "model.compile(\n",
        "    optimizer=\"Adam\", loss=\"binary_crossentropy\", metrics=[tf.keras.metrics.AUC()]\n",
        ")\n",
        "model.fit(X_train2, y_train)\n",
        "model.evaluate(X_test2, y_test)"
      ]
    },
    {
      "cell_type": "markdown",
      "metadata": {
        "id": "6Kzr0-aP_Dvo"
      },
      "source": [
        "# 2. Generate SHAP Values\n",
        "Install the SHAP package."
      ]
    },
    {
      "cell_type": "code",
      "execution_count": null,
      "metadata": {
        "id": "qPr6dZ29_DN7"
      },
      "outputs": [],
      "source": [
        "!pip install -q shap\n",
        "import shap"
      ]
    },
    {
      "cell_type": "markdown",
      "metadata": {
        "id": "ev_fqcGd-SRC"
      },
      "source": [
        "## 2.1. Use `GradientExplainer` to generate SHAP values from neural network models\n",
        "\n",
        "Read more in ([SHAP API reference](https://shap-lrjball.readthedocs.io/en/latest/generated/shap.GradientExplainer.html))\n"
      ]
    },
    {
      "cell_type": "code",
      "execution_count": null,
      "metadata": {
        "colab": {
          "base_uri": "https://localhost:8080/",
          "height": 461
        },
        "id": "oPoSZswr7g4v",
        "outputId": "1c137854-b280-4ebd-cb80-df4db24813d5"
      },
      "outputs": [],
      "source": [
        "e = shap.GradientExplainer(model, X_train2)\n",
        "shap_values = pd.DataFrame(e.shap_values(X_test2)[0], columns=features)\n",
        "shap_values"
      ]
    },
    {
      "cell_type": "markdown",
      "metadata": {
        "id": "3-Vlbc1mBJLF"
      },
      "source": [
        "# 3. Log Predictions to Arize\n",
        "We'll use the following helper functions to generate prediction IDs and timestamps to simulate a production environment."
      ]
    },
    {
      "cell_type": "code",
      "execution_count": null,
      "metadata": {
        "id": "pZz-9gUyiQbh"
      },
      "outputs": [],
      "source": [
        "import uuid\n",
        "import numpy as np\n",
        "from datetime import datetime, timedelta\n",
        "\n",
        "# Prediction ID is required for logging any dataset\n",
        "def generate_prediction_ids(X):\n",
        "    return pd.Series((str(uuid.uuid4()) for _ in range(len(X_test))))\n",
        "\n",
        "\n",
        "# OPTIONAL: We can directly specify when inferences were made\n",
        "def simulate_production_timestamps(X, days=30):\n",
        "    t = datetime.now()\n",
        "    current_t, earlier_t = t.timestamp(), (t - timedelta(days=days)).timestamp()\n",
        "    return pd.Series(np.linspace(earlier_t, current_t, num=len(X)))"
      ]
    },
    {
      "cell_type": "markdown",
      "metadata": {
        "id": "9jvVBhg4Xndy"
      },
      "source": [
        "## 3.1. Assemble pandas dataframe"
      ]
    },
    {
      "cell_type": "code",
      "execution_count": null,
      "metadata": {
        "id": "lH5adFRze035"
      },
      "outputs": [],
      "source": [
        "y_test_score = model.predict(X_test2).flatten()\n",
        "prediction_label = list(\n",
        "    map(lambda x: \"pulsar\" if x > 0.5 else \"non-pulsar\", y_test_score)\n",
        ")\n",
        "actual_label = list(map(lambda x: \"pulsar\" if x > 0.5 else \"non-pulsar\", y_test))\n",
        "\n",
        "shap_values_column_names_mapping = {f\"{feat}\": f\"{feat}_shap\" for feat in features}\n",
        "\n",
        "production_dataset = pd.concat(\n",
        "    [\n",
        "        X_test.reset_index(drop=True),\n",
        "        pd.DataFrame(\n",
        "            {\n",
        "                \"prediction_id\": generate_prediction_ids(X_test),\n",
        "                \"prediction_ts\": simulate_production_timestamps(X_test),\n",
        "                \"prediction_label\": prediction_label,\n",
        "                \"prediction_score\": y_test_score,\n",
        "                \"actual_label\": actual_label,\n",
        "            }\n",
        "        ),\n",
        "        shap_values.rename(columns=shap_values_column_names_mapping),\n",
        "    ],\n",
        "    axis=1,\n",
        ")"
      ]
    },
    {
      "cell_type": "markdown",
      "metadata": {
        "id": "CSzAYZtTXrf_"
      },
      "source": [
        "## 3.2 Initialize Arize client\n",
        "You can find your `API_KEY` and `SPACE_KEY` by navigating to the settings page in your workspace as shown below (only space admins can see the keys). \n",
        "\n",
        "\n",
        "\n",
        "<img src=\"https://storage.cloud.google.com/arize-assets/fixtures/copy-keys.png\" width=\"700\">"
      ]
    },
    {
      "cell_type": "code",
      "execution_count": null,
      "metadata": {
        "colab": {
          "base_uri": "https://localhost:8080/"
        },
        "id": "JTa-uyEVkimi",
        "outputId": "79d1e072-7fd7-4640-9683-52b28670e485"
      },
      "outputs": [],
      "source": [
        "!pip install -q arize\n",
        "from arize.pandas.logger import Client, Schema\n",
        "from arize.utils.types import ModelTypes, Environments\n",
        "\n",
        "SPACE_KEY = \"SPACE_KEY\"\n",
        "API_KEY = \"API_KEY\"\n",
        "arize_client = Client(space_key=SPACE_KEY, api_key=API_KEY)\n",
        "\n",
        "model_id=\"pulsar\"\n",
        "model_version = \"1.0\"\n",
        "model_type = ModelTypes.SCORE_CATEGORICAL\n",
        "\n",
        "\n",
        "if SPACE_KEY == \"SPACE_KEY\" or API_KEY == \"API_KEY\":\n",
        "    raise ValueError(\"❌ NEED TO CHANGE SPACE AND/OR API_KEY\")\n",
        "else:\n",
        "    print(\"✅ Import and Setup Arize Client Done! Now we can start using Arize!\")"
      ]
    },
    {
      "cell_type": "markdown",
      "metadata": {
        "id": "MaiOoWkcXuOh"
      },
      "source": [
        "## 3.3 Log data to arize"
      ]
    },
    {
      "cell_type": "code",
      "execution_count": null,
      "metadata": {
        "colab": {
          "base_uri": "https://localhost:8080/"
        },
        "id": "NTECwi5hjHIT",
        "outputId": "0f4ad84b-bf8f-4f28-8f16-36ae245905fd"
      },
      "outputs": [],
      "source": [
        "# Define a Schema() object for Arize to pick up data from the correct columns for logging\n",
        "production_schema = Schema(\n",
        "    prediction_id_column_name=\"prediction_id\",  # REQUIRED\n",
        "    timestamp_column_name=\"prediction_ts\",\n",
        "    prediction_label_column_name=\"prediction_label\",\n",
        "    prediction_score_column_name=\"prediction_score\",\n",
        "    actual_label_column_name=\"actual_label\",\n",
        "    feature_column_names=features,\n",
        "    shap_values_column_names=shap_values_column_names_mapping,\n",
        ")\n",
        "\n",
        "# arize_client.log returns a Response object from Python's requests module\n",
        "response = arize_client.log(\n",
        "    dataframe=production_dataset,\n",
        "    schema=production_schema,\n",
        "    model_id = model_id,\n",
        "    model_version=model_version,\n",
        "    model_type=model_type,\n",
        "    environment=Environments.PRODUCTION,\n",
        ")\n",
        "\n",
        "# If successful, the server will return a status_code of 200\n",
        "if response.status_code != 200:\n",
        "    print(\n",
        "        f\"❌ logging failed with response code {response.status_code}, {response.text}\"\n",
        "    )\n",
        "else:\n",
        "    print(\n",
        "        f\"✅ You have successfully logged {len(production_dataset)} data points to Arize!\"\n",
        "    )"
      ]
    },
    {
      "cell_type": "markdown",
      "metadata": {
        "id": "dVwASBqDlOGq"
      },
      "source": [
        "### Check Data Ingestion Information\n",
        "You now know how to seamlessly log SHAP values for neural networks onto the Arize platform. Go to [Arize](https://app.arize.com/) in order to analyze and monitor the logged SHAP values.\n",
        "\n",
        "Data will be available in the UI in about 10 minutes after it was received. If data from a new model is sent, the model will be reflected almost immediately in the Arize platform. However, you will not see data yet. To verify data has been sent correctly and is being processed, we recommend that you check our Data Ingestion tab.\n",
        "\n",
        "You will be able to see the predictions, actuals, and feature importances that have been sent in the last week, last day or last 30 minutes.\n",
        "\n",
        "An example view of the Data Ingestion tab from a model, when data is sent continuously over 30 minutes, is shown in the image below.\n",
        "\n",
        "<img src=\"https://storage.cloud.google.com/arize-assets/fixtures/data-ingestion-tab.png\" width=\"700\">\n",
        "\n"
      ]
    },
    {
      "cell_type": "markdown",
      "metadata": {
        "id": "Y6wn-bOXlcVU"
      },
      "source": [
        "### Overview\n",
        "Arize is an end-to-end ML observability and model monitoring platform. The platform is designed to help ML engineers and data science practitioners surface and fix issues with ML models in production faster with:\n",
        "- Automated ML monitoring and model monitoring\n",
        "- Workflows to troubleshoot model performance\n",
        "- Real-time visualizations for model performance monitoring, data quality monitoring, and drift monitoring\n",
        "- Model prediction cohort analysis\n",
        "- Pre-deployment model validation\n",
        "- Integrated model explainability\n",
        "\n",
        "### Website\n",
        "Visit Us At: https://arize.com/model-monitoring/\n",
        "\n",
        "### Additional Resources\n",
        "- [What is ML observability?](https://arize.com/what-is-ml-observability/)\n",
        "- [Playbook to model monitoring in production](https://arize.com/the-playbook-to-monitor-your-models-performance-in-production/)\n",
        "- [Using statistical distance metrics for ML monitoring and observability](https://arize.com/using-statistical-distance-metrics-for-machine-learning-observability/)\n",
        "- [ML infrastructure tools for data preparation](https://arize.com/ml-infrastructure-tools-for-data-preparation/)\n",
        "- [ML infrastructure tools for model building](https://arize.com/ml-infrastructure-tools-for-model-building/)\n",
        "- [ML infrastructure tools for production](https://arize.com/ml-infrastructure-tools-for-production-part-1/)\n",
        "- [ML infrastructure tools for model deployment and model serving](https://arize.com/ml-infrastructure-tools-for-production-part-2-model-deployment-and-serving/)\n",
        "- [ML infrastructure tools for ML monitoring and observability](https://arize.com/ml-infrastructure-tools-ml-observability/)\n",
        "\n",
        "Visit the [Arize Blog](https://arize.com/blog) and [Resource Center](https://arize.com/resource-hub/) for more resources on ML observability and model monitoring."
      ]
    }
  ],
  "metadata": {
    "colab": {
      "collapsed_sections": [],
      "name": "SHAP Values For Neural Network on Tabular Data",
      "provenance": []
    },
    "kernelspec": {
      "display_name": "Python 3 (ipykernel)",
      "language": "python",
      "name": "python3"
    },
    "language_info": {
      "codemirror_mode": {
        "name": "ipython",
        "version": 3
      },
      "file_extension": ".py",
      "mimetype": "text/x-python",
      "name": "python",
      "nbconvert_exporter": "python",
      "pygments_lexer": "ipython3",
      "version": "3.7.11"
    }
  },
  "nbformat": 4,
  "nbformat_minor": 1
}
