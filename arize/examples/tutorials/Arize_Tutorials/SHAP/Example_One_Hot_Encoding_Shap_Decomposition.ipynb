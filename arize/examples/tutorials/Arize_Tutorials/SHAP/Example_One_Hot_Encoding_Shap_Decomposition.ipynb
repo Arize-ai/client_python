{
  "cells": [
    {
      "cell_type": "markdown",
      "metadata": {
        "id": "o8ypuH-ciGgQ"
      },
      "source": [
        "# Example 1-Hot Encoding Decomposition\n",
        "This is a simple example on how to decompose 1-hot encoded features and/or shap values into their original multi-class state prior to sending data to Arize.\n",
        "\n",
        "In this case, we have features, predicions, actuals, and their respective SHAP values all in a single dataframe. In the case where your data is not colocated, you can send each peice (prediction, actual, and SHAP values) separatedly as long as the `prediction_id` variable from a SHAP and/or Actual latent call matches a previously sent Prediction."
      ]
    },
    {
      "cell_type": "code",
      "execution_count": 25,
      "metadata": {
        "id": "iKFOHukVLFS4"
      },
      "outputs": [],
      "source": [
        "import pandas as pd\n",
        "\n",
        "## Sample data set with features, predictions, actuals and shap values\n",
        "df = pd.read_csv('https://storage.googleapis.com/arize-assets/fixtures/example_shap_data.zip')"
      ]
    },
    {
      "cell_type": "code",
      "execution_count": 26,
      "metadata": {},
      "outputs": [
        {
          "data": {
            "text/html": [
              "<div>\n",
              "<style scoped>\n",
              "    .dataframe tbody tr th:only-of-type {\n",
              "        vertical-align: middle;\n",
              "    }\n",
              "\n",
              "    .dataframe tbody tr th {\n",
              "        vertical-align: top;\n",
              "    }\n",
              "\n",
              "    .dataframe thead th {\n",
              "        text-align: right;\n",
              "    }\n",
              "</style>\n",
              "<table border=\"1\" class=\"dataframe\">\n",
              "  <thead>\n",
              "    <tr style=\"text-align: right;\">\n",
              "      <th></th>\n",
              "      <th>term_one_h_0_shap</th>\n",
              "      <th>term_one_h_1_shap</th>\n",
              "      <th>term_one_h_2_shap</th>\n",
              "      <th>installment_shap</th>\n",
              "      <th>grade_shap</th>\n",
              "      <th>home_ownership_shap</th>\n",
              "      <th>annual_income_shap</th>\n",
              "      <th>verification_status_shap</th>\n",
              "      <th>pymnt_plan_shap</th>\n",
              "      <th>purpose_shap</th>\n",
              "      <th>...</th>\n",
              "      <th>mths_since_last_record</th>\n",
              "      <th>open_acc</th>\n",
              "      <th>pub_rec</th>\n",
              "      <th>revol_bal</th>\n",
              "      <th>revol_util</th>\n",
              "      <th>total_acc</th>\n",
              "      <th>fico_score</th>\n",
              "      <th>fico_range</th>\n",
              "      <th>prediction</th>\n",
              "      <th>actual</th>\n",
              "    </tr>\n",
              "  </thead>\n",
              "  <tbody>\n",
              "    <tr>\n",
              "      <th>0</th>\n",
              "      <td>0.66</td>\n",
              "      <td>0.10</td>\n",
              "      <td>0.20</td>\n",
              "      <td>0.10</td>\n",
              "      <td>0.20</td>\n",
              "      <td>0.43</td>\n",
              "      <td>0.26</td>\n",
              "      <td>0.40</td>\n",
              "      <td>0.30</td>\n",
              "      <td>0.4</td>\n",
              "      <td>...</td>\n",
              "      <td>0.9</td>\n",
              "      <td>1.60</td>\n",
              "      <td>0.80</td>\n",
              "      <td>1.20</td>\n",
              "      <td>0.60</td>\n",
              "      <td>1.50</td>\n",
              "      <td>1.5</td>\n",
              "      <td>2.20</td>\n",
              "      <td>Default</td>\n",
              "      <td>Not Default</td>\n",
              "    </tr>\n",
              "    <tr>\n",
              "      <th>1</th>\n",
              "      <td>0.64</td>\n",
              "      <td>0.01</td>\n",
              "      <td>0.01</td>\n",
              "      <td>0.01</td>\n",
              "      <td>0.02</td>\n",
              "      <td>0.43</td>\n",
              "      <td>0.34</td>\n",
              "      <td>0.04</td>\n",
              "      <td>0.02</td>\n",
              "      <td>5.6</td>\n",
              "      <td>...</td>\n",
              "      <td>0.1</td>\n",
              "      <td>0.15</td>\n",
              "      <td>0.16</td>\n",
              "      <td>0.14</td>\n",
              "      <td>0.02</td>\n",
              "      <td>0.04</td>\n",
              "      <td>0.1</td>\n",
              "      <td>0.16</td>\n",
              "      <td>Not Default</td>\n",
              "      <td>Not Default</td>\n",
              "    </tr>\n",
              "  </tbody>\n",
              "</table>\n",
              "<p>2 rows × 46 columns</p>\n",
              "</div>"
            ],
            "text/plain": [
              "   term_one_h_0_shap  term_one_h_1_shap  term_one_h_2_shap  installment_shap  \\\n",
              "0               0.66               0.10               0.20              0.10   \n",
              "1               0.64               0.01               0.01              0.01   \n",
              "\n",
              "   grade_shap  home_ownership_shap  annual_income_shap  \\\n",
              "0        0.20                 0.43                0.26   \n",
              "1        0.02                 0.43                0.34   \n",
              "\n",
              "   verification_status_shap  pymnt_plan_shap  purpose_shap  ...  \\\n",
              "0                      0.40             0.30           0.4  ...   \n",
              "1                      0.04             0.02           5.6  ...   \n",
              "\n",
              "   mths_since_last_record  open_acc  pub_rec  revol_bal  revol_util  \\\n",
              "0                     0.9      1.60     0.80       1.20        0.60   \n",
              "1                     0.1      0.15     0.16       0.14        0.02   \n",
              "\n",
              "   total_acc  fico_score  fico_range   prediction       actual  \n",
              "0       1.50         1.5        2.20      Default  Not Default  \n",
              "1       0.04         0.1        0.16  Not Default  Not Default  \n",
              "\n",
              "[2 rows x 46 columns]"
            ]
          },
          "execution_count": 26,
          "metadata": {},
          "output_type": "execute_result"
        }
      ],
      "source": [
        "## Here is an example of data where some features being 1-hot encoded while others are not\n",
        "df.head(2)"
      ]
    },
    {
      "cell_type": "code",
      "execution_count": 27,
      "metadata": {
        "id": "KRMZ77M_N8Yj"
      },
      "outputs": [],
      "source": [
        "## Since we need the same feature names as the original prediction inputs, we'll need to \"un-encode\" the 1-hot encoded features\n",
        "## In this case addr_state and term features were 1-hot encoded, so we create a dictionary where keys are the decomposed names \n",
        "## and the values are all the 1-hot encoded names\n",
        "encoding_map = {\"term_shap\": ['term_one_h_0_shap', 'term_one_h_1_shap', 'term_one_h_2_shap','term_one_h_3_shap'],\n",
        "              \"addr_state_shap\": ['addr_state_one_h_0_shap', 'addr_state_one_h_1_shap', 'addr_state_one_h_2_shap']}"
      ]
    },
    {
      "cell_type": "code",
      "execution_count": 28,
      "metadata": {
        "id": "DWSO5kSzOKEC"
      },
      "outputs": [],
      "source": [
        "## This helper function decomposed the 1-hot encoded columns into their original names.\n",
        "## We calculate the sum of the SHAP values for each origial column from each 1-hot column\n",
        "## Reference: https://github.com/slundberg/shap/issues/679#issuecomment-508575567\n",
        "\n",
        "def map_shap(shap_df, one_h_map):\n",
        "  for key, value in one_h_map.items():\n",
        "    shap_df[key] = shap_df[value].sum(axis=1)\n",
        "    shap_df = shap_df.drop(columns=value)\n",
        "  return shap_df"
      ]
    },
    {
      "cell_type": "code",
      "execution_count": 29,
      "metadata": {
        "colab": {
          "base_uri": "https://localhost:8080/",
          "height": 165
        },
        "id": "d2Ujj3WtO3E-",
        "outputId": "c49a90e1-e48d-4863-d21f-cf854d795bb0"
      },
      "outputs": [
        {
          "data": {
            "text/html": [
              "<div>\n",
              "<style scoped>\n",
              "    .dataframe tbody tr th:only-of-type {\n",
              "        vertical-align: middle;\n",
              "    }\n",
              "\n",
              "    .dataframe tbody tr th {\n",
              "        vertical-align: top;\n",
              "    }\n",
              "\n",
              "    .dataframe thead th {\n",
              "        text-align: right;\n",
              "    }\n",
              "</style>\n",
              "<table border=\"1\" class=\"dataframe\">\n",
              "  <thead>\n",
              "    <tr style=\"text-align: right;\">\n",
              "      <th></th>\n",
              "      <th>installment_shap</th>\n",
              "      <th>grade_shap</th>\n",
              "      <th>home_ownership_shap</th>\n",
              "      <th>annual_income_shap</th>\n",
              "      <th>verification_status_shap</th>\n",
              "      <th>pymnt_plan_shap</th>\n",
              "      <th>purpose_shap</th>\n",
              "      <th>inq_last_6mths_shap</th>\n",
              "      <th>mths_since_last_delinq_shap</th>\n",
              "      <th>mths_since_last_record_shap</th>\n",
              "      <th>...</th>\n",
              "      <th>pub_rec</th>\n",
              "      <th>revol_bal</th>\n",
              "      <th>revol_util</th>\n",
              "      <th>total_acc</th>\n",
              "      <th>fico_score</th>\n",
              "      <th>fico_range</th>\n",
              "      <th>prediction</th>\n",
              "      <th>actual</th>\n",
              "      <th>term_shap</th>\n",
              "      <th>addr_state_shap</th>\n",
              "    </tr>\n",
              "  </thead>\n",
              "  <tbody>\n",
              "    <tr>\n",
              "      <th>0</th>\n",
              "      <td>0.10</td>\n",
              "      <td>0.20</td>\n",
              "      <td>0.43</td>\n",
              "      <td>0.26</td>\n",
              "      <td>0.40</td>\n",
              "      <td>0.30</td>\n",
              "      <td>0.4</td>\n",
              "      <td>0.30</td>\n",
              "      <td>0.70</td>\n",
              "      <td>0.9</td>\n",
              "      <td>...</td>\n",
              "      <td>0.80</td>\n",
              "      <td>1.20</td>\n",
              "      <td>0.60</td>\n",
              "      <td>1.50</td>\n",
              "      <td>1.5</td>\n",
              "      <td>2.20</td>\n",
              "      <td>Default</td>\n",
              "      <td>Not Default</td>\n",
              "      <td>2.56</td>\n",
              "      <td>1.30</td>\n",
              "    </tr>\n",
              "    <tr>\n",
              "      <th>1</th>\n",
              "      <td>0.01</td>\n",
              "      <td>0.02</td>\n",
              "      <td>0.43</td>\n",
              "      <td>0.34</td>\n",
              "      <td>0.04</td>\n",
              "      <td>0.02</td>\n",
              "      <td>5.6</td>\n",
              "      <td>0.13</td>\n",
              "      <td>0.01</td>\n",
              "      <td>0.1</td>\n",
              "      <td>...</td>\n",
              "      <td>0.16</td>\n",
              "      <td>0.14</td>\n",
              "      <td>0.02</td>\n",
              "      <td>0.04</td>\n",
              "      <td>0.1</td>\n",
              "      <td>0.16</td>\n",
              "      <td>Not Default</td>\n",
              "      <td>Not Default</td>\n",
              "      <td>0.88</td>\n",
              "      <td>0.16</td>\n",
              "    </tr>\n",
              "  </tbody>\n",
              "</table>\n",
              "<p>2 rows × 41 columns</p>\n",
              "</div>"
            ],
            "text/plain": [
              "   installment_shap  grade_shap  home_ownership_shap  annual_income_shap  \\\n",
              "0              0.10        0.20                 0.43                0.26   \n",
              "1              0.01        0.02                 0.43                0.34   \n",
              "\n",
              "   verification_status_shap  pymnt_plan_shap  purpose_shap  \\\n",
              "0                      0.40             0.30           0.4   \n",
              "1                      0.04             0.02           5.6   \n",
              "\n",
              "   inq_last_6mths_shap  mths_since_last_delinq_shap  \\\n",
              "0                 0.30                         0.70   \n",
              "1                 0.13                         0.01   \n",
              "\n",
              "   mths_since_last_record_shap  ...  pub_rec  revol_bal  revol_util  \\\n",
              "0                          0.9  ...     0.80       1.20        0.60   \n",
              "1                          0.1  ...     0.16       0.14        0.02   \n",
              "\n",
              "   total_acc  fico_score  fico_range   prediction       actual  term_shap  \\\n",
              "0       1.50         1.5        2.20      Default  Not Default       2.56   \n",
              "1       0.04         0.1        0.16  Not Default  Not Default       0.88   \n",
              "\n",
              "   addr_state_shap  \n",
              "0             1.30  \n",
              "1             0.16  \n",
              "\n",
              "[2 rows x 41 columns]"
            ]
          },
          "execution_count": 29,
          "metadata": {},
          "output_type": "execute_result"
        }
      ],
      "source": [
        "shap_values = map_shap(df, encoding_map)\n",
        "shap_values.head(2)"
      ]
    },
    {
      "cell_type": "code",
      "execution_count": 30,
      "metadata": {
        "id": "WAs7AeGPWoQa"
      },
      "outputs": [],
      "source": [
        "## Features names for your model\n",
        "feature_names = ['installment', 'grade', 'home_ownership', 'annual_income',\n",
        "       'verification_status', 'pymnt_plan', 'purpose', 'inq_last_6mths',\n",
        "       'mths_since_last_delinq', 'mths_since_last_record', 'open_acc',\n",
        "       'pub_rec', 'revol_bal', 'revol_util', 'total_acc', 'fico_score',\n",
        "       'fico_range', 'term', 'addr_state']"
      ]
    },
    {
      "cell_type": "code",
      "execution_count": 31,
      "metadata": {
        "id": "KKiRBGZbcmdh"
      },
      "outputs": [],
      "source": [
        "## Helper function to get name of shap columns\n",
        "def get_shap_column_names(feature_names):\n",
        "  shap_column_names = []\n",
        "  for name in feature_names:\n",
        "    shap_column_names.append(f\"{name}_shap\")\n",
        "  return shap_column_names\n",
        "\n",
        "shap_column_names = get_shap_column_names(feature_names)"
      ]
    },
    {
      "cell_type": "code",
      "execution_count": 34,
      "metadata": {
        "colab": {
          "base_uri": "https://localhost:8080/"
        },
        "id": "3scW8Hs5O4Ac",
        "outputId": "2efe8107-c5bb-4e1f-b455-a6f48ad9a5b9"
      },
      "outputs": [],
      "source": [
        "## Now send decomposed Shap values into Arize\n",
        "!pip install -q arize\n",
        "from arize.utils.types import ModelTypes, Environments\n",
        "from arize.pandas.logger import Client, Schema\n",
        "\n",
        "ORGANIZATION_KEY = \"ORGANIZATION_KEY\"\n",
        "API_KEY = \"API_KEY\"\n",
        "arize_client = Client(organization_key=ORGANIZATION_KEY, api_key=API_KEY)"
      ]
    },
    {
      "cell_type": "code",
      "execution_count": 35,
      "metadata": {
        "colab": {
          "base_uri": "https://localhost:8080/"
        },
        "id": "rA580ZxMYKwH",
        "outputId": "c8a4b392-b917-414c-a5ec-f2ec5c1df25e"
      },
      "outputs": [
        {
          "name": "stdout",
          "output_type": "stream",
          "text": [
            "logging completed with response code 200\n"
          ]
        }
      ],
      "source": [
        "response = arize_client.log(\n",
        "    dataframe=shap_values,\n",
        "    model_id=\"Example-SHAP-Decomposition\",\n",
        "    model_version=\"1.0\",\n",
        "    model_type=ModelTypes.CATEGORICAL,\n",
        "    environment=Environments.PRODUCTION,\n",
        "    schema = Schema(\n",
        "        prediction_id_column_name=\"ids\",\n",
        "        prediction_label_column_name=\"prediction\",\n",
        "        actual_label_column_name=\"actual\",\n",
        "        feature_column_names=feature_names,\n",
        "        shap_values_column_names=dict(zip(feature_names, shap_column_names)),\n",
        "    )\n",
        ")\n",
        "\n",
        "if response.status_code != 200:\n",
        "    print(f\"logging failed with response code {response.status_code}, {response.text}\")\n",
        "else:\n",
        "    print(f\"logging completed with response code {response.status_code}\")"
      ]
    }
  ],
  "metadata": {
    "colab": {
      "collapsed_sections": [],
      "name": "Example_One_Hot_Encoding_Shap_Decomposition.ipynb",
      "provenance": []
    },
    "interpreter": {
      "hash": "59f3145cc67fcda0343c2852f1f97113a2e6e98841e887156424448e7071ad54"
    },
    "kernelspec": {
      "display_name": "Python 3.9.6 64-bit ('base': conda)",
      "name": "python3"
    },
    "language_info": {
      "codemirror_mode": {
        "name": "ipython",
        "version": 3
      },
      "file_extension": ".py",
      "mimetype": "text/x-python",
      "name": "python",
      "nbconvert_exporter": "python",
      "pygments_lexer": "ipython3",
      "version": "3.9.6"
    }
  },
  "nbformat": 4,
  "nbformat_minor": 0
}
