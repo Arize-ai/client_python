{
  "cells": [
    {
      "cell_type": "markdown",
      "source": [
        "# Arize Tutorial: Surrogate Model Feature Importance\n",
        "\n",
        "Let's get started on using Arize! ✨\n",
        "\n",
        "Arize helps you visualize your model performance, understand drift & data quality issues, and share insights learned from your models.\n",
        "\n",
        "A surrogate model is an interpretable model trained on predicting the predictions of a black box model. The goal is to approximate the predictions of the black box model as closely as possible and generate feature importance values from the interpretable surrogate model. The benefit of this approach is that it does not require knowledge of the inner workings of the black box model.\n",
        "\n",
        "In this tutorial we use the `surrogate_explainability` flag to compute feature importance values from a surrogate model using only the prediction outputs from a black box model. Both [classification](#classification) and [regression](#regression) examples are provided below and feature importance values are logged to Arize using our [Pandas logger](https://docs.arize.com/arize/api-reference/python-sdk/arize.pandas)."
      ],
      "metadata": {}
    },
    {
      "cell_type": "markdown",
      "source": [
        "## Install Dependencies and Import Libraries 📚"
      ],
      "metadata": {
        "id": "b05Jlx_0NR4C"
      }
    },
    {
      "cell_type": "code",
      "execution_count": 1,
      "source": [
        "!pip install -q arize[MimicExplainer]\n",
        "\n",
        "import pandas as pd\n",
        "import numpy as np\n",
        "from sklearn.datasets import load_breast_cancer\n",
        "from sklearn.svm import SVC\n",
        "import uuid\n",
        "from datetime import datetime, timedelta\n",
        "\n",
        "from arize.pandas.logger import Client, Schema\n",
        "from arize.utils.types import ModelTypes, Environments"
      ],
      "outputs": [],
      "metadata": {}
    },
    {
      "cell_type": "markdown",
      "source": [
        "<a name=\"classification\"></a>\n",
        "# Classification Example\n",
        "### Generate example\n",
        "In this example we'll use a support vector machine (SVM) as our black box model. Only the prediction outputs of the SVM model is needed to train the surrogate model, and feature importances are generated from the surrogate model and logged in Arize."
      ],
      "metadata": {
        "id": "IX28e_HMKJLY"
      }
    },
    {
      "cell_type": "code",
      "execution_count": 2,
      "source": [
        "bc = load_breast_cancer()\n",
        "\n",
        "feature_names = bc.feature_names\n",
        "target_names = bc.target_names\n",
        "data, target = bc.data, bc.target\n",
        "\n",
        "df = pd.DataFrame(data, columns=feature_names)\n",
        "\n",
        "model = SVC(probability=True).fit(df, target)\n",
        "\n",
        "prediction_label = pd.Series(map(lambda v: target_names[v], model.predict(df)))\n",
        "prediction_score = pd.Series(map(lambda v: v[1], model.predict_proba(df)))\n",
        "actual_label = pd.Series(map(lambda v: target_names[v], target))\n",
        "actual_score = pd.Series(target)"
      ],
      "outputs": [],
      "metadata": {
        "id": "mKIK-ha6MoFZ"
      }
    },
    {
      "cell_type": "markdown",
      "source": [
        "## Initialize Arize client\n",
        "You can find your `API_KEY` and `SPACE_KEY` by navigating to the settings page in your workspace as shown below (only space admins can see the keys). \n",
        "\n",
        "\n",
        "\n",
        "<img src=\"https://storage.cloud.google.com/arize-assets/fixtures/copy-keys.png\" width=\"700\">"
      ],
      "metadata": {}
    },
    {
      "cell_type": "code",
      "execution_count": null,
      "source": [
        "SPACE_KEY = \"SPACE_KEY\"\n",
        "API_KEY = \"API_KEY\"\n",
        "arize_client = Client(space_key=SPACE_KEY, api_key=API_KEY)\n",
        "\n",
        "model_id=\"surrogate_model_example_classification\"\n",
        "model_version=\"1.0\"\n",
        "model_type=ModelTypes.SCORE_CATEGORICAL\n",
        "\n",
        "\n",
        "if SPACE_KEY == \"SPACE_KEY\" or API_KEY == \"API_KEY\":\n",
        "    raise ValueError(\"❌ NEED TO CHANGE SPACE AND/OR API_KEY\")\n",
        "else:\n",
        "    print(\"✅ Import and Setup Arize Client Done! Now we can start using Arize!\")"
      ],
      "outputs": [],
      "metadata": {}
    },
    {
      "cell_type": "markdown",
      "source": [
        "### Use the `surrogate_explainability` flag in the Python SDK\n"
      ],
      "metadata": {}
    },
    {
      "cell_type": "markdown",
      "source": [
        "Helper functions to simulate prediction IDs and timestamps."
      ],
      "metadata": {}
    },
    {
      "cell_type": "code",
      "execution_count": null,
      "source": [
        "# Prediction ID is required for logging any dataset\n",
        "def generate_prediction_ids(df):\n",
        "    return pd.Series((str(uuid.uuid4()) for _ in range(len(df))), index=df.index)\n",
        "\n",
        "\n",
        "# OPTIONAL: We can directly specify when inferences were made\n",
        "def simulate_production_timestamps(df, days=30):\n",
        "    t = datetime.now()\n",
        "    current_t, earlier_t = t.timestamp(), (t - timedelta(days=days)).timestamp()\n",
        "    return pd.Series(np.linspace(earlier_t, current_t, num=len(df)), index=df.index)"
      ],
      "outputs": [],
      "metadata": {}
    },
    {
      "cell_type": "markdown",
      "source": [
        "Assemble new Pandas DataFrame as a production dataset with prediction IDs and timestamps."
      ],
      "metadata": {}
    },
    {
      "cell_type": "code",
      "execution_count": null,
      "source": [
        "production_dataset = pd.concat(\n",
        "    [\n",
        "        pd.DataFrame(\n",
        "            {\n",
        "                \"prediction_id\": generate_prediction_ids(df),\n",
        "                \"prediction_ts\": simulate_production_timestamps(df),\n",
        "                \"prediction_label\": prediction_label,\n",
        "                \"actual_label\": actual_label,\n",
        "                \"prediction_score\": prediction_score,\n",
        "                \"actual_score\": actual_score,\n",
        "            }\n",
        "        ),\n",
        "        df\n",
        "    ],\n",
        "    axis=1,\n",
        ")\n",
        "production_dataset"
      ],
      "outputs": [],
      "metadata": {}
    },
    {
      "cell_type": "code",
      "execution_count": null,
      "source": [
        "# Define a Schema() object for Arize to pick up data from the correct columns for logging\n",
        "production_schema = Schema(\n",
        "    prediction_id_column_name=\"prediction_id\",  # REQUIRED\n",
        "    timestamp_column_name=\"prediction_ts\",\n",
        "    prediction_label_column_name=\"prediction_label\",\n",
        "    prediction_score_column_name=\"prediction_score\",\n",
        "    actual_label_column_name=\"actual_label\",\n",
        "    actual_score_column_name=\"actual_score\",\n",
        "    feature_column_names=feature_names,\n",
        ")\n",
        "\n",
        "# arize_client.log returns a Response object from Python's requests module\n",
        "response = arize_client.log(\n",
        "    dataframe=production_dataset,\n",
        "    schema=production_schema,\n",
        "    model_id=model_id,\n",
        "    model_version=model_version,\n",
        "    model_type=model_type,\n",
        "    environment=Environments.PRODUCTION,\n",
        "    surrogate_explainability = True     # assign surrogate_explainability flag to True here \n",
        ")\n",
        "\n",
        "# If successful, the server will return a status_code of 200\n",
        "if response.status_code != 200:\n",
        "    print(\n",
        "        f\"❌ logging failed with response code {response.status_code}, {response.text}\"\n",
        "    )\n",
        "else:\n",
        "    print(\n",
        "        f\"✅ You have successfully logged {len(production_dataset)} data points to Arize!\"\n",
        "    )"
      ],
      "outputs": [],
      "metadata": {}
    },
    {
      "cell_type": "markdown",
      "source": [
        "<a name=\"regression\"></a>\n",
        "# Regression Example\n",
        "### Generate example\n",
        "In this example we'll use a support vector machine (SVM) as our black box model. Only the prediction outputs of the SVM model is needed to train the surrogate model, and feature importances are generated from the surrogate model and sent to Arize."
      ],
      "metadata": {
        "id": "g9ZzTfYpW_n1"
      }
    },
    {
      "cell_type": "code",
      "execution_count": null,
      "source": [
        "import pandas as pd\n",
        "import numpy as np\n",
        "from sklearn.datasets import fetch_california_housing\n",
        "\n",
        "housing = fetch_california_housing()\n",
        "\n",
        "# Use only 1,000 data point for a speedier example\n",
        "data_reg = housing.data[:1000]\n",
        "target_reg = housing.target[:1000]\n",
        "feature_names_reg = housing.feature_names\n",
        "\n",
        "df_reg = pd.DataFrame(data_reg, columns=feature_names_reg)\n",
        "\n",
        "from sklearn.svm import SVR\n",
        "\n",
        "model_reg = SVR().fit(df_reg, target_reg)\n",
        "\n",
        "prediction_label_reg = pd.Series(model_reg.predict(df_reg))\n",
        "actual_label_reg = pd.Series(target_reg)"
      ],
      "outputs": [],
      "metadata": {
        "id": "5At4d3U3_cqD"
      }
    },
    {
      "cell_type": "markdown",
      "source": [
        "### Use the `surrogate_explainability` flag in the Python SDK\n",
        "\n",
        "Assemble Pandas DataFrame as a production dataset with prediction IDs and timestamps.\n"
      ],
      "metadata": {}
    },
    {
      "cell_type": "code",
      "execution_count": null,
      "source": [
        "production_dataset_reg = pd.concat(\n",
        "    [\n",
        "        pd.DataFrame(\n",
        "            {\n",
        "                \"prediction_id\": generate_prediction_ids(df_reg),\n",
        "                \"prediction_ts\": simulate_production_timestamps(df_reg),\n",
        "                \"prediction_label\": prediction_label_reg,\n",
        "                \"actual_label\": actual_label_reg,\n",
        "            }\n",
        "        ),\n",
        "        df_reg\n",
        "    ],\n",
        "    axis=1,\n",
        ")\n",
        "\n",
        "production_dataset_reg"
      ],
      "outputs": [],
      "metadata": {}
    },
    {
      "cell_type": "markdown",
      "source": [
        "Send DataFrame to Arize."
      ],
      "metadata": {}
    },
    {
      "cell_type": "code",
      "execution_count": null,
      "source": [
        "# Define a Schema() object for Arize to pick up data from the correct columns for logging\n",
        "production_schema_reg = Schema(\n",
        "    prediction_id_column_name=\"prediction_id\",  # REQUIRED\n",
        "    timestamp_column_name=\"prediction_ts\",\n",
        "    prediction_label_column_name=\"prediction_label\",\n",
        "    actual_label_column_name=\"actual_label\",\n",
        "    feature_column_names=feature_names_reg,\n",
        ")\n",
        "\n",
        "# arize_client.log returns a Response object from Python's requests module\n",
        "response_reg = arize_client.log(\n",
        "    dataframe=production_dataset_reg,\n",
        "    schema=production_schema_reg,\n",
        "    model_id=\"surrogate_model_example_regression\",\n",
        "    model_type=ModelTypes.NUMERIC,\n",
        "    environment=Environments.PRODUCTION,\n",
        "    surrogate_explainability = True    # assign surrogate_explainability flag to True here\n",
        ")\n",
        "\n",
        "# If successful, the server will return a status_code of 200\n",
        "if response_reg.status_code != 200:\n",
        "    print(\n",
        "        f\"❌ logging failed with response code {response_reg.status_code}, {response_reg.text}\"\n",
        "    )\n",
        "else:\n",
        "    print(\n",
        "        f\"✅ You have successfully logged {len(production_dataset_reg)} data points to Arize!\"\n",
        "    )"
      ],
      "outputs": [],
      "metadata": {}
    },
    {
      "cell_type": "markdown",
      "source": [
        "### Check Data Ingestion Information\n",
        "You now know how to seamlessly log surrogate model feature importance values onto the Arize platform. Go to [Arize](https://app.arize.com/) in order to analyze and monitor the logged SHAP values.\n",
        "\n",
        "Data will be available in the UI in about 10 minutes after it was received. If data from a new model is sent, the model will be reflected almost immediately in the Arize platform. However, you will not see data yet. To verify data has been sent correctly and is being processed, we recommend that you check our Data Ingestion tab.\n",
        "\n",
        "You will be able to see the predictions, actuals, and feature importances that have been sent in the last week, last day or last 30 minutes.\n",
        "\n",
        "An example view of the Data Ingestion tab from a model, when data is sent continuously over 30 minutes, is shown in the image below.\n",
        "\n",
        "<img src=\"https://storage.cloud.google.com/arize-assets/fixtures/data-ingestion-tab.png\" width=\"700\">\n",
        "\n"
      ],
      "metadata": {}
    },
    {
      "cell_type": "markdown",
      "source": [
        "### Overview\n",
        "Arize is an end-to-end ML observability and model monitoring platform. The platform is designed to help ML engineers and data science practitioners surface and fix issues with ML models in production faster with:\n",
        "- Automated ML monitoring and model monitoring\n",
        "- Workflows to troubleshoot model performance\n",
        "- Real-time visualizations for model performance monitoring, data quality monitoring, and drift monitoring\n",
        "- Model prediction cohort analysis\n",
        "- Pre-deployment model validation\n",
        "- Integrated model explainability\n",
        "\n",
        "### Website\n",
        "Visit Us At: https://arize.com/model-monitoring/\n",
        "\n",
        "### Additional Resources\n",
        "- [What is ML observability?](https://arize.com/what-is-ml-observability/)\n",
        "- [Playbook to model monitoring in production](https://arize.com/the-playbook-to-monitor-your-models-performance-in-production/)\n",
        "- [Using statistical distance metrics for ML monitoring and observability](https://arize.com/using-statistical-distance-metrics-for-machine-learning-observability/)\n",
        "- [ML infrastructure tools for data preparation](https://arize.com/ml-infrastructure-tools-for-data-preparation/)\n",
        "- [ML infrastructure tools for model building](https://arize.com/ml-infrastructure-tools-for-model-building/)\n",
        "- [ML infrastructure tools for production](https://arize.com/ml-infrastructure-tools-for-production-part-1/)\n",
        "- [ML infrastructure tools for model deployment and model serving](https://arize.com/ml-infrastructure-tools-for-production-part-2-model-deployment-and-serving/)\n",
        "- [ML infrastructure tools for ML monitoring and observability](https://arize.com/ml-infrastructure-tools-ml-observability/)\n",
        "\n",
        "Visit the [Arize Blog](https://arize.com/blog) and [Resource Center](https://arize.com/resource-hub/) for more resources on ML observability and model monitoring.\n"
      ],
      "metadata": {
        "id": "8KNwwwRBt_Yv"
      }
    }
  ],
  "metadata": {
    "colab": {
      "collapsed_sections": [],
      "name": "Surrogate_Model_Feature_Importance.ipynb",
      "provenance": []
    },
    "interpreter": {
      "hash": "44f2ba5201c5d008ca292c6d2742c1931ff3c9c42b4929a623eb387700228879"
    },
    "kernelspec": {
      "name": "python3",
      "display_name": "Python 3.8.8 64-bit ('base': conda)"
    },
    "language_info": {
      "codemirror_mode": {
        "name": "ipython",
        "version": 3
      },
      "file_extension": ".py",
      "mimetype": "text/x-python",
      "name": "python",
      "nbconvert_exporter": "python",
      "pygments_lexer": "ipython3",
      "version": "3.8.8"
    }
  },
  "nbformat": 4,
  "nbformat_minor": 2
}