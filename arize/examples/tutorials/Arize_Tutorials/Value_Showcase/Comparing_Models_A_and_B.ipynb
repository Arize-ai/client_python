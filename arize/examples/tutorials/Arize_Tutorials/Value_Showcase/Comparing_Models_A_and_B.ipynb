{
  "nbformat": 4,
  "nbformat_minor": 0,
  "metadata": {
    "colab": {
      "name": "Comparing Models A and B.ipynb",
      "provenance": [],
      "toc_visible": true
    },
    "kernelspec": {
      "name": "python3",
      "display_name": "Python 3"
    },
    "language_info": {
      "name": "python"
    }
  },
  "cells": [
    {
      "cell_type": "markdown",
      "metadata": {
        "id": "rIwsFskYR1wJ"
      },
      "source": [
        "# Getting Started with the Arize Platform - Comparing Models\n",
        "\n",
        "**In this walkthrough, we are going to look at how to use Arize to compare two models with Arize performance dashboards!**\n",
        "\n",
        "In this example, you manage the default/fraud detection model for the widely used [Lending Club](https://www.lendingclub.com/). You have been serving two models with very similar performances in traing/validation, now you would like to investigate which model will you finally use to serve customers in the end. \n",
        "\n",
        "**Specifically, you want to not only investigate model metrics such as accuracy, but you also want to understand model performance in certain segments of your customers to optimize for better customer lifetime value**, so you turn to Arize for investigation. \n",
        "\n",
        "## The Story: Low Fico Score\n",
        "\n",
        "In this example, we will choose `fico_score <= 500` as our customer segment of interest. Our data science director wants to extend the product line to be more fair for different disadvantaged groups, so correctly predicting outcome for loan in this group is incredibly important.\n",
        "\n",
        "You want to pick the best model to optimize accuracy, but you also want to optimize protecting vulnerable groups. \n",
        "\n",
        "\n",
        "## Our steps to resolving this issue will be :\n",
        "\n",
        "1. Log our models onto the Arize platform using the Python SDK\n",
        "2. Set up Dashboards to view two model performances side by side\n",
        "3. Use dashboard features to hone in on specific reasons to select one model over another."
      ]
    },
    {
      "cell_type": "markdown",
      "metadata": {
        "id": "-G7ZAvxhXRKW"
      },
      "source": [
        "# Step 1: Setup and Getting the Data \n",
        "### Step 1.1: Loading data from Arize client\n",
        "We will load in some pre-existing data for the Lending Club model - training data, features, predictions, and class probabilities."
      ]
    },
    {
      "cell_type": "code",
      "metadata": {
        "id": "jLfYh5Tx1BLl"
      },
      "source": [
        "import pandas as pd\n",
        "import numpy as np\n",
        "import concurrent.futures as cf\n",
        "import uuid\n",
        "import datetime\n",
        "\n",
        "\n",
        "def unpack_data(data):\n",
        "    X = data.drop(columns=['label', 'prediction', 'score'])\n",
        "    y = data['label']\n",
        "    pred = data['prediction']\n",
        "    score = data['score']\n",
        "    return X, y, pred, score\n",
        "\n",
        "model_a_data = pd.read_csv('https://storage.googleapis.com/arize-assets/fixtures/compare-model-a.csv')\n",
        "model_b_data = pd.read_csv('https://storage.googleapis.com/arize-assets/fixtures/compare-model-b.csv')\n",
        "\n",
        "X_m1, y_m1, y_pred_m1, y_pred_score_m1 = unpack_data(model_a_data)\n",
        "X_m2, y_m2, y_pred_m2, y_pred_score_m2 = unpack_data(model_b_data)"
      ],
      "execution_count": 1,
      "outputs": []
    },
    {
      "cell_type": "markdown",
      "metadata": {
        "id": "VyKv8r_mg3dQ"
      },
      "source": [
        "### Step 1.2: Setting up Arize Client:\n",
        "First, copy the Arize `API_KEY` and `ORG_KEY` from your admin page linked below!\n",
        "\n",
        "\n",
        "[![Button_Open.png](https://storage.googleapis.com/arize-assets/fixtures/Button_Open.png)](https://app.arize.com/admin)"
      ]
    },
    {
      "cell_type": "code",
      "metadata": {
        "id": "uDjEX0rJzeG4",
        "colab": {
          "base_uri": "https://localhost:8080/"
        },
        "outputId": "61a303bb-86b1-42f7-b9d1-a008f374656d"
      },
      "source": [
        "!pip install arize -q\n",
        "from arize.api import Client\n",
        "import concurrent.futures as cf\n",
        "from arize.types import ModelTypes\n",
        "\n",
        "# Step 1.2: Set-up Arize Client and model meta data\n",
        "ORGANIZATION_KEY = 'ORGANIZATION_KEY'\n",
        "API_KEY = 'API_KEY'\n",
        "arize = Client(organization_key=ORGANIZATION_KEY, api_key=API_KEY)\n",
        "\n",
        "model_type = ModelTypes.SCORE_CATEGORICAL\n",
        "\n",
        "if (ORGANIZATION_KEY == 'ORGANIZATION_KEY' or API_KEY == 'API_KEY'): \n",
        "    raise ValueError(\"❌ NEED TO CHANGE ORGANIZATION AND/OR API_KEY\")\n",
        "else: \n",
        "    print(\"✅ Arize setup complete!\")\n",
        "\n",
        "# Step 2: Some helpful helper functions for later\n",
        "def arize_responses_helper(responses): \n",
        "    for response in cf.as_completed(responses):\n",
        "        res = response.result()\n",
        "        if res.status_code != 200:\n",
        "            raise ValueError(f'future failed with response code {res.status_code}, {res.text}')\n",
        "\n",
        "def simulate_production_timestamps(num_entries, days=30):\n",
        "    \"\"\"\n",
        "    Takes in: number of entries used for bulk_log, and number of days we want simulate back trace\n",
        "    Returns prediction_timestamps arguement for bulk_log, uniformally distributed over time period\n",
        "    \"\"\"\n",
        "    current_time = datetime.datetime.now().timestamp()\n",
        "    earlier_time = (datetime.datetime.now() - datetime.timedelta(days=days)).timestamp()\n",
        "    optional_prediction_timestamp = np.linspace(earlier_time, current_time, num=num_entries)\n",
        "    optional_prediction_timestamp = pd.Series(optional_prediction_timestamp.astype(int))\n",
        "    return optional_prediction_timestamp"
      ],
      "execution_count": 4,
      "outputs": [
        {
          "output_type": "stream",
          "text": [
            "✅ Arize setup complete!\n"
          ],
          "name": "stdout"
        }
      ]
    },
    {
      "cell_type": "markdown",
      "metadata": {
        "id": "6uSqp4cfg4eo"
      },
      "source": [
        "### Step 1.3: Logging Model A and Model B to Arize\n",
        "First, we take our existing models and log them to Arize using the Python SDK. For more details on how **`arize.bulk_log`** works, visit out documentations page below.\n",
        "\n",
        "[![Buttons_OpenOrange.png](https://storage.googleapis.com/arize-assets/fixtures/Buttons_OpenOrange.png)](https://arize.gitbook.io/arize/apis/python-sdk-1/arize.bulk_log)"
      ]
    },
    {
      "cell_type": "code",
      "metadata": {
        "id": "ADi6XlPuYfdB",
        "colab": {
          "base_uri": "https://localhost:8080/"
        },
        "outputId": "7d4998f5-5ebf-426b-e2e1-c9d9338d06b7"
      },
      "source": [
        "# Logging Production Data A\n",
        "log_bulk_responses = arize.bulk_log(\n",
        "    model_id='compare-models-demo-a',\n",
        "    model_version='1.0',\n",
        "    model_type=ModelTypes.SCORE_CATEGORICAL,\n",
        "    prediction_ids=pd.Series([str(uuid.uuid4()) for _ in range(len(y_pred_m1))]),\n",
        "    prediction_labels=pd.DataFrame({'prediction_labels': y_pred_m1, \n",
        "                                    'prediction_scores': y_pred_score_m1\n",
        "                                    }),\n",
        "    actual_labels=y_m1,\n",
        "    features=X_m1,\n",
        "    prediction_timestamps=simulate_production_timestamps(len(y_pred_m1), days=30),\n",
        ")\n",
        "arize_responses_helper(log_bulk_responses)\n",
        "\n",
        "\n",
        "# Logging Production Data A\n",
        "log_bulk_responses = arize.bulk_log(\n",
        "    model_id='compare-models-demo-b',\n",
        "    model_version='1.0',\n",
        "    model_type=ModelTypes.SCORE_CATEGORICAL,\n",
        "    prediction_ids=pd.Series([str(uuid.uuid4()) for _ in range(len(y_pred_m2))]),\n",
        "    prediction_labels=pd.DataFrame({'prediction_labels': y_pred_m2, \n",
        "                                    'prediction_scores': y_pred_score_m2\n",
        "                                    }),\n",
        "    actual_labels=y_m2,\n",
        "    features=X_m2,\n",
        "    prediction_timestamps=simulate_production_timestamps(len(y_pred_m2), days=30),\n",
        ")\n",
        "arize_responses_helper(log_bulk_responses)\n",
        "\n",
        "print(\"✅ Logged Models A & B to Arize!\")"
      ],
      "execution_count": 6,
      "outputs": [
        {
          "output_type": "stream",
          "text": [
            "✅ Logged Models A & B to Arize!\n"
          ],
          "name": "stdout"
        }
      ]
    },
    {
      "cell_type": "markdown",
      "metadata": {
        "id": "H532GMx0hHMH"
      },
      "source": [
        "## Coffee Time ☕️\n",
        "Note that the Arize performs takes about 10 minutes to index the data. While the model should appear immediately, the data will not show up till the indexing is done. Feel free to go grab a cup of coffee as Arize works its magic! 🔮\n",
        "\n",
        "Your Prediction Volume may look slightly different!\n",
        "\n",
        "![image.png](https://storage.googleapis.com/arize-assets/fixtures/waiting-on-data.png)\n",
        "\n",
        "Actual data will show up under **Model Health**. Once the number changes from **0 Actuals** to **Actuals** (with summary statistics listed in the drop-down), your production actuals will have been fully recorded on Arize!\n",
        "\n",
        "![image.png](https://storage.googleapis.com/arize-assets/fixtures/waiting-on-actual-data.png)"
      ]
    },
    {
      "cell_type": "markdown",
      "metadata": {
        "id": "Hk55zhegitFb"
      },
      "source": [
        "# Step 2: Set-up Model Performance Dashboard on Arize\n",
        "**Model Performance Dashboards** are customizable and flexible dashboards capable of enabling live and continuous monitoring of model statistics, time series, and distributions. With Dashboards, you can quickly set up recurring deepdive into slices of your data (i.e, segments of users, business bottlenecks, etc), serving purposes such as compare model performances, validate your prediction volumes, and many more.\n",
        "\n",
        "In this example, we will use a **Template** option as shown below for **Compare Model A with Model B**. There are other templated options depending on your model types as well (i.e regression, scored model, binary classification, multi-class, etc).\n"
      ]
    },
    {
      "cell_type": "markdown",
      "metadata": {
        "id": "zIOQsiFaYiQi"
      },
      "source": [
        "## 2.1 Setting up Initial Dashboard\n",
        "First, click on **Template** and then **Compare Model A with Model B**\n",
        "1. Set your Dashboard Title, we will call the Dashboard **Compare Performance of A and B**\n",
        "2. Select `compare-models-demo-a` and `compare-models-demo-b`\n",
        "\n",
        "You could select model versions to compare (or even compare model versions against each other). In this example, we leave model version as `All` since we only logged one version!\n",
        "\n",
        "**✏️ You can click on the gifs to replay it**\n",
        "[![image.png](https://storage.googleapis.com/arize-assets/fixtures/create-template.gif)](https://storage.googleapis.com/arize-assets/fixtures/create-template.gif)\n"
      ]
    },
    {
      "cell_type": "markdown",
      "metadata": {
        "id": "abyPZKWGixTg"
      },
      "source": [
        "# Step 3: Use Dashboard Features to Compare Models\n",
        "Here, we see that the two models are very similar in general distribution and prediction volumes. Prediction counts are similar, and distribution aren't significantly different either.\n",
        "\n",
        "**Let's dig deeper into soe accuracy statistics we are interested in.**"
      ]
    },
    {
      "cell_type": "markdown",
      "metadata": {
        "id": "lrhmj6cHbuQ2"
      },
      "source": [
        "## Step 3.1 Monitoring Overall Accuracy Statistic\n",
        "Let's try creating some statistics widgets. We will first sets up a dashboard to **monitor our accuracy live in production**.\n",
        "\n",
        "Repeat for **Both Model A and B**:\n",
        "1. Use the create statistics widget\n",
        "2. Edit the statistics widget\n",
        "3. Select the model we logged, and **Evaluation Metrics**\n",
        "4. Select **Production** as **Model Environment**\n",
        "5. Finally, select **Accuracy** as your metric.\n",
        "\n",
        "\n",
        "**✏️ You can click on the gifs to replay it**\n",
        "[![image.png](https://storage.googleapis.com/arize-assets/fixtures/compare-accuracy.gif)](https://storage.googleapis.com/arize-assets/fixtures/compare-accuracy.gif)\n",
        "\n",
        "Now, we see that Model A and B accuracies are 0.451 and 0.454 respectively. Not very informative."
      ]
    },
    {
      "cell_type": "markdown",
      "metadata": {
        "id": "cZj6_o-3o3Gz"
      },
      "source": [
        "## Step 3.2 Using Filter in Widgets\n",
        "It seems like we can't tell much from accuracy alone. Let's user Arize to investigate our model performance in **certain important segments of our user**, in accordance to our business objective to be moore fair to those with `fico_score <= 500` (as stated in the beginning of this tutorial!)\n",
        "\n",
        "Repeat for **Both Model A and B**:\n",
        "1. Use the create statistics widget\n",
        "2. Follow step 2-5 the same way as earlier step.\n",
        "3. At the bottom, under **Filter**, Filter over **Feature** with **`fico_score`** that is **`<=`** to value of `500`.\n",
        "\n",
        "**✏️ You can click on the gifs to replay it**\n",
        "[![image.png](https://storage.googleapis.com/arize-assets/fixtures/compare-accuracy-low-fico.gif)](https://storage.googleapis.com/arize-assets/fixtures/compare-accuracy-low-fico.gif)\n",
        "\n",
        "It seems like our **Model A** is indeed better in this segment of our user. Let's investigate a little more with Arize features!"
      ]
    },
    {
      "cell_type": "markdown",
      "metadata": {
        "id": "yFVurH5zb2YM"
      },
      "source": [
        "## Step 3.3 Set up Feature Distribution with Heatmap\n",
        "Now that we know there is something up, let's use the **Distribution Widget** feature to observe why accuracy is so low in this segment of users. \n",
        "\n",
        "Repeat for **Both Model A and Model B**\n",
        "1. Use the create distribution widget\n",
        "2. Set **Title** and **Plot 1 Title** as anything you want\n",
        "3. Select the model and **Model Environment** as **Production**\n",
        "4. Select **Distribution over** as **Feature** and **`fico_score`**\n",
        "5. **_Heatmap_**: Select **Distribution of** and **Accuracy**\n",
        "\n",
        "**Note:** After step 5, you should see that our data distribution has three distinct jumps in total proportion (under 500, 500-600, and above 600). For better frame reference in our heatmap, let's _filter under 600_ for a better view.\n",
        "\n",
        "6. For the **_Filter_** option, Select **Feature**, **`fico_score`**, **`<=`**, and **600**\n",
        "\n",
        "**✏️ You can click on the gifs to replay it**\n",
        "[![image.png](https://storage.googleapis.com/arize-assets/fixtures/compare-heatmap-low-fico.gif)](https://storage.googleapis.com/arize-assets/fixtures/compare-heatmap-low-fico.gif)\n",
        "\n",
        "From the two distributions of **Model A** and **Model B**, we can see that when `fico_score` steps under 500 for **Model B**, the model performance sharply declines. For this reason, we should pick model A even if the accuracy is a few percent worse -- since we value this segment of our customer for fairness reasons!\n",
        "\n"
      ]
    },
    {
      "cell_type": "markdown",
      "metadata": {
        "id": "ygXnRrVvtNZW"
      },
      "source": [
        "# ✏️ Takeaways\n",
        "In this toy example, **we knew we cared about this segment of users ahead of time,** and one model happened to be better at predicting this segment of users.\n",
        "\n",
        "![image.png](https://storage.googleapis.com/arize-assets/fixtures/compare-model-heatmap.png)\n",
        "\n",
        "Using the **heatmap** feature showcases in **Step 3.3**, we can actually explore in which segment our users (or features) are we underperforming, and use that observation as a basis for analyzing which model do we want to use in production. \n",
        "\n",
        "### 🚀 In short: Arize allows DS and ML teams to do more than **_Monitoring_** model statistics, but allows you to deep dive into truly **_Understanding_** your model in production and better serve their goals.\n",
        "\n",
        "Equiped the **Model Performance Dashboard** feature, we can create many continuous monitoring widgets so that we can always ship the most value out of our ML models in production."
      ]
    },
    {
      "cell_type": "code",
      "metadata": {
        "id": "sPSJ_5jghGk1"
      },
      "source": [
        ""
      ],
      "execution_count": null,
      "outputs": []
    }
  ]
}