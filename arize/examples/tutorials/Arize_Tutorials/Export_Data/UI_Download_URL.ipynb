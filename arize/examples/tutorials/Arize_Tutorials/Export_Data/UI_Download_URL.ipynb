{
 "cells": [
  {
   "cell_type": "markdown",
   "source": [
    "# Debugging and Analyzing Data from Arize Platform\n",
    "\n"
   ],
   "metadata": {
    "id": "yZkuNcfyq9C2"
   }
  },
  {
   "cell_type": "markdown",
   "source": [
    "Use this template to explore, analyze, and debug using data from the Arize platform. It takes in the data export URL, which you enter below, and produces a clean pandas dataframe that can be used for analysis.\n",
    "\n",
    "\n",
    " ***Note: Make a copy of this notebook to allow edits***\n"
   ],
   "metadata": {
    "id": "t0FsAoeIBv5A"
   }
  },
  {
   "cell_type": "markdown",
   "source": [
    "## Setting up the dataframe"
   ],
   "metadata": {
    "id": "ZURhR9oAvZRP"
   }
  },
  {
   "cell_type": "markdown",
   "source": [
    "Import libraries and define some helper functions."
   ],
   "metadata": {
    "id": "JX5evpkLfx5B"
   }
  },
  {
   "cell_type": "code",
   "execution_count": null,
   "source": [
    "import json\n",
    "import pandas as pd\n",
    "import urllib.request\n",
    "\n",
    "\n",
    "def get_value(d):\n",
    "    for k, v in d.items():\n",
    "        if k == \"int\":\n",
    "            return int(v)\n",
    "        if k == \"double\":\n",
    "            return float(v)\n",
    "        if k == \"string\":\n",
    "            return str(v)\n",
    "        return v\n",
    "    return None\n",
    "\n",
    "\n",
    "def clean_up_dict_values(dict_to_clean):\n",
    "    for key in dict_to_clean:\n",
    "        if type(dict_to_clean[key]) == dict:\n",
    "            dict_to_clean[key] = get_value(dict_to_clean[key])"
   ],
   "outputs": [],
   "metadata": {
    "id": "00Q2NDnfKHbL"
   }
  },
  {
   "cell_type": "markdown",
   "source": [
    "**Edit paramaters** with your export url and desired file preferences."
   ],
   "metadata": {
    "id": "AFcCCWHUr5Lc"
   }
  },
  {
   "cell_type": "code",
   "execution_count": null,
   "source": [
    "# Add the URL to your file (provided by Arize) here\n",
    "arize_ui_url = \"YOUR_DATA_EXPORT_URL\"\n",
    "file_name = \"downloaded_data.json\""
   ],
   "outputs": [],
   "metadata": {
    "id": "9d5DIa4wr3LF"
   }
  },
  {
   "cell_type": "markdown",
   "source": [
    "Retrieve data from either the url or locally (if stored). Follow prompt instructions for authorization.\n",
    "\n"
   ],
   "metadata": {
    "id": "R76je4iYsLiZ"
   }
  },
  {
   "cell_type": "code",
   "execution_count": null,
   "source": [
    "urllib.request.urlretrieve(arize_ui_url, file_name)"
   ],
   "outputs": [],
   "metadata": {
    "colab": {
     "base_uri": "https://localhost:8080/"
    },
    "id": "F4nvwhxAKKmq",
    "outputId": "ace20924-6b88-42b1-efe6-5b6dcde9b0fc"
   }
  },
  {
   "cell_type": "markdown",
   "source": [
    "Set up dataframe with the exported data."
   ],
   "metadata": {
    "id": "tTOPB8gjtl4i"
   }
  },
  {
   "cell_type": "code",
   "execution_count": null,
   "source": [
    "# construct the formatted dataframe in this dictionary\n",
    "data_frame_dict = {}\n",
    "\n",
    "# open up the json file\n",
    "with open(file_name) as fp:\n",
    "\n",
    "    # read the data point into a dictionary\n",
    "    line = fp.readline()\n",
    "    index = 0\n",
    "\n",
    "    while line:\n",
    "\n",
    "        formatted_data_point = {}\n",
    "        data_point = json.loads(line)\n",
    "\n",
    "        # prediction\n",
    "        prediction_dict = data_point[\"prediction\"]\n",
    "\n",
    "        formatted_data_point[\"timestamp\"] = prediction_dict[\"timestamp\"]\n",
    "        formatted_data_point[\"modelVersion\"] = prediction_dict[\"modelVersion\"]\n",
    "        formatted_data_point[\"predictionId\"] = data_point[\"predictionId\"]\n",
    "\n",
    "\n",
    "        # features\n",
    "        if \"features\" in prediction_dict:\n",
    "\n",
    "            features = prediction_dict[\"features\"]\n",
    "            clean_up_dict_values(features)\n",
    "            for k in features:\n",
    "                formatted_data_point[k] = features[k]\n",
    "            del prediction_dict[\"features\"]\n",
    "\n",
    "        # score categorical models are structured differently\n",
    "        if \"scoreCategorical\" in prediction_dict[\"label\"]:\n",
    "            prediction = prediction_dict[\"label\"][\"scoreCategorical\"][\"scoreCategory\"][\n",
    "                \"category\"\n",
    "            ]\n",
    "            if \"score\" in prediction_dict[\"label\"][\"scoreCategorical\"][\"scoreCategory\"]:\n",
    "                score = float(\n",
    "                    prediction_dict[\"label\"][\"scoreCategorical\"][\"scoreCategory\"][\n",
    "                        \"score\"\n",
    "                    ]\n",
    "                )\n",
    "            else:\n",
    "                score = 0\n",
    "\n",
    "            formatted_data_point[\"prediction_score\"] = score\n",
    "            formatted_data_point[\"prediction\"] = prediction\n",
    "        else:\n",
    "            clean_up_dict_values(prediction_dict)\n",
    "            prediction = prediction_dict[\"label\"]\n",
    "            formatted_data_point[\"prediction\"] = prediction\n",
    "\n",
    "        # actual\n",
    "        if \"actual\" in data_point:\n",
    "            actual_dict = data_point[\"actual\"]\n",
    "\n",
    "            # score categorical models are structured differently\n",
    "            if \"scoreCategorical\" in actual_dict[\"label\"]:\n",
    "                actual = actual_dict[\"label\"][\"scoreCategorical\"][\"scoreCategory\"][\n",
    "                    \"category\"\n",
    "                ]\n",
    "                if \"score\" in actual_dict[\"label\"][\"scoreCategorical\"][\"scoreCategory\"]:\n",
    "                    score = float(\n",
    "                        actual_dict[\"label\"][\"scoreCategorical\"][\"scoreCategory\"][\n",
    "                            \"score\"\n",
    "                        ]\n",
    "                    )\n",
    "                else:\n",
    "                    score = 0\n",
    "\n",
    "                formatted_data_point[\"actual_score\"] = score\n",
    "                formatted_data_point[\"actual\"] = actual\n",
    "            else:\n",
    "                clean_up_dict_values(actual_dict)\n",
    "                actual = actual_dict[\"label\"]\n",
    "                formatted_data_point[\"actual\"] = actual\n",
    "\n",
    "        # add to new dataframe dict\n",
    "        data_frame_dict[index] = formatted_data_point\n",
    "\n",
    "        line = line = fp.readline()\n",
    "        index += 1\n",
    "\n",
    "\n",
    "prediction_df = pd.DataFrame(data_frame_dict)\n",
    "prediction_df = prediction_df.transpose()\n",
    "# Clean up - type timestamp to correct column type\n",
    "prediction_df[\"timestamp\"] = pd.to_datetime(prediction_df[\"timestamp\"])\n",
    "prediction_df[\"date_string\"] = prediction_df.timestamp.dt.strftime(\"%Y-%m-%d\")"
   ],
   "outputs": [],
   "metadata": {
    "id": "Fl6IwuySrOVn"
   }
  },
  {
   "cell_type": "markdown",
   "source": [
    "Now the data is ready to be explored. Take a look at how it's formatted in the dataframe."
   ],
   "metadata": {
    "id": "kD4gWEBehL8z"
   }
  },
  {
   "cell_type": "code",
   "execution_count": null,
   "source": [
    "prediction_df.head()"
   ],
   "outputs": [],
   "metadata": {
    "colab": {
     "base_uri": "https://localhost:8080/",
     "height": 411
    },
    "id": "vjCvdg5nhW8G",
    "outputId": "4ba2d81b-6f59-48ce-95ef-81e7cf03e064"
   }
  },
  {
   "cell_type": "markdown",
   "source": [
    "## Examples of breaking down the data"
   ],
   "metadata": {
    "id": "JF_Hz0MRu6Bz"
   }
  },
  {
   "cell_type": "markdown",
   "source": [
    "### Count of prediction and actuals"
   ],
   "metadata": {
    "id": "GdBluY0Jvf_9"
   }
  },
  {
   "cell_type": "code",
   "execution_count": null,
   "source": [
    "# Ability to look at mean of prediction and actuals\n",
    "# If you are slicing on features in the platform this gives some examples how to slice on the same feature\n",
    "\n",
    "# Note this will not work in classification models where the predictions are True/False\n",
    "\"\"\"\n",
    "print(prediction_df['actual'].mean())\n",
    "print(prediction_df[(prediction_df['modelVersion'] == '1.0') ]['prediction'].mean())\n",
    "print(prediction_df[(prediction_df['modelVersion'] == '1.0') & (prediction_df.date_string > \"2021-03-20\")]['prediction'].mean())\n",
    "\"\"\";"
   ],
   "outputs": [],
   "metadata": {
    "id": "BWBa3nIZvPiF"
   }
  },
  {
   "cell_type": "markdown",
   "source": [
    "### MSE and other metrics"
   ],
   "metadata": {
    "id": "Nscbto78wuDW"
   }
  },
  {
   "cell_type": "code",
   "execution_count": null,
   "source": [
    "# Note this will not work in classification models\n",
    "\"\"\"\n",
    "from sklearn.metrics import r2_score, mean_squared_error,mean_absolute_error\n",
    "print(mean_absolute_error(prediction_df['actual'], prediction_df['prediction']))\n",
    "slice_grade_3 = prediction_df[(prediction_df.date_string > \"2021-03-20\") ]\n",
    "print(mean_absolute_error(slice_grade_3['actual'], slice_grade_3['prediction']))\n",
    "\"\"\";"
   ],
   "outputs": [],
   "metadata": {
    "id": "uZT8cNZSw0o-"
   }
  },
  {
   "cell_type": "markdown",
   "source": [
    "### Grouping data"
   ],
   "metadata": {
    "id": "Xp8SCtn0yq5W"
   }
  },
  {
   "cell_type": "code",
   "execution_count": null,
   "source": [
    "# Group all the prediction data by the day they were made\n",
    "\"\"\"\n",
    "prediction_df.groupby(['date_string']).count()['prediction'].head()\n",
    "\"\"\";"
   ],
   "outputs": [],
   "metadata": {
    "id": "L3mYkHi15rse"
   }
  },
  {
   "cell_type": "markdown",
   "source": [
    "## Workspace\n",
    "\n",
    "Expand this notebook as much as you need for your data digging needs"
   ],
   "metadata": {
    "id": "YxagsRorD3cB"
   }
  },
  {
   "cell_type": "code",
   "execution_count": null,
   "source": [],
   "outputs": [],
   "metadata": {
    "id": "8dHuunZ6FGq_"
   }
  },
  {
   "cell_type": "markdown",
   "source": [
    "## Overview\n",
    "Arize is an end-to-end ML observability and model monitoring platform. The platform is designed to help ML engineers and data science practitioners surface and fix issues with ML models in production faster with:\n",
    "- Automated ML monitoring and model monitoring\n",
    "- Workflows to troubleshoot model performance\n",
    "- Real-time visualizations for model performance monitoring, data quality monitoring, and drift monitoring\n",
    "- Model prediction cohort analysis\n",
    "- Pre-deployment model validation\n",
    "- Integrated model explainability\n",
    "\n",
    "## Website\n",
    "Visit Us At: https://arize.com/model-monitoring/\n",
    "\n",
    "## Additional Resources\n",
    "- [What is ML observability?](https://arize.com/what-is-ml-observability/)\n",
    "- [Playbook to model monitoring in production](https://arize.com/the-playbook-to-monitor-your-models-performance-in-production/)\n",
    "- [Using statistical distance metrics for ML monitoring and observability](https://arize.com/using-statistical-distance-metrics-for-machine-learning-observability/)\n",
    "- [ML infrastructure tools for data preparation](https://arize.com/ml-infrastructure-tools-for-data-preparation/)\n",
    "- [ML infrastructure tools for model building](https://arize.com/ml-infrastructure-tools-for-model-building/)\n",
    "- [ML infrastructure tools for production](https://arize.com/ml-infrastructure-tools-for-production-part-1/)\n",
    "- [ML infrastructure tools for model deployment and model serving](https://arize.com/ml-infrastructure-tools-for-production-part-2-model-deployment-and-serving/)\n",
    "- [ML infrastructure tools for ML monitoring and observability](https://arize.com/ml-infrastructure-tools-ml-observability/)\n",
    "\n",
    "Visit the [Arize Blog](https://arize.com/blog) and [Resource Center](https://arize.com/resource-hub/) for more resources on ML observability and model monitoring.\n"
   ],
   "metadata": {
    "collapsed": false
   }
  }
 ],
 "metadata": {
  "colab": {
   "collapsed_sections": [],
   "name": "UI_Download_URL.ipynb",
   "provenance": [],
   "toc_visible": true
  },
  "kernelspec": {
   "display_name": "Python 3",
   "name": "python3"
  },
  "language_info": {
   "codemirror_mode": {
    "name": "ipython",
    "version": 3
   },
   "file_extension": ".py",
   "mimetype": "text/x-python",
   "name": "python",
   "nbconvert_exporter": "python",
   "pygments_lexer": "ipython3",
   "version": "3.9.6"
  }
 },
 "nbformat": 4,
 "nbformat_minor": 2
}
