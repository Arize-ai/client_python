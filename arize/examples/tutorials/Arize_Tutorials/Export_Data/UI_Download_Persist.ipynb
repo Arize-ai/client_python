{
 "nbformat": 4,
 "nbformat_minor": 0,
 "metadata": {
  "colab": {
   "name": "UI_Download_Persist.ipynb",
   "provenance": [],
   "collapsed_sections": [],
   "toc_visible": true
  },
  "kernelspec": {
   "name": "python3",
   "display_name": "Python 3"
  }
 },
 "cells": [
  {
   "cell_type": "markdown",
   "metadata": {
    "id": "yZkuNcfyq9C2"
   },
   "source": [
    "# Debugging and Analyzing Data from Arize Platform\n",
    "\n"
   ]
  },
  {
   "cell_type": "markdown",
   "metadata": {
    "id": "t0FsAoeIBv5A"
   },
   "source": [
    "Use this template to explore, analyze, and debug using data from the Arize platform. It takes in the data export URL, which you enter below, and produces a clean pandas dataframe that can be used for analysis.\n",
    "\n",
    "\n",
    " ***Note: Make a copy of this notebook to allow edits***\n"
   ]
  },
  {
   "cell_type": "markdown",
   "metadata": {
    "id": "ZURhR9oAvZRP"
   },
   "source": [
    "## Setting up the dataframe"
   ]
  },
  {
   "cell_type": "markdown",
   "metadata": {
    "id": "JX5evpkLfx5B"
   },
   "source": [
    "Import libraries and define some helper functions."
   ]
  },
  {
   "cell_type": "code",
   "metadata": {
    "id": "00Q2NDnfKHbL"
   },
   "source": [
    "import json\n",
    "import pandas as pd\n",
    "import urllib.request\n",
    "import hashlib\n",
    "import os\n",
    "\n",
    "def get_value_from_dict(single_item_dict):\n",
    "    if len(single_item_dict) > 1:\n",
    "        print(\"FORMAT ERROR\")\n",
    "        print(single_item_dict)\n",
    "        return\n",
    "    return next(iter(single_item_dict.values()))\n",
    "\n",
    "def clean_up_dict_values(dict_to_clean):\n",
    "    for key in dict_to_clean:\n",
    "        if type(dict_to_clean[key]) == dict:\n",
    "            dict_to_clean[key] = get_value_from_dict(dict_to_clean[key])\n"
   ],
   "execution_count": null,
   "outputs": []
  },
  {
   "cell_type": "markdown",
   "metadata": {
    "id": "AFcCCWHUr5Lc"
   },
   "source": [
    "**Edit paramaters** with your export url and desired file preferences."
   ]
  },
  {
   "cell_type": "code",
   "metadata": {
    "id": "9d5DIa4wr3LF"
   },
   "source": [
    "# Add the URL to your file (provided by Arize) here\n",
    "arize_ui_url = 'YOUR_DATA_EXPORT_URL'\n",
    "#Edit persist Gdrive flag, helpful if running over multiple days\n",
    "persist_g_drive = True\n",
    "#If Gdrive Persist is true use this directory\n",
    "colab_persist_data_dir = \"/content/gdrive/MyDrive/colab_tmp_data/\""
   ],
   "execution_count": null,
   "outputs": []
  },
  {
   "cell_type": "markdown",
   "metadata": {
    "id": "R76je4iYsLiZ"
   },
   "source": [
    "Retrieve data from either the url or locally (if stored). Follow prompt instructions for authorization.\n",
    "\n"
   ]
  },
  {
   "cell_type": "code",
   "metadata": {
    "id": "F4nvwhxAKKmq",
    "colab": {
     "base_uri": "https://localhost:8080/"
    },
    "outputId": "7dde736e-a46c-4b8b-888c-ce1497c3a634"
   },
   "source": [
    "local_file_dir = \"./\"\n",
    "#Create a hash name to store locally\n",
    "#Hash file name is unique based on the URL\n",
    "file_hash = str(int(hashlib.sha1(arize_ui_url.encode(\"utf-8\")).hexdigest(), 16) % (10 ** 8))\n",
    "file_name = file_hash + \".json\"\n",
    "\n",
    "#Check if persisted / default don't use gdrive\n",
    "if persist_g_drive:\n",
    "  print('Persist Gdrive Flag = True')\n",
    "  from google.colab import drive\n",
    "  drive.mount('/content/gdrive', force_remount=True)\n",
    "  file_in_gdrive = colab_persist_data_dir +  file_name\n",
    "  if  os.path.isfile(file_in_gdrive):\n",
    "    print('Copying from persisted file in GDrive')\n",
    "    print(file_in_gdrive)\n",
    "    !cp $file_in_gdrive \".\"\n",
    "else:\n",
    "  print('Persist Gdrive Flag = False')\n",
    "\n",
    "#Download file from URL If not available locally\n",
    "if not os.path.isfile(local_file_dir + \"/\" + file_name):\n",
    "    print('Downloading File')\n",
    "    urllib.request.urlretrieve(arize_ui_url,local_file_dir + \"/\" + file_name)\n",
    "\n",
    "#Persist this file to Drive if flag is true, this will store file over multiple\n",
    "#runs of colab over a number of days\n",
    "if persist_g_drive:\n",
    "  if  not os.path.isfile(file_in_gdrive):\n",
    "    print('Persisting file in Gdrive')\n",
    "    full_file = local_file_dir + \"/\" + file_name\n",
    "    print('File: ' + full_file)\n",
    "    print('Gdrive Dir: ' + colab_persist_data_dir)\n",
    "    !cp  $full_file $colab_persist_data_dir"
   ],
   "execution_count": null,
   "outputs": [
    {
     "output_type": "stream",
     "text": [
      "Persist Gdrive Flag = True\n",
      "Mounted at /content/gdrive\n",
      "Downloading File\n",
      "Persisting file in Gdrive\n",
      "File: .//37101182.json\n",
      "Gdrive Dir: /content/gdrive/MyDrive/colab_tmp_data/\n",
      "cp: cannot create regular file '/content/gdrive/MyDrive/colab_tmp_data/': Not a directory\n"
     ],
     "name": "stdout"
    }
   ]
  },
  {
   "cell_type": "markdown",
   "metadata": {
    "id": "tTOPB8gjtl4i"
   },
   "source": [
    "Set up dataframe with the exported data."
   ]
  },
  {
   "cell_type": "code",
   "metadata": {
    "id": "Fl6IwuySrOVn"
   },
   "source": [
    "#construct the formatted dataframe in this dictionary\n",
    "data_frame_dict = {}\n",
    "\n",
    "#open up the json file\n",
    "with open(local_file_dir + \"/\" + file_name) as fp:\n",
    "\n",
    "  # read the data point into a dictionary\n",
    "  line = fp.readline()\n",
    "  index = 0\n",
    "\n",
    "  while line:\n",
    "\n",
    "    formatted_data_point = {}\n",
    "    data_point = json.loads(line)\n",
    "\n",
    "    prediction_dict = data_point[\"prediction\"]\n",
    "\n",
    "    formatted_data_point[\"timestamp\"] = prediction_dict[\"timestamp\"]\n",
    "    formatted_data_point[\"modelVersion\"] = prediction_dict[\"modelVersion\"]\n",
    "    formatted_data_point[\"predictionId\"] = data_point[\"predictionId\"]\n",
    "\n",
    "\n",
    "    #features\n",
    "    features = prediction_dict[\"features\"]\n",
    "    clean_up_dict_values(features)\n",
    "    for k in features:\n",
    "      formatted_data_point[k] = features[k]\n",
    "\n",
    "    #prediction\n",
    "    del prediction_dict[\"features\"]\n",
    "    # score categorical models are structured differently\n",
    "    if (\"scoreCategorical\" in prediction_dict[\"label\"]):\n",
    "      if (\"score\" in prediction_dict[\"label\"][\"scoreCategorical\"]):\n",
    "        score = prediction_dict[\"label\"][\"scoreCategorical\"][\"score\"]\n",
    "      else:\n",
    "        score = None\n",
    "      prediction = prediction_dict[\"label\"][\"scoreCategorical\"][\"categorical\"]\n",
    "      formatted_data_point[\"score\"] = score\n",
    "      formatted_data_point[\"prediction\"] = prediction\n",
    "    else:\n",
    "      clean_up_dict_values(prediction_dict)\n",
    "      prediction = prediction_dict[\"label\"]\n",
    "      formatted_data_point[\"prediction\"] = prediction\n",
    "\n",
    "    #actual\n",
    "    actual_dict = data_point[\"actual\"]\n",
    "    # score categorical models are structured differently\n",
    "    if (\"scoreCategorical\" in actual_dict[\"label\"]):\n",
    "      clean_up_dict_values(actual_dict[\"label\"])\n",
    "\n",
    "    clean_up_dict_values(actual_dict)\n",
    "    actual = actual_dict[\"label\"]\n",
    "    formatted_data_point[\"actual\"] = actual\n",
    "\n",
    "    #add to new dataframe dict\n",
    "    data_frame_dict[index] = formatted_data_point\n",
    "\n",
    "    line = line = fp.readline()\n",
    "    index += 1\n",
    "\n",
    "\n",
    "prediction_df = pd.DataFrame(data_frame_dict)\n",
    "prediction_df = prediction_df.transpose()\n",
    "#Clean up - type timestamp to correct column type\n",
    "prediction_df['timestamp'] = pd.to_datetime(prediction_df['timestamp'])\n",
    "prediction_df['date_string'] = prediction_df.timestamp.dt.strftime('%Y-%m-%d')"
   ],
   "execution_count": null,
   "outputs": []
  },
  {
   "cell_type": "markdown",
   "metadata": {
    "id": "kD4gWEBehL8z"
   },
   "source": [
    "Now the data is ready to be explored. Take a look at how it's formatted in the dataframe."
   ]
  },
  {
   "cell_type": "code",
   "metadata": {
    "colab": {
     "base_uri": "https://localhost:8080/",
     "height": 496
    },
    "id": "vjCvdg5nhW8G",
    "outputId": "f817031d-be78-4a28-8031-415f5eda78c1"
   },
   "source": [
    "prediction_df.head()"
   ],
   "execution_count": null,
   "outputs": [
    {
     "output_type": "execute_result",
     "data": {
      "text/html": [
       "<div>\n",
       "<style scoped>\n",
       "    .dataframe tbody tr th:only-of-type {\n",
       "        vertical-align: middle;\n",
       "    }\n",
       "\n",
       "    .dataframe tbody tr th {\n",
       "        vertical-align: top;\n",
       "    }\n",
       "\n",
       "    .dataframe thead th {\n",
       "        text-align: right;\n",
       "    }\n",
       "</style>\n",
       "<table border=\"1\" class=\"dataframe\">\n",
       "  <thead>\n",
       "    <tr style=\"text-align: right;\">\n",
       "      <th></th>\n",
       "      <th>timestamp</th>\n",
       "      <th>modelVersion</th>\n",
       "      <th>predictionId</th>\n",
       "      <th>area error</th>\n",
       "      <th>compactness error</th>\n",
       "      <th>concave points error</th>\n",
       "      <th>concavity error</th>\n",
       "      <th>fractal dimension error</th>\n",
       "      <th>mean area</th>\n",
       "      <th>mean compactness</th>\n",
       "      <th>mean concave points</th>\n",
       "      <th>mean concavity</th>\n",
       "      <th>mean fractal dimension</th>\n",
       "      <th>mean perimeter</th>\n",
       "      <th>mean radius</th>\n",
       "      <th>mean smoothness</th>\n",
       "      <th>mean symmetry</th>\n",
       "      <th>mean texture</th>\n",
       "      <th>perimeter error</th>\n",
       "      <th>radius error</th>\n",
       "      <th>smoothness error</th>\n",
       "      <th>symmetry error</th>\n",
       "      <th>texture error</th>\n",
       "      <th>worst area</th>\n",
       "      <th>worst compactness</th>\n",
       "      <th>worst concave points</th>\n",
       "      <th>worst concavity</th>\n",
       "      <th>worst fractal dimension</th>\n",
       "      <th>worst perimeter</th>\n",
       "      <th>worst radius</th>\n",
       "      <th>worst smoothness</th>\n",
       "      <th>worst symmetry</th>\n",
       "      <th>worst texture</th>\n",
       "      <th>prediction</th>\n",
       "      <th>actual</th>\n",
       "      <th>date_string</th>\n",
       "    </tr>\n",
       "  </thead>\n",
       "  <tbody>\n",
       "    <tr>\n",
       "      <th>0</th>\n",
       "      <td>2021-03-17 07:37:12+00:00</td>\n",
       "      <td>1.0</td>\n",
       "      <td>1ceb2eb7-7ec0-4ca2-b486-2cf602dbc28f</td>\n",
       "      <td>52.72</td>\n",
       "      <td>0.03108</td>\n",
       "      <td>0.01291</td>\n",
       "      <td>0.03112</td>\n",
       "      <td>0.004506</td>\n",
       "      <td>597.8</td>\n",
       "      <td>0.1768</td>\n",
       "      <td>0.09176</td>\n",
       "      <td>0.1558</td>\n",
       "      <td>0.07421</td>\n",
       "      <td>91.56</td>\n",
       "      <td>13.81</td>\n",
       "      <td>0.1323</td>\n",
       "      <td>0.2251</td>\n",
       "      <td>23.75</td>\n",
       "      <td>3.909</td>\n",
       "      <td>0.5648</td>\n",
       "      <td>0.008824</td>\n",
       "      <td>0.01998</td>\n",
       "      <td>1.93</td>\n",
       "      <td>1153</td>\n",
       "      <td>0.5209</td>\n",
       "      <td>0.2013</td>\n",
       "      <td>0.4646</td>\n",
       "      <td>0.1086</td>\n",
       "      <td>128.5</td>\n",
       "      <td>19.2</td>\n",
       "      <td>0.2226</td>\n",
       "      <td>0.4432</td>\n",
       "      <td>41.85</td>\n",
       "      <td>False</td>\n",
       "      <td>0</td>\n",
       "      <td>2021-03-17</td>\n",
       "    </tr>\n",
       "    <tr>\n",
       "      <th>1</th>\n",
       "      <td>2021-03-17 07:53:14+00:00</td>\n",
       "      <td>1.0</td>\n",
       "      <td>b20ddca2-2ba9-4a04-bcf4-f50ba11fe0e1</td>\n",
       "      <td>20.65</td>\n",
       "      <td>0.03255</td>\n",
       "      <td>0.009811</td>\n",
       "      <td>0.04393</td>\n",
       "      <td>0.004572</td>\n",
       "      <td>514</td>\n",
       "      <td>0.1125</td>\n",
       "      <td>0.0295</td>\n",
       "      <td>0.07107</td>\n",
       "      <td>0.0654</td>\n",
       "      <td>84.52</td>\n",
       "      <td>12.98</td>\n",
       "      <td>0.09579</td>\n",
       "      <td>0.1761</td>\n",
       "      <td>19.35</td>\n",
       "      <td>2.465</td>\n",
       "      <td>0.2684</td>\n",
       "      <td>0.005727</td>\n",
       "      <td>0.02751</td>\n",
       "      <td>0.5664</td>\n",
       "      <td>634.3</td>\n",
       "      <td>0.3253</td>\n",
       "      <td>0.09858</td>\n",
       "      <td>0.3439</td>\n",
       "      <td>0.09166</td>\n",
       "      <td>99.21</td>\n",
       "      <td>14.42</td>\n",
       "      <td>0.1288</td>\n",
       "      <td>0.3596</td>\n",
       "      <td>21.95</td>\n",
       "      <td>True</td>\n",
       "      <td>True</td>\n",
       "      <td>2021-03-17</td>\n",
       "    </tr>\n",
       "    <tr>\n",
       "      <th>2</th>\n",
       "      <td>2021-03-17 07:54:39+00:00</td>\n",
       "      <td>1.0</td>\n",
       "      <td>0439ac7a-d205-422d-a8cc-6d74076762ed</td>\n",
       "      <td>20.65</td>\n",
       "      <td>0.03255</td>\n",
       "      <td>0.009811</td>\n",
       "      <td>0.04393</td>\n",
       "      <td>0.004572</td>\n",
       "      <td>514</td>\n",
       "      <td>0.1125</td>\n",
       "      <td>0.0295</td>\n",
       "      <td>0.07107</td>\n",
       "      <td>0.0654</td>\n",
       "      <td>84.52</td>\n",
       "      <td>12.98</td>\n",
       "      <td>0.09579</td>\n",
       "      <td>0.1761</td>\n",
       "      <td>19.35</td>\n",
       "      <td>2.465</td>\n",
       "      <td>0.2684</td>\n",
       "      <td>0.005727</td>\n",
       "      <td>0.02751</td>\n",
       "      <td>0.5664</td>\n",
       "      <td>634.3</td>\n",
       "      <td>0.3253</td>\n",
       "      <td>0.09858</td>\n",
       "      <td>0.3439</td>\n",
       "      <td>0.09166</td>\n",
       "      <td>99.21</td>\n",
       "      <td>14.42</td>\n",
       "      <td>0.1288</td>\n",
       "      <td>0.3596</td>\n",
       "      <td>21.95</td>\n",
       "      <td>True</td>\n",
       "      <td>True</td>\n",
       "      <td>2021-03-17</td>\n",
       "    </tr>\n",
       "    <tr>\n",
       "      <th>3</th>\n",
       "      <td>2021-03-17 09:43:16+00:00</td>\n",
       "      <td>1.0</td>\n",
       "      <td>0b026af9-5f09-47e2-aca4-314ea40f14a2</td>\n",
       "      <td>52.72</td>\n",
       "      <td>0.03108</td>\n",
       "      <td>0.01291</td>\n",
       "      <td>0.03112</td>\n",
       "      <td>0.004506</td>\n",
       "      <td>597.8</td>\n",
       "      <td>0.1768</td>\n",
       "      <td>0.09176</td>\n",
       "      <td>0.1558</td>\n",
       "      <td>0.07421</td>\n",
       "      <td>91.56</td>\n",
       "      <td>13.81</td>\n",
       "      <td>0.1323</td>\n",
       "      <td>0.2251</td>\n",
       "      <td>23.75</td>\n",
       "      <td>3.909</td>\n",
       "      <td>0.5648</td>\n",
       "      <td>0.008824</td>\n",
       "      <td>0.01998</td>\n",
       "      <td>1.93</td>\n",
       "      <td>1153</td>\n",
       "      <td>0.5209</td>\n",
       "      <td>0.2013</td>\n",
       "      <td>0.4646</td>\n",
       "      <td>0.1086</td>\n",
       "      <td>128.5</td>\n",
       "      <td>19.2</td>\n",
       "      <td>0.2226</td>\n",
       "      <td>0.4432</td>\n",
       "      <td>41.85</td>\n",
       "      <td>False</td>\n",
       "      <td>0</td>\n",
       "      <td>2021-03-17</td>\n",
       "    </tr>\n",
       "    <tr>\n",
       "      <th>4</th>\n",
       "      <td>2021-03-17 09:57:54+00:00</td>\n",
       "      <td>1.0</td>\n",
       "      <td>e453a7b8-4431-4846-b29d-8c8c4a60e57c</td>\n",
       "      <td>52.72</td>\n",
       "      <td>0.03108</td>\n",
       "      <td>0.01291</td>\n",
       "      <td>0.03112</td>\n",
       "      <td>0.004506</td>\n",
       "      <td>597.8</td>\n",
       "      <td>0.1768</td>\n",
       "      <td>0.09176</td>\n",
       "      <td>0.1558</td>\n",
       "      <td>0.07421</td>\n",
       "      <td>91.56</td>\n",
       "      <td>13.81</td>\n",
       "      <td>0.1323</td>\n",
       "      <td>0.2251</td>\n",
       "      <td>23.75</td>\n",
       "      <td>3.909</td>\n",
       "      <td>0.5648</td>\n",
       "      <td>0.008824</td>\n",
       "      <td>0.01998</td>\n",
       "      <td>1.93</td>\n",
       "      <td>1153</td>\n",
       "      <td>0.5209</td>\n",
       "      <td>0.2013</td>\n",
       "      <td>0.4646</td>\n",
       "      <td>0.1086</td>\n",
       "      <td>128.5</td>\n",
       "      <td>19.2</td>\n",
       "      <td>0.2226</td>\n",
       "      <td>0.4432</td>\n",
       "      <td>41.85</td>\n",
       "      <td>False</td>\n",
       "      <td>0</td>\n",
       "      <td>2021-03-17</td>\n",
       "    </tr>\n",
       "  </tbody>\n",
       "</table>\n",
       "</div>"
      ],
      "text/plain": [
       "                  timestamp modelVersion  ... actual date_string\n",
       "0 2021-03-17 07:37:12+00:00          1.0  ...      0  2021-03-17\n",
       "1 2021-03-17 07:53:14+00:00          1.0  ...   True  2021-03-17\n",
       "2 2021-03-17 07:54:39+00:00          1.0  ...   True  2021-03-17\n",
       "3 2021-03-17 09:43:16+00:00          1.0  ...      0  2021-03-17\n",
       "4 2021-03-17 09:57:54+00:00          1.0  ...      0  2021-03-17\n",
       "\n",
       "[5 rows x 36 columns]"
      ]
     },
     "metadata": {
      "tags": []
     },
     "execution_count": 7
    }
   ]
  },
  {
   "cell_type": "markdown",
   "metadata": {
    "id": "JF_Hz0MRu6Bz"
   },
   "source": [
    "## Examples of breaking down the data"
   ]
  },
  {
   "cell_type": "markdown",
   "metadata": {
    "id": "GdBluY0Jvf_9"
   },
   "source": [
    "### Count of prediction and actuals"
   ]
  },
  {
   "cell_type": "code",
   "metadata": {
    "id": "BWBa3nIZvPiF"
   },
   "source": [
    "#Ability to look at mean of prediction and actuals\n",
    "#If you are slicing on features in the platform this gives some examples how to slice on the same feature\n",
    "\n",
    "# Note this will not work in classification models where the predictions are True/False\n",
    "\"\"\"\n",
    "print(prediction_df['actual'].mean())\n",
    "print(prediction_df[(prediction_df['modelVersion'] == '1.0') ]['prediction'].mean())\n",
    "print(prediction_df[(prediction_df['modelVersion'] == '1.0') & (prediction_df.date_string > \"2021-03-20\")]['prediction'].mean())\n",
    "\"\"\";"
   ],
   "execution_count": null,
   "outputs": []
  },
  {
   "cell_type": "markdown",
   "metadata": {
    "id": "Nscbto78wuDW"
   },
   "source": [
    "### MSE and other metrics"
   ]
  },
  {
   "cell_type": "code",
   "metadata": {
    "id": "uZT8cNZSw0o-"
   },
   "source": [
    "# Note this will not work in classification models\n",
    "\"\"\"\n",
    "from sklearn.metrics import r2_score, mean_squared_error,mean_absolute_error\n",
    "print(mean_absolute_error(prediction_df['actual'], prediction_df['prediction']))\n",
    "slice_grade_3 = prediction_df[(prediction_df.date_string > \"2021-03-20\") ]\n",
    "print(mean_absolute_error(slice_grade_3['actual'], slice_grade_3['prediction']))\n",
    "\"\"\";"
   ],
   "execution_count": null,
   "outputs": []
  },
  {
   "cell_type": "markdown",
   "metadata": {
    "id": "Xp8SCtn0yq5W"
   },
   "source": [
    "### Grouping data"
   ]
  },
  {
   "cell_type": "code",
   "metadata": {
    "id": "L3mYkHi15rse"
   },
   "source": [
    "# Group all the prediction data by the day they were made\n",
    "\"\"\"\n",
    "prediction_df.groupby(['date_string']).count()['prediction'].head()\n",
    "\"\"\";"
   ],
   "execution_count": null,
   "outputs": []
  },
  {
   "cell_type": "markdown",
   "metadata": {
    "id": "YxagsRorD3cB"
   },
   "source": [
    "## Workspace\n",
    "Expand this notebook as much as you need for your data digging needs\n"
   ]
  },
  {
   "cell_type": "code",
   "metadata": {
    "id": "8dHuunZ6FGq_"
   },
   "source": [],
   "execution_count": null,
   "outputs": []
  },
  {
   "cell_type": "markdown",
   "source": [
    "### Overview\n",
    "Arize is an end-to-end ML observability and model monitoring platform. The platform is designed to help ML engineers and data science practitioners surface and fix issues with ML models in production faster with:\n",
    "- Automated ML monitoring and model monitoring\n",
    "- Workflows to troubleshoot model performance\n",
    "- Real-time visualizations for model performance monitoring, data quality monitoring, and drift monitoring\n",
    "- Model prediction cohort analysis\n",
    "- Pre-deployment model validation\n",
    "- Integrated model explainability\n",
    "\n",
    "### Website\n",
    "Visit Us At: https://arize.com/model-monitoring/\n",
    "\n",
    "### Additional Resources\n",
    "- [What is ML observability?](https://arize.com/what-is-ml-observability/)\n",
    "- [Playbook to model monitoring in production](https://arize.com/the-playbook-to-monitor-your-models-performance-in-production/)\n",
    "- [Using statistical distance metrics for ML monitoring and observability](https://arize.com/using-statistical-distance-metrics-for-machine-learning-observability/)\n",
    "- [ML infrastructure tools for data preparation](https://arize.com/ml-infrastructure-tools-for-data-preparation/)\n",
    "- [ML infrastructure tools for model building](https://arize.com/ml-infrastructure-tools-for-model-building/)\n",
    "- [ML infrastructure tools for production](https://arize.com/ml-infrastructure-tools-for-production-part-1/)\n",
    "- [ML infrastructure tools for model deployment and model serving](https://arize.com/ml-infrastructure-tools-for-production-part-2-model-deployment-and-serving/)\n",
    "- [ML infrastructure tools for ML monitoring and observability](https://arize.com/ml-infrastructure-tools-ml-observability/)\n",
    "\n",
    "Visit the [Arize Blog](https://arize.com/blog) and [Resource Center](https://arize.com/resource-hub/) for more resources on ML observability and model monitoring.\n"
   ],
   "metadata": {
    "collapsed": false
   }
  },
  {
   "cell_type": "code",
   "execution_count": null,
   "outputs": [],
   "source": [],
   "metadata": {
    "collapsed": false,
    "pycharm": {
     "name": "#%%\n"
    }
   }
  }
 ]
}