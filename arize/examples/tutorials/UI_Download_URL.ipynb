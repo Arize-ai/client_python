{
  "nbformat": 4,
  "nbformat_minor": 0,
  "metadata": {
    "colab": {
      "name": "UI_Download_URL.ipynb",
      "provenance": [],
      "collapsed_sections": [],
      "toc_visible": true
    },
    "kernelspec": {
      "name": "python3",
      "display_name": "Python 3"
    }
  },
  "cells": [
    {
      "cell_type": "markdown",
      "metadata": {
        "id": "yZkuNcfyq9C2"
      },
      "source": [
        "# Debugging and Analyzing Data from Arize Platform\n",
        "\n"
      ]
    },
    {
      "cell_type": "markdown",
      "metadata": {
        "id": "t0FsAoeIBv5A"
      },
      "source": [
        "Use this template to explore, analyze, and debug using data from the Arize platform. It takes in the data export URL, which you enter below, and produces a clean pandas dataframe that can be used for analysis.\n",
        "\n",
        "\n",
        " ***Note: Make a copy of this notebook to allow edits***\n"
      ]
    },
    {
      "cell_type": "markdown",
      "metadata": {
        "id": "ZURhR9oAvZRP"
      },
      "source": [
        "## Setting up the dataframe"
      ]
    },
    {
      "cell_type": "markdown",
      "metadata": {
        "id": "JX5evpkLfx5B"
      },
      "source": [
        "Import libraries and define some helper functions."
      ]
    },
    {
      "cell_type": "code",
      "metadata": {
        "id": "00Q2NDnfKHbL"
      },
      "source": [
        "import json\n",
        "import pandas as pd\n",
        "import urllib.request\n",
        "\n",
        "def get_value_from_dict(single_item_dict):\n",
        "    if len(single_item_dict) > 1:\n",
        "        print(\"FORMAT ERROR\")\n",
        "        print(single_item_dict)\n",
        "        return\n",
        "    return next(iter(single_item_dict.values()))\n",
        "\n",
        "def clean_up_dict_values(dict_to_clean):\n",
        "    for key in dict_to_clean:\n",
        "        if type(dict_to_clean[key]) == dict:\n",
        "            dict_to_clean[key] = get_value_from_dict(dict_to_clean[key])\n"
      ],
      "execution_count": 1,
      "outputs": []
    },
    {
      "cell_type": "markdown",
      "metadata": {
        "id": "AFcCCWHUr5Lc"
      },
      "source": [
        "**Edit paramaters** with your export url and desired file preferences."
      ]
    },
    {
      "cell_type": "code",
      "metadata": {
        "id": "9d5DIa4wr3LF"
      },
      "source": [
        "# Add the URL to your file (provided by Arize) here\n",
        "arize_ui_url = 'YOUR_DATA_EXPORT_URL'\n",
        "file_name = \"downloaded_data.json\""
      ],
      "execution_count": 2,
      "outputs": []
    },
    {
      "cell_type": "markdown",
      "metadata": {
        "id": "R76je4iYsLiZ"
      },
      "source": [
        "Retrieve data from either the url or locally (if stored). Follow prompt instructions for authorization. \n",
        "\n"
      ]
    },
    {
      "cell_type": "code",
      "metadata": {
        "id": "F4nvwhxAKKmq",
        "colab": {
          "base_uri": "https://localhost:8080/"
        },
        "outputId": "ace20924-6b88-42b1-efe6-5b6dcde9b0fc"
      },
      "source": [
        "urllib.request.urlretrieve(arize_ui_url, file_name)"
      ],
      "execution_count": 3,
      "outputs": [
        {
          "output_type": "execute_result",
          "data": {
            "text/plain": [
              "('downloaded_data.json', <http.client.HTTPMessage at 0x7f72af20a7d0>)"
            ]
          },
          "metadata": {
            "tags": []
          },
          "execution_count": 3
        }
      ]
    },
    {
      "cell_type": "markdown",
      "metadata": {
        "id": "tTOPB8gjtl4i"
      },
      "source": [
        "Set up dataframe with the exported data."
      ]
    },
    {
      "cell_type": "code",
      "metadata": {
        "id": "Fl6IwuySrOVn"
      },
      "source": [
        "#construct the formatted dataframe in this dictionary\n",
        "data_frame_dict = {}\n",
        "\n",
        "#open up the json file\n",
        "with open(file_name) as fp:\n",
        "\n",
        "  # read the data point into a dictionary\n",
        "  line = fp.readline()\n",
        "  index = 0\n",
        "\n",
        "  while line:\n",
        "\n",
        "    formatted_data_point = {}\n",
        "    data_point = json.loads(line)\n",
        "\n",
        "    prediction_dict = data_point[\"prediction\"]\n",
        "\n",
        "    formatted_data_point[\"timestamp\"] = prediction_dict[\"timestamp\"]\n",
        "    formatted_data_point[\"modelVersion\"] = prediction_dict[\"modelVersion\"]\n",
        "    formatted_data_point[\"predictionId\"] = data_point[\"predictionId\"]\n",
        "\n",
        "    #features\n",
        "    features = prediction_dict[\"features\"]\n",
        "    clean_up_dict_values(features)\n",
        "    for k in features:\n",
        "      formatted_data_point[k] = features[k]\n",
        "\n",
        "    #prediction\n",
        "    del prediction_dict[\"features\"]\n",
        "    # score categorical models are structured differently\n",
        "    if (\"scoreCategorical\" in prediction_dict[\"label\"]):\n",
        "      if (\"score\" in prediction_dict[\"label\"][\"scoreCategorical\"]):\n",
        "        score = prediction_dict[\"label\"][\"scoreCategorical\"][\"score\"]\n",
        "      else:\n",
        "        score = None\n",
        "      prediction = prediction_dict[\"label\"][\"scoreCategorical\"][\"categorical\"]\n",
        "      formatted_data_point[\"score\"] = score\n",
        "      formatted_data_point[\"prediction\"] = prediction\n",
        "    else:\n",
        "      clean_up_dict_values(prediction_dict)\n",
        "      prediction = prediction_dict[\"label\"]\n",
        "      formatted_data_point[\"prediction\"] = prediction\n",
        "    \n",
        "    #actual\n",
        "    actual_dict = data_point[\"actual\"]\n",
        "    # score categorical models are structured differently\n",
        "    if (\"scoreCategorical\" in actual_dict[\"label\"]):\n",
        "      clean_up_dict_values(actual_dict[\"label\"])\n",
        "    \n",
        "    clean_up_dict_values(actual_dict)\n",
        "    actual = actual_dict[\"label\"]\n",
        "    formatted_data_point[\"actual\"] = actual\n",
        "\n",
        "    #add to new dataframe dict\n",
        "    data_frame_dict[index] = formatted_data_point\n",
        "\n",
        "    line = line = fp.readline()\n",
        "    index += 1\n",
        "\n",
        "\n",
        "prediction_df = pd.DataFrame(data_frame_dict)\n",
        "prediction_df = prediction_df.transpose()\n",
        "#Clean up - type timestamp to correct column type\n",
        "prediction_df['timestamp'] = pd.to_datetime(prediction_df['timestamp'])\n",
        "prediction_df['date_string'] = prediction_df.timestamp.dt.strftime('%Y-%m-%d')"
      ],
      "execution_count": 4,
      "outputs": []
    },
    {
      "cell_type": "markdown",
      "metadata": {
        "id": "kD4gWEBehL8z"
      },
      "source": [
        "Now the data is ready to be explored. Take a look at how it's formatted in the dataframe."
      ]
    },
    {
      "cell_type": "code",
      "metadata": {
        "colab": {
          "base_uri": "https://localhost:8080/",
          "height": 411
        },
        "id": "vjCvdg5nhW8G",
        "outputId": "4ba2d81b-6f59-48ce-95ef-81e7cf03e064"
      },
      "source": [
        "prediction_df.head()"
      ],
      "execution_count": 5,
      "outputs": [
        {
          "output_type": "execute_result",
          "data": {
            "text/html": [
              "<div>\n",
              "<style scoped>\n",
              "    .dataframe tbody tr th:only-of-type {\n",
              "        vertical-align: middle;\n",
              "    }\n",
              "\n",
              "    .dataframe tbody tr th {\n",
              "        vertical-align: top;\n",
              "    }\n",
              "\n",
              "    .dataframe thead th {\n",
              "        text-align: right;\n",
              "    }\n",
              "</style>\n",
              "<table border=\"1\" class=\"dataframe\">\n",
              "  <thead>\n",
              "    <tr style=\"text-align: right;\">\n",
              "      <th></th>\n",
              "      <th>timestamp</th>\n",
              "      <th>modelVersion</th>\n",
              "      <th>predictionId</th>\n",
              "      <th>AveBedrms</th>\n",
              "      <th>AveOccup</th>\n",
              "      <th>AveRooms</th>\n",
              "      <th>HouseAge</th>\n",
              "      <th>Latitude</th>\n",
              "      <th>Longitude</th>\n",
              "      <th>MedInc</th>\n",
              "      <th>Population</th>\n",
              "      <th>prediction</th>\n",
              "      <th>actual</th>\n",
              "      <th>date_string</th>\n",
              "    </tr>\n",
              "  </thead>\n",
              "  <tbody>\n",
              "    <tr>\n",
              "      <th>0</th>\n",
              "      <td>2021-04-13 22:23:05.047025724+00:00</td>\n",
              "      <td>1.0</td>\n",
              "      <td>07c463f6-1285-465b-ad36-2ef91e002371</td>\n",
              "      <td>1.02228</td>\n",
              "      <td>3.87744</td>\n",
              "      <td>4.1922</td>\n",
              "      <td>25</td>\n",
              "      <td>36.06</td>\n",
              "      <td>-119.01</td>\n",
              "      <td>1.6812</td>\n",
              "      <td>1392</td>\n",
              "      <td>0.704822</td>\n",
              "      <td>0.477</td>\n",
              "      <td>2021-04-13</td>\n",
              "    </tr>\n",
              "    <tr>\n",
              "      <th>1</th>\n",
              "      <td>2021-04-13 22:23:05.047025724+00:00</td>\n",
              "      <td>1.0</td>\n",
              "      <td>7524054d-0cb4-4315-91ad-ee7678d7c5c9</td>\n",
              "      <td>1.19349</td>\n",
              "      <td>2.67979</td>\n",
              "      <td>5.03938</td>\n",
              "      <td>30</td>\n",
              "      <td>35.14</td>\n",
              "      <td>-119.46</td>\n",
              "      <td>2.5313</td>\n",
              "      <td>1565</td>\n",
              "      <td>1.78588</td>\n",
              "      <td>0.458</td>\n",
              "      <td>2021-04-13</td>\n",
              "    </tr>\n",
              "    <tr>\n",
              "      <th>2</th>\n",
              "      <td>2021-04-13 22:23:05.047025724+00:00</td>\n",
              "      <td>1.0</td>\n",
              "      <td>6a0f4d4b-f584-405e-9c7d-ae224ff7ce41</td>\n",
              "      <td>1.18588</td>\n",
              "      <td>1.36033</td>\n",
              "      <td>3.97715</td>\n",
              "      <td>52</td>\n",
              "      <td>37.8</td>\n",
              "      <td>-122.44</td>\n",
              "      <td>3.4801</td>\n",
              "      <td>1310</td>\n",
              "      <td>2.76428</td>\n",
              "      <td>5.00001</td>\n",
              "      <td>2021-04-13</td>\n",
              "    </tr>\n",
              "    <tr>\n",
              "      <th>3</th>\n",
              "      <td>2021-04-13 22:23:05.047025724+00:00</td>\n",
              "      <td>1.0</td>\n",
              "      <td>818e5a07-14cf-43d9-8890-0b34b49216af</td>\n",
              "      <td>1.0202</td>\n",
              "      <td>3.44444</td>\n",
              "      <td>6.16364</td>\n",
              "      <td>17</td>\n",
              "      <td>34.28</td>\n",
              "      <td>-118.72</td>\n",
              "      <td>5.7376</td>\n",
              "      <td>1705</td>\n",
              "      <td>2.82127</td>\n",
              "      <td>2.186</td>\n",
              "      <td>2021-04-13</td>\n",
              "    </tr>\n",
              "    <tr>\n",
              "      <th>4</th>\n",
              "      <td>2021-04-13 22:23:05.047025724+00:00</td>\n",
              "      <td>1.0</td>\n",
              "      <td>a9865b1d-f76d-48f2-b85e-9c60dbed0575</td>\n",
              "      <td>1.02804</td>\n",
              "      <td>2.48364</td>\n",
              "      <td>5.49299</td>\n",
              "      <td>34</td>\n",
              "      <td>36.62</td>\n",
              "      <td>-121.93</td>\n",
              "      <td>3.725</td>\n",
              "      <td>1063</td>\n",
              "      <td>2.62435</td>\n",
              "      <td>2.78</td>\n",
              "      <td>2021-04-13</td>\n",
              "    </tr>\n",
              "  </tbody>\n",
              "</table>\n",
              "</div>"
            ],
            "text/plain": [
              "                            timestamp modelVersion  ...   actual date_string\n",
              "0 2021-04-13 22:23:05.047025724+00:00          1.0  ...    0.477  2021-04-13\n",
              "1 2021-04-13 22:23:05.047025724+00:00          1.0  ...    0.458  2021-04-13\n",
              "2 2021-04-13 22:23:05.047025724+00:00          1.0  ...  5.00001  2021-04-13\n",
              "3 2021-04-13 22:23:05.047025724+00:00          1.0  ...    2.186  2021-04-13\n",
              "4 2021-04-13 22:23:05.047025724+00:00          1.0  ...     2.78  2021-04-13\n",
              "\n",
              "[5 rows x 14 columns]"
            ]
          },
          "metadata": {
            "tags": []
          },
          "execution_count": 5
        }
      ]
    },
    {
      "cell_type": "markdown",
      "metadata": {
        "id": "JF_Hz0MRu6Bz"
      },
      "source": [
        "## Examples of breaking down the data"
      ]
    },
    {
      "cell_type": "markdown",
      "metadata": {
        "id": "GdBluY0Jvf_9"
      },
      "source": [
        "### Count of prediction and actuals"
      ]
    },
    {
      "cell_type": "code",
      "metadata": {
        "id": "BWBa3nIZvPiF"
      },
      "source": [
        "#Ability to look at mean of prediction and actuals\n",
        "#If you are slicing on features in the platform this gives some examples how to slice on the same feature\n",
        "\n",
        "# Note this will not work in classification models where the predictions are True/False\n",
        "\"\"\"\n",
        "print(prediction_df['actual'].mean())\n",
        "print(prediction_df[(prediction_df['modelVersion'] == '1.0') ]['prediction'].mean())\n",
        "print(prediction_df[(prediction_df['modelVersion'] == '1.0') & (prediction_df.date_string > \"2021-03-20\")]['prediction'].mean())\n",
        "\"\"\";"
      ],
      "execution_count": 6,
      "outputs": []
    },
    {
      "cell_type": "markdown",
      "metadata": {
        "id": "Nscbto78wuDW"
      },
      "source": [
        "### MSE and other metrics"
      ]
    },
    {
      "cell_type": "code",
      "metadata": {
        "id": "uZT8cNZSw0o-"
      },
      "source": [
        "# Note this will not work in classification models\n",
        "\"\"\"\n",
        "from sklearn.metrics import r2_score, mean_squared_error,mean_absolute_error\n",
        "print(mean_absolute_error(prediction_df['actual'], prediction_df['prediction']))\n",
        "slice_grade_3 = prediction_df[(prediction_df.date_string > \"2021-03-20\") ]\n",
        "print(mean_absolute_error(slice_grade_3['actual'], slice_grade_3['prediction']))\n",
        "\"\"\";"
      ],
      "execution_count": 7,
      "outputs": []
    },
    {
      "cell_type": "markdown",
      "metadata": {
        "id": "Xp8SCtn0yq5W"
      },
      "source": [
        "### Grouping data"
      ]
    },
    {
      "cell_type": "code",
      "metadata": {
        "id": "L3mYkHi15rse"
      },
      "source": [
        "# Group all the prediction data by the day they were made\n",
        "\"\"\"\n",
        "prediction_df.groupby(['date_string']).count()['prediction'].head()\n",
        "\"\"\";"
      ],
      "execution_count": 8,
      "outputs": []
    },
    {
      "cell_type": "markdown",
      "metadata": {
        "id": "YxagsRorD3cB"
      },
      "source": [
        "## Workspace\n",
        "\n",
        "Expand this notebook as much as you need for your data digging needs\n",
        "\n"
      ]
    },
    {
      "cell_type": "code",
      "metadata": {
        "id": "8dHuunZ6FGq_"
      },
      "source": [
        "# Begin work here"
      ],
      "execution_count": 9,
      "outputs": []
    }
  ]
}