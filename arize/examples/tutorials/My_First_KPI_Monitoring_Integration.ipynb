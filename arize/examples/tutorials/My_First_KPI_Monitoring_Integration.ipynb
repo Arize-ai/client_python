{
  "nbformat": 4,
  "nbformat_minor": 0,
  "metadata": {
    "colab": {
      "name": "Arize / Rad AI.ipynb",
      "provenance": [],
      "collapsed_sections": []
    },
    "kernelspec": {
      "name": "python3",
      "display_name": "Python 3",
      "language": "python"
    }
  },
  "cells": [
    {
      "cell_type": "markdown",
      "metadata": {
        "id": "41kw9kIjotzT",
        "colab_type": "text"
      },
      "source": [
        "# Arize Demo Notebook (Simple monitoring)\n",
        "This notebook gives an overview of how to send the Dummy Model CSV using the Python SDK.\n",
        " \n",
        "[![Open In Colab](https://colab.research.google.com/assets/colab-badge.svg)](https://colab.research.google.com/github/Arize-ai/client_python/blob/main/arize/examples/tutorials/My_First_KPI_Monitoring_Integration.ipynb)"
      ]
    },
    {
      "cell_type": "code",
      "metadata": {
        "id": "fdsAv_36l00T",
        "colab_type": "code",
        "colab": {
          "base_uri": "https://localhost:8080/",
          "height": 204
        },
        "outputId": "8b1863c3-c69f-427a-fb57-cd7f2997e1c5"
      },
      "source": [
        "# Load Dummy Model CSV\n",
        "\n",
        "import pandas as pd\n",
        "import requests\n",
        "import io\n",
        "\n",
        "url = 'https://storage.googleapis.com/arize-assets/tutorials/fixture_data/mock_model_kpi.csv'\n",
        "url_content=requests.get(url).content\n",
        "df=pd.read_csv(io.StringIO(url_content.decode('utf-8')), low_memory=False)\n",
        "df.head()"
      ],
      "execution_count": 1,
      "outputs": [
        {
          "output_type": "execute_result",
          "data": {
            "text/plain": [
              "   prediction_id     kpi  time\n",
              "0              0  57.936     1\n",
              "1              1  55.640     1\n",
              "2              2  61.904     1\n",
              "3              3  10.856     1\n",
              "4              4  14.096     1"
            ],
            "text/html": "<div>\n<style scoped>\n    .dataframe tbody tr th:only-of-type {\n        vertical-align: middle;\n    }\n\n    .dataframe tbody tr th {\n        vertical-align: top;\n    }\n\n    .dataframe thead th {\n        text-align: right;\n    }\n</style>\n<table border=\"1\" class=\"dataframe\">\n  <thead>\n    <tr style=\"text-align: right;\">\n      <th></th>\n      <th>prediction_id</th>\n      <th>kpi</th>\n      <th>time</th>\n    </tr>\n  </thead>\n  <tbody>\n    <tr>\n      <th>0</th>\n      <td>0</td>\n      <td>57.936</td>\n      <td>1</td>\n    </tr>\n    <tr>\n      <th>1</th>\n      <td>1</td>\n      <td>55.640</td>\n      <td>1</td>\n    </tr>\n    <tr>\n      <th>2</th>\n      <td>2</td>\n      <td>61.904</td>\n      <td>1</td>\n    </tr>\n    <tr>\n      <th>3</th>\n      <td>3</td>\n      <td>10.856</td>\n      <td>1</td>\n    </tr>\n    <tr>\n      <th>4</th>\n      <td>4</td>\n      <td>14.096</td>\n      <td>1</td>\n    </tr>\n  </tbody>\n</table>\n</div>"
          },
          "metadata": {},
          "execution_count": 1
        }
      ]
    },
    {
      "cell_type": "code",
      "execution_count": null,
      "metadata": {},
      "outputs": [],
      "source": [
        "## Install Arize & Initialize Client\n",
        "\n",
        "!pip3 install arize -q\n",
        "\n",
        "from arize.api import Client\n",
        "from arize.types import ModelTypes\n",
        "import concurrent.futures as cf\n",
        "\n",
        "API_KEY_STRING = 'YOUR_API_KEY_STRING'\n",
        "ORGANIZATION_ID = 'YOUR_ORGANIZATION_ID'\n",
        "arize = Client(organization_key=ORGANIZATION_ID, api_key=API_KEY_STRING)"
      ]
    },
    {
      "cell_type": "markdown",
      "metadata": {
        "id": "twEEo9jSm7k6",
        "colab_type": "text"
      },
      "source": [
        "## Important Points \n",
        "1. Predictions need a prediction ID. For now, I have just used the row ID in this file. Is there a batch/epoch id that you can send here?\n",
        "2. Time - I have tweaked the time from the dummy value and instead sent in historical time values. \n",
        "3. We are not passing in any features right now. \n",
        "4. We are not passing in actuals right now. "
      ]
    },
    {
      "cell_type": "code",
      "metadata": {
        "id": "bHW3H8nnPREs",
        "colab_type": "code",
        "colab": {
          "base_uri": "https://localhost:8080/",
          "height": 204
        },
        "outputId": "bae5fc15-5052-4be1-9d6a-748115e61084"
      },
      "source": [
        "# Processing to get Data into Right format for Arize \n",
        "\n",
        "# Prediction IDs (must be string typed) are one dataframe\n",
        "df['prediction_id'] = df['prediction_id'].apply(str)\n",
        "\n",
        "# Predictions (in this case, KPIs) are one dataframe \n",
        "kpi_df = df.filter(['kpi'], axis=1)\n",
        "\n",
        "# Time is one dataframe (this is only necessary because we want to overwrite the timestamp to something reasonable). \n",
        "# Set the total_epoch_count to be the maximum number of epochs expected (can be in the ballpark)\n",
        "# Assuming total epoch count is 1000, set the first timewrite to be 1000 hours before the current hour. \n",
        "total_epoch_count = 1000\n",
        "import time\n",
        "current_time = time.time()\n",
        "def change_time(row_time):\n",
        "    return int(current_time - ((total_epoch_count - row_time)*3600))\n",
        "df['time'] = df['time'].apply(change_time)\n",
        "\n",
        "df.head()"
      ],
      "execution_count": null,
      "outputs": []
    },
    {
      "cell_type": "code",
      "metadata": {
        "id": "0IaoONFFsXhP",
        "colab_type": "code",
        "colab": {
          "base_uri": "https://localhost:8080/",
          "height": 35
        },
        "outputId": "37b3d654-1ff0-47a5-f8f3-ecfc528b1d7f",
        "tags": []
      },
      "source": [
        "# Log the 5000 Predictions and Actuals for the Dummy Model\n",
        "# You can use either the Single Prediction Option or the Bulk Option. Both examples are below. \n",
        "\n",
        "# This is an example for logging single records. We discourage iterating in Python, if at time of logging you have a collection of records to log, we recommend using the bulk api (See example in the next cell). In this example we are only iterating through the first 20 items for brevity sake\n",
        "futures = []\n",
        "for i,k in enumerate(df['prediction_id'][:19]):\n",
        "  future = arize.log_prediction(\n",
        "        model_id='dummy_kpi_model',\n",
        "        model_version='v1',\n",
        "        model_type=ModelTypes.NUMERIC, \n",
        "        prediction_id=df['prediction_id'][i],\n",
        "        prediction_label=df['kpi'][i],\n",
        "        time_overwrite=int(df['time'][i]))\n",
        "  futures.append(future)\n",
        "\n",
        "# Listen to future to make sure record reached Arize\n",
        "for response in cf.as_completed(futures):\n",
        "  res = response.result()\n",
        "  if res.status_code != 200:\n",
        "    print(f'future failed because: {res.text}')\n",
        "\n",
        "print('Done sending data to Arize!')\n"
      ],
      "execution_count": null,
      "outputs": []
    },
    {
      "cell_type": "code",
      "metadata": {
        "id": "aSXqJ259saBV",
        "colab_type": "code",
        "colab": {
          "base_uri": "https://localhost:8080/",
          "height": 161
        },
        "outputId": "a692ba50-32e0-492b-895f-e6dae9f56668",
        "tags": [
          "outputPrepend"
        ]
      },
      "source": [
        "# This example uses the bulk send.\n",
        "pred_responses = arize.log_bulk_predictions(\n",
        "      model_id='dummy_model',\n",
        "      model_version='v1-bulk',\n",
        "      model_types=ModelTypes.NUMERIC, \n",
        "      prediction_ids=df['prediction_id'],\n",
        "      prediction_labels=kpi_df,\n",
        "      time_overwrite=df['time'])\n",
        "  \n",
        "for response in cf.as_completed(pred_responses):\n",
        "  res = response.result()\n",
        "  print(f'predictions response completed... {res.status_code}')\n",
        "  if res.status_code != 200:\n",
        "    print(f'future failed because: {res.text}')\n",
        "\n",
        "print('Done sending data to Arize!')\n",
        "    "
      ],
      "execution_count": null,
      "outputs": []
    }
  ]
}