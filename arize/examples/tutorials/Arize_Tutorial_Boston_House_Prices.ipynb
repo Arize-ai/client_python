{
  "nbformat": 4,
  "nbformat_minor": 0,
  "metadata": {
    "colab": {
      "name": "Arize_Tutorial_Boston_House_Prices.ipynb",
      "provenance": [],
      "collapsed_sections": [],
      "toc_visible": true
    },
    "kernelspec": {
      "name": "python3",
      "display_name": "Python 3"
    },
    "language_info": {
      "name": "python"
    }
  },
  "cells": [
    {
      "cell_type": "markdown",
      "metadata": {
        "id": "SJEgUhyh-k4-"
      },
      "source": [
        "# Arize Tutorial: Boston House Prices\n",
        "\n",
        "Let's get started on using Arize!✨\n",
        "\n",
        "Arize helps you visualize your model performance, understand drift & data quality issues, and share insights learned from your models. \n",
        "\n",
        "In this tutorial, we will be building a model to predict Boston House Prices. The model is predicting a numeric value so we call it a ModelType Numeric. After that, we will load the models's training inferences and test inferences into Arize. 🚀. \n",
        "\n",
        "### Running This Notebook\n",
        "1. Click \"Open in playground\" to create a copy of this notebook for yourself.\n",
        "2. Save a copy in Google Drive for yourself.\n",
        "3. Step through each section below, pressing play on the code blocks to run the cells.\n",
        "4. In Step 2, use your own Org and API key from your Arize account. \n",
        "\n",
        "\n",
        "[![Open In Colab](https://colab.research.google.com/assets/colab-badge.svg)](https://colab.research.google.com/github/Arize-ai/client_python/blob/main/arize/examples/tutorials/Arize_Tutorial_Boston_House_Prices.ipynb)\n"
      ]
    },
    {
      "cell_type": "markdown",
      "metadata": {
        "id": "aUUdm-QfF8xG"
      },
      "source": [
        "## Step 1: Load Data and Build Model"
      ]
    },
    {
      "cell_type": "code",
      "metadata": {
        "colab": {
          "base_uri": "https://localhost:8080/"
        },
        "id": "OWSc0hFn-Y4W",
        "outputId": "0468b67f-e72c-41db-e8ef-4aa1970c6276"
      },
      "source": [
        "import numpy as np\n",
        "import pandas as pd\n",
        "import uuid\n",
        "import matplotlib.pyplot as plt\n",
        "from sklearn import ensemble\n",
        "from sklearn import datasets\n",
        "from sklearn.utils import shuffle\n",
        "from sklearn.metrics import mean_squared_error\n",
        "\n",
        "###############################################################################\n",
        "# Load data\n",
        "boston = datasets.load_boston()\n",
        "X, y = shuffle(boston.data, boston.target, random_state=13)\n",
        "X = X.astype(np.float32)\n",
        "offset = int(X.shape[0] * 0.9)\n",
        "X_train, y_train = X[:offset], y[:offset]\n",
        "X_test, y_test = X[offset:], y[offset:]\n",
        "\n",
        "###############################################################################\n",
        "# Fit regression model\n",
        "params = {'n_estimators': 500, 'max_depth': 4, 'min_samples_split': 0.5,\n",
        "          'learning_rate': 0.01, 'loss': 'ls'}\n",
        "clf = ensemble.GradientBoostingRegressor(**params)\n",
        "clf.fit(X_train, y_train)\n",
        "train_inferences = clf.predict(X_train)\n",
        "test_inferences = clf.predict(X_test)\n",
        "\n",
        "print('Step 1 ✅: Load Data & Build Model Done!')"
      ],
      "execution_count": null,
      "outputs": [
        {
          "output_type": "stream",
          "text": [
            "Step 1 ✅: Load Data & Build Model Done!\n"
          ],
          "name": "stdout"
        }
      ]
    },
    {
      "cell_type": "markdown",
      "metadata": {
        "id": "PcVdPGFkGF2t"
      },
      "source": [
        "## Step 2: Import and Setup Arize Client "
      ]
    },
    {
      "cell_type": "code",
      "metadata": {
        "colab": {
          "base_uri": "https://localhost:8080/",
          "height": 812
        },
        "id": "btoJ-OY5DW5K",
        "outputId": "47f1ed9b-ea4c-4ddf-baf6-9622bda8c1b8"
      },
      "source": [
        "!pip install arize\n",
        "\n",
        "from arize.api import Client\n",
        "from arize.types import ModelTypes\n",
        "\n",
        "ORGANIZATION_KEY = 'YOUR ORGANIZATION KEY'\n",
        "API_KEY = 'YOUR API KEY'\n",
        "arize = Client(organization_key=ORGANIZATION_KEY, api_key=API_KEY)\n",
        "\n",
        "print('Step 2 ✅: Import and Setup Arize Client Done! Now we can start using Arize!')\n"
      ],
      "execution_count": null,
      "outputs": [
        {
          "output_type": "stream",
          "text": [
            "Collecting arize\n",
            "  Using cached https://files.pythonhosted.org/packages/80/07/6ba0d938a1075ee29ae6bdb962a51704eef597381b1ed578625b7bab8f71/arize-2.1.1-py2.py3-none-any.whl\n",
            "Collecting requests-futures==1.0.0\n",
            "  Using cached https://files.pythonhosted.org/packages/47/c4/fd48d1ac5110a5457c71ac7cc4caa93da10a80b8de71112430e439bdee22/requests-futures-1.0.0.tar.gz\n",
            "Collecting protobuf==3.12.0\n",
            "\u001b[?25l  Downloading https://files.pythonhosted.org/packages/c9/bf/5416042df9e48e89c60bdb116d9f1a72f2d014f6839a85148d63e6ae52dc/protobuf-3.12.0-cp37-cp37m-manylinux1_x86_64.whl (1.3MB)\n",
            "\u001b[K     |████████████████████████████████| 1.3MB 4.5MB/s \n",
            "\u001b[?25hCollecting googleapis-common-protos==1.51.0\n",
            "  Downloading https://files.pythonhosted.org/packages/05/46/168fd780f594a4d61122f7f3dc0561686084319ad73b4febbf02ae8b32cf/googleapis-common-protos-1.51.0.tar.gz\n",
            "Requirement already satisfied: pandas<2,>=0.25.3 in /usr/local/lib/python3.7/dist-packages (from arize) (1.1.5)\n",
            "Requirement already satisfied: requests>=1.2.0 in /usr/local/lib/python3.7/dist-packages (from requests-futures==1.0.0->arize) (2.23.0)\n",
            "Requirement already satisfied: six>=1.9 in /usr/local/lib/python3.7/dist-packages (from protobuf==3.12.0->arize) (1.15.0)\n",
            "Requirement already satisfied: setuptools in /usr/local/lib/python3.7/dist-packages (from protobuf==3.12.0->arize) (54.0.0)\n",
            "Requirement already satisfied: python-dateutil>=2.7.3 in /usr/local/lib/python3.7/dist-packages (from pandas<2,>=0.25.3->arize) (2.8.1)\n",
            "Requirement already satisfied: numpy>=1.15.4 in /usr/local/lib/python3.7/dist-packages (from pandas<2,>=0.25.3->arize) (1.19.5)\n",
            "Requirement already satisfied: pytz>=2017.2 in /usr/local/lib/python3.7/dist-packages (from pandas<2,>=0.25.3->arize) (2018.9)\n",
            "Requirement already satisfied: idna<3,>=2.5 in /usr/local/lib/python3.7/dist-packages (from requests>=1.2.0->requests-futures==1.0.0->arize) (2.10)\n",
            "Requirement already satisfied: urllib3!=1.25.0,!=1.25.1,<1.26,>=1.21.1 in /usr/local/lib/python3.7/dist-packages (from requests>=1.2.0->requests-futures==1.0.0->arize) (1.24.3)\n",
            "Requirement already satisfied: certifi>=2017.4.17 in /usr/local/lib/python3.7/dist-packages (from requests>=1.2.0->requests-futures==1.0.0->arize) (2020.12.5)\n",
            "Requirement already satisfied: chardet<4,>=3.0.2 in /usr/local/lib/python3.7/dist-packages (from requests>=1.2.0->requests-futures==1.0.0->arize) (3.0.4)\n",
            "Building wheels for collected packages: requests-futures, googleapis-common-protos\n",
            "  Building wheel for requests-futures (setup.py) ... \u001b[?25l\u001b[?25hdone\n",
            "  Created wheel for requests-futures: filename=requests_futures-1.0.0-cp37-none-any.whl size=7012 sha256=f4b7cf2aed617a13b4ce6e2cb4d8219a9bb7321a6d297a5f066bff4814f00a82\n",
            "  Stored in directory: /root/.cache/pip/wheels/26/d0/f5/dc4e4a37bbe55c9acf967d2bd899152412c1e49c227f5395ff\n",
            "  Building wheel for googleapis-common-protos (setup.py) ... \u001b[?25l\u001b[?25hdone\n",
            "  Created wheel for googleapis-common-protos: filename=googleapis_common_protos-1.51.0-cp37-none-any.whl size=77593 sha256=5fb7b969acacbbde1658bc30265cb18c54bdc0fa65f43fa27eea9f9bb264799d\n",
            "  Stored in directory: /root/.cache/pip/wheels/2c/f9/7f/6eb87e636072bf467e25348bbeb96849333e6a080dca78f706\n",
            "Successfully built requests-futures googleapis-common-protos\n",
            "\u001b[31mERROR: tensorflow-metadata 0.28.0 has requirement googleapis-common-protos<2,>=1.52.0, but you'll have googleapis-common-protos 1.51.0 which is incompatible.\u001b[0m\n",
            "Installing collected packages: requests-futures, protobuf, googleapis-common-protos, arize\n",
            "  Found existing installation: protobuf 3.12.4\n",
            "    Uninstalling protobuf-3.12.4:\n",
            "      Successfully uninstalled protobuf-3.12.4\n",
            "  Found existing installation: googleapis-common-protos 1.53.0\n",
            "    Uninstalling googleapis-common-protos-1.53.0:\n",
            "      Successfully uninstalled googleapis-common-protos-1.53.0\n",
            "Successfully installed arize-2.1.1 googleapis-common-protos-1.51.0 protobuf-3.12.0 requests-futures-1.0.0\n"
          ],
          "name": "stdout"
        },
        {
          "output_type": "display_data",
          "data": {
            "application/vnd.colab-display-data+json": {
              "pip_warning": {
                "packages": [
                  "google"
                ]
              }
            }
          },
          "metadata": {
            "tags": []
          }
        },
        {
          "output_type": "stream",
          "text": [
            "Step 2 ✅: Import and Setup Arize Client Done! Now we can start using Arize!\n"
          ],
          "name": "stdout"
        }
      ]
    },
    {
      "cell_type": "markdown",
      "metadata": {
        "id": "xAFhPCPOGX4T"
      },
      "source": [
        "## Step 3: Log Training Inferences to Arize"
      ]
    },
    {
      "cell_type": "code",
      "metadata": {
        "id": "kaiZRNt2EfXs"
      },
      "source": [
        "features_df = pd.DataFrame(X_train)\n",
        "features_df.columns = boston.feature_names\n",
        "train_predictions_df = pd.DataFrame(train_inferences)\n",
        "train_actual_labels_df = pd.DataFrame(y_train)\n",
        "ids_df = pd.DataFrame([str(uuid.uuid4()) for _ in range(len(train_predictions_df))])\n",
        "\n",
        "responses = arize.log_training_records(\n",
        "    model_id='boston_house_prices',\n",
        "    model_version='1.0',\n",
        "    model_type=ModelTypes.NUMERIC,\n",
        "    prediction_labels=train_predictions_df,\n",
        "    actual_labels=train_actual_labels_df,\n",
        "    features=features_df,\n",
        "    )\n",
        "    \n",
        "## Listen to response code to ensure successful delivery\n",
        "import concurrent.futures as cf\n",
        "for response in cf.as_completed(responses):\n",
        "  res = response.result()\n",
        "  if res.status_code != 200:\n",
        "    print(f'future failed with response code {res.status_code}, {res.text}')\n",
        "\n",
        "print('Step 3 ✅: If no errors showed up, you have sent Training Inferences!')"
      ],
      "execution_count": null,
      "outputs": []
    },
    {
      "cell_type": "markdown",
      "metadata": {
        "id": "Luve7h80Gb0L"
      },
      "source": [
        "## Step 4: Log Test Inferences to Arize"
      ]
    },
    {
      "cell_type": "code",
      "metadata": {
        "id": "cx3g8DoQD2me"
      },
      "source": [
        "\"\"\"\n",
        "Note: In a real production environment, you will use log_validation for the test set. \n",
        "However, just as an example here, we will think of the test set as the production data \n",
        "you might send for this model. For production, we use log_bulk_predictions \n",
        "and log_bulk_actuals.    \n",
        "\"\"\"\n",
        "\n",
        "features_df = pd.DataFrame(X_test)\n",
        "features_df.columns = boston.feature_names\n",
        "test_predictions_df = pd.DataFrame(test_inferences)\n",
        "test_actual_labels_df = pd.DataFrame(y_test)\n",
        "ids_df = pd.DataFrame([str(uuid.uuid4()) for _ in range(len(test_predictions_df))])\n",
        "\n",
        "# First we log the predictions. We are using log_bulk_predictions since we are sending more than 1 prediction. \n",
        "responses = arize.log_bulk_predictions(\n",
        "    model_id='boston_house_prices',\n",
        "    model_version='1.0',\n",
        "    model_type=ModelTypes.NUMERIC,\n",
        "    prediction_ids=ids_df,\n",
        "    prediction_labels=test_predictions_df,\n",
        "    features=features_df,\n",
        "    )\n",
        "\n",
        "## Listen to response code to ensure successful delivery of predictions\n",
        "import concurrent.futures as cf\n",
        "for response in cf.as_completed(responses):\n",
        "  res = response.result()\n",
        "  if res.status_code != 200:\n",
        "    print(f'future failed with response code {res.status_code}, {res.text}')\n",
        "\n",
        "# Next, we log the actuals. We are using log_bulk_actuals since we are sending more than 1 actual. \n",
        "responses = arize.log_bulk_actuals(\n",
        "    model_id='boston_house_prices',\n",
        "    prediction_ids=ids_df, # Pass in the same IDs to match the predictions & actuals. \n",
        "    actual_labels=test_actual_labels_df\n",
        "    )\n",
        "\n",
        "## Listen to response code to ensure successful delivery of actuals\n",
        "import concurrent.futures as cf\n",
        "for response in cf.as_completed(responses):\n",
        "  res = response.result()\n",
        "  if res.status_code != 200:\n",
        "    print(f'future failed with response code {res.status_code}, {res.text}')\n",
        "\n",
        "print('Step 4 ✅: If no errors showed up, you have successfully sent in Test Inferences!')"
      ],
      "execution_count": null,
      "outputs": []
    }
  ]
}