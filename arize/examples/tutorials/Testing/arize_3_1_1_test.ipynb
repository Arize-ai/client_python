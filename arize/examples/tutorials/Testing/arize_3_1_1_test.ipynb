{
 "cells": [
  {
   "cell_type": "markdown",
   "metadata": {
    "id": "iv6wFVX-9lA_"
   },
   "source": [
    "# Introducing Arize Python SDK Version 3.1.1\n",
    "\n",
    "## Send 10 million inferences with 21 features to Arize in 90 seconds!\n",
    "\n",
    "Arize 3.1.1 makes significant improvement on the data ingestion excution time from SDK's side when you send inferences to Arize platform with arize.pandas.logger.\n",
    "\n",
    "By running this Colab Notebook, you will:\n",
    "1. set up arize client with your api and space keys\n",
    "2. download 10 million prepopulated inferences data with 21 features (integer, float, str), prediction label, actual label, prediction score, and actual score\n",
    "3. append timestamps to the inferences data spanning over 30 days\n",
    "4. send 10 million inferences to Arize"
   ]
  },
  {
   "cell_type": "code",
   "execution_count": null,
   "metadata": {
    "colab": {
     "base_uri": "https://localhost:8080/"
    },
    "id": "LT4YeiqC9lBB",
    "outputId": "c1399464-20e7-4359-f476-628fd56b54be"
   },
   "outputs": [],
   "source": [
    "!pip -q install arize\n",
    "\n",
    "import datetime\n",
    "import time\n",
    "import uuid\n",
    "\n",
    "import numpy as np\n",
    "import pandas as pd\n",
    "from arize.pandas.logger import Client, Schema\n",
    "from arize.utils.types import Environments, ModelTypes\n",
    "\n",
    "import arize\n",
    "\n",
    "print(f\"You are using arize version: {arize.__version__}\")"
   ]
  },
  {
   "cell_type": "markdown",
   "metadata": {
    "id": "rga9kqOM9lBD"
   },
   "source": [
    "### Set up Arize Client with your API and Space Keys"
   ]
  },
  {
   "cell_type": "code",
   "execution_count": null,
   "metadata": {
    "id": "AZ9gqq0w9lBE"
   },
   "outputs": [],
   "source": [
    "SPACE_KEY = \"YOUR_SPACE_KEY\"\n",
    "API_KEY = \"YOUR_API_KEY\"\n",
    "arize_client = Client(space_key=SPACE_KEY, api_key=API_KEY)"
   ]
  },
  {
   "cell_type": "markdown",
   "metadata": {
    "id": "6ZuNQdsy9lBE"
   },
   "source": [
    "### Download 10 million inferences data and load to pandas DataFrame"
   ]
  },
  {
   "cell_type": "code",
   "execution_count": null,
   "metadata": {
    "id": "t1aK38-KfLWz"
   },
   "outputs": [],
   "source": [
    "!wget https://storage.googleapis.com/arize-assets/fixtures/SDK_Benchmark_Data/10m_inferences.ftr"
   ]
  },
  {
   "cell_type": "code",
   "execution_count": null,
   "metadata": {
    "id": "uQxIPDdPld0K"
   },
   "outputs": [],
   "source": [
    "df = pd.read_feather(\"10m_inferences.ftr\")"
   ]
  },
  {
   "cell_type": "code",
   "execution_count": null,
   "metadata": {
    "id": "SVIg5eP79lBF"
   },
   "outputs": [],
   "source": [
    "# append timestamp to inferences so the data points spread out over 30 days in Arize App\n",
    "current_time = datetime.datetime.now().timestamp()\n",
    "earlier_time = (datetime.datetime.now() - datetime.timedelta(days=30)).timestamp()\n",
    "prediction_ts = np.linspace(earlier_time, current_time, num=df.shape[0]).astype(int)\n",
    "df[\"prediction_ts\"] = prediction_ts"
   ]
  },
  {
   "cell_type": "code",
   "execution_count": null,
   "metadata": {
    "id": "B_E4WXU39lBG"
   },
   "outputs": [],
   "source": [
    "df.shape"
   ]
  },
  {
   "cell_type": "code",
   "execution_count": null,
   "metadata": {
    "id": "ayEdG1-lqBSV"
   },
   "outputs": [],
   "source": [
    "df.head()"
   ]
  },
  {
   "cell_type": "markdown",
   "metadata": {
    "id": "CDJ8B4wO9lBH"
   },
   "source": [
    "### Send Data to Arize"
   ]
  },
  {
   "cell_type": "code",
   "execution_count": null,
   "metadata": {
    "id": "N-wSmNs39lBI"
   },
   "outputs": [],
   "source": [
    "schema = Schema(\n",
    "    prediction_id_column_name=\"prediction_id\",\n",
    "    prediction_label_column_name=\"prediction_label\",\n",
    "    prediction_score_column_name=\"prediction_score\",\n",
    "    actual_label_column_name=\"actual_label\",\n",
    "    actual_score_column_name=\"actual_score\",\n",
    "    timestamp_column_name=\"prediction_ts\",\n",
    "    feature_column_names=df.columns.drop(\n",
    "        [\n",
    "            \"actual_label\",\n",
    "            \"prediction_label\",\n",
    "            \"actual_score\",\n",
    "            \"prediction_score\",\n",
    "            \"prediction_id\",\n",
    "            \"prediction_ts\",\n",
    "        ]\n",
    "    ),\n",
    ")\n",
    "\n",
    "\n",
    "start = time.time_ns()\n",
    "res = arize_client.log(\n",
    "    dataframe=df,\n",
    "    model_id=(f\"10-million-inferences-test-{datetime.datetime.now().strftime('%s')}\"),\n",
    "    model_version=\"v1.0\",\n",
    "    model_type=ModelTypes.SCORE_CATEGORICAL,\n",
    "    environment=Environments.PRODUCTION,\n",
    "    schema=schema,\n",
    ")\n",
    "print(f\"future completed with response code {res.status_code}\")\n",
    "\n",
    "if res.status_code != 200:\n",
    "    print(f\"future failed with response code {res.status_code}, {res.text}\")\n",
    "else:\n",
    "    end = time.time_ns()\n",
    "    print(\n",
    "        f\"request took a total of {int(end - start)/1000000:.2f}ms to serialize and send {df.shape[0]} records with {df.shape[1]} columns.\\n\"\n",
    "    )"
   ]
  }
 ],
 "metadata": {
  "colab": {
   "collapsed_sections": [],
   "name": "arize 3.1.0 test.ipynb",
   "provenance": []
  },
  "interpreter": {
   "hash": "b0f33091cfd697327307061da6007c90ed741bad09c9cc066b646c43f89f4200"
  },
  "kernelspec": {
   "display_name": "Python 3.8.12 64-bit ('sdk-test': virtualenv)",
   "name": "python3"
  },
  "language_info": {
   "codemirror_mode": {
    "name": "ipython",
    "version": 3
   },
   "file_extension": ".py",
   "mimetype": "text/x-python",
   "name": "python",
   "nbconvert_exporter": "python",
   "pygments_lexer": "ipython3",
   "version": "3.8.12"
  },
  "orig_nbformat": 4
 },
 "nbformat": 4,
 "nbformat_minor": 2
}
