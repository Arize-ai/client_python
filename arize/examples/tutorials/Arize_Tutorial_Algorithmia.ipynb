{
 "cells": [
  {
   "cell_type": "code",
   "execution_count": null,
   "metadata": {},
   "outputs": [],
   "source": [
    "!pip install Algorithmia\n",
    "!pip install arize"
   ]
  },
  {
   "cell_type": "code",
   "execution_count": null,
   "metadata": {},
   "outputs": [],
   "source": [
    "# Imports\n",
    "import Algorithmia\n",
    "import os\n",
    "from arize.api import Client\n",
    "import uuid"
   ]
  },
  {
   "cell_type": "code",
   "execution_count": null,
   "metadata": {},
   "outputs": [],
   "source": [
    "\n",
    "# Set up Algorithmia and Arize clients \n",
    "ORG_KEY = 'YOUR ARIZE ORGANIZATION KEY'\n",
    "API_KEY = 'YOUR ARIZE API KEY'\n",
    "arize_client = Client(organization_key=ORG_KEY, api_key=API_KEY)\n",
    "\n",
    "\n",
    "algorithmia_client = Algorithmia.client('simytbUgpW4hjRGE3rGxnE8Bfie1')\n",
    "algo = algorithmia_client.algo('nlp/SentimentAnalysis/1.0.5')\n",
    "algo.set_options(timeout=300) # optional\n"
   ]
  },
  {
   "cell_type": "code",
   "execution_count": null,
   "metadata": {},
   "outputs": [],
   "source": [
    "# Prediction Input\n",
    "input = {\n",
    "  \"document\": \"Here is my prediction input document!\"\n",
    "}\n",
    "\n",
    "# Evaluating a prediction in Algorithmia\n",
    "predictions = algo.pipe(input).result\n",
    "predicted_label = predictions[0]['sentiment']\n",
    "print(f'Predictions: {predictions}')\n",
    "print(f'Sentiment Prediction: {prediction_value}')\n",
    "\n",
    "# These are not the actual features ... algorithmia doesn't give you the features for Marketplace models\n",
    "def generate_label_map(input_value):\n",
    "  features = {}\n",
    "  features[\"size\"] = str(len(input_value))\n",
    "  features[\"sentence\"] = input_value\n",
    "  return features"
   ]
  },
  {
   "cell_type": "code",
   "execution_count": null,
   "metadata": {},
   "outputs": [],
   "source": [
    "# Send prediction along with features to Arize\n",
    "features = generate_label_map(input[\"document\"])\n",
    "\n",
    "response = arize_client.log_prediction(\n",
    "    model_id='sample-model-1',\n",
    "    model_version='v1',\n",
    "    prediction_id= str(uuid.uuid4()),\n",
    "    prediction_label=predicted_label,\n",
    "    features=features)\n",
    "\n",
    "# Check that the prediction was successfully logged\n",
    "res = response.result()\n",
    "if res.status_code == 200:\n",
    "    print(f'Success!!!')"
   ]
  }
 ],
 "metadata": {
  "kernelspec": {
   "display_name": "conda_python3",
   "language": "python",
   "name": "conda_python3"
  },
  "language_info": {
   "codemirror_mode": {
    "name": "ipython",
    "version": 3
   },
   "file_extension": ".py",
   "mimetype": "text/x-python",
   "name": "python",
   "nbconvert_exporter": "python",
   "pygments_lexer": "ipython3",
   "version": "3.6.5"
  }
 },
 "nbformat": 4,
 "nbformat_minor": 4
}