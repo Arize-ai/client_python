{
 "cells": [
  {
   "cell_type": "code",
   "execution_count": null,
   "metadata": {},
   "outputs": [],
   "source": [
    "!pip install Algorithmia\n",
    "!pip install arize"
   ]
  },
  {
   "cell_type": "code",
   "execution_count": null,
   "metadata": {},
   "outputs": [],
   "source": [
    "# Imports\n",
    "import Algorithmia\n",
    "import os\n",
    "from arize.api import Client\n",
    "import uuid"
   ]
  },
  {
   "cell_type": "code",
   "execution_count": null,
   "metadata": {},
   "outputs": [],
   "source": [
    "\n",
    "# Set up Algorithmia and Arize clients\n",
    "SPACE_KEY = 'YOUR ARIZE SPACE KEY'\n",
    "API_KEY = 'YOUR ARIZE API KEY'\n",
    "arize_client = Client(space_key=SPACE_KEY, api_key=API_KEY)\n",
    "\n",
    "\n",
    "algorithmia_client = Algorithmia.client('simytbUgpW4hjRGE3rGxnE8Bfie1')\n",
    "algo = algorithmia_client.algo('nlp/SentimentAnalysis/1.0.5')\n",
    "algo.set_options(timeout=300) # optional\n"
   ]
  },
  {
   "cell_type": "code",
   "execution_count": null,
   "metadata": {},
   "outputs": [],
   "source": [
    "# Prediction Input\n",
    "input = {\n",
    "  \"document\": \"Here is my prediction input document!\"\n",
    "}\n",
    "\n",
    "# Evaluating a prediction in Algorithmia\n",
    "predictions = algo.pipe(input).result\n",
    "predicted_label = predictions[0]['sentiment']\n",
    "print(f'Predictions: {predictions}')\n",
    "print(f'Sentiment Prediction: {prediction_value}')\n",
    "\n",
    "# These are not the actual features ... algorithmia doesn't give you the features for Marketplace models\n",
    "def generate_label_map(input_value):\n",
    "  features = {}\n",
    "  features[\"size\"] = str(len(input_value))\n",
    "  features[\"sentence\"] = input_value\n",
    "  return features"
   ]
  },
  {
   "cell_type": "code",
   "execution_count": null,
   "metadata": {},
   "outputs": [],
   "source": [
    "# Send prediction along with features to Arize\n",
    "features = generate_label_map(input[\"document\"])\n",
    "\n",
    "response = arize_client.log_prediction(\n",
    "    model_id='sample-model-1',\n",
    "    model_version='v1',\n",
    "    model_type =ModelTypes.CATEGORICAL,\n",
    "    prediction_id= str(uuid.uuid4()),\n",
    "    prediction_label=predicted_label,\n",
    "    features=features)\n",
    "\n",
    "# Check that the prediction was successfully logged\n",
    "res = response.result()\n",
    "if res.status_code == 200:\n",
    "    print(f'Success!!!')"
   ]
  },
  {
   "cell_type": "markdown",
   "source": [
    "### Overview\n",
    "Arize is an end-to-end ML observability and model monitoring platform. The platform is designed to help ML engineers and data science practitioners surface and fix issues with ML models in production faster with:\n",
    "- Automated ML monitoring and model monitoring\n",
    "- Workflows to troubleshoot model performance\n",
    "- Real-time visualizations for model performance monitoring, data quality monitoring, and drift monitoring\n",
    "- Model prediction cohort analysis\n",
    "- Pre-deployment model validation\n",
    "- Integrated model explainability\n",
    "\n",
    "### Website\n",
    "Visit Us At: https://arize.com/model-monitoring/\n",
    "\n",
    "### Additional Resources\n",
    "- [What is ML observability?](https://arize.com/what-is-ml-observability/)\n",
    "- [Playbook to model monitoring in production](https://arize.com/the-playbook-to-monitor-your-models-performance-in-production/)\n",
    "- [Using statistical distance metrics for ML monitoring and observability](https://arize.com/using-statistical-distance-metrics-for-machine-learning-observability/)\n",
    "- [ML infrastructure tools for data preparation](https://arize.com/ml-infrastructure-tools-for-data-preparation/)\n",
    "- [ML infrastructure tools for model building](https://arize.com/ml-infrastructure-tools-for-model-building/)\n",
    "- [ML infrastructure tools for production](https://arize.com/ml-infrastructure-tools-for-production-part-1/)\n",
    "- [ML infrastructure tools for model deployment and model serving](https://arize.com/ml-infrastructure-tools-for-production-part-2-model-deployment-and-serving/)\n",
    "- [ML infrastructure tools for ML monitoring and observability](https://arize.com/ml-infrastructure-tools-ml-observability/)\n",
    "\n",
    "Visit the [Arize Blog](https://arize.com/blog) and [Resource Center](https://arize.com/resource-hub/) for more resources on ML observability and model monitoring.\n"
   ],
   "metadata": {
    "collapsed": false
   }
  },
  {
   "cell_type": "code",
   "execution_count": null,
   "outputs": [],
   "source": [],
   "metadata": {
    "collapsed": false,
    "pycharm": {
     "name": "#%%\n"
    }
   }
  }
 ],
 "metadata": {
  "kernelspec": {
   "display_name": "conda_python3",
   "language": "python",
   "name": "conda_python3"
  },
  "language_info": {
   "codemirror_mode": {
    "name": "ipython",
    "version": 3
   },
   "file_extension": ".py",
   "mimetype": "text/x-python",
   "name": "python",
   "nbconvert_exporter": "python",
   "pygments_lexer": "ipython3",
   "version": "3.6.5"
  }
 },
 "nbformat": 4,
 "nbformat_minor": 4
}