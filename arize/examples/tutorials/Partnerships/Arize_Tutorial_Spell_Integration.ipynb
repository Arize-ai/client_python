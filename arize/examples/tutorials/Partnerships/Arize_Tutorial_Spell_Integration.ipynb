{
  "nbformat": 4,
  "nbformat_minor": 0,
  "metadata": {
    "colab": {
      "name": "Arize_Tutorial_Spell_Integration.ipynb",
      "provenance": [],
      "collapsed_sections": []
    },
    "kernelspec": {
      "name": "python3",
      "display_name": "Python 3"
    },
    "language_info": {
      "name": "python"
    }
  },
  "cells": [
    {
      "cell_type": "markdown",
      "metadata": {
        "id": "TOb-gPPs9FOE"
      },
      "source": [
        "# Spell Integration Notebook\n",
        "\n",
        "Let's get started on using Arize with Spell!✨\n",
        "\n",
        "Arize helps you visualize your model performance, understand drift & data quality issues, and share insights learned from your models. Spell is an end-to-end ML platform that provides infrastructure for company to deploy and train models.\n",
        "\n",
        "In this notebook, we show how to integrate Arize with Spell quickly.\n",
        "\n",
        "1. **Step 1:** Logging into `spell` via command line.\n",
        "2. **Step 2:** Train and create model with spell.\n",
        "\n",
        "**Note:** Arize also allows you to log your training and validation. See [our documentation page here](https://arize.gitbook.io/arize/apis/python-sdk-1/arize.log_training_records)\n",
        "3. **Step 3:** Add your Arize `API_KEY` and `SPACE_KEY` to `serve_async.py` and `server_sync.py`.\n",
        "4. **Step 4:** Creating your model your model and serving it.\n",
        "5. **Step 5:** Test your working instance, send in some data, and see that your model is observable on Arize platform.\n",
        "\n",
        "[![Open In Colab](https://colab.research.google.com/assets/colab-badge.svg)](https://colab.research.google.com/github/Arize-ai/client_python/blob/main/arize/examples/tutorials/Arize_Tutorial_Spell_Integration.ipynb)"
      ]
    },
    {
      "cell_type": "markdown",
      "metadata": {
        "id": "Amq6XRh5CNSJ"
      },
      "source": [
        "## Step 1: Logging into Spell"
      ]
    },
    {
      "cell_type": "code",
      "metadata": {
        "id": "uk6P5X5PbAVO"
      },
      "source": [
        "# First, we need to clone the repos so we have access to the .py files from within the notebook\n",
        "!git clone https://github.com/spellml/examples.git\n",
        "%cd examples/arize\n",
        "!spell login\n",
        "print('Step 1 ✅: Logging and obtained required files')"
      ],
      "execution_count": null,
      "outputs": []
    },
    {
      "cell_type": "markdown",
      "metadata": {
        "id": "Gk3kx5z1CkOv"
      },
      "source": [
        "## Step 2: Model Training"
      ]
    },
    {
      "cell_type": "code",
      "metadata": {
        "id": "CUqJwPX2nDGm"
      },
      "source": [
        "! spell run \\\n",
        "    --github-url https://github.com/spellml/examples \\\n",
        "    --machine-type cpu \\\n",
        "    --mount public/tutorial/churn_data/:/mnt/churn_prediction/ \\\n",
        "    --pip arize --pip lightgbm \\\n",
        "    -- python arize/train.py\n",
        "print('Step 2 ✅: Model Training Complete!')"
      ],
      "execution_count": null,
      "outputs": []
    },
    {
      "cell_type": "markdown",
      "metadata": {
        "id": "nGiWLmoiDSi9"
      },
      "source": [
        "## Step 3: Adding API and SPACE Key from Arize\n",
        "You can obtain your API and SPACE keys by navigating to the settings page in your workspace (only space admins can see the keys)."
      ]
    },
    {
      "cell_type": "markdown",
      "metadata": {
        "id": "hUvtSUMcEuz5"
      },
      "source": [
        "## Step 4: Creating and Serving Model\n",
        "You can find your model's run ID under [Runs](https://web.spell.ml/runs), or simply copy the number displayed: **💫 Casting spell $RUN_ID**."
      ]
    },
    {
      "cell_type": "code",
      "metadata": {
        "id": "CJQjIyJxqczb"
      },
      "source": [
        "!spell model create churn-prediction 'runs/$RUN_ID'"
      ],
      "execution_count": null,
      "outputs": []
    },
    {
      "cell_type": "code",
      "metadata": {
        "id": "IxJho7eMC23B"
      },
      "source": [
        "!spell server serve \\\n",
        "  --node-group default \\\n",
        "  --min-pods 1 --max-pods 3 \\\n",
        "  --target-requests-per-second 100 \\\n",
        "  --pip lightgbm --pip arize \\\n",
        "  --env ARIZE_SPACE_KEY=$ARIZE_SPACE_KEY \\\n",
        "  --env ARIZE_API_KEY=$ARIZE_API_KEY \\\n",
        "  churn-prediction:v1 serve_sync.py  # or serve_async.py"
      ],
      "execution_count": null,
      "outputs": []
    },
    {
      "cell_type": "markdown",
      "metadata": {
        "id": "Zteu1ZkLFneu"
      },
      "source": [
        "# Step 5: Testing your server\n",
        "You can find details on `REGION` and `CLUSTER` on your [Servers page](https://web.spell.ml/servers). Copy those into the cell below, and you should receive the result:\n",
        "\n",
        "`{\"result\":[1.0]}%`"
      ]
    },
    {
      "cell_type": "code",
      "metadata": {
        "id": "4aQXfZM2C58F"
      },
      "source": [
        "!curl -X POST -d '@test_payload.txt' \\\n",
        "    https://$REGION.$CLUSTER.spell.services/$SPACE/churn-prediction/predict"
      ],
      "execution_count": null,
      "outputs": []
    },
    {
      "cell_type": "markdown",
      "source": [
        "### Overview\n",
        "Arize is an end-to-end ML observability and model monitoring platform. The platform is designed to help ML engineers and data science practitioners surface and fix issues with ML models in production faster with:\n",
        "- Automated ML monitoring and model monitoring\n",
        "- Workflows to troubleshoot model performance\n",
        "- Real-time visualizations for model performance monitoring, data quality monitoring, and drift monitoring\n",
        "- Model prediction cohort analysis\n",
        "- Pre-deployment model validation\n",
        "- Integrated model explainability\n",
        "\n",
        "### Website\n",
        "Visit Us At: https://arize.com/model-monitoring/\n",
        "\n",
        "### Additional Resources\n",
        "- [What is ML observability?](https://arize.com/what-is-ml-observability/)\n",
        "- [Playbook to model monitoring in production](https://arize.com/the-playbook-to-monitor-your-models-performance-in-production/)\n",
        "- [Using statistical distance metrics for ML monitoring and observability](https://arize.com/using-statistical-distance-metrics-for-machine-learning-observability/)\n",
        "- [ML infrastructure tools for data preparation](https://arize.com/ml-infrastructure-tools-for-data-preparation/)\n",
        "- [ML infrastructure tools for model building](https://arize.com/ml-infrastructure-tools-for-model-building/)\n",
        "- [ML infrastructure tools for production](https://arize.com/ml-infrastructure-tools-for-production-part-1/)\n",
        "- [ML infrastructure tools for model deployment and model serving](https://arize.com/ml-infrastructure-tools-for-production-part-2-model-deployment-and-serving/)\n",
        "- [ML infrastructure tools for ML monitoring and observability](https://arize.com/ml-infrastructure-tools-ml-observability/)\n",
        "\n",
        "Visit the [Arize Blog](https://arize.com/blog) and [Resource Center](https://arize.com/resource-hub/) for more resources on ML observability and model monitoring.\n"
      ],
      "metadata": {
        "collapsed": false
      }
    },
    {
      "cell_type": "code",
      "execution_count": null,
      "outputs": [],
      "source": [],
      "metadata": {
        "collapsed": false,
        "pycharm": {
          "name": "#%%\n"
        }
      }
    }
  ]
}
