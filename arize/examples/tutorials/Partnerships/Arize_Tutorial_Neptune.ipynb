{
  "nbformat": 4,
  "nbformat_minor": 0,
  "metadata": {
    "colab": {
      "name": "Arize_Tutorial_Neptune.ipynb",
      "provenance": [],
      "toc_visible": true
    },
    "kernelspec": {
      "name": "python3",
      "display_name": "Python 3"
    },
    "language_info": {
      "name": "python"
    }
  },
  "cells": [
    {
      "cell_type": "markdown",
      "metadata": {
        "id": "P4chH_jBYCfI"
      },
      "source": [
        "# 🚀 **Arize and Neptune Walkthrough**\n",
        "\n",
        "Let's get started on using Arize with Neptune! ✨\n",
        "\n",
        "Arize and Neptune are MLOps tools that aim to improve connected, but different parts of your ML pipeline and ML workflow. Arize helps you visualize your production model performance, understand drift & data quality issues. Neptune logs, stores, displays, and compares all your MLOps metadata for better experiment tracking. \n",
        "\n",
        "With Arize and Neptune, you will be able to train the best model, and pre-launch validate your model, and compare production performances of those models.\n",
        "\n",
        "\n",
        "## ✔️ Steps for this Walkthrough\n",
        "1. Initialize Neptune and set-up Arize client\n",
        "2. Logging training callbacks to Neptune\n",
        "3. Logging training and validation records to Arize\n",
        "4. Storing and versioning model weights with Neptune\n",
        "5. Logging and versioning model in production with Arize\n"
      ]
    },
    {
      "cell_type": "markdown",
      "metadata": {
        "id": "aT5dYnFRcix2"
      },
      "source": [
        "# Step 1: Initialize Neptune and set-up Arize client\n",
        "\n",
        "## Step 1.2 Set-up Neptune Project\n",
        "First you will need to create a Neptune account and follow these steps\n",
        "1. Sign up for an account and replace `YOUR_USER_NAME` with your client name\n",
        "2. Copy your `API_TOKEN`  from top right of the neptune nav bar\n",
        "3. Create a new `Project` and name it `ArizeIntegration`."
      ]
    },
    {
      "cell_type": "code",
      "metadata": {
        "colab": {
          "base_uri": "https://localhost:8080/"
        },
        "id": "CW5tR9FvumLK",
        "outputId": "5254e8a7-7d09-4bdb-939e-445b7ee42738"
      },
      "source": [
        "!pip install neptune-client -q\n",
        "!pip install neptune-tensorflow-keras -q\n",
        "\n",
        "import neptune.new as neptune\n",
        "from neptune.new.integrations.tensorflow_keras import NeptuneCallback\n",
        "\n",
        "NEPTUNE_USER_NAME = 'NEPTUNE_USER_NAME'\n",
        "NEPTUNE_API_TOKEN = 'NEPTUNE_API_TOKEN'\n",
        "\n",
        "if NEPTUNE_USER_NAME == 'NEPTUNE_USER_NAME' or NEPTUNE_API_TOKEN == 'NEPTUNE_API_TOKEN': \n",
        "    raise ValueError(\"❌ NEED TO CHANGE USERNAME AND/OR API TOKEN\")\n",
        "\n",
        "# set parameters for initializing Neptune\n",
        "PROJECT_NAME = f\"{NEPTUNE_USER_NAME}/ArizeIntegration\"\n",
        "run = neptune.init(project=PROJECT_NAME, api_token=NEPTUNE_API_TOKEN)\n",
        "\n",
        "print('Step 1.1 ✅: Initialize Neptune run and project complete!')"
      ],
      "execution_count": null,
      "outputs": [
        {
          "output_type": "stream",
          "text": [
            "https://app.neptune.ai/alanschen/ArizeIntegration/e/AR3-1\n",
            "Remember to stop your run once you’ve finished logging your metadata (https://docs.neptune.ai/api-reference/run#stop). It will be stopped automatically only when the notebook kernel/interactive console is terminated.\n",
            "Step 1.1 ✅: Initialize Neptune run and project complete!\n"
          ],
          "name": "stdout"
        }
      ]
    },
    {
      "cell_type": "markdown",
      "metadata": {
        "id": "3JGR8yPjiq6w"
      },
      "source": [
        "## Step 1.2: Set-up Arize Client\n",
        "To set up Arize, copy the Arize `API_KEY` and `ORG_KEY` from your admin page linked below!\n",
        "\n",
        "[![Button_Open.png](https://storage.googleapis.com/arize-assets/fixtures/Button_Open.png)](https://app.arize.com/admin)"
      ]
    },
    {
      "cell_type": "code",
      "metadata": {
        "colab": {
          "base_uri": "https://localhost:8080/"
        },
        "id": "uDrwK5eOcm-5",
        "outputId": "b6a4e642-e9b5-4d47-9195-94fcbec84875"
      },
      "source": [
        "!pip install arize -q\n",
        "from arize.api import Client\n",
        "from arize.types import ModelTypes\n",
        "\n",
        "ORGANIZATION_KEY = 'ORGANIZATION_KEY'\n",
        "API_KEY = 'API_KEY'\n",
        "arize = Client(organization_key=ORGANIZATION_KEY, api_key=API_KEY)\n",
        "\n",
        "model_id = 'neptune_cancer_prediction_model'\n",
        "model_version = 'v1'\n",
        "model_type = ModelTypes.BINARY\n",
        "\n",
        "if ORGANIZATION_KEY == 'ORGANIZATION_KEY' or API_KEY == 'API_KEY': \n",
        "    raise ValueError(\"❌ NEED TO CHANGE ORGANIZATION AND/OR API_KEY\")\n",
        "else: \n",
        "    print(\"Step 1.2 ✅: Initialize Arize client complete!\")"
      ],
      "execution_count": null,
      "outputs": [
        {
          "output_type": "stream",
          "text": [
            "Step 1.2 ✅: Initialize Arize client complete!\n"
          ],
          "name": "stdout"
        }
      ]
    },
    {
      "cell_type": "markdown",
      "metadata": {
        "id": "mZHA77eccOyG"
      },
      "source": [
        "# Step 2: Logging training callbacks to Neptune\n",
        "\n",
        "Neptune tracks your model training callbacks, allowing training loss curves to be logged and visualized for each different training iterations. In this example, we will be working with a `tensorflow.keras` model to build a model for classifying whether an individual has breast cancer or not.\n",
        "\n",
        "## Step 2.1: Import Dataset"
      ]
    },
    {
      "cell_type": "code",
      "metadata": {
        "colab": {
          "base_uri": "https://localhost:8080/"
        },
        "id": "Kh9yOvSbYB8Z",
        "outputId": "fe3c48e9-1e96-4425-eb4b-d3fd33240ecd"
      },
      "source": [
        "import numpy as np\n",
        "import pandas as pd\n",
        "import uuid\n",
        "import os\n",
        "import concurrent.futures as cf\n",
        "from sklearn import datasets, preprocessing\n",
        "from sklearn.model_selection import train_test_split\n",
        "import datetime\n",
        "\n",
        "def process_data(X, y):\n",
        "    scaler = preprocessing.MinMaxScaler()\n",
        "    X = np.array(X).reshape((len(X), 30))\n",
        "    y = np.array(y)\n",
        "    return X, y\n",
        "\n",
        "# 1 Load data and split data\n",
        "data = datasets.load_breast_cancer()\n",
        "\n",
        "X, y = datasets.load_breast_cancer(return_X_y=True)\n",
        "X, y = X.astype(np.float32), y\n",
        "\n",
        "X, y = pd.DataFrame(X, columns=data['feature_names']), pd.Series(y)\n",
        "\n",
        "X_train, X_test, y_train, y_test = train_test_split(X, y, random_state=42)\n",
        "X_train, X_val, y_train, y_val = train_test_split(X_train, y_train, random_state=42)\n",
        "\n",
        "print('Step 2.1 ✅: Load Data Done!')"
      ],
      "execution_count": null,
      "outputs": [
        {
          "output_type": "stream",
          "text": [
            "Step 2.1 ✅: Load Data Done!\n"
          ],
          "name": "stdout"
        }
      ]
    },
    {
      "cell_type": "markdown",
      "metadata": {
        "id": "KGoLR6Vuj79l"
      },
      "source": [
        "# Step 2.2 Logging Training Callbacks\n",
        "By passing `run` instance and `base_namespace=PROJECT_NAME` defined earlier, a live training curve should show up on Neptune under the **Charts** tab."
      ]
    },
    {
      "cell_type": "code",
      "metadata": {
        "colab": {
          "base_uri": "https://localhost:8080/"
        },
        "id": "jEOI5zJT6Odw",
        "outputId": "8aa30ee6-fb08-449c-bf9c-e7481b44787a"
      },
      "source": [
        "import tensorflow.keras as keras\n",
        "from keras.models import Sequential\n",
        "from keras.layers import Dense, Dropout, Flatten, Activation\n",
        "import tensorflow as tf\n",
        "\n",
        "# Step 1: Define and compile model\n",
        "model = Sequential()\n",
        "model.add(Dense(10, activation='sigmoid', input_shape=((30,))))\n",
        "model.add(Dropout(0.25))\n",
        "model.add(Dense(20, activation='sigmoid'))\n",
        "model.add(Dropout(0.25))\n",
        "model.add(Dense(10, activation='sigmoid'))\n",
        "model.add(Dropout(0.25))\n",
        "model.add(Dense(1, activation='sigmoid'))\n",
        "model.compile(optimizer=keras.optimizers.Adam(), \n",
        "              loss=keras.losses.mean_squared_logarithmic_error)\n",
        "\n",
        "# Step 2: Fit model and log callbacks\n",
        "\n",
        "params = {'batch_size': 30,\n",
        "          'epochs': 50,\n",
        "          'verbose': 0,\n",
        "         }\n",
        "\n",
        "callbacked = model.fit(X_train, y_train, \n",
        "                batch_size=params['batch_size'], \n",
        "                epochs=params['epochs'], \n",
        "                verbose=params['verbose'], \n",
        "                validation_data=(X_test, y_test),\n",
        "                # log to Neptune using NeptuneCallback\n",
        "                callbacks=[NeptuneCallback(run=run, base_namespace=PROJECT_NAME)]\n",
        "                )\n",
        "\n",
        "print('Step 2.2 ✅: Training callbacks successfully logged!')"
      ],
      "execution_count": null,
      "outputs": [
        {
          "output_type": "stream",
          "text": [
            "Step 2.2 ✅: Training callbacks successfully logged!\n"
          ],
          "name": "stdout"
        }
      ]
    },
    {
      "cell_type": "markdown",
      "metadata": {
        "id": "f4RnD6yeT-mS"
      },
      "source": [
        "# Step 3: Logging training and validation records to Arize\n",
        "Arize allows you to log training and validation records to an **Evaluation Store** for model pre-launch validation, such as visualizing performance across different feature slices (i.e, model accuracy for lower income individuals v.s higher). \n",
        "\n",
        "The records you send in can also serve as your model baseline, which can be compared against the features your models predict on in production to inform you when the distributions of the features have shifted. You can click here to access the documentation for our Python SDK and `arize.log_training_records`.\n",
        "\n",
        "[![Buttons_OpenOrange.png](https://storage.googleapis.com/arize-assets/fixtures/Buttons_OpenOrange.png)](https://arize.gitbook.io/arize/apis/python-sdk-1/arize.log_training_records)"
      ]
    },
    {
      "cell_type": "code",
      "metadata": {
        "id": "3hpG2bUNpTMu"
      },
      "source": [
        "# OPTIONAL: A quick helper function to validate Arize responses\n",
        "def arize_responses_helper(responses):\n",
        "    for response in cf.as_completed(responses):\n",
        "        res = response.result()\n",
        "        if res.status_code != 200:\n",
        "            raise ValueError(f'future failed with response code {res.status_code}, {res.text}')"
      ],
      "execution_count": null,
      "outputs": []
    },
    {
      "cell_type": "markdown",
      "metadata": {
        "id": "ChxMp0eRr7dB"
      },
      "source": [
        "## Step 3.1: Logging Training Records to Arize"
      ]
    },
    {
      "cell_type": "code",
      "metadata": {
        "colab": {
          "base_uri": "https://localhost:8080/"
        },
        "id": "3F5WrFvrkYm6",
        "outputId": "c8760fd5-e448-49b7-a143-162a49c4341e"
      },
      "source": [
        "# Use the model to generate predictions\n",
        "y_train_pred = model.predict(X_train).T[0]\n",
        "y_val_pred = model.predict(X_val).T[0]\n",
        "y_test_pred = model.predict(X_test).T[0]\n",
        "\n",
        "# Logging training\n",
        "train_prediction_labels = pd.Series(y_train_pred)\n",
        "train_actual_labels = pd.Series(y_train)\n",
        "train_feature_df = pd.DataFrame(X_train, columns=data['feature_names'])\n",
        "\n",
        "train_responses = arize.log_training_records(\n",
        "    model_id=model_id,\n",
        "    model_version=model_version,\n",
        "    model_type=model_type, # this will change depending on your model type\n",
        "    prediction_labels=train_prediction_labels,\n",
        "    actual_labels=train_actual_labels,\n",
        "    features=train_feature_df,\n",
        "    )\n",
        "\n",
        "arize_responses_helper(train_responses)\n",
        "\n",
        "print('Step 3.1 ✅: If no errors showed up, you have sent Training Inferences!')"
      ],
      "execution_count": null,
      "outputs": [
        {
          "output_type": "stream",
          "text": [
            "Step 3.1 ✅: If no errors showed up, you have sent Training Inferences!\n"
          ],
          "name": "stdout"
        }
      ]
    },
    {
      "cell_type": "markdown",
      "metadata": {
        "id": "70W2iJjasE9o"
      },
      "source": [
        "## Step 3.2 Logging Validation to Arize"
      ]
    },
    {
      "cell_type": "code",
      "metadata": {
        "colab": {
          "base_uri": "https://localhost:8080/"
        },
        "id": "gGqNKuVBsHi-",
        "outputId": "b40b7b15-f35f-4416-9551-800337faf057"
      },
      "source": [
        "val_prediction_labels = pd.Series(y_val_pred)\n",
        "val_actual_labels = pd.Series(y_val)\n",
        "val_features_df = pd.DataFrame(X_val, columns=data['feature_names'])\n",
        "\n",
        "val_responses = arize.log_validation_records(\n",
        "    model_id=model_id,\n",
        "    model_version=model_version,\n",
        "    model_type=model_type,\n",
        "    batch_id='batch0',\n",
        "    prediction_labels=val_prediction_labels,\n",
        "    actual_labels=val_actual_labels,\n",
        "    features=val_features_df,\n",
        "    )\n",
        "\n",
        "arize_responses_helper(val_responses)\n",
        "print('Step 3.2 ✅: If no errors showed up, you have sent Validation Inferences!')"
      ],
      "execution_count": null,
      "outputs": [
        {
          "output_type": "stream",
          "text": [
            "Step 3.2 ✅: If no errors showed up, you have sent Validation Inferences!\n"
          ],
          "name": "stdout"
        }
      ]
    },
    {
      "cell_type": "markdown",
      "metadata": {
        "id": "tZ9fINHCnF_R"
      },
      "source": [
        "# Step 4: Storing and Versioning Model Weights with Neptune\n",
        "Neptune allows for you to organize your models in a folder like structure through the `run` instance of each project. You can organize different trained iterations using tag `model_version` you used to log training records to Arize for better integration.\n",
        "\n",
        "**Note: Code for model storing is different for different frameworks. The following is only applicable for tf.keras**"
      ]
    },
    {
      "cell_type": "code",
      "metadata": {
        "id": "D3GtycCCnGh2",
        "colab": {
          "base_uri": "https://localhost:8080/"
        },
        "outputId": "a7f95cb4-9892-4411-a487-6bdf40748bd7"
      },
      "source": [
        "import glob\n",
        "\n",
        "# Storing model version 1\n",
        "directory_name = f'keras_model_{model_version}'\n",
        "model.save(directory_name)\n",
        "\n",
        "run[f'{directory_name}/saved_model.pb'].upload(f'{directory_name}/saved_model.pb')\n",
        "for name in glob.glob(f'{directory_name}/variables/*'):\n",
        "    run[name].upload(name)\n",
        "\n",
        "print('Step 4 ✅: If no errors showed up, can should now see the folders in your Neptune Project')"
      ],
      "execution_count": null,
      "outputs": [
        {
          "output_type": "stream",
          "text": [
            "INFO:tensorflow:Assets written to: keras_model_v1/assets\n",
            "Step 4 ✅: If no errors showed up, can should now see the folders in your Neptune Project\n"
          ],
          "name": "stdout"
        }
      ]
    },
    {
      "cell_type": "markdown",
      "metadata": {
        "id": "IYsgoRmmnI_E"
      },
      "source": [
        "# Step 5: Logging and versioning model in production with Arize\n",
        "During production, you can use `arize.bulk_log` or `arize.log` in the Python SDK to log any data in your model serving endpoint. In this example, we send in our test data simulating production setting. But in production, you would deploy the models saved by Neptune prior to logging to Arize!\n",
        "\n",
        "You can find more about `arize.bulk_log` here.\n",
        "\n",
        "[![Buttons_OpenOrange.png](https://storage.googleapis.com/arize-assets/fixtures/Buttons_OpenOrange.png)](https://arize.gitbook.io/arize/apis/python-sdk-1/arize.bulk_log)"
      ]
    },
    {
      "cell_type": "code",
      "metadata": {
        "id": "4InfresqnJtA",
        "colab": {
          "base_uri": "https://localhost:8080/"
        },
        "outputId": "778d8933-2310-4d57-d488-3fc47f917fd8"
      },
      "source": [
        "import datetime\n",
        "# Generating Predictions\n",
        "y_test_pred = pd.Series(y_test_pred)\n",
        "num_preds = len(y_test_pred) # num_preds == 143\n",
        "\n",
        "# Generating Prediction IDs\n",
        "ids_df = pd.DataFrame([str(uuid.uuid4()) for _ in range(num_preds)])\n",
        "\n",
        "# Logging the Predictions, Features, and Actuals\n",
        "log_predictions_responses = arize.bulk_log(\n",
        "    # Required arguments\n",
        "    model_id=model_id,\n",
        "    prediction_ids=ids_df,\n",
        "    # Optional arguments\n",
        "    model_version=model_version,\n",
        "    prediction_labels=y_test_pred,\n",
        "    actual_labels=y_test,\n",
        "    features=X_test, # we recommend logging features with predictions\n",
        "    model_type=model_type, # we recommend using model_type on first time logging to Arize\n",
        "    feature_names_overwrite=None,\n",
        "    )\n",
        "\n",
        "arize_responses_helper(log_predictions_responses)\n",
        "print('Step 5 ✅: If no errors appear, you just logged {} total predictions, features, and actuals to Arize!'.format(num_preds))"
      ],
      "execution_count": null,
      "outputs": [
        {
          "output_type": "stream",
          "text": [
            "Step 5 ✅: If no errors appear, you just logged 143 total predictions, features, and actuals to Arize!\n"
          ],
          "name": "stdout"
        }
      ]
    }
  ]
}