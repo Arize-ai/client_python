{
 "cells": [
  {
   "cell_type": "markdown",
   "id": "a1efe50e",
   "metadata": {
    "id": "a1efe50e"
   },
   "source": [
    "<img src=\"https://storage.googleapis.com/arize-assets/arize-logo-white.jpg\" width=\"200\"/>\n",
    "\n",
    "# Getting Started with the Arize Platform - Investigating Embedding Drift in NLP\n",
    "\n",
    "**In this walkthrough, we are going to ingest embedding data and look at embedding drift.** \n",
    "\n",
    "In this scenario, you are in charge of maintaining a sentiment classification model. This simple model takes online reviews of your U.S.-based product as the input and predict whether the reviewer's sentiment was positive, negative, or neutral. You trained your sentiment classification model on English reviews. However, once the model was released into production, you notice that the performance of the model has degraded over a period of time.\n",
    "\n",
    "Arize is able to surface the reason for this performance degradation. In this example, the presence of reviews written in Spanish impact the model's performance. You can surface and troubleshoot this issue by analyzing the _embedding vectors_ associated with the online review text.\n",
    "\n",
    "It is worth noting that, according to our research, inspecting embedding drift can surface problems with your data before they cause performance degradation.\n",
    "\n",
    "In this tutorial, we will start from scratch. We will:\n",
    "* Download the data\n",
    "* Obtain embedding vectors using OpenAI's API\n",
    "* Train the model\n",
    "* Obtain predictions\n",
    "* Log the inferences into the Arize Plaftorm\n",
    "\n",
    "We will be using [OpenAI](https://openai.com/)'s API to make this process extremely easy. The OpenAI API can be applied to virtually any task that involves understanding or generating natural language, offering a wide variety of models for different applications, from content generation to semantic search and classification.\n",
    "\n",
    "In this tutorial we will be leveraging OpenAI's tools to generate embedding representations of the input text. Next, we will train a simple `RandomForestClassifier` to classify the online reviews into the following classes: `Positive`, `Negative`, `Neutral`.\n",
    "\n",
    "Before we start, if this is your first Arize Tutorial, we recommend that you complete [Send Data to Arize in 5 Easy Steps](https://colab.research.google.com/github/Arize-ai/client_python/blob/main/arize/examples/tutorials/Arize_Tutorials/Quick_Start/Send_data_to_Arize_in_5_easy_steps_classification.ipynb) before continuing. If you are familiar with sending data to Arize, it only takes a few more lines to send embedding data. \n",
    "\n",
    "Let's get started!"
   ]
  },
  {
   "cell_type": "markdown",
   "id": "30463bd6",
   "metadata": {
    "id": "30463bd6"
   },
   "source": [
    "# Step 0. Setup and Getting the Data\n",
    "\n",
    "\n",
    "## Install Dependencies and Import Libraries 📚"
   ]
  },
  {
   "cell_type": "code",
   "execution_count": null,
   "id": "e028f2b7",
   "metadata": {
    "colab": {
     "base_uri": "https://localhost:8080/"
    },
    "id": "e028f2b7",
    "outputId": "20c8061c-2a87-4ac1-8e81-aa5d50dbd776"
   },
   "outputs": [],
   "source": [
    "!pip install datasets\n",
    "!pip install umap-learn\n",
    "!pip install pyyaml==5.4.1\n",
    "!pip install --upgrade openai\n",
    "!pip install arize\n",
    "\n",
    "\n",
    "import uuid\n",
    "import time\n",
    "from datetime import datetime\n",
    "from sklearn.ensemble import RandomForestClassifier\n",
    "from sklearn.metrics import classification_report\n",
    "from datasets import load_dataset\n",
    "\n",
    "import numpy as np\n",
    "import pandas as pd\n",
    "from umap import UMAP\n",
    "import matplotlib.pyplot as plt\n",
    "\n",
    "from arize.pandas.logger import Client, Schema\n",
    "from arize.utils.types import Environments, ModelTypes, EmbeddingColumnNames\n",
    "\n",
    "import openai\n",
    "from openai.embeddings_utils import get_embedding"
   ]
  },
  {
   "cell_type": "markdown",
   "id": "8ef976bd",
   "metadata": {
    "id": "8ef976bd"
   },
   "source": [
    "## **🌐 Download the Data**\n",
    "\n",
    "The easiest way to load a dataset is from the [Hugging Face Hub](https://huggingface.co/datasets). There are already over 900 datasets in over 100 languages on the Hub. At Arize, we have crafted the [arize-ai/ecommerce_reviews_with_language_drift](https://huggingface.co/datasets/arize-ai/ecommerce_reviews_with_language_drift) dataset for this example notebook. \n",
    "\n",
    "Thanks to Hugging Face 🤗 Datasets, we can download the data in one line of code. The Dataset Object comes equipped with methods that make it very easy to inspect, pre-process, and post-process your data. "
   ]
  },
  {
   "cell_type": "code",
   "execution_count": null,
   "id": "bc750f3a",
   "metadata": {
    "colab": {
     "base_uri": "https://localhost:8080/",
     "height": 84,
     "referenced_widgets": [
      "21c690e1077e45758aaada90e8413497",
      "a44a958aa7044eda87395338ec3e2094",
      "443e470dcea54c8595131f3681496272",
      "ff1540d518af432fa4ae2c3dd3be8bb6",
      "2de1c9c1c4cc49569dab787413b823e4",
      "de6cc800e84542fbac23afbee95cec2e",
      "11547e3e77864d5aaf68e32b0c193af1",
      "d994ac61db8940859b3476cf3a898720",
      "780a6f332c9f461ca4b54d2e16383846",
      "34c9b27bf883463fa0ede8f9a6cb5a71",
      "22acac76a86140a18de2fa6b1bdc776e"
     ]
    },
    "id": "bc750f3a",
    "outputId": "b1deafb2-e9ca-49fe-e08f-f2deea2ec0ca"
   },
   "outputs": [],
   "source": [
    "dataset = load_dataset(\"arize-ai/ecommerce_reviews_with_language_drift\")"
   ]
  },
  {
   "cell_type": "markdown",
   "id": "adce6e91",
   "metadata": {
    "id": "adce6e91"
   },
   "source": [
    "You can select the splits of the dataset as you would in a dictionary."
   ]
  },
  {
   "cell_type": "code",
   "execution_count": null,
   "id": "63f725d2",
   "metadata": {
    "id": "63f725d2"
   },
   "outputs": [],
   "source": [
    "train_ds, val_ds, prod_ds = dataset['training'], dataset['validation'], dataset['production']"
   ]
  },
  {
   "cell_type": "markdown",
   "id": "6f02183c",
   "metadata": {
    "id": "6f02183c"
   },
   "source": [
    "## Inspect the Data\n",
    "\n",
    "It is often convenient to convert a Hugging Face `Dataset` object to a Pandas `DataFrame` so we can access high-level APIs for data visualization. To do so, the 🤗Datasets library provides a `set_format()` method that allows us to change the output format of the `Dataset`. This does not change the underlying data format, an Arrow table. When the `DataFrame` format is no longer needed, we can reset the output format using `reset_format()`.\n",
    "\n",
    "From this point forward, it is convenient to use Pandas DataFrames. We can do so easily using the format methods we have already seen."
   ]
  },
  {
   "cell_type": "code",
   "execution_count": null,
   "id": "7ed1b4fd",
   "metadata": {
    "id": "7ed1b4fd"
   },
   "outputs": [],
   "source": [
    "def from_dataset_to_dataframe(ds):\n",
    "    ds.set_format(type=\"pandas\")\n",
    "    return ds[:]\n",
    "\n",
    "train_df = from_dataset_to_dataframe(train_ds)\n",
    "val_df = from_dataset_to_dataframe(val_ds)\n",
    "prod_df = from_dataset_to_dataframe(prod_ds)"
   ]
  },
  {
   "cell_type": "markdown",
   "id": "fe79661f",
   "metadata": {},
   "source": [
    "To stay within the limits of OpenAI's free tier account, we will sample our dataset."
   ]
  },
  {
   "cell_type": "code",
   "execution_count": null,
   "id": "5e4da427",
   "metadata": {
    "id": "5e4da427"
   },
   "outputs": [],
   "source": [
    "train_df = train_df.sample(200, ignore_index=True)\n",
    "val_df = val_df.sample(50, ignore_index=True)\n",
    "prod_df = prod_df.sample(500, ignore_index=True)"
   ]
  },
  {
   "cell_type": "code",
   "execution_count": null,
   "id": "330a3f21",
   "metadata": {
    "colab": {
     "base_uri": "https://localhost:8080/",
     "height": 206
    },
    "id": "330a3f21",
    "outputId": "574ab8b5-103c-4d46-95d6-6270c7814b4a"
   },
   "outputs": [],
   "source": [
    "train_df.head()"
   ]
  },
  {
   "cell_type": "markdown",
   "id": "472ba02f",
   "metadata": {
    "id": "472ba02f"
   },
   "source": [
    "# Step 1. Developing your Sentiment Classification Model"
   ]
  },
  {
   "cell_type": "markdown",
   "id": "4418b51c",
   "metadata": {
    "id": "4418b51c"
   },
   "source": [
    "## Obtain text embeddings\n",
    "\n",
    "The OpenAI Python library provides convenient access to the OpenAI API. We use the `get_embedding` function to generate an embedding vector from a piece of text - making use of one of the pre-trained models from OpenAI.\n",
    "\n",
    "They offer three families of embedding models for different functionalities: text search, text similarity and code search. Each family includes up to four models on a spectrum of capability\n",
    "\n",
    "* Ada (1024 dimensions),\n",
    "* Babbage (2048 dimensions),\n",
    "* Curie (4096 dimensions),\n",
    "* Davinci (12288 dimensions).\n",
    "\n",
    "Given that our usecase is sentiment classification, we will use the pre-trained model `text-similarity-babbage-001`.\n",
    "\n",
    "To use OpenAI's tools, create a free account [here](https://openai.com/api/). Then, find your `API_KEY` by clicking on your profile icon and into \"View API Keys\". If you logged in as part of an organization, you'll need to enter your organization's api key as well."
   ]
  },
  {
   "cell_type": "code",
   "execution_count": null,
   "id": "5134ad4d",
   "metadata": {
    "id": "5134ad4d"
   },
   "outputs": [],
   "source": [
    "ORGANIZATION_KEY = \"OPENAI_ORG_KEY\"\n",
    "API_KEY = \"OPENAI_API_KEY\"\n",
    "if API_KEY == \"OPENAI_API_KEY\":\n",
    "    raise ValueError(\"❌ NEED TO CHANGE OPENAI's API_KEY\")\n",
    "\n",
    "openai.api_key = API_KEY\n",
    "if ORGANIZATION_KEY != \"OPENAI_ORG_KEY\":\n",
    "    openai.organization = ORGANIZATION_KEY"
   ]
  },
  {
   "cell_type": "markdown",
   "id": "xD1-W-LCfElW",
   "metadata": {
    "id": "xD1-W-LCfElW"
   },
   "source": [
    "OpenAI's free tier account has limitations on their usage. We have prepared the following function for you to use their embedding model at the allowed free rate."
   ]
  },
  {
   "cell_type": "code",
   "execution_count": null,
   "id": "51404e2d",
   "metadata": {
    "id": "51404e2d"
   },
   "outputs": [],
   "source": [
    "def get_embeddings_from_series(series, max_rate=60):\n",
    "    emb_series = series.copy()\n",
    "    N = np.ceil(len(series)/max_rate).astype(int)\n",
    "    for i in range(N):\n",
    "        start = i*max_rate\n",
    "        end = (i+1)*max_rate\n",
    "        if end>len(series):\n",
    "            end = len(series)\n",
    "        \n",
    "        emb_series[start:end] = series[start:end].apply(lambda x: get_embedding(x, engine='text-similarity-babbage-001'))\n",
    "        time.sleep(60)\n",
    "    return emb_series"
   ]
  },
  {
   "cell_type": "markdown",
   "id": "juXKamJ9fZS1",
   "metadata": {
    "id": "juXKamJ9fZS1"
   },
   "source": [
    "Finally, we now use the aforementioned `get_embeddings_from_series` function to obtain the embedding vectors of our dataset."
   ]
  },
  {
   "cell_type": "code",
   "execution_count": null,
   "id": "20cb3025",
   "metadata": {
    "id": "20cb3025"
   },
   "outputs": [],
   "source": [
    "train_df['text_vector'] = get_embeddings_from_series(train_df['text'])"
   ]
  },
  {
   "cell_type": "code",
   "execution_count": null,
   "id": "91195c97",
   "metadata": {
    "id": "91195c97"
   },
   "outputs": [],
   "source": [
    "val_df['text_vector'] = get_embeddings_from_series(val_df['text'])"
   ]
  },
  {
   "cell_type": "code",
   "execution_count": null,
   "id": "d04679a4",
   "metadata": {
    "id": "d04679a4"
   },
   "outputs": [],
   "source": [
    "prod_df['text_vector'] = get_embeddings_from_series(prod_df['text'])"
   ]
  },
  {
   "cell_type": "markdown",
   "id": "6eb06f84",
   "metadata": {
    "id": "6eb06f84"
   },
   "source": [
    "## Inspect text embeddings\n",
    "\n",
    "We can do a quick inspection of how the embedding vectors obtained for our training set look using [UMAP](https://umap-learn.readthedocs.io/en/latest/). When using Arize, you will get this view automatically so you won't have to do this with your data."
   ]
  },
  {
   "cell_type": "code",
   "execution_count": null,
   "id": "1595b0ab",
   "metadata": {
    "id": "1595b0ab"
   },
   "outputs": [],
   "source": [
    "def inspect_embeddings(X,y):\n",
    "    projections = UMAP().fit_transform(X)\n",
    "    \n",
    "    df_emb = pd.DataFrame({})\n",
    "    df_emb[\"X\"] = projections[:,0]\n",
    "    df_emb[\"Y\"] = projections[:,1]\n",
    "    df_emb['label'] = y_train\n",
    "\n",
    "    fig, axes = plt.subplots(1, 3, figsize=(7,3))\n",
    "    axes = axes.flatten()\n",
    "    cmaps = [\"Reds\",\"Greys\",\"Greens\"]\n",
    "    labels = train_ds.features[\"label\"].names\n",
    "\n",
    "    for i, (label, cmap) in enumerate(zip(labels, cmaps)):\n",
    "        df_emb_sub = df_emb.query(f\"label=={i}\")\n",
    "        axes[i].hexbin(df_emb_sub[\"X\"], df_emb_sub[\"Y\"], cmap=cmap, gridsize=20, linewidths=(0,))\n",
    "        axes[i].set_title(label)\n",
    "        axes[i].set_xticks([])\n",
    "        axes[i].set_yticks([])"
   ]
  },
  {
   "cell_type": "code",
   "execution_count": null,
   "id": "38b261ec",
   "metadata": {
    "id": "38b261ec"
   },
   "outputs": [],
   "source": [
    "inspect_embeddings(X_train,y_train)"
   ]
  },
  {
   "cell_type": "markdown",
   "id": "y09jsd2nf-5e",
   "metadata": {
    "id": "y09jsd2nf-5e"
   },
   "source": [
    "The pre-trained model from OpenAI is able to extract embedding vectors that are different depending on the label values, without ever seeing the data or being trained on it!"
   ]
  },
  {
   "cell_type": "markdown",
   "id": "737b3bae",
   "metadata": {
    "id": "737b3bae"
   },
   "source": [
    "## Train the model\n",
    "\n",
    "Now that we have used the pre-trained model to perform feature extraction and obtain embedding vectors, we can train a simple text sentiment classifier that uses the embedding vectors as features. We will use `RandomForestClassifier` from the [scikit-learn](https://scikit-learn.org/stable/modules/generated/sklearn.ensemble.RandomForestClassifier.html) library."
   ]
  },
  {
   "cell_type": "code",
   "execution_count": null,
   "id": "3ed0d390",
   "metadata": {
    "id": "3ed0d390"
   },
   "outputs": [],
   "source": [
    "clf = RandomForestClassifier(n_estimators=100)\n",
    "\n",
    "X_train, y_train = np.stack(train_df['text_vector']), np.stack(train_df['label'])\n",
    "X_val, y_val = np.stack(val_df['text_vector']), np.stack(val_df['label'])\n",
    "X_prod, y_prod = np.stack(prod_df['text_vector']), np.stack(prod_df['label'])\n",
    "\n",
    "clf.fit(X_train, y_train)"
   ]
  },
  {
   "cell_type": "markdown",
   "id": "jPr_McjpiV8K",
   "metadata": {
    "id": "jPr_McjpiV8K"
   },
   "source": [
    "## Evaluate the model\n",
    "\n",
    "Let's evaluate the performance of the model on our validation and production sets."
   ]
  },
  {
   "cell_type": "code",
   "execution_count": null,
   "id": "a86dc516",
   "metadata": {
    "id": "a86dc516"
   },
   "outputs": [],
   "source": [
    "preds_val = clf.predict(X_val)\n",
    "\n",
    "report = classification_report(y_val, preds_val)\n",
    "print(report)"
   ]
  },
  {
   "cell_type": "code",
   "execution_count": null,
   "id": "ce656748",
   "metadata": {
    "id": "ce656748"
   },
   "outputs": [],
   "source": [
    "preds_prod = clf.predict(X_prod)\n",
    "\n",
    "report = classification_report(y_prod, preds_prod)\n",
    "print(report)"
   ]
  },
  {
   "cell_type": "markdown",
   "id": "qcuh1SqWibeh",
   "metadata": {
    "id": "qcuh1SqWibeh"
   },
   "source": [
    "Something is happening with our data that causes production performance degradation. Let's use Arize to identify the issue and troubleshoot.Something is happening with our data that causes our production performance degradation. Let's use Arize to identify the issue and troubleshoot."
   ]
  },
  {
   "cell_type": "markdown",
   "id": "49e6edc1",
   "metadata": {
    "id": "49e6edc1"
   },
   "source": [
    "# Step 2. Prepare your data to be sent to Arize\n",
    "\n"
   ]
  },
  {
   "cell_type": "markdown",
   "id": "7c5decc2",
   "metadata": {
    "id": "7c5decc2"
   },
   "source": [
    "## Update the timestamps\n",
    "\n",
    "The data that you are working with was constructed in April of 2022. Hence, we will update the timestamps so they are current at the time that you're sending data to Arize."
   ]
  },
  {
   "cell_type": "code",
   "execution_count": null,
   "id": "34a94ae1",
   "metadata": {
    "id": "34a94ae1"
   },
   "outputs": [],
   "source": [
    "train_df['prediction_ts'] = (train_df['prediction_ts']/4).astype(float)\n",
    "val_df['prediction_ts'] = (val_df['prediction_ts']/4).astype(float)\n",
    "prod_df['prediction_ts'] = (prod_df['prediction_ts']/4).astype(float)"
   ]
  },
  {
   "cell_type": "code",
   "execution_count": null,
   "id": "3f1a5d8a",
   "metadata": {
    "id": "3f1a5d8a"
   },
   "outputs": [],
   "source": [
    "last_ts = max(prod_df['prediction_ts'])\n",
    "now_ts = datetime.timestamp(datetime.now())\n",
    "delta_ts = now_ts - last_ts    \n",
    "\n",
    "train_df['prediction_ts'] = (train_df['prediction_ts'] + delta_ts).astype(float)\n",
    "val_df['prediction_ts'] = (val_df['prediction_ts'] + delta_ts).astype(float)\n",
    "prod_df['prediction_ts'] = (prod_df['prediction_ts'] + delta_ts).astype(float)"
   ]
  },
  {
   "cell_type": "markdown",
   "id": "92e0d97e",
   "metadata": {
    "id": "92e0d97e"
   },
   "source": [
    "## Map labels to class names\n",
    "\n",
    "For readability, we will want to log our inferences (predictions and actuals) with class labels instead of numeric labels. Since we used Hugging Face 🤗 Datasets to download our dataset, it already comes equipped with methods to do this.\n",
    "\n",
    "The dataset we downloaded defined the label to be an instance of the `datasets.ClassLabel` class, which has the convenient method `int2str` (visit [Hugging Face documentation](https://huggingface.co/docs/datasets/v2.2.1/en/package_reference/main_classes#datasets.ClassLabel.names) for more information)."
   ]
  },
  {
   "cell_type": "code",
   "execution_count": null,
   "id": "abb856f9",
   "metadata": {
    "id": "abb856f9"
   },
   "outputs": [],
   "source": [
    "def label_int2str(row):\n",
    "    return train_ds.features['label'].int2str(row)"
   ]
  },
  {
   "cell_type": "code",
   "execution_count": null,
   "id": "c040e8e4",
   "metadata": {
    "id": "c040e8e4"
   },
   "outputs": [],
   "source": [
    "train_df['label'] = train_df['label'].apply(label_int2str)\n",
    "val_df['label'] = val_df['label'].apply(label_int2str)\n",
    "prod_df['label'] = prod_df['label'].apply(label_int2str)\n",
    "\n",
    "train_df['pred_label'] = train_df['pred_label'].apply(label_int2str)\n",
    "val_df['pred_label'] = val_df['pred_label'].apply(label_int2str)\n",
    "prod_df['pred_label'] = prod_df['pred_label'].apply(label_int2str)"
   ]
  },
  {
   "cell_type": "markdown",
   "id": "787e19d2",
   "metadata": {
    "id": "787e19d2"
   },
   "source": [
    "## Add prediction ids\n",
    "\n",
    "Our system needs prediction IDs to link a `prediction` to an `actual` (find out more in our [documentation](https://docs.arize.com/arize/data-ingestion/model-schema/5.-prediction-id?q=prediction_id)). You can generate them as follows:"
   ]
  },
  {
   "cell_type": "code",
   "execution_count": null,
   "id": "d6a3df9d",
   "metadata": {
    "id": "d6a3df9d"
   },
   "outputs": [],
   "source": [
    "def add_prediction_id(df):\n",
    "    return [str(uuid.uuid4()) for _ in range(df.shape[0])]"
   ]
  },
  {
   "cell_type": "code",
   "execution_count": null,
   "id": "7daf125d",
   "metadata": {
    "id": "7daf125d"
   },
   "outputs": [],
   "source": [
    "train_df['prediction_id'] = add_prediction_id(train_df)\n",
    "val_df['prediction_id'] = add_prediction_id(val_df)\n",
    "prod_df['prediction_id'] = add_prediction_id(prod_df)"
   ]
  },
  {
   "cell_type": "markdown",
   "id": "a9788542",
   "metadata": {
    "id": "a9788542"
   },
   "source": [
    "# Step 3. Sending Data into Arize 💫\n",
    "\n",
    "## Select the columns we want to send to Arize (optional)\n",
    "\n",
    "This step is not really necessary, since we will select the columns we want to send to Arize using the `Schema` definition (below). However, for the purpose of visibility, this is our final `DataFrame` with the data that will be sent to Arize."
   ]
  },
  {
   "cell_type": "code",
   "execution_count": null,
   "id": "30903903",
   "metadata": {
    "id": "30903903"
   },
   "outputs": [],
   "source": [
    "arize_columns = [\n",
    "    'prediction_id', \n",
    "    'prediction_ts', \n",
    "    'reviewer_age', \n",
    "    'reviewer_gender', \n",
    "    'product_category', \n",
    "    'language',\n",
    "    'text',\n",
    "    'text_vector',\n",
    "    'label',\n",
    "    'pred_label'\n",
    "    ]\n",
    "\n",
    "train_df = train_df[arize_columns]\n",
    "val_df = val_df[arize_columns]\n",
    "prod_df = prod_df[arize_columns]\n",
    "\n",
    "train_df.head()"
   ]
  },
  {
   "cell_type": "markdown",
   "id": "64888650",
   "metadata": {
    "id": "64888650"
   },
   "source": [
    "## Import and Setup Arize Client\n",
    "\n",
    "The first step is to setup the Arize client. After that we will log the data.\n",
    "\n",
    "Copy the Arize `API_KEY` and `SPACE_KEY` from your admin page (shown below) to the variables in the cell below. We will also be setting up some metadata to use across all logging."
   ]
  },
  {
   "cell_type": "markdown",
   "id": "b61f22ff",
   "metadata": {
    "id": "b61f22ff"
   },
   "source": [
    "<img src=\"https://storage.googleapis.com/arize-assets/fixtures/copy-keys.png\" width=\"700\">"
   ]
  },
  {
   "cell_type": "code",
   "execution_count": null,
   "id": "78ef3e25",
   "metadata": {
    "id": "78ef3e25"
   },
   "outputs": [],
   "source": [
    "SPACE_KEY = \"SPACE_KEY\"\n",
    "API_KEY = \"API_KEY\"\n",
    "arize_client = Client(space_key=SPACE_KEY, api_key=API_KEY)\n",
    "model_id = \"NLP-reviews-demo-language-drift\"\n",
    "model_version = \"1.0\"\n",
    "model_type = ModelTypes.CATEGORICAL\n",
    "if SPACE_KEY == \"SPACE_KEY\" or API_KEY == \"API_KEY\":\n",
    "    raise ValueError(\"❌ NEED TO CHANGE SPACE AND/OR API_KEY\")\n",
    "else:\n",
    "    print(\"✅ Import and Setup Arize Client Done! Now we can start using Arize!\")"
   ]
  },
  {
   "cell_type": "markdown",
   "id": "73be3c2a",
   "metadata": {
    "id": "73be3c2a"
   },
   "source": [
    "Now that the Arize client is setup, let's go ahead and log all of our data to the platform. For more details on how **`arize.pandas.logger`** works, visit our documentation.\n",
    "\n",
    "[![Buttons_OpenOrange.png](https://storage.googleapis.com/arize-assets/fixtures/Buttons_OpenOrange.png)](https://docs.arize.com/arize/sdks-and-integrations/python-sdk/arize.pandas)"
   ]
  },
  {
   "cell_type": "markdown",
   "id": "50f73822",
   "metadata": {
    "id": "50f73822"
   },
   "source": [
    "## Define the Schema \n",
    "\n",
    "A Schema instance specifies the column names for corresponding data in the dataframe. While we could define different Schemas for training and production datasets, the dataframes have the same column names, so the Schema will be the same in this instance.\n",
    "\n",
    "To ingest non-embedding features, it suffices to provide a list of column names that contain the features in our dataframe. Embedding features, however, are a little bit different.\n",
    "\n",
    "Arize allows you to ingest not only the embedding vector, but the raw data associtated with that embedding, or a URL link to that raw data. Therefore, up to 3 columns can be associated to the same _embedding object_*. To be able to do this, Arize's SDK provides the `EmbeddingColumnNames` class, used below.\n",
    "\n",
    "*NOTE: This is how we refer to the 3 possible pieces of information that can be sent as embedding objects:\n",
    "* Embedding `vector` (required)\n",
    "* Embedding `data` (optional): raw text, image, ...; associated with the embedding vector\n",
    "* Embedding `link_to_data` (optional): link to the data associated with the embedding vector\n",
    "\n",
    "Learn more [here](https://docs.arize.com/arize/data-ingestion/model-schema/7b.-embedding-features)."
   ]
  },
  {
   "cell_type": "code",
   "execution_count": null,
   "id": "0f3dc8e8",
   "metadata": {
    "id": "0f3dc8e8"
   },
   "outputs": [],
   "source": [
    "features = [\n",
    "    'reviewer_age',\n",
    "    'reviewer_gender',\n",
    "    'product_category',\n",
    "    'language',\n",
    "]\n",
    "\n",
    "embedding_features = [\n",
    "    EmbeddingColumnNames(\n",
    "        vector_column_name=\"text_vector\",  # Will be name of embedding feature in the app\n",
    "        data_column_name=\"text\",\n",
    "    ),\n",
    "]\n",
    "\n",
    "# Define a Schema() object for Arize to pick up data from the correct columns for logging\n",
    "schema = Schema(\n",
    "    prediction_id_column_name=\"prediction_id\",\n",
    "    timestamp_column_name=\"prediction_ts\",\n",
    "    prediction_label_column_name=\"pred_label\",\n",
    "    actual_label_column_name=\"label\",\n",
    "    feature_column_names=features,\n",
    "    embedding_feature_column_names=embedding_features\n",
    ")\n",
    "\n"
   ]
  },
  {
   "cell_type": "markdown",
   "id": "3c9fe66a",
   "metadata": {
    "id": "3c9fe66a"
   },
   "source": [
    "## Log Training Data"
   ]
  },
  {
   "cell_type": "code",
   "execution_count": null,
   "id": "14abb439",
   "metadata": {
    "id": "14abb439"
   },
   "outputs": [],
   "source": [
    "# Logging Training DataFrame\n",
    "response = arize_client.log(\n",
    "    dataframe=train_df,\n",
    "    model_id=model_id,\n",
    "    model_version=model_version,\n",
    "    model_type=model_type,\n",
    "    environment=Environments.TRAINING,\n",
    "    schema=schema,\n",
    "    sync=True\n",
    ")\n",
    "\n",
    "\n",
    "# If successful, the server will return a status_code of 200\n",
    "if response.status_code != 200:\n",
    "    print(f\"❌ logging failed with response code {response.status_code}, {response.text}\")\n",
    "else:\n",
    "    print(f\"✅ You have successfully logged training set to Arize\")\n"
   ]
  },
  {
   "cell_type": "markdown",
   "id": "3e36e3ae",
   "metadata": {
    "id": "3e36e3ae"
   },
   "source": [
    "## Log Validation Data"
   ]
  },
  {
   "cell_type": "code",
   "execution_count": null,
   "id": "1666da08",
   "metadata": {
    "id": "1666da08"
   },
   "outputs": [],
   "source": [
    "# Logging Training DataFrame\n",
    "response = arize_client.log(\n",
    "    dataframe=val_df,\n",
    "    model_id=model_id,\n",
    "    model_version=model_version,\n",
    "    batch_id=\"validation\",\n",
    "    model_type=model_type,\n",
    "    environment=Environments.VALIDATION,\n",
    "    schema=schema,\n",
    "    sync=True\n",
    ")\n",
    "\n",
    "\n",
    "# If successful, the server will return a status_code of 200\n",
    "if response.status_code != 200:\n",
    "    print(f\"❌ logging failed with response code {response.status_code}, {response.text}\")\n",
    "else:\n",
    "    print(f\"✅ You have successfully logged training set to Arize\")\n"
   ]
  },
  {
   "cell_type": "markdown",
   "id": "ccaafe1f",
   "metadata": {
    "id": "ccaafe1f"
   },
   "source": [
    "## Log Production Data"
   ]
  },
  {
   "cell_type": "code",
   "execution_count": null,
   "id": "bd98af0e",
   "metadata": {
    "id": "bd98af0e"
   },
   "outputs": [],
   "source": [
    "# send production data\n",
    "response = arize_client.log(\n",
    "    dataframe=prod_df,\n",
    "    model_id=model_id,\n",
    "    model_version=model_version,\n",
    "    model_type=model_type,\n",
    "    environment=Environments.PRODUCTION,\n",
    "    schema=schema,\n",
    "    sync=True\n",
    ")\n",
    "\n",
    "if response.status_code != 200:\n",
    "    print(f\"❌ logging failed with response code {response.status_code}, {response.text}\")\n",
    "else:\n",
    "    print(f\"✅ You have successfully logged production set to Arize\")"
   ]
  },
  {
   "cell_type": "markdown",
   "id": "8620063c",
   "metadata": {
    "id": "8620063c"
   },
   "source": [
    "# Step 5. Confirm Data in Arize ✅\n",
    "Note that the Arize platform takes about 15 minutes to index embedding data. While the model should appear immediately, the data will not show up until the indexing is complete. Feel free to head over to the **Data Ingestion** tab for your model to watch Arize works its magic!🔮\n",
    "\n",
    "You will be able to see the predictions, actuals, and feature importances that have been sent in the last 30 minutes, last day or last week.\n",
    "\n",
    "An example view of the Data Ingestion tab from a model, when data is sent continuously over 30 minutes, is shown in the image below.\n",
    "\n",
    "<img src=\"https://storage.googleapis.com/arize-assets/fixtures/data-ingestion-tab.png\" width=\"700\">"
   ]
  },
  {
   "cell_type": "markdown",
   "id": "a2d1b93b",
   "metadata": {
    "id": "a2d1b93b"
   },
   "source": [
    "# Check the Embedding Data in Arize\n",
    "\n",
    "First, set the baseline to the training set that we logged before.\n",
    "\n",
    "<img src=\"https://storage.cloud.google.com/arize-assets/fixtures/embedding_setup_baseline.gif\" width=\"700\">\n",
    "\n",
    "\n",
    "If your model contains embedding data, you will see it in your Model's Overview page. \n",
    "\n",
    "<img src=\"https://storage.cloud.google.com/arize-assets/fixtures/Embeddings/NLP-reviews-demo-language-drift-overview.jpg\" width=\"700\">\n",
    "\n",
    " Click on the Embedding Name or the Euclidean Distance value to see how your embedding data is drifting over time. In the picture below we represent the global euclidean distance between your production set (at different points in time) and the baseline (which we set to be our training set). We can see there is a period of a week where suddenly the distance is remarkably higher. This shows us that during that time text data was sent to our model that was different than what it was trained on (English). This is the period of time when reviews written in Spanish were sent alongside the expected English reviews.\n",
    " \n",
    "<img src=\"https://storage.cloud.google.com/arize-assets/fixtures/Embeddings/NLP-reviews-demo-language-drift-emb-0.jpg\" width=\"700\">\n",
    "\n",
    "In addition to the drift tracking plot above, below you can find the UMAP visualization of your data, according to the point in time selected. Notice that the production data and our baseline (training) data are superimposed, which is indicative that the model is seeing data in production similar to the data it was trained on.\n",
    "\n",
    "<img src=\"https://storage.cloud.google.com/arize-assets/fixtures/Embeddings/NLP-reviews-demo-language-drift-emb-1.jpg\" width=\"700\">\n",
    "\n",
    "Next, select a point in time when the drift was high and select a UMAP visualization in 2D. We can see that both training and production data are superimposed for the most part, but another cluster of production data has appeared. This indicates that the model is seeing data in production qualitatively different to the data it was trained on, and in this case causing performance degradation.\n",
    "\n",
    "<img src=\"https://storage.cloud.google.com/arize-assets/fixtures/Embeddings/NLP-reviews-demo-language-drift-emb-2.jpg\" width=\"700\">\n",
    "\n",
    "For further inspection, you may select a 3D UMAP view and clicked _Explore UMAP_ to expand the view. With this view we can interact in 3D with our dataset. We can zoom, rotate, and drag so we can see the areas of our dataset that are most interesting to us. Check out the workflow below:\n",
    "\n",
    "<img src=\"https://storage.cloud.google.com/arize-assets/fixtures/Embeddings/NLP-reviews-demo-language-drift-workflow.gif\" width=\"700\">\n",
    "\n",
    "You can see that the coloring has been made to distinguish production data vs baseline data (training in this example). More coloring options will be added, to help understand/debug your dataset, including:\n",
    "* Color by prediction label\n",
    "* Color by actual label\n",
    "* Color by feature value\n",
    "* Color by accuracy (correct vs incorrect predictions)"
   ]
  },
  {
   "cell_type": "markdown",
   "id": "ef9a381c",
   "metadata": {
    "id": "ef9a381c"
   },
   "source": [
    "# Wrap Up 🎁\n",
    "Congratulations, you've now sent your first machine learning embedding data to the Arize platform!!\n",
    "\n",
    "Additionally, if you want to remove this example model from your account, just click **Models** -> **NLP-reviews-demo-language-drift** -> **config** -> **delete**"
   ]
  },
  {
   "cell_type": "markdown",
   "id": "a253cfb6",
   "metadata": {
    "id": "a253cfb6"
   },
   "source": [
    "### Overview\n",
    "Arize is an end-to-end ML observability and model monitoring platform. The platform is designed to help ML engineers and data science practitioners surface and fix issues with ML models in production faster with:\n",
    "- Automated ML monitoring and model monitoring\n",
    "- Workflows to troubleshoot model performance\n",
    "- Real-time visualizations for model performance monitoring, data quality monitoring, and drift monitoring\n",
    "- Model prediction cohort analysis\n",
    "- Pre-deployment model validation\n",
    "- Integrated model explainability\n",
    "\n",
    "### Website\n",
    "Visit Us At: https://arize.com/model-monitoring/\n",
    "\n",
    "### Additional Resources\n",
    "- [What is ML observability?](https://arize.com/what-is-ml-observability/)\n",
    "- [Monitor Unstructured Data with Arize](https://arize.com/blog/monitor-unstructured-data-with-arize)\n",
    "- [Getting Started With Embeddings Is Easier Than You Think](https://arize.com/blog/getting-started-with-embeddings-is-easier-than-you-think)\n",
    "- [Playbook to model monitoring in production](https://arize.com/the-playbook-to-monitor-your-models-performance-in-production/)\n",
    "- [Using statistical distance metrics for ML monitoring and observability](https://arize.com/using-statistical-distance-metrics-for-machine-learning-observability/)\n",
    "<!-- - [ML infrastructure tools for data preparation](https://arize.com/ml-infrastructure-tools-for-data-preparation/) -->\n",
    "- [ML infrastructure tools for model building](https://arize.com/ml-infrastructure-tools-for-model-building/)\n",
    "- [ML infrastructure tools for production](https://arize.com/ml-infrastructure-tools-for-production-part-1/)\n",
    "<!-- - [ML infrastructure tools for model deployment and model serving](https://arize.com/ml-infrastructure-tools-for-production-part-2-model-deployment-and-serving/) -->\n",
    "\n",
    "- [ML infrastructure tools for ML monitoring and observability](https://arize.com/ml-infrastructure-tools-ml-observability/)\n",
    "\n",
    "Visit the [Arize Blog](https://arize.com/blog) and [Resource Center](https://arize.com/resource-hub/) for more resources on ML observability and model monitoring.\n"
   ]
  }
 ],
 "metadata": {
  "colab": {
   "collapsed_sections": [
    "50f73822",
    "3c9fe66a",
    "3e36e3ae",
    "ccaafe1f",
    "a253cfb6"
   ],
   "name": "Arize_Tutorial_OpenAI_Sentiment_Classification.ipynb",
   "provenance": []
  },
  "kernelspec": {
   "display_name": "Python 3 (ipykernel)",
   "language": "python",
   "name": "python3"
  },
  "language_info": {
   "codemirror_mode": {
    "name": "ipython",
    "version": 3
   },
   "file_extension": ".py",
   "mimetype": "text/x-python",
   "name": "python",
   "nbconvert_exporter": "python",
   "pygments_lexer": "ipython3",
   "version": "3.8.13"
  },
  "widgets": {
   "application/vnd.jupyter.widget-state+json": {
    "11547e3e77864d5aaf68e32b0c193af1": {
     "model_module": "@jupyter-widgets/controls",
     "model_module_version": "1.5.0",
     "model_name": "DescriptionStyleModel",
     "state": {
      "_model_module": "@jupyter-widgets/controls",
      "_model_module_version": "1.5.0",
      "_model_name": "DescriptionStyleModel",
      "_view_count": null,
      "_view_module": "@jupyter-widgets/base",
      "_view_module_version": "1.2.0",
      "_view_name": "StyleView",
      "description_width": ""
     }
    },
    "21c690e1077e45758aaada90e8413497": {
     "model_module": "@jupyter-widgets/controls",
     "model_module_version": "1.5.0",
     "model_name": "HBoxModel",
     "state": {
      "_dom_classes": [],
      "_model_module": "@jupyter-widgets/controls",
      "_model_module_version": "1.5.0",
      "_model_name": "HBoxModel",
      "_view_count": null,
      "_view_module": "@jupyter-widgets/controls",
      "_view_module_version": "1.5.0",
      "_view_name": "HBoxView",
      "box_style": "",
      "children": [
       "IPY_MODEL_a44a958aa7044eda87395338ec3e2094",
       "IPY_MODEL_443e470dcea54c8595131f3681496272",
       "IPY_MODEL_ff1540d518af432fa4ae2c3dd3be8bb6"
      ],
      "layout": "IPY_MODEL_2de1c9c1c4cc49569dab787413b823e4"
     }
    },
    "22acac76a86140a18de2fa6b1bdc776e": {
     "model_module": "@jupyter-widgets/controls",
     "model_module_version": "1.5.0",
     "model_name": "DescriptionStyleModel",
     "state": {
      "_model_module": "@jupyter-widgets/controls",
      "_model_module_version": "1.5.0",
      "_model_name": "DescriptionStyleModel",
      "_view_count": null,
      "_view_module": "@jupyter-widgets/base",
      "_view_module_version": "1.2.0",
      "_view_name": "StyleView",
      "description_width": ""
     }
    },
    "2de1c9c1c4cc49569dab787413b823e4": {
     "model_module": "@jupyter-widgets/base",
     "model_module_version": "1.2.0",
     "model_name": "LayoutModel",
     "state": {
      "_model_module": "@jupyter-widgets/base",
      "_model_module_version": "1.2.0",
      "_model_name": "LayoutModel",
      "_view_count": null,
      "_view_module": "@jupyter-widgets/base",
      "_view_module_version": "1.2.0",
      "_view_name": "LayoutView",
      "align_content": null,
      "align_items": null,
      "align_self": null,
      "border": null,
      "bottom": null,
      "display": null,
      "flex": null,
      "flex_flow": null,
      "grid_area": null,
      "grid_auto_columns": null,
      "grid_auto_flow": null,
      "grid_auto_rows": null,
      "grid_column": null,
      "grid_gap": null,
      "grid_row": null,
      "grid_template_areas": null,
      "grid_template_columns": null,
      "grid_template_rows": null,
      "height": null,
      "justify_content": null,
      "justify_items": null,
      "left": null,
      "margin": null,
      "max_height": null,
      "max_width": null,
      "min_height": null,
      "min_width": null,
      "object_fit": null,
      "object_position": null,
      "order": null,
      "overflow": null,
      "overflow_x": null,
      "overflow_y": null,
      "padding": null,
      "right": null,
      "top": null,
      "visibility": null,
      "width": null
     }
    },
    "34c9b27bf883463fa0ede8f9a6cb5a71": {
     "model_module": "@jupyter-widgets/base",
     "model_module_version": "1.2.0",
     "model_name": "LayoutModel",
     "state": {
      "_model_module": "@jupyter-widgets/base",
      "_model_module_version": "1.2.0",
      "_model_name": "LayoutModel",
      "_view_count": null,
      "_view_module": "@jupyter-widgets/base",
      "_view_module_version": "1.2.0",
      "_view_name": "LayoutView",
      "align_content": null,
      "align_items": null,
      "align_self": null,
      "border": null,
      "bottom": null,
      "display": null,
      "flex": null,
      "flex_flow": null,
      "grid_area": null,
      "grid_auto_columns": null,
      "grid_auto_flow": null,
      "grid_auto_rows": null,
      "grid_column": null,
      "grid_gap": null,
      "grid_row": null,
      "grid_template_areas": null,
      "grid_template_columns": null,
      "grid_template_rows": null,
      "height": null,
      "justify_content": null,
      "justify_items": null,
      "left": null,
      "margin": null,
      "max_height": null,
      "max_width": null,
      "min_height": null,
      "min_width": null,
      "object_fit": null,
      "object_position": null,
      "order": null,
      "overflow": null,
      "overflow_x": null,
      "overflow_y": null,
      "padding": null,
      "right": null,
      "top": null,
      "visibility": null,
      "width": null
     }
    },
    "443e470dcea54c8595131f3681496272": {
     "model_module": "@jupyter-widgets/controls",
     "model_module_version": "1.5.0",
     "model_name": "FloatProgressModel",
     "state": {
      "_dom_classes": [],
      "_model_module": "@jupyter-widgets/controls",
      "_model_module_version": "1.5.0",
      "_model_name": "FloatProgressModel",
      "_view_count": null,
      "_view_module": "@jupyter-widgets/controls",
      "_view_module_version": "1.5.0",
      "_view_name": "ProgressView",
      "bar_style": "success",
      "description": "",
      "description_tooltip": null,
      "layout": "IPY_MODEL_d994ac61db8940859b3476cf3a898720",
      "max": 3,
      "min": 0,
      "orientation": "horizontal",
      "style": "IPY_MODEL_780a6f332c9f461ca4b54d2e16383846",
      "value": 3
     }
    },
    "780a6f332c9f461ca4b54d2e16383846": {
     "model_module": "@jupyter-widgets/controls",
     "model_module_version": "1.5.0",
     "model_name": "ProgressStyleModel",
     "state": {
      "_model_module": "@jupyter-widgets/controls",
      "_model_module_version": "1.5.0",
      "_model_name": "ProgressStyleModel",
      "_view_count": null,
      "_view_module": "@jupyter-widgets/base",
      "_view_module_version": "1.2.0",
      "_view_name": "StyleView",
      "bar_color": null,
      "description_width": ""
     }
    },
    "a44a958aa7044eda87395338ec3e2094": {
     "model_module": "@jupyter-widgets/controls",
     "model_module_version": "1.5.0",
     "model_name": "HTMLModel",
     "state": {
      "_dom_classes": [],
      "_model_module": "@jupyter-widgets/controls",
      "_model_module_version": "1.5.0",
      "_model_name": "HTMLModel",
      "_view_count": null,
      "_view_module": "@jupyter-widgets/controls",
      "_view_module_version": "1.5.0",
      "_view_name": "HTMLView",
      "description": "",
      "description_tooltip": null,
      "layout": "IPY_MODEL_de6cc800e84542fbac23afbee95cec2e",
      "placeholder": "​",
      "style": "IPY_MODEL_11547e3e77864d5aaf68e32b0c193af1",
      "value": "100%"
     }
    },
    "d994ac61db8940859b3476cf3a898720": {
     "model_module": "@jupyter-widgets/base",
     "model_module_version": "1.2.0",
     "model_name": "LayoutModel",
     "state": {
      "_model_module": "@jupyter-widgets/base",
      "_model_module_version": "1.2.0",
      "_model_name": "LayoutModel",
      "_view_count": null,
      "_view_module": "@jupyter-widgets/base",
      "_view_module_version": "1.2.0",
      "_view_name": "LayoutView",
      "align_content": null,
      "align_items": null,
      "align_self": null,
      "border": null,
      "bottom": null,
      "display": null,
      "flex": null,
      "flex_flow": null,
      "grid_area": null,
      "grid_auto_columns": null,
      "grid_auto_flow": null,
      "grid_auto_rows": null,
      "grid_column": null,
      "grid_gap": null,
      "grid_row": null,
      "grid_template_areas": null,
      "grid_template_columns": null,
      "grid_template_rows": null,
      "height": null,
      "justify_content": null,
      "justify_items": null,
      "left": null,
      "margin": null,
      "max_height": null,
      "max_width": null,
      "min_height": null,
      "min_width": null,
      "object_fit": null,
      "object_position": null,
      "order": null,
      "overflow": null,
      "overflow_x": null,
      "overflow_y": null,
      "padding": null,
      "right": null,
      "top": null,
      "visibility": null,
      "width": null
     }
    },
    "de6cc800e84542fbac23afbee95cec2e": {
     "model_module": "@jupyter-widgets/base",
     "model_module_version": "1.2.0",
     "model_name": "LayoutModel",
     "state": {
      "_model_module": "@jupyter-widgets/base",
      "_model_module_version": "1.2.0",
      "_model_name": "LayoutModel",
      "_view_count": null,
      "_view_module": "@jupyter-widgets/base",
      "_view_module_version": "1.2.0",
      "_view_name": "LayoutView",
      "align_content": null,
      "align_items": null,
      "align_self": null,
      "border": null,
      "bottom": null,
      "display": null,
      "flex": null,
      "flex_flow": null,
      "grid_area": null,
      "grid_auto_columns": null,
      "grid_auto_flow": null,
      "grid_auto_rows": null,
      "grid_column": null,
      "grid_gap": null,
      "grid_row": null,
      "grid_template_areas": null,
      "grid_template_columns": null,
      "grid_template_rows": null,
      "height": null,
      "justify_content": null,
      "justify_items": null,
      "left": null,
      "margin": null,
      "max_height": null,
      "max_width": null,
      "min_height": null,
      "min_width": null,
      "object_fit": null,
      "object_position": null,
      "order": null,
      "overflow": null,
      "overflow_x": null,
      "overflow_y": null,
      "padding": null,
      "right": null,
      "top": null,
      "visibility": null,
      "width": null
     }
    },
    "ff1540d518af432fa4ae2c3dd3be8bb6": {
     "model_module": "@jupyter-widgets/controls",
     "model_module_version": "1.5.0",
     "model_name": "HTMLModel",
     "state": {
      "_dom_classes": [],
      "_model_module": "@jupyter-widgets/controls",
      "_model_module_version": "1.5.0",
      "_model_name": "HTMLModel",
      "_view_count": null,
      "_view_module": "@jupyter-widgets/controls",
      "_view_module_version": "1.5.0",
      "_view_name": "HTMLView",
      "description": "",
      "description_tooltip": null,
      "layout": "IPY_MODEL_34c9b27bf883463fa0ede8f9a6cb5a71",
      "placeholder": "​",
      "style": "IPY_MODEL_22acac76a86140a18de2fa6b1bdc776e",
      "value": " 3/3 [00:00&lt;00:00, 33.66it/s]"
     }
    }
   }
  }
 },
 "nbformat": 4,
 "nbformat_minor": 5
}
