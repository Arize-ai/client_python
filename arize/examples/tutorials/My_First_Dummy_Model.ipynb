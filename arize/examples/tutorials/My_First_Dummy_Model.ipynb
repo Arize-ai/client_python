{
  "nbformat": 4,
  "nbformat_minor": 0,
  "metadata": {
    "colab": {
      "name": "Uber First Model.ipynb",
      "provenance": [],
      "collapsed_sections": []
    },
    "kernelspec": {
      "name": "python3",
      "display_name": "Python 3"
    }
  },
  "cells": [
    {
      "cell_type": "markdown",
      "metadata": {
        "id": "41kw9kIjotzT",
        "colab_type": "text"
      },
      "source": [
        "# Arize Demo Notebook \n",
        "This notebook gives an overview of how to send the Dummy Model CSV using the Python SDK.\n",
        "\n",
        "[![Open In Colab](https://colab.research.google.com/assets/colab-badge.svg)](https://colab.research.google.com/github/Arize-ai/client_python/blob/main/arize/examples/tutorials/My_First_Dummy_Model.ipynb)"
      ]
    },
    {
      "cell_type": "code",
      "metadata": {
        "id": "fdsAv_36l00T",
        "colab_type": "code",
        "colab": {
          "base_uri": "https://localhost:8080/",
          "height": 204
        },
        "outputId": "b6b12798-ad1b-4504-f6e8-c5cd7704c1c8"
      },
      "source": [
        "# Load Dummy Model CSV\n",
        "\n",
        "import pandas as pd\n",
        "import requests\n",
        "import io\n",
        "\n",
        "url = 'https://storage.googleapis.com/arize-assets/tutorials/fixture_data/mock_model.csv'\n",
        "url_content=requests.get(url).content\n",
        "df=pd.read_csv(io.StringIO(url_content.decode('utf-8')), low_memory=False)\n",
        "df.head()"
      ],
      "execution_count": 21,
      "outputs": [
        {
          "output_type": "execute_result",
          "data": {
            "text/html": [
              "<div>\n",
              "<style scoped>\n",
              "    .dataframe tbody tr th:only-of-type {\n",
              "        vertical-align: middle;\n",
              "    }\n",
              "\n",
              "    .dataframe tbody tr th {\n",
              "        vertical-align: top;\n",
              "    }\n",
              "\n",
              "    .dataframe thead th {\n",
              "        text-align: right;\n",
              "    }\n",
              "</style>\n",
              "<table border=\"1\" class=\"dataframe\">\n",
              "  <thead>\n",
              "    <tr style=\"text-align: right;\">\n",
              "      <th></th>\n",
              "      <th>prediction_id</th>\n",
              "      <th>x</th>\n",
              "      <th>y</th>\n",
              "      <th>actuals</th>\n",
              "      <th>predicted</th>\n",
              "      <th>hex_id</th>\n",
              "      <th>err</th>\n",
              "      <th>time</th>\n",
              "    </tr>\n",
              "  </thead>\n",
              "  <tbody>\n",
              "    <tr>\n",
              "      <th>0</th>\n",
              "      <td>0</td>\n",
              "      <td>847</td>\n",
              "      <td>-200</td>\n",
              "      <td>1859.2</td>\n",
              "      <td>1917.136</td>\n",
              "      <td>a</td>\n",
              "      <td>57.936</td>\n",
              "      <td>1</td>\n",
              "    </tr>\n",
              "    <tr>\n",
              "      <th>1</th>\n",
              "      <td>1</td>\n",
              "      <td>157</td>\n",
              "      <td>-67</td>\n",
              "      <td>146.6</td>\n",
              "      <td>202.240</td>\n",
              "      <td>b</td>\n",
              "      <td>55.640</td>\n",
              "      <td>1</td>\n",
              "    </tr>\n",
              "    <tr>\n",
              "      <th>2</th>\n",
              "      <td>2</td>\n",
              "      <td>274</td>\n",
              "      <td>0</td>\n",
              "      <td>956.4</td>\n",
              "      <td>1018.304</td>\n",
              "      <td>c</td>\n",
              "      <td>61.904</td>\n",
              "      <td>1</td>\n",
              "    </tr>\n",
              "    <tr>\n",
              "      <th>3</th>\n",
              "      <td>3</td>\n",
              "      <td>270</td>\n",
              "      <td>-194</td>\n",
              "      <td>-183.2</td>\n",
              "      <td>-172.344</td>\n",
              "      <td>d</td>\n",
              "      <td>10.856</td>\n",
              "      <td>1</td>\n",
              "    </tr>\n",
              "    <tr>\n",
              "      <th>4</th>\n",
              "      <td>4</td>\n",
              "      <td>743</td>\n",
              "      <td>-72</td>\n",
              "      <td>2227.2</td>\n",
              "      <td>2241.296</td>\n",
              "      <td>e</td>\n",
              "      <td>14.096</td>\n",
              "      <td>1</td>\n",
              "    </tr>\n",
              "  </tbody>\n",
              "</table>\n",
              "</div>"
            ],
            "text/plain": [
              "   prediction_id    x    y  actuals  predicted hex_id     err  time\n",
              "0              0  847 -200   1859.2   1917.136      a  57.936     1\n",
              "1              1  157  -67    146.6    202.240      b  55.640     1\n",
              "2              2  274    0    956.4   1018.304      c  61.904     1\n",
              "3              3  270 -194   -183.2   -172.344      d  10.856     1\n",
              "4              4  743  -72   2227.2   2241.296      e  14.096     1"
            ]
          },
          "metadata": {
            "tags": []
          },
          "execution_count": 21
        }
      ]
    },
    {
      "cell_type": "code",
      "metadata": {
        "id": "tRqMGtWQkjjp",
        "colab_type": "code",
        "colab": {}
      },
      "source": [
        "## Install Arize & Initialize Client\n",
        "\n",
        "!pip install arize -q\n",
        "\n",
        "from arize.api import Client\n",
        "\n",
        "API_KEY = 'ARIZE_PROVIDED_API_KEY'\n",
        "ORGANIZATION_KEY = 'ARIZE_PROVIDED_ORG_KEY'\n",
        "arize = Client(organization_key=ORGANIZATION_KEY, api_key=API_KEY)"
      ],
      "execution_count": 4,
      "outputs": []
    },
    {
      "cell_type": "markdown",
      "metadata": {
        "id": "twEEo9jSm7k6",
        "colab_type": "text"
      },
      "source": [
        "## Important Points \n",
        "1. Predictions need a prediction ID. For now, I have just used the row ID in this file. Is there a session UUID that you can send here?\n",
        "2. Time - I have tweaked the time from the dummy value and instead sent in historical time values. "
      ]
    },
    {
      "cell_type": "code",
      "metadata": {
        "id": "bHW3H8nnPREs",
        "colab_type": "code",
        "colab": {
          "base_uri": "https://localhost:8080/",
          "height": 204
        },
        "outputId": "8ef60a55-4c16-4d07-89a2-3fee4dd84c9d"
      },
      "source": [
        "# Processing to get Data into Right format for Arize \n",
        "\n",
        "# Prediction IDs (must be string typed) are one dataframe\n",
        "df['prediction_id'] = df['prediction_id'].apply(str)\n",
        "prediction_ids_df = df.filter(['prediction_id'], axis=1)\n",
        "\n",
        "# Predictions are one dataframe \n",
        "prediction_df = df.filter(['predicted'], axis=1)\n",
        "\n",
        "# Actuals are one dataframe \n",
        "actuals_df = df.filter(['actuals'], axis=1)\n",
        "\n",
        "# Features and Additional Metadata are one dataframe \n",
        "features_df = df.drop(['actuals', 'predicted', 'err', 'time'], axis=1)\n",
        "features_df.head() \n",
        "\n",
        "# Time is one dataframe (this is only necessary because we want to ovewrite the timestamp to something reasonable)\n",
        "import time\n",
        "current_time = time.time()\n",
        "def change_time(row_time):\n",
        "    return int(current_time - ((1000 - row_time)*3600))\n",
        "df['time'] = df['time'].apply(change_time)\n",
        "df.head()\n"
      ],
      "execution_count": 22,
      "outputs": [
        {
          "output_type": "execute_result",
          "data": {
            "text/html": [
              "<div>\n",
              "<style scoped>\n",
              "    .dataframe tbody tr th:only-of-type {\n",
              "        vertical-align: middle;\n",
              "    }\n",
              "\n",
              "    .dataframe tbody tr th {\n",
              "        vertical-align: top;\n",
              "    }\n",
              "\n",
              "    .dataframe thead th {\n",
              "        text-align: right;\n",
              "    }\n",
              "</style>\n",
              "<table border=\"1\" class=\"dataframe\">\n",
              "  <thead>\n",
              "    <tr style=\"text-align: right;\">\n",
              "      <th></th>\n",
              "      <th>prediction_id</th>\n",
              "      <th>x</th>\n",
              "      <th>y</th>\n",
              "      <th>actuals</th>\n",
              "      <th>predicted</th>\n",
              "      <th>hex_id</th>\n",
              "      <th>err</th>\n",
              "      <th>time</th>\n",
              "    </tr>\n",
              "  </thead>\n",
              "  <tbody>\n",
              "    <tr>\n",
              "      <th>0</th>\n",
              "      <td>0</td>\n",
              "      <td>847</td>\n",
              "      <td>-200</td>\n",
              "      <td>1859.2</td>\n",
              "      <td>1917.136</td>\n",
              "      <td>a</td>\n",
              "      <td>57.936</td>\n",
              "      <td>1593780692</td>\n",
              "    </tr>\n",
              "    <tr>\n",
              "      <th>1</th>\n",
              "      <td>1</td>\n",
              "      <td>157</td>\n",
              "      <td>-67</td>\n",
              "      <td>146.6</td>\n",
              "      <td>202.240</td>\n",
              "      <td>b</td>\n",
              "      <td>55.640</td>\n",
              "      <td>1593780692</td>\n",
              "    </tr>\n",
              "    <tr>\n",
              "      <th>2</th>\n",
              "      <td>2</td>\n",
              "      <td>274</td>\n",
              "      <td>0</td>\n",
              "      <td>956.4</td>\n",
              "      <td>1018.304</td>\n",
              "      <td>c</td>\n",
              "      <td>61.904</td>\n",
              "      <td>1593780692</td>\n",
              "    </tr>\n",
              "    <tr>\n",
              "      <th>3</th>\n",
              "      <td>3</td>\n",
              "      <td>270</td>\n",
              "      <td>-194</td>\n",
              "      <td>-183.2</td>\n",
              "      <td>-172.344</td>\n",
              "      <td>d</td>\n",
              "      <td>10.856</td>\n",
              "      <td>1593780692</td>\n",
              "    </tr>\n",
              "    <tr>\n",
              "      <th>4</th>\n",
              "      <td>4</td>\n",
              "      <td>743</td>\n",
              "      <td>-72</td>\n",
              "      <td>2227.2</td>\n",
              "      <td>2241.296</td>\n",
              "      <td>e</td>\n",
              "      <td>14.096</td>\n",
              "      <td>1593780692</td>\n",
              "    </tr>\n",
              "  </tbody>\n",
              "</table>\n",
              "</div>"
            ],
            "text/plain": [
              "  prediction_id    x    y  actuals  predicted hex_id     err        time\n",
              "0             0  847 -200   1859.2   1917.136      a  57.936  1593780692\n",
              "1             1  157  -67    146.6    202.240      b  55.640  1593780692\n",
              "2             2  274    0    956.4   1018.304      c  61.904  1593780692\n",
              "3             3  270 -194   -183.2   -172.344      d  10.856  1593780692\n",
              "4             4  743  -72   2227.2   2241.296      e  14.096  1593780692"
            ]
          },
          "metadata": {
            "tags": []
          },
          "execution_count": 22
        }
      ]
    },
    {
      "cell_type": "code",
      "metadata": {
        "id": "UWnQBXVjlAdd",
        "colab_type": "code",
        "colab": {
          "base_uri": "https://localhost:8080/",
          "height": 136
        },
        "outputId": "868ed0a5-dc85-4fd7-f403-5560a9ef14dc"
      },
      "source": [
        "# Log the 5000 Predictions and Actuals for the Dummy Model\n",
        "\n",
        "# This example uses the bulk send.\n",
        "import concurrent.futures as cf\n",
        "\n",
        "pred_responses = arize.log_bulk_predictions(\n",
        "      model_id='my_first_dummy_model',\n",
        "      model_version='v2', \n",
        "      prediction_ids=prediction_ids_df,\n",
        "      features=features_df,\n",
        "      prediction_labels=prediction_df,\n",
        "      time_overwrite=df['time'])\n",
        "  \n",
        "for response in cf.as_completed(pred_responses):\n",
        "  res = response.result()\n",
        "  print(f'predictions response completed... {res.status_code}')\n",
        "  if res.status_code != 200:\n",
        "    print(f'future failed because: {res.text}')\n",
        "\n",
        "actual_responses = arize.log_bulk_actuals(\n",
        "  model_id='my_first_dummy_model',\n",
        "  prediction_ids=prediction_ids_df,\n",
        "  actual_labels=actuals_df,\n",
        "  )\n",
        "\n",
        "for response in cf.as_completed(actual_responses):\n",
        "  res = response.result()\n",
        "  print(f'actuals respons completed... {res.status_code}')\n",
        "  if res.status_code != 200:\n",
        "    print(f'future failed because: {res.text}')\n",
        "\n",
        "print('Done sending data to Arize!')\n",
        "    "
      ],
      "execution_count": 24,
      "outputs": [
        {
          "output_type": "stream",
          "text": [
            "predictions response completed... 200\n",
            "predictions response completed... 200\n",
            "predictions response completed... 200\n",
            "predictions response completed... 200\n",
            "predictions response completed... 200\n",
            "actuals respons completed... 200\n",
            "Done sending data to Arize!\n"
          ],
          "name": "stdout"
        }
      ]
    }
  ]
}