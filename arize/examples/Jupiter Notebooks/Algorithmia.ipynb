{
 "cells": [
  {
   "cell_type": "code",
   "execution_count": null,
   "metadata": {},
   "outputs": [],
   "source": [
    "!pip install Algorithmia\n",
    "!pip install arize"
   ]
  },
  {
   "cell_type": "code",
   "execution_count": null,
   "metadata": {},
   "outputs": [],
   "source": [
    "# Imports\n",
    "import Algorithmia\n",
    "import os\n",
    "from arize.api import Client\n",
    "import uuid"
   ]
  },
  {
   "cell_type": "code",
   "execution_count": null,
   "metadata": {},
   "outputs": [],
   "source": [
    "\n",
    "# Set up Algorithmia and Arize clients \n",
    "arize_client = Client(account_id=<ACCOUNT_ID>, api_key=\"<API_KEY>\", uri='https://dev.arize.com/v1/log')\n",
    "algorithmia_client = Algorithmia.client('simytbUgpW4hjRGE3rGxnE8Bfie1')\n",
    "algo = algorithmia_client.algo('nlp/SentimentAnalysis/1.0.5')\n",
    "algo.set_options(timeout=300) # optional\n"
   ]
  },
  {
   "cell_type": "code",
   "execution_count": null,
   "metadata": {},
   "outputs": [],
   "source": [
    "# Prediction Input\n",
    "input = {\n",
    "  \"document\": \"I really like Algorithmia!\"\n",
    "}\n",
    "\n",
    "# These are not the actual labels ... algorithmia doesn't give you the labels for Marketplace models\n",
    "def generate_label_map(input_value):\n",
    "  labels = {}\n",
    "  labels[\"size\"] = str(len(input_value))\n",
    "  labels[\"sentence\"] = input_value\n",
    "  return labels\n",
    "\n",
    "labels = generate_label_map(input[\"document\"])"
   ]
  },
  {
   "cell_type": "code",
   "execution_count": null,
   "metadata": {},
   "outputs": [],
   "source": [
    "# Generating a prediction \n",
    "\n",
    "predictions = algo.pipe(input).result\n",
    "prediction_value = predictions[0]['sentiment']\n",
    "print(prediction_value)\n",
    "\n",
    "arize_client.log(\n",
    "    model_id='sample-model-1',\n",
    "    model_version='v1',\n",
    "    prediction_id= str(uuid.uuid4()),\n",
    "    prediction_value=prediction_value,\n",
    "    labels=labels\n",
    "    )\n",
    "\n",
    "print(algo.pipe(input).result)"
   ]
  }
 ],
 "metadata": {
  "kernelspec": {
   "display_name": "conda_python3",
   "language": "python",
   "name": "conda_python3"
  },
  "language_info": {
   "codemirror_mode": {
    "name": "ipython",
    "version": 3
   },
   "file_extension": ".py",
   "mimetype": "text/x-python",
   "name": "python",
   "nbconvert_exporter": "python",
   "pygments_lexer": "ipython3",
   "version": "3.6.5"
  }
 },
 "nbformat": 4,
 "nbformat_minor": 4
}